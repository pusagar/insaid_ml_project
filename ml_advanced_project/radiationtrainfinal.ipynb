{
 "cells": [
  {
   "cell_type": "markdown",
   "id": "4cf40655",
   "metadata": {},
   "source": [
    "# <center> Machine Learning  Project - Advanced Level  </center>\n",
    "## <center> Radiation  Prediction  Project </center>"
   ]
  },
  {
   "cell_type": "markdown",
   "id": "02c834c2",
   "metadata": {},
   "source": [
    "-The current process suffers from the following problems:\n",
    "\n",
    "The solar radiation is dependent on Humidity and Temperature.\n",
    "Measuring solar radiation using different devices requires a lot of manpower and resources.\n",
    "It takes a lot of time fixing the sensors and interpreting the readings from the different devices which becomes inefficient as time goes by.\n",
    "\n",
    "The company has hired you as data science consultants. They want to automate the process of predicting the compressive strength of the concrete, based on the materials used.\n",
    "\n",
    "Your Role\n",
    "You are given a dataset containing measurements for the past 4 months.\n",
    "Your task is to build a regression model using the dataset.\n",
    "Because there was no machine learning model for this problem in the company, you don’t have a quantifiable win condition. You need to build the best possible model.\n",
    "\n",
    "Project Deliverables\n",
    "Deliverable: Solar Radiation Prediction.\n",
    "Machine Learning Task: Regression\n",
    "Target Variable: Radiation\n",
    "Win Condition: N/A (best possible model)\n",
    "\n",
    "Evaluation Metric\n",
    "The model evaluation will be based on the RMSE score.\n",
    "To learn about RMSE’s Python implementation, please visit this link."
   ]
  },
  {
   "cell_type": "markdown",
   "id": "26f3e1ee",
   "metadata": {},
   "source": [
    "## 1 Import Libraries"
   ]
  },
  {
   "cell_type": "code",
   "execution_count": 113,
   "id": "385b7d70",
   "metadata": {
    "ExecuteTime": {
     "end_time": "2021-12-15T10:12:01.146587Z",
     "start_time": "2021-12-15T10:12:01.135618Z"
    }
   },
   "outputs": [],
   "source": [
    "import pandas as pd\n",
    "import numpy as np\n",
    "import matplotlib.pyplot  as plt\n",
    "import seaborn as sns\n",
    "sns.set()\n",
    "import datetime as date\n",
    "import datetime as time\n",
    "from datetime import timedelta\n",
    "from datetime import datetime\n",
    "import plotly.offline as py\n",
    "import plotly.graph_objs as go\n",
    "import plotly.tools as tls\n",
    "from sklearn import metrics"
   ]
  },
  {
   "cell_type": "code",
   "execution_count": 114,
   "id": "e69656fb",
   "metadata": {
    "ExecuteTime": {
     "end_time": "2021-12-15T10:12:01.349543Z",
     "start_time": "2021-12-15T10:12:01.150579Z"
    }
   },
   "outputs": [],
   "source": [
    "import sklearn.metrics\n",
    "from sklearn.preprocessing import StandardScaler                    \n",
    "from sklearn.model_selection import train_test_split                \n",
    "from sklearn.ensemble import RandomForestRegressor                  \n",
    "from sklearn.linear_model import LinearRegression       \n",
    "from random import randint           \n",
    "import statsmodels.api as sm\n",
    "import scipy.stats as stats\n",
    "from sklearn import tree\n",
    "from sklearn.model_selection import GridSearchCV\n",
    "from sklearn.linear_model import LinearRegression\n",
    "from sklearn.preprocessing import FunctionTransformer as ct\n",
    "from sklearn.preprocessing import StandardScaler \n",
    "from sklearn.preprocessing import Normalizer\n",
    "from sklearn.preprocessing import MinMaxScaler\n",
    "from sklearn.preprocessing import LabelEncoder\n",
    "from sklearn.pipeline import Pipeline as pipe\n",
    "from sklearn.neighbors import KNeighborsClassifier as KNN\n",
    "from sklearn.utils import shuffle\n",
    "from sklearn.preprocessing import PolynomialFeatures\n",
    "from sklearn.feature_selection import RFE\n",
    "from sklearn.decomposition import PCA\n",
    "from sklearn.pipeline import Pipeline\n",
    "from sklearn.model_selection import cross_val_score\n",
    "from sklearn.linear_model import Lasso,Ridge\n",
    "from sklearn.tree import DecisionTreeRegressor\n",
    "from sklearn.ensemble import GradientBoostingRegressor\n",
    "from sklearn.preprocessing import PowerTransformer\n",
    "from sklearn.ensemble import AdaBoostRegressor\n",
    "import graphviz\n",
    "from graphviz import Source"
   ]
  },
  {
   "cell_type": "code",
   "execution_count": 115,
   "id": "b0d09c37",
   "metadata": {
    "ExecuteTime": {
     "end_time": "2021-12-15T10:12:01.613699Z",
     "start_time": "2021-12-15T10:12:01.363220Z"
    }
   },
   "outputs": [],
   "source": [
    "# Set Options\n",
    "pd.set_option('display.max_rows', 800)\n",
    "pd.set_option('display.max_columns', 500)"
   ]
  },
  {
   "cell_type": "code",
   "execution_count": 116,
   "id": "45dfe3fa",
   "metadata": {
    "ExecuteTime": {
     "end_time": "2021-12-15T10:12:01.767662Z",
     "start_time": "2021-12-15T10:12:01.619679Z"
    }
   },
   "outputs": [],
   "source": [
    "import gc\n",
    "import warnings\n",
    "from   tqdm import tqdm_notebook"
   ]
  },
  {
   "cell_type": "markdown",
   "id": "c93adb4b",
   "metadata": {},
   "source": [
    "## 2 Data Overview\n",
    "\n",
    "The goal of this section is to :\n",
    "\n",
    "- Load the radiation dataset\n",
    "- Explore the features\n",
    "- Load the radiatiom dataset using pd.read_csv().\n"
   ]
  },
  {
   "cell_type": "code",
   "execution_count": 117,
   "id": "744e35f0",
   "metadata": {
    "ExecuteTime": {
     "end_time": "2021-12-15T10:12:02.059501Z",
     "start_time": "2021-12-15T10:12:01.772362Z"
    }
   },
   "outputs": [],
   "source": [
    "#%%time\n",
    "train = pd.read_csv(\"solar_train.csv\")\n",
    "train\n",
    "test = pd.read_csv(\"solar_test.csv\")"
   ]
  },
  {
   "cell_type": "markdown",
   "id": "bc1f8a49",
   "metadata": {},
   "source": [
    "### Data Description\n",
    "\n",
    "The dataset contains 4 months of the measurements.\n",
    "\n",
    "The data comes directly from NASA’s weather research lab based on actual reading taken by their sensors situated at different locations.\n",
    "\n",
    "This is the data that we have to predict for future samples.\n",
    "\n",
    "\n",
    "The dataset is divided into two parts: Train and Test sets.\n",
    "\n",
    "Train Set:\n",
    "The train set contains 26148 rows and 12 columns.\n",
    "The last column Radiation is the target variable.\n",
    "\n",
    "Test Set:\n",
    "The test set contains 6538 rows and 11 columns.\n",
    "The test set doesn’t contain the Radiation column.\n",
    "It needs to be predicted for the test set.\n",
    "\n",
    "Sample Submission File:\n",
    "A sample submission csv file named sample_submission.csv is also provided with the dataset.\n",
    "This sample submission file contains the format of the final predictions submission csv file that you need to upload via the Upload Submission tab.\n",
    "\n",
    "__Id__-\tUnique identity of each observation.\n",
    "__UNIXTime__-\tTrack time as a running total of seconds.\n",
    "__Data__-\tDay and time at which the reading was started in hh:mm: ss 24-hour format.\n",
    "__Time__-\tTime at which the reading was taken in 24-hour format.\n",
    "__Temperature__-\tTemperature during the daytime in degrees Fahrenheit(°F).\n",
    "__Pressure__-\tBarometric pressure(Hg).\n",
    "__Humidity__-\tHumidity per cent during the daytime(%).\n",
    "__WindDirection(Degrees)__-\tDirection of wind in degrees (°).\n",
    "__Speed__-|\tSpeed of wind in miles per hour (mph).\n",
    "__TimeSunRise__-\tTime of sunrise in the morning(Hawaii time).\n",
    "__TimeSunSet__-\tTime of sunset in the evening(Hawaii time).\n",
    "__Radiation__-|\tSolar radiation measured in watts per meter^2 (W/m2).\n"
   ]
  },
  {
   "cell_type": "markdown",
   "id": "6efd0518",
   "metadata": {},
   "source": [
    "## 3. Optimize Memory Used by Data"
   ]
  },
  {
   "cell_type": "code",
   "execution_count": 118,
   "id": "cfee0c31",
   "metadata": {
    "ExecuteTime": {
     "end_time": "2021-12-15T10:12:02.154270Z",
     "start_time": "2021-12-15T10:12:02.062711Z"
    }
   },
   "outputs": [
    {
     "data": {
      "text/plain": [
       "2.0545873641967773"
      ]
     },
     "execution_count": 118,
     "metadata": {},
     "output_type": "execute_result"
    }
   ],
   "source": [
    "train.memory_usage(deep=True).sum() / 1024**2\n",
    "test.memory_usage(deep=True).sum() / 1024**2"
   ]
  },
  {
   "cell_type": "code",
   "execution_count": 119,
   "id": "367b86f4",
   "metadata": {
    "ExecuteTime": {
     "end_time": "2021-12-15T10:12:02.313879Z",
     "start_time": "2021-12-15T10:12:02.158260Z"
    }
   },
   "outputs": [
    {
     "data": {
      "text/plain": [
       "Id                          int64\n",
       "UNIXTime                    int64\n",
       "Data                       object\n",
       "Time                       object\n",
       "Temperature                 int64\n",
       "Pressure                  float64\n",
       "Humidity                    int64\n",
       "WindDirection(Degrees)    float64\n",
       "Speed                     float64\n",
       "TimeSunRise                object\n",
       "TimeSunSet                 object\n",
       "Radiation                 float64\n",
       "dtype: object"
      ]
     },
     "execution_count": 119,
     "metadata": {},
     "output_type": "execute_result"
    }
   ],
   "source": [
    "train.dtypes"
   ]
  },
  {
   "cell_type": "markdown",
   "id": "9216ce25",
   "metadata": {
    "ExecuteTime": {
     "end_time": "2021-12-14T05:11:55.069219Z",
     "start_time": "2021-12-14T05:11:55.052229Z"
    }
   },
   "source": [
    "##  4. Understand/Exploring  the Data\n",
    "\n",
    "Before attempting to solve the problem, it's very important to have a good understanding of data.\n",
    "\n",
    "The goal of this section is to:\n",
    "- Get the dimensions of data\n",
    "- Get the summary of data\n",
    "- Get various statistics of data"
   ]
  },
  {
   "cell_type": "code",
   "execution_count": 120,
   "id": "63390590",
   "metadata": {
    "ExecuteTime": {
     "end_time": "2021-12-15T10:12:02.486048Z",
     "start_time": "2021-12-15T10:12:02.316840Z"
    }
   },
   "outputs": [
    {
     "data": {
      "text/plain": [
       "(26148, 12)"
      ]
     },
     "execution_count": 120,
     "metadata": {},
     "output_type": "execute_result"
    }
   ],
   "source": [
    "# Shape of dataframe\n",
    "train.shape"
   ]
  },
  {
   "cell_type": "code",
   "execution_count": 121,
   "id": "bff43b9a",
   "metadata": {
    "ExecuteTime": {
     "end_time": "2021-12-15T10:12:02.691274Z",
     "start_time": "2021-12-15T10:12:02.495062Z"
    }
   },
   "outputs": [
    {
     "data": {
      "text/html": [
       "<div>\n",
       "<style scoped>\n",
       "    .dataframe tbody tr th:only-of-type {\n",
       "        vertical-align: middle;\n",
       "    }\n",
       "\n",
       "    .dataframe tbody tr th {\n",
       "        vertical-align: top;\n",
       "    }\n",
       "\n",
       "    .dataframe thead th {\n",
       "        text-align: right;\n",
       "    }\n",
       "</style>\n",
       "<table border=\"1\" class=\"dataframe\">\n",
       "  <thead>\n",
       "    <tr style=\"text-align: right;\">\n",
       "      <th></th>\n",
       "      <th>Id</th>\n",
       "      <th>UNIXTime</th>\n",
       "      <th>Data</th>\n",
       "      <th>Time</th>\n",
       "      <th>Temperature</th>\n",
       "      <th>Pressure</th>\n",
       "      <th>Humidity</th>\n",
       "      <th>WindDirection(Degrees)</th>\n",
       "      <th>Speed</th>\n",
       "      <th>TimeSunRise</th>\n",
       "      <th>TimeSunSet</th>\n",
       "      <th>Radiation</th>\n",
       "    </tr>\n",
       "  </thead>\n",
       "  <tbody>\n",
       "    <tr>\n",
       "      <th>0</th>\n",
       "      <td>4152</td>\n",
       "      <td>1473879005</td>\n",
       "      <td>9/14/2016 12:00:00 AM</td>\n",
       "      <td>08:50:05</td>\n",
       "      <td>57</td>\n",
       "      <td>30.45</td>\n",
       "      <td>68</td>\n",
       "      <td>26.70</td>\n",
       "      <td>4.50</td>\n",
       "      <td>06:10:00</td>\n",
       "      <td>18:26:00</td>\n",
       "      <td>680.04</td>\n",
       "    </tr>\n",
       "    <tr>\n",
       "      <th>1</th>\n",
       "      <td>13047</td>\n",
       "      <td>1476293121</td>\n",
       "      <td>10/12/2016 12:00:00 AM</td>\n",
       "      <td>07:25:21</td>\n",
       "      <td>50</td>\n",
       "      <td>30.47</td>\n",
       "      <td>96</td>\n",
       "      <td>144.96</td>\n",
       "      <td>10.12</td>\n",
       "      <td>06:16:00</td>\n",
       "      <td>18:02:00</td>\n",
       "      <td>277.37</td>\n",
       "    </tr>\n",
       "    <tr>\n",
       "      <th>2</th>\n",
       "      <td>7420</td>\n",
       "      <td>1477993220</td>\n",
       "      <td>10/31/2016 12:00:00 AM</td>\n",
       "      <td>23:40:20</td>\n",
       "      <td>47</td>\n",
       "      <td>30.48</td>\n",
       "      <td>56</td>\n",
       "      <td>119.52</td>\n",
       "      <td>3.37</td>\n",
       "      <td>06:23:00</td>\n",
       "      <td>17:49:00</td>\n",
       "      <td>1.29</td>\n",
       "    </tr>\n",
       "    <tr>\n",
       "      <th>3</th>\n",
       "      <td>6508</td>\n",
       "      <td>1473013505</td>\n",
       "      <td>9/4/2016 12:00:00 AM</td>\n",
       "      <td>08:25:05</td>\n",
       "      <td>57</td>\n",
       "      <td>30.47</td>\n",
       "      <td>93</td>\n",
       "      <td>38.61</td>\n",
       "      <td>2.25</td>\n",
       "      <td>06:08:00</td>\n",
       "      <td>18:35:00</td>\n",
       "      <td>544.75</td>\n",
       "    </tr>\n",
       "    <tr>\n",
       "      <th>4</th>\n",
       "      <td>29110</td>\n",
       "      <td>1481885434</td>\n",
       "      <td>12/16/2016 12:00:00 AM</td>\n",
       "      <td>00:50:34</td>\n",
       "      <td>41</td>\n",
       "      <td>30.23</td>\n",
       "      <td>103</td>\n",
       "      <td>177.55</td>\n",
       "      <td>2.25</td>\n",
       "      <td>06:50:00</td>\n",
       "      <td>17:46:00</td>\n",
       "      <td>1.22</td>\n",
       "    </tr>\n",
       "  </tbody>\n",
       "</table>\n",
       "</div>"
      ],
      "text/plain": [
       "      Id    UNIXTime                    Data      Time  Temperature  Pressure  \\\n",
       "0   4152  1473879005   9/14/2016 12:00:00 AM  08:50:05           57     30.45   \n",
       "1  13047  1476293121  10/12/2016 12:00:00 AM  07:25:21           50     30.47   \n",
       "2   7420  1477993220  10/31/2016 12:00:00 AM  23:40:20           47     30.48   \n",
       "3   6508  1473013505    9/4/2016 12:00:00 AM  08:25:05           57     30.47   \n",
       "4  29110  1481885434  12/16/2016 12:00:00 AM  00:50:34           41     30.23   \n",
       "\n",
       "   Humidity  WindDirection(Degrees)  Speed TimeSunRise TimeSunSet  Radiation  \n",
       "0        68                   26.70   4.50    06:10:00   18:26:00     680.04  \n",
       "1        96                  144.96  10.12    06:16:00   18:02:00     277.37  \n",
       "2        56                  119.52   3.37    06:23:00   17:49:00       1.29  \n",
       "3        93                   38.61   2.25    06:08:00   18:35:00     544.75  \n",
       "4       103                  177.55   2.25    06:50:00   17:46:00       1.22  "
      ]
     },
     "execution_count": 121,
     "metadata": {},
     "output_type": "execute_result"
    }
   ],
   "source": [
    "train.head()"
   ]
  },
  {
   "cell_type": "code",
   "execution_count": 122,
   "id": "eac45dc6",
   "metadata": {
    "ExecuteTime": {
     "end_time": "2021-12-15T10:12:05.661770Z",
     "start_time": "2021-12-15T10:12:02.695263Z"
    }
   },
   "outputs": [],
   "source": [
    "train['UNIXTime'] = pd.to_datetime(train['UNIXTime'],unit='s')\n",
    "train['Data'] = pd.to_datetime(train['Data'])\n",
    "train['Time'] = pd.to_datetime(train['Time'])\n",
    "train['TimeSunRise'] = pd.to_datetime(train['TimeSunRise'], infer_datetime_format=True)\n",
    "train['TimeSunSet'] = pd.to_datetime(train['TimeSunSet'], infer_datetime_format=True)"
   ]
  },
  {
   "cell_type": "code",
   "execution_count": 123,
   "id": "a2e353d7",
   "metadata": {
    "ExecuteTime": {
     "end_time": "2021-12-15T10:12:05.677734Z",
     "start_time": "2021-12-15T10:12:05.665759Z"
    }
   },
   "outputs": [],
   "source": [
    "train['unixdiff_hrs'] = (train['Time'] - train['UNIXTime']) / np.timedelta64(1, 'h')"
   ]
  },
  {
   "cell_type": "code",
   "execution_count": 124,
   "id": "22b3787b",
   "metadata": {
    "ExecuteTime": {
     "end_time": "2021-12-15T10:12:05.881170Z",
     "start_time": "2021-12-15T10:12:05.682712Z"
    }
   },
   "outputs": [],
   "source": [
    "train['st_end_days'] = (train['Time'] - train['Data']) / np.timedelta64(1, 'D')"
   ]
  },
  {
   "cell_type": "code",
   "execution_count": 125,
   "id": "5816028b",
   "metadata": {
    "ExecuteTime": {
     "end_time": "2021-12-15T10:12:06.037242Z",
     "start_time": "2021-12-15T10:12:05.886992Z"
    }
   },
   "outputs": [],
   "source": [
    "train['diff_hrs'] = (train['TimeSunSet'] - train['TimeSunRise']) / np.timedelta64(1, 'h')"
   ]
  },
  {
   "cell_type": "code",
   "execution_count": 126,
   "id": "4d30fe8c",
   "metadata": {
    "ExecuteTime": {
     "end_time": "2021-12-15T10:12:06.956167Z",
     "start_time": "2021-12-15T10:12:06.042226Z"
    }
   },
   "outputs": [],
   "source": [
    "test['UNIXTime'] = pd.to_datetime(test['UNIXTime'],unit='s')\n",
    "test['Data'] = pd.to_datetime(test['Data'])\n",
    "test['Time'] = pd.to_datetime(test['Time'])\n",
    "\n",
    "test['TimeSunRise'] = pd.to_datetime(test['TimeSunRise'], infer_datetime_format=True)\n",
    "test['TimeSunSet'] = pd.to_datetime(test['TimeSunSet'], infer_datetime_format=True)\n",
    "\n",
    "\n",
    "test['unixdiff_hrs'] = (test['Time'] - test['UNIXTime']) / np.timedelta64(1, 'h')\n",
    "\n",
    "test['st_end_days'] = (test['Time'] - test['Data']) / np.timedelta64(1, 'D')\n",
    "\n",
    "test['diff_hrs'] = (test['TimeSunSet'] - test['TimeSunRise']) / np.timedelta64(1, 'h')\n"
   ]
  },
  {
   "cell_type": "code",
   "execution_count": 127,
   "id": "0e601658",
   "metadata": {
    "ExecuteTime": {
     "end_time": "2021-12-15T10:12:07.033952Z",
     "start_time": "2021-12-15T10:12:06.963141Z"
    }
   },
   "outputs": [
    {
     "data": {
      "text/html": [
       "<div>\n",
       "<style scoped>\n",
       "    .dataframe tbody tr th:only-of-type {\n",
       "        vertical-align: middle;\n",
       "    }\n",
       "\n",
       "    .dataframe tbody tr th {\n",
       "        vertical-align: top;\n",
       "    }\n",
       "\n",
       "    .dataframe thead th {\n",
       "        text-align: right;\n",
       "    }\n",
       "</style>\n",
       "<table border=\"1\" class=\"dataframe\">\n",
       "  <thead>\n",
       "    <tr style=\"text-align: right;\">\n",
       "      <th></th>\n",
       "      <th>Id</th>\n",
       "      <th>UNIXTime</th>\n",
       "      <th>Data</th>\n",
       "      <th>Time</th>\n",
       "      <th>Temperature</th>\n",
       "      <th>Pressure</th>\n",
       "      <th>Humidity</th>\n",
       "      <th>WindDirection(Degrees)</th>\n",
       "      <th>Speed</th>\n",
       "      <th>TimeSunRise</th>\n",
       "      <th>TimeSunSet</th>\n",
       "      <th>Radiation</th>\n",
       "      <th>unixdiff_hrs</th>\n",
       "      <th>st_end_days</th>\n",
       "      <th>diff_hrs</th>\n",
       "    </tr>\n",
       "  </thead>\n",
       "  <tbody>\n",
       "    <tr>\n",
       "      <th>0</th>\n",
       "      <td>4152</td>\n",
       "      <td>2016-09-14 18:50:05</td>\n",
       "      <td>2016-09-14</td>\n",
       "      <td>2021-12-15 08:50:05</td>\n",
       "      <td>57</td>\n",
       "      <td>30.45</td>\n",
       "      <td>68</td>\n",
       "      <td>26.70</td>\n",
       "      <td>4.50</td>\n",
       "      <td>2021-12-15 06:10:00</td>\n",
       "      <td>2021-12-15 18:26:00</td>\n",
       "      <td>680.04</td>\n",
       "      <td>46022.0</td>\n",
       "      <td>1918.368113</td>\n",
       "      <td>12.266667</td>\n",
       "    </tr>\n",
       "    <tr>\n",
       "      <th>1</th>\n",
       "      <td>13047</td>\n",
       "      <td>2016-10-12 17:25:21</td>\n",
       "      <td>2016-10-12</td>\n",
       "      <td>2021-12-15 07:25:21</td>\n",
       "      <td>50</td>\n",
       "      <td>30.47</td>\n",
       "      <td>96</td>\n",
       "      <td>144.96</td>\n",
       "      <td>10.12</td>\n",
       "      <td>2021-12-15 06:16:00</td>\n",
       "      <td>2021-12-15 18:02:00</td>\n",
       "      <td>277.37</td>\n",
       "      <td>45350.0</td>\n",
       "      <td>1890.309271</td>\n",
       "      <td>11.766667</td>\n",
       "    </tr>\n",
       "    <tr>\n",
       "      <th>2</th>\n",
       "      <td>7420</td>\n",
       "      <td>2016-11-01 09:40:20</td>\n",
       "      <td>2016-10-31</td>\n",
       "      <td>2021-12-15 23:40:20</td>\n",
       "      <td>47</td>\n",
       "      <td>30.48</td>\n",
       "      <td>56</td>\n",
       "      <td>119.52</td>\n",
       "      <td>3.37</td>\n",
       "      <td>2021-12-15 06:23:00</td>\n",
       "      <td>2021-12-15 17:49:00</td>\n",
       "      <td>1.29</td>\n",
       "      <td>44894.0</td>\n",
       "      <td>1871.986343</td>\n",
       "      <td>11.433333</td>\n",
       "    </tr>\n",
       "    <tr>\n",
       "      <th>3</th>\n",
       "      <td>6508</td>\n",
       "      <td>2016-09-04 18:25:05</td>\n",
       "      <td>2016-09-04</td>\n",
       "      <td>2021-12-15 08:25:05</td>\n",
       "      <td>57</td>\n",
       "      <td>30.47</td>\n",
       "      <td>93</td>\n",
       "      <td>38.61</td>\n",
       "      <td>2.25</td>\n",
       "      <td>2021-12-15 06:08:00</td>\n",
       "      <td>2021-12-15 18:35:00</td>\n",
       "      <td>544.75</td>\n",
       "      <td>46262.0</td>\n",
       "      <td>1928.350752</td>\n",
       "      <td>12.450000</td>\n",
       "    </tr>\n",
       "    <tr>\n",
       "      <th>4</th>\n",
       "      <td>29110</td>\n",
       "      <td>2016-12-16 10:50:34</td>\n",
       "      <td>2016-12-16</td>\n",
       "      <td>2021-12-15 00:50:34</td>\n",
       "      <td>41</td>\n",
       "      <td>30.23</td>\n",
       "      <td>103</td>\n",
       "      <td>177.55</td>\n",
       "      <td>2.25</td>\n",
       "      <td>2021-12-15 06:50:00</td>\n",
       "      <td>2021-12-15 17:46:00</td>\n",
       "      <td>1.22</td>\n",
       "      <td>43790.0</td>\n",
       "      <td>1825.035116</td>\n",
       "      <td>10.933333</td>\n",
       "    </tr>\n",
       "  </tbody>\n",
       "</table>\n",
       "</div>"
      ],
      "text/plain": [
       "      Id            UNIXTime       Data                Time  Temperature  \\\n",
       "0   4152 2016-09-14 18:50:05 2016-09-14 2021-12-15 08:50:05           57   \n",
       "1  13047 2016-10-12 17:25:21 2016-10-12 2021-12-15 07:25:21           50   \n",
       "2   7420 2016-11-01 09:40:20 2016-10-31 2021-12-15 23:40:20           47   \n",
       "3   6508 2016-09-04 18:25:05 2016-09-04 2021-12-15 08:25:05           57   \n",
       "4  29110 2016-12-16 10:50:34 2016-12-16 2021-12-15 00:50:34           41   \n",
       "\n",
       "   Pressure  Humidity  WindDirection(Degrees)  Speed         TimeSunRise  \\\n",
       "0     30.45        68                   26.70   4.50 2021-12-15 06:10:00   \n",
       "1     30.47        96                  144.96  10.12 2021-12-15 06:16:00   \n",
       "2     30.48        56                  119.52   3.37 2021-12-15 06:23:00   \n",
       "3     30.47        93                   38.61   2.25 2021-12-15 06:08:00   \n",
       "4     30.23       103                  177.55   2.25 2021-12-15 06:50:00   \n",
       "\n",
       "           TimeSunSet  Radiation  unixdiff_hrs  st_end_days   diff_hrs  \n",
       "0 2021-12-15 18:26:00     680.04       46022.0  1918.368113  12.266667  \n",
       "1 2021-12-15 18:02:00     277.37       45350.0  1890.309271  11.766667  \n",
       "2 2021-12-15 17:49:00       1.29       44894.0  1871.986343  11.433333  \n",
       "3 2021-12-15 18:35:00     544.75       46262.0  1928.350752  12.450000  \n",
       "4 2021-12-15 17:46:00       1.22       43790.0  1825.035116  10.933333  "
      ]
     },
     "execution_count": 127,
     "metadata": {},
     "output_type": "execute_result"
    }
   ],
   "source": [
    "train.head()"
   ]
  },
  {
   "cell_type": "code",
   "execution_count": 128,
   "id": "a76bb04b",
   "metadata": {
    "ExecuteTime": {
     "end_time": "2021-12-15T10:12:07.284896Z",
     "start_time": "2021-12-15T10:12:07.040934Z"
    }
   },
   "outputs": [
    {
     "data": {
      "text/html": [
       "<div>\n",
       "<style scoped>\n",
       "    .dataframe tbody tr th:only-of-type {\n",
       "        vertical-align: middle;\n",
       "    }\n",
       "\n",
       "    .dataframe tbody tr th {\n",
       "        vertical-align: top;\n",
       "    }\n",
       "\n",
       "    .dataframe thead th {\n",
       "        text-align: right;\n",
       "    }\n",
       "</style>\n",
       "<table border=\"1\" class=\"dataframe\">\n",
       "  <thead>\n",
       "    <tr style=\"text-align: right;\">\n",
       "      <th></th>\n",
       "      <th>count</th>\n",
       "      <th>mean</th>\n",
       "      <th>std</th>\n",
       "      <th>min</th>\n",
       "      <th>25%</th>\n",
       "      <th>50%</th>\n",
       "      <th>75%</th>\n",
       "      <th>max</th>\n",
       "    </tr>\n",
       "  </thead>\n",
       "  <tbody>\n",
       "    <tr>\n",
       "      <th>Id</th>\n",
       "      <td>26148.0</td>\n",
       "      <td>16337.578668</td>\n",
       "      <td>9449.975676</td>\n",
       "      <td>0.000000</td>\n",
       "      <td>8125.750000</td>\n",
       "      <td>16379.000000</td>\n",
       "      <td>24507.250000</td>\n",
       "      <td>32685.000000</td>\n",
       "    </tr>\n",
       "    <tr>\n",
       "      <th>Temperature</th>\n",
       "      <td>26148.0</td>\n",
       "      <td>51.104865</td>\n",
       "      <td>6.213912</td>\n",
       "      <td>34.000000</td>\n",
       "      <td>46.000000</td>\n",
       "      <td>50.000000</td>\n",
       "      <td>55.000000</td>\n",
       "      <td>71.000000</td>\n",
       "    </tr>\n",
       "    <tr>\n",
       "      <th>Pressure</th>\n",
       "      <td>26148.0</td>\n",
       "      <td>30.422835</td>\n",
       "      <td>0.054724</td>\n",
       "      <td>30.190000</td>\n",
       "      <td>30.400000</td>\n",
       "      <td>30.430000</td>\n",
       "      <td>30.460000</td>\n",
       "      <td>30.560000</td>\n",
       "    </tr>\n",
       "    <tr>\n",
       "      <th>Humidity</th>\n",
       "      <td>26148.0</td>\n",
       "      <td>75.005239</td>\n",
       "      <td>25.993102</td>\n",
       "      <td>11.000000</td>\n",
       "      <td>56.000000</td>\n",
       "      <td>85.000000</td>\n",
       "      <td>97.000000</td>\n",
       "      <td>103.000000</td>\n",
       "    </tr>\n",
       "    <tr>\n",
       "      <th>WindDirection(Degrees)</th>\n",
       "      <td>26148.0</td>\n",
       "      <td>143.259970</td>\n",
       "      <td>82.988177</td>\n",
       "      <td>0.090000</td>\n",
       "      <td>81.977500</td>\n",
       "      <td>147.645000</td>\n",
       "      <td>179.220000</td>\n",
       "      <td>359.950000</td>\n",
       "    </tr>\n",
       "    <tr>\n",
       "      <th>Speed</th>\n",
       "      <td>26148.0</td>\n",
       "      <td>6.248521</td>\n",
       "      <td>3.484166</td>\n",
       "      <td>0.000000</td>\n",
       "      <td>3.370000</td>\n",
       "      <td>5.620000</td>\n",
       "      <td>7.870000</td>\n",
       "      <td>39.370000</td>\n",
       "    </tr>\n",
       "    <tr>\n",
       "      <th>Radiation</th>\n",
       "      <td>26148.0</td>\n",
       "      <td>208.044780</td>\n",
       "      <td>316.090247</td>\n",
       "      <td>1.130000</td>\n",
       "      <td>1.230000</td>\n",
       "      <td>2.710000</td>\n",
       "      <td>358.945000</td>\n",
       "      <td>1601.260000</td>\n",
       "    </tr>\n",
       "    <tr>\n",
       "      <th>unixdiff_hrs</th>\n",
       "      <td>26148.0</td>\n",
       "      <td>44867.610831</td>\n",
       "      <td>835.020030</td>\n",
       "      <td>43430.000000</td>\n",
       "      <td>44198.000000</td>\n",
       "      <td>44870.000000</td>\n",
       "      <td>45566.000000</td>\n",
       "      <td>46334.000000</td>\n",
       "    </tr>\n",
       "    <tr>\n",
       "      <th>st_end_days</th>\n",
       "      <td>26148.0</td>\n",
       "      <td>1870.399892</td>\n",
       "      <td>34.797062</td>\n",
       "      <td>1810.000093</td>\n",
       "      <td>1842.037338</td>\n",
       "      <td>1870.508877</td>\n",
       "      <td>1899.483756</td>\n",
       "      <td>1931.996609</td>\n",
       "    </tr>\n",
       "    <tr>\n",
       "      <th>diff_hrs</th>\n",
       "      <td>26148.0</td>\n",
       "      <td>11.509240</td>\n",
       "      <td>0.499390</td>\n",
       "      <td>10.933333</td>\n",
       "      <td>11.033333</td>\n",
       "      <td>11.400000</td>\n",
       "      <td>11.916667</td>\n",
       "      <td>12.516667</td>\n",
       "    </tr>\n",
       "  </tbody>\n",
       "</table>\n",
       "</div>"
      ],
      "text/plain": [
       "                          count          mean          std           min  \\\n",
       "Id                      26148.0  16337.578668  9449.975676      0.000000   \n",
       "Temperature             26148.0     51.104865     6.213912     34.000000   \n",
       "Pressure                26148.0     30.422835     0.054724     30.190000   \n",
       "Humidity                26148.0     75.005239    25.993102     11.000000   \n",
       "WindDirection(Degrees)  26148.0    143.259970    82.988177      0.090000   \n",
       "Speed                   26148.0      6.248521     3.484166      0.000000   \n",
       "Radiation               26148.0    208.044780   316.090247      1.130000   \n",
       "unixdiff_hrs            26148.0  44867.610831   835.020030  43430.000000   \n",
       "st_end_days             26148.0   1870.399892    34.797062   1810.000093   \n",
       "diff_hrs                26148.0     11.509240     0.499390     10.933333   \n",
       "\n",
       "                                 25%           50%           75%           max  \n",
       "Id                       8125.750000  16379.000000  24507.250000  32685.000000  \n",
       "Temperature                46.000000     50.000000     55.000000     71.000000  \n",
       "Pressure                   30.400000     30.430000     30.460000     30.560000  \n",
       "Humidity                   56.000000     85.000000     97.000000    103.000000  \n",
       "WindDirection(Degrees)     81.977500    147.645000    179.220000    359.950000  \n",
       "Speed                       3.370000      5.620000      7.870000     39.370000  \n",
       "Radiation                   1.230000      2.710000    358.945000   1601.260000  \n",
       "unixdiff_hrs            44198.000000  44870.000000  45566.000000  46334.000000  \n",
       "st_end_days              1842.037338   1870.508877   1899.483756   1931.996609  \n",
       "diff_hrs                   11.033333     11.400000     11.916667     12.516667  "
      ]
     },
     "execution_count": 128,
     "metadata": {},
     "output_type": "execute_result"
    }
   ],
   "source": [
    "train.describe().T"
   ]
  },
  {
   "cell_type": "code",
   "execution_count": 129,
   "id": "5f46513c",
   "metadata": {
    "ExecuteTime": {
     "end_time": "2021-12-15T10:12:07.440604Z",
     "start_time": "2021-12-15T10:12:07.288851Z"
    }
   },
   "outputs": [
    {
     "name": "stdout",
     "output_type": "stream",
     "text": [
      "What is the total of misssing values in training data of each column ?  Id                        0\n",
      "UNIXTime                  0\n",
      "Data                      0\n",
      "Time                      0\n",
      "Temperature               0\n",
      "Pressure                  0\n",
      "Humidity                  0\n",
      "WindDirection(Degrees)    0\n",
      "Speed                     0\n",
      "TimeSunRise               0\n",
      "TimeSunSet                0\n",
      "Radiation                 0\n",
      "unixdiff_hrs              0\n",
      "st_end_days               0\n",
      "diff_hrs                  0\n",
      "dtype: int64\n",
      "What is the total of misssing values in testing data ofeach column ?  Id                        0\n",
      "UNIXTime                  0\n",
      "Data                      0\n",
      "Time                      0\n",
      "Temperature               0\n",
      "Pressure                  0\n",
      "Humidity                  0\n",
      "WindDirection(Degrees)    0\n",
      "Speed                     0\n",
      "TimeSunRise               0\n",
      "TimeSunSet                0\n",
      "unixdiff_hrs              0\n",
      "st_end_days               0\n",
      "diff_hrs                  0\n",
      "dtype: int64\n"
     ]
    }
   ],
   "source": [
    "print(\"What is the total of misssing values in training data of each column ? \", train.isna().sum())\n",
    "print(\"What is the total of misssing values in testing data ofeach column ? \", test.isna().sum())"
   ]
  },
  {
   "cell_type": "code",
   "execution_count": 130,
   "id": "f5d17bd3",
   "metadata": {
    "ExecuteTime": {
     "end_time": "2021-12-15T10:12:07.726215Z",
     "start_time": "2021-12-15T10:12:07.444595Z"
    }
   },
   "outputs": [
    {
     "data": {
      "text/html": [
       "<div>\n",
       "<style scoped>\n",
       "    .dataframe tbody tr th:only-of-type {\n",
       "        vertical-align: middle;\n",
       "    }\n",
       "\n",
       "    .dataframe tbody tr th {\n",
       "        vertical-align: top;\n",
       "    }\n",
       "\n",
       "    .dataframe thead th {\n",
       "        text-align: right;\n",
       "    }\n",
       "</style>\n",
       "<table border=\"1\" class=\"dataframe\">\n",
       "  <thead>\n",
       "    <tr style=\"text-align: right;\">\n",
       "      <th></th>\n",
       "      <th>Feature</th>\n",
       "      <th>Unique_values</th>\n",
       "      <th>Percentage of missing values</th>\n",
       "      <th>Percentage of values in the biggest category</th>\n",
       "      <th>type</th>\n",
       "    </tr>\n",
       "  </thead>\n",
       "  <tbody>\n",
       "    <tr>\n",
       "      <th>0</th>\n",
       "      <td>Id</td>\n",
       "      <td>26148</td>\n",
       "      <td>0.0</td>\n",
       "      <td>0.003824</td>\n",
       "      <td>int64</td>\n",
       "    </tr>\n",
       "    <tr>\n",
       "      <th>1</th>\n",
       "      <td>UNIXTime</td>\n",
       "      <td>26148</td>\n",
       "      <td>0.0</td>\n",
       "      <td>0.003824</td>\n",
       "      <td>datetime64[ns]</td>\n",
       "    </tr>\n",
       "    <tr>\n",
       "      <th>2</th>\n",
       "      <td>Data</td>\n",
       "      <td>118</td>\n",
       "      <td>0.0</td>\n",
       "      <td>0.936974</td>\n",
       "      <td>datetime64[ns]</td>\n",
       "    </tr>\n",
       "    <tr>\n",
       "      <th>3</th>\n",
       "      <td>Time</td>\n",
       "      <td>7675</td>\n",
       "      <td>0.0</td>\n",
       "      <td>0.068839</td>\n",
       "      <td>datetime64[ns]</td>\n",
       "    </tr>\n",
       "    <tr>\n",
       "      <th>4</th>\n",
       "      <td>Temperature</td>\n",
       "      <td>38</td>\n",
       "      <td>0.0</td>\n",
       "      <td>9.017898</td>\n",
       "      <td>int64</td>\n",
       "    </tr>\n",
       "    <tr>\n",
       "      <th>5</th>\n",
       "      <td>Pressure</td>\n",
       "      <td>38</td>\n",
       "      <td>0.0</td>\n",
       "      <td>10.142267</td>\n",
       "      <td>float64</td>\n",
       "    </tr>\n",
       "    <tr>\n",
       "      <th>6</th>\n",
       "      <td>Humidity</td>\n",
       "      <td>93</td>\n",
       "      <td>0.0</td>\n",
       "      <td>6.463209</td>\n",
       "      <td>int64</td>\n",
       "    </tr>\n",
       "    <tr>\n",
       "      <th>7</th>\n",
       "      <td>WindDirection(Degrees)</td>\n",
       "      <td>15777</td>\n",
       "      <td>0.0</td>\n",
       "      <td>0.290653</td>\n",
       "      <td>float64</td>\n",
       "    </tr>\n",
       "    <tr>\n",
       "      <th>8</th>\n",
       "      <td>Speed</td>\n",
       "      <td>36</td>\n",
       "      <td>0.0</td>\n",
       "      <td>14.073734</td>\n",
       "      <td>float64</td>\n",
       "    </tr>\n",
       "    <tr>\n",
       "      <th>9</th>\n",
       "      <td>TimeSunRise</td>\n",
       "      <td>51</td>\n",
       "      <td>0.0</td>\n",
       "      <td>4.268013</td>\n",
       "      <td>datetime64[ns]</td>\n",
       "    </tr>\n",
       "    <tr>\n",
       "      <th>10</th>\n",
       "      <td>TimeSunSet</td>\n",
       "      <td>56</td>\n",
       "      <td>0.0</td>\n",
       "      <td>11.324002</td>\n",
       "      <td>datetime64[ns]</td>\n",
       "    </tr>\n",
       "    <tr>\n",
       "      <th>11</th>\n",
       "      <td>Radiation</td>\n",
       "      <td>11826</td>\n",
       "      <td>0.0</td>\n",
       "      <td>6.696497</td>\n",
       "      <td>float64</td>\n",
       "    </tr>\n",
       "    <tr>\n",
       "      <th>12</th>\n",
       "      <td>unixdiff_hrs</td>\n",
       "      <td>118</td>\n",
       "      <td>0.0</td>\n",
       "      <td>0.936974</td>\n",
       "      <td>float64</td>\n",
       "    </tr>\n",
       "    <tr>\n",
       "      <th>13</th>\n",
       "      <td>st_end_days</td>\n",
       "      <td>26148</td>\n",
       "      <td>0.0</td>\n",
       "      <td>0.003824</td>\n",
       "      <td>float64</td>\n",
       "    </tr>\n",
       "    <tr>\n",
       "      <th>14</th>\n",
       "      <td>diff_hrs</td>\n",
       "      <td>75</td>\n",
       "      <td>0.0</td>\n",
       "      <td>12.398654</td>\n",
       "      <td>float64</td>\n",
       "    </tr>\n",
       "  </tbody>\n",
       "</table>\n",
       "</div>"
      ],
      "text/plain": [
       "                   Feature  Unique_values  Percentage of missing values  \\\n",
       "0                       Id          26148                           0.0   \n",
       "1                 UNIXTime          26148                           0.0   \n",
       "2                     Data            118                           0.0   \n",
       "3                     Time           7675                           0.0   \n",
       "4              Temperature             38                           0.0   \n",
       "5                 Pressure             38                           0.0   \n",
       "6                 Humidity             93                           0.0   \n",
       "7   WindDirection(Degrees)          15777                           0.0   \n",
       "8                    Speed             36                           0.0   \n",
       "9              TimeSunRise             51                           0.0   \n",
       "10              TimeSunSet             56                           0.0   \n",
       "11               Radiation          11826                           0.0   \n",
       "12            unixdiff_hrs            118                           0.0   \n",
       "13             st_end_days          26148                           0.0   \n",
       "14                diff_hrs             75                           0.0   \n",
       "\n",
       "    Percentage of values in the biggest category            type  \n",
       "0                                       0.003824           int64  \n",
       "1                                       0.003824  datetime64[ns]  \n",
       "2                                       0.936974  datetime64[ns]  \n",
       "3                                       0.068839  datetime64[ns]  \n",
       "4                                       9.017898           int64  \n",
       "5                                      10.142267         float64  \n",
       "6                                       6.463209           int64  \n",
       "7                                       0.290653         float64  \n",
       "8                                      14.073734         float64  \n",
       "9                                       4.268013  datetime64[ns]  \n",
       "10                                     11.324002  datetime64[ns]  \n",
       "11                                      6.696497         float64  \n",
       "12                                      0.936974         float64  \n",
       "13                                      0.003824         float64  \n",
       "14                                     12.398654         float64  "
      ]
     },
     "execution_count": 130,
     "metadata": {},
     "output_type": "execute_result"
    }
   ],
   "source": [
    "# Stats of dataframe\n",
    "stats = []\n",
    "for col in train.columns:\n",
    "    stats.append((col, train[col].nunique(), train[col].isnull().sum() * 100 / train.shape[0],\n",
    "                 train[col].value_counts(normalize=True, dropna=False).values[0] * 100, train[col].dtype))\n",
    "\n",
    "stats_df = pd.DataFrame(stats, columns=[\n",
    "                        'Feature', 'Unique_values', 'Percentage of missing values', \n",
    "                         'Percentage of values in the biggest category', 'type'])\n",
    "stats_df.sort_values('Percentage of missing values', ascending=False)"
   ]
  },
  {
   "cell_type": "markdown",
   "id": "b789dd33",
   "metadata": {},
   "source": [
    "## 5. Data Preprocessing for EDA\n",
    "The goal of this section is to:\n",
    "\n",
    "- Drop columns based on the inferences from previous section\n",
    "- Define the data type for categorical columns"
   ]
  },
  {
   "cell_type": "code",
   "execution_count": 131,
   "id": "f5846039",
   "metadata": {
    "ExecuteTime": {
     "end_time": "2021-12-15T10:12:07.803974Z",
     "start_time": "2021-12-15T10:12:07.730170Z"
    }
   },
   "outputs": [
    {
     "data": {
      "text/plain": [
       "(26148, 15)"
      ]
     },
     "execution_count": 131,
     "metadata": {},
     "output_type": "execute_result"
    }
   ],
   "source": [
    "# Initial Shape\n",
    "train.shape"
   ]
  },
  {
   "cell_type": "code",
   "execution_count": 132,
   "id": "0853aba1",
   "metadata": {
    "ExecuteTime": {
     "end_time": "2021-12-15T10:12:08.024028Z",
     "start_time": "2021-12-15T10:12:07.808963Z"
    }
   },
   "outputs": [
    {
     "name": "stdout",
     "output_type": "stream",
     "text": [
      "Do the data have any duplicate Rows ? False\n",
      "What amount of rows of data are duplicated ? 0\n"
     ]
    }
   ],
   "source": [
    "print('Do the data have any duplicate Rows ?', train.duplicated().any())\n",
    "print('What amount of rows of data are duplicated ?', train.duplicated().sum())"
   ]
  },
  {
   "cell_type": "code",
   "execution_count": 133,
   "id": "c1fe2194",
   "metadata": {
    "ExecuteTime": {
     "end_time": "2021-12-15T10:12:08.292905Z",
     "start_time": "2021-12-15T10:12:08.027019Z"
    }
   },
   "outputs": [],
   "source": [
    "### Testing data"
   ]
  },
  {
   "cell_type": "code",
   "execution_count": 134,
   "id": "4feb08b9",
   "metadata": {
    "ExecuteTime": {
     "end_time": "2021-12-15T10:12:08.480212Z",
     "start_time": "2021-12-15T10:12:08.295532Z"
    }
   },
   "outputs": [
    {
     "name": "stdout",
     "output_type": "stream",
     "text": [
      "Do the data have any duplicate Rows ? False\n",
      "What amount of rows of data are duplicated ? 0\n"
     ]
    }
   ],
   "source": [
    "print('Do the data have any duplicate Rows ?', test.duplicated().any())\n",
    "print('What amount of rows of data are duplicated ?', test.duplicated().sum())"
   ]
  },
  {
   "cell_type": "code",
   "execution_count": 135,
   "id": "7da95d50",
   "metadata": {
    "ExecuteTime": {
     "end_time": "2021-12-15T10:12:08.746088Z",
     "start_time": "2021-12-15T10:12:08.485194Z"
    }
   },
   "outputs": [],
   "source": [
    "# We will start by first removing the duplicate rows\n",
    "if train.duplicated().any() : \n",
    "    train.drop_duplicates(keep=\"first\", inplace=True)"
   ]
  },
  {
   "cell_type": "code",
   "execution_count": 136,
   "id": "91cb2e2e",
   "metadata": {
    "ExecuteTime": {
     "end_time": "2021-12-15T10:12:08.917622Z",
     "start_time": "2021-12-15T10:12:08.749085Z"
    }
   },
   "outputs": [],
   "source": [
    "# We will start by first removing the duplicate rows\n",
    "if test.duplicated().any() : \n",
    "    test.drop_duplicates(keep=\"first\", inplace=True)"
   ]
  },
  {
   "cell_type": "code",
   "execution_count": 137,
   "id": "a7fc17af",
   "metadata": {
    "ExecuteTime": {
     "end_time": "2021-12-15T10:12:09.182925Z",
     "start_time": "2021-12-15T10:12:08.921266Z"
    }
   },
   "outputs": [
    {
     "data": {
      "text/html": [
       "<style type=\"text/css\">\n",
       "#T_69d25_row0_col0, #T_69d25_row0_col1, #T_69d25_row0_col2, #T_69d25_row0_col3, #T_69d25_row0_col4, #T_69d25_row0_col5, #T_69d25_row0_col6, #T_69d25_row0_col7, #T_69d25_row0_col8, #T_69d25_row0_col9, #T_69d25_row0_col10, #T_69d25_row0_col11, #T_69d25_row0_col12, #T_69d25_row0_col13, #T_69d25_row0_col14 {\n",
       "  background-color: #0000ff;\n",
       "  color: #f1f1f1;\n",
       "}\n",
       "</style>\n",
       "<table id=\"T_69d25_\">\n",
       "  <thead>\n",
       "    <tr>\n",
       "      <th class=\"blank level0\" >&nbsp;</th>\n",
       "      <th class=\"col_heading level0 col0\" >Id</th>\n",
       "      <th class=\"col_heading level0 col1\" >UNIXTime</th>\n",
       "      <th class=\"col_heading level0 col2\" >Data</th>\n",
       "      <th class=\"col_heading level0 col3\" >Time</th>\n",
       "      <th class=\"col_heading level0 col4\" >Temperature</th>\n",
       "      <th class=\"col_heading level0 col5\" >Pressure</th>\n",
       "      <th class=\"col_heading level0 col6\" >Humidity</th>\n",
       "      <th class=\"col_heading level0 col7\" >WindDirection(Degrees)</th>\n",
       "      <th class=\"col_heading level0 col8\" >Speed</th>\n",
       "      <th class=\"col_heading level0 col9\" >TimeSunRise</th>\n",
       "      <th class=\"col_heading level0 col10\" >TimeSunSet</th>\n",
       "      <th class=\"col_heading level0 col11\" >Radiation</th>\n",
       "      <th class=\"col_heading level0 col12\" >unixdiff_hrs</th>\n",
       "      <th class=\"col_heading level0 col13\" >st_end_days</th>\n",
       "      <th class=\"col_heading level0 col14\" >diff_hrs</th>\n",
       "    </tr>\n",
       "  </thead>\n",
       "  <tbody>\n",
       "    <tr>\n",
       "      <th id=\"T_69d25_level0_row0\" class=\"row_heading level0 row0\" >NaNs percentage</th>\n",
       "      <td id=\"T_69d25_row0_col0\" class=\"data row0 col0\" >0.000000</td>\n",
       "      <td id=\"T_69d25_row0_col1\" class=\"data row0 col1\" >0.000000</td>\n",
       "      <td id=\"T_69d25_row0_col2\" class=\"data row0 col2\" >0.000000</td>\n",
       "      <td id=\"T_69d25_row0_col3\" class=\"data row0 col3\" >0.000000</td>\n",
       "      <td id=\"T_69d25_row0_col4\" class=\"data row0 col4\" >0.000000</td>\n",
       "      <td id=\"T_69d25_row0_col5\" class=\"data row0 col5\" >0.000000</td>\n",
       "      <td id=\"T_69d25_row0_col6\" class=\"data row0 col6\" >0.000000</td>\n",
       "      <td id=\"T_69d25_row0_col7\" class=\"data row0 col7\" >0.000000</td>\n",
       "      <td id=\"T_69d25_row0_col8\" class=\"data row0 col8\" >0.000000</td>\n",
       "      <td id=\"T_69d25_row0_col9\" class=\"data row0 col9\" >0.000000</td>\n",
       "      <td id=\"T_69d25_row0_col10\" class=\"data row0 col10\" >0.000000</td>\n",
       "      <td id=\"T_69d25_row0_col11\" class=\"data row0 col11\" >0.000000</td>\n",
       "      <td id=\"T_69d25_row0_col12\" class=\"data row0 col12\" >0.000000</td>\n",
       "      <td id=\"T_69d25_row0_col13\" class=\"data row0 col13\" >0.000000</td>\n",
       "      <td id=\"T_69d25_row0_col14\" class=\"data row0 col14\" >0.000000</td>\n",
       "    </tr>\n",
       "  </tbody>\n",
       "</table>\n"
      ],
      "text/plain": [
       "<pandas.io.formats.style.Styler at 0x2937cdaefd0>"
      ]
     },
     "execution_count": 137,
     "metadata": {},
     "output_type": "execute_result"
    }
   ],
   "source": [
    "percent_missing = train.isnull().sum() * 100 / len(train)\n",
    "missing_values = pd.DataFrame({'NaNs percentage': percent_missing})\n",
    "missing_values.sort_values(by ='NaNs percentage' , ascending=False).T.style.background_gradient(cmap='winter')"
   ]
  },
  {
   "cell_type": "code",
   "execution_count": 138,
   "id": "3fae90dc",
   "metadata": {
    "ExecuteTime": {
     "end_time": "2021-12-15T10:12:09.447505Z",
     "start_time": "2021-12-15T10:12:09.187751Z"
    }
   },
   "outputs": [
    {
     "name": "stdout",
     "output_type": "stream",
     "text": [
      "For testing data\n"
     ]
    },
    {
     "data": {
      "text/html": [
       "<style type=\"text/css\">\n",
       "#T_b3f37_row0_col0, #T_b3f37_row0_col1, #T_b3f37_row0_col2, #T_b3f37_row0_col3, #T_b3f37_row0_col4, #T_b3f37_row0_col5, #T_b3f37_row0_col6, #T_b3f37_row0_col7, #T_b3f37_row0_col8, #T_b3f37_row0_col9, #T_b3f37_row0_col10, #T_b3f37_row0_col11, #T_b3f37_row0_col12, #T_b3f37_row0_col13 {\n",
       "  background-color: #008066;\n",
       "  color: #f1f1f1;\n",
       "}\n",
       "</style>\n",
       "<table id=\"T_b3f37_\">\n",
       "  <thead>\n",
       "    <tr>\n",
       "      <th class=\"blank level0\" >&nbsp;</th>\n",
       "      <th class=\"col_heading level0 col0\" >Id</th>\n",
       "      <th class=\"col_heading level0 col1\" >UNIXTime</th>\n",
       "      <th class=\"col_heading level0 col2\" >Data</th>\n",
       "      <th class=\"col_heading level0 col3\" >Time</th>\n",
       "      <th class=\"col_heading level0 col4\" >Temperature</th>\n",
       "      <th class=\"col_heading level0 col5\" >Pressure</th>\n",
       "      <th class=\"col_heading level0 col6\" >Humidity</th>\n",
       "      <th class=\"col_heading level0 col7\" >WindDirection(Degrees)</th>\n",
       "      <th class=\"col_heading level0 col8\" >Speed</th>\n",
       "      <th class=\"col_heading level0 col9\" >TimeSunRise</th>\n",
       "      <th class=\"col_heading level0 col10\" >TimeSunSet</th>\n",
       "      <th class=\"col_heading level0 col11\" >unixdiff_hrs</th>\n",
       "      <th class=\"col_heading level0 col12\" >st_end_days</th>\n",
       "      <th class=\"col_heading level0 col13\" >diff_hrs</th>\n",
       "    </tr>\n",
       "  </thead>\n",
       "  <tbody>\n",
       "    <tr>\n",
       "      <th id=\"T_b3f37_level0_row0\" class=\"row_heading level0 row0\" >NaNs percentage</th>\n",
       "      <td id=\"T_b3f37_row0_col0\" class=\"data row0 col0\" >0.000000</td>\n",
       "      <td id=\"T_b3f37_row0_col1\" class=\"data row0 col1\" >0.000000</td>\n",
       "      <td id=\"T_b3f37_row0_col2\" class=\"data row0 col2\" >0.000000</td>\n",
       "      <td id=\"T_b3f37_row0_col3\" class=\"data row0 col3\" >0.000000</td>\n",
       "      <td id=\"T_b3f37_row0_col4\" class=\"data row0 col4\" >0.000000</td>\n",
       "      <td id=\"T_b3f37_row0_col5\" class=\"data row0 col5\" >0.000000</td>\n",
       "      <td id=\"T_b3f37_row0_col6\" class=\"data row0 col6\" >0.000000</td>\n",
       "      <td id=\"T_b3f37_row0_col7\" class=\"data row0 col7\" >0.000000</td>\n",
       "      <td id=\"T_b3f37_row0_col8\" class=\"data row0 col8\" >0.000000</td>\n",
       "      <td id=\"T_b3f37_row0_col9\" class=\"data row0 col9\" >0.000000</td>\n",
       "      <td id=\"T_b3f37_row0_col10\" class=\"data row0 col10\" >0.000000</td>\n",
       "      <td id=\"T_b3f37_row0_col11\" class=\"data row0 col11\" >0.000000</td>\n",
       "      <td id=\"T_b3f37_row0_col12\" class=\"data row0 col12\" >0.000000</td>\n",
       "      <td id=\"T_b3f37_row0_col13\" class=\"data row0 col13\" >0.000000</td>\n",
       "    </tr>\n",
       "  </tbody>\n",
       "</table>\n"
      ],
      "text/plain": [
       "<pandas.io.formats.style.Styler at 0x29375347d00>"
      ]
     },
     "execution_count": 138,
     "metadata": {},
     "output_type": "execute_result"
    }
   ],
   "source": [
    "print(\"For testing data\")\n",
    "percent_missing = test.isnull().sum() * 100 / len(test)\n",
    "missing_values = pd.DataFrame({'NaNs percentage': percent_missing})\n",
    "missing_values.sort_values(by ='NaNs percentage' , ascending=False).T.style.background_gradient(cmap='summer')"
   ]
  },
  {
   "cell_type": "markdown",
   "id": "3ef807fa",
   "metadata": {},
   "source": [
    "### Treat Na values. \n",
    "1. Remove the columns which have more than 20% na values. \n",
    "2. Later remove the rows which has na values. (since we have a lot of records in dataset)."
   ]
  },
  {
   "cell_type": "code",
   "execution_count": 139,
   "id": "49e57876",
   "metadata": {
    "ExecuteTime": {
     "end_time": "2021-12-15T10:12:09.623037Z",
     "start_time": "2021-12-15T10:12:09.463464Z"
    }
   },
   "outputs": [],
   "source": [
    "# na value treatment for training data\n",
    "for col in train:\n",
    "    missing_value_percent = train[col].isnull().sum() * 100 / train.shape[0]\n",
    "    if missing_value_percent >= 20:\n",
    "        train.drop(col,axis=1, inplace = True)\n",
    "    else:\n",
    "        train = train[train[col].notna()]"
   ]
  },
  {
   "cell_type": "code",
   "execution_count": 140,
   "id": "a2ada04e",
   "metadata": {
    "ExecuteTime": {
     "end_time": "2021-12-15T10:12:09.701807Z",
     "start_time": "2021-12-15T10:12:09.628024Z"
    }
   },
   "outputs": [],
   "source": [
    "# Drop the columns which have more than 90% values missing\n",
    "good_cols = list(train.columns)\n",
    "for col in train.columns:\n",
    "    missing_share = train[col].isnull().sum()/train.shape[0]\n",
    "    if missing_share > 0.9:\n",
    "        good_cols.remove(col)\n",
    "        print(\"Removed: \", col)"
   ]
  },
  {
   "cell_type": "code",
   "execution_count": 141,
   "id": "98991050",
   "metadata": {
    "ExecuteTime": {
     "end_time": "2021-12-15T10:12:09.891775Z",
     "start_time": "2021-12-15T10:12:09.704811Z"
    }
   },
   "outputs": [],
   "source": [
    "# Drop the columns where one category contains more than 90% values\n",
    "for col in good_cols:\n",
    "    rate = train[col].value_counts(normalize=True, dropna=False).values[0]\n",
    "    if rate > 0.9:\n",
    "        good_cols.remove(col)\n",
    "        print(\"Removed: \", col)"
   ]
  },
  {
   "cell_type": "code",
   "execution_count": 142,
   "id": "61b4e061",
   "metadata": {
    "ExecuteTime": {
     "end_time": "2021-12-15T10:12:10.096539Z",
     "start_time": "2021-12-15T10:12:09.896763Z"
    }
   },
   "outputs": [],
   "source": [
    "# Remove the columns which doesn't having any variance\n",
    "\n",
    "# Drop the columns which have only one unique value\n",
    "for col in good_cols:\n",
    "    unique_value = train[col].nunique()\n",
    "    if unique_value == 1:\n",
    "        good_cols.remove(col)\n",
    "        print(\"Removed: \", col)"
   ]
  },
  {
   "cell_type": "code",
   "execution_count": 143,
   "id": "b442405d",
   "metadata": {
    "ExecuteTime": {
     "end_time": "2021-12-15T10:12:10.364465Z",
     "start_time": "2021-12-15T10:12:10.099536Z"
    }
   },
   "outputs": [],
   "source": [
    "#Select only the good columns\n",
    "\n",
    "# Filter the data for relevant columns only\n",
    "train = train[good_cols]"
   ]
  },
  {
   "cell_type": "code",
   "execution_count": 144,
   "id": "086b8dd9",
   "metadata": {
    "ExecuteTime": {
     "end_time": "2021-12-15T10:12:10.568648Z",
     "start_time": "2021-12-15T10:12:10.369456Z"
    }
   },
   "outputs": [
    {
     "data": {
      "text/plain": [
       "(26148, 15)"
      ]
     },
     "execution_count": 144,
     "metadata": {},
     "output_type": "execute_result"
    }
   ],
   "source": [
    "# Dimentions of data\n",
    "train.shape"
   ]
  },
  {
   "cell_type": "code",
   "execution_count": 145,
   "id": "235afef1",
   "metadata": {
    "ExecuteTime": {
     "end_time": "2021-12-15T10:12:11.612252Z",
     "start_time": "2021-12-15T10:12:10.574629Z"
    }
   },
   "outputs": [],
   "source": [
    "# Export.\n",
    "train.to_csv('train_radiationclean.csv')"
   ]
  },
  {
   "cell_type": "code",
   "execution_count": 146,
   "id": "cb0bae2a",
   "metadata": {
    "ExecuteTime": {
     "end_time": "2021-12-15T10:12:11.627354Z",
     "start_time": "2021-12-15T10:12:11.615388Z"
    }
   },
   "outputs": [],
   "source": [
    "## For testing data"
   ]
  },
  {
   "cell_type": "code",
   "execution_count": 147,
   "id": "efd7cd88",
   "metadata": {
    "ExecuteTime": {
     "end_time": "2021-12-15T10:12:11.843914Z",
     "start_time": "2021-12-15T10:12:11.630347Z"
    }
   },
   "outputs": [],
   "source": [
    "# na value treatment for testng data\n",
    "for col in test:\n",
    "    missing_value_percent = test[col].isnull().sum() * 100 / test.shape[0]\n",
    "    if missing_value_percent >= 20:\n",
    "        test.drop(col,axis=1, inplace = True)\n",
    "    else:\n",
    "        test = test[test[col].notna()]"
   ]
  },
  {
   "cell_type": "code",
   "execution_count": 148,
   "id": "4aa6a0f5",
   "metadata": {
    "ExecuteTime": {
     "end_time": "2021-12-15T10:12:11.983819Z",
     "start_time": "2021-12-15T10:12:11.847564Z"
    }
   },
   "outputs": [],
   "source": [
    "# Drop the columns which have more than 90% values missing\n",
    "good_cols = list(test.columns)\n",
    "for col in test.columns:\n",
    "    missing_share = test[col].isnull().sum()/test.shape[0]\n",
    "    if missing_share > 0.9:\n",
    "        good_cols.remove(col)\n",
    "        print(\"Removed from testing dataset: \", col)"
   ]
  },
  {
   "cell_type": "code",
   "execution_count": 149,
   "id": "b112f432",
   "metadata": {
    "ExecuteTime": {
     "end_time": "2021-12-15T10:12:12.233298Z",
     "start_time": "2021-12-15T10:12:11.989809Z"
    }
   },
   "outputs": [],
   "source": [
    "# Drop the columns where one category contains more than 90% values\n",
    "for col in good_cols:\n",
    "    rate = test[col].value_counts(normalize=True, dropna=False).values[0]\n",
    "    if rate > 0.9:\n",
    "        good_cols.remove(col)\n",
    "        print(\"Removed: \", col)"
   ]
  },
  {
   "cell_type": "code",
   "execution_count": 150,
   "id": "73b05b05",
   "metadata": {
    "ExecuteTime": {
     "end_time": "2021-12-15T10:12:12.436122Z",
     "start_time": "2021-12-15T10:12:12.238295Z"
    }
   },
   "outputs": [],
   "source": [
    "# Remove the columns which doesn't having any variance\n",
    "\n",
    "# Drop the columns which have only one unique value\n",
    "for col in good_cols:\n",
    "    unique_value = test[col].nunique()\n",
    "    if unique_value == 1:\n",
    "        good_cols.remove(col)\n",
    "        print(\"Removed: \", col)"
   ]
  },
  {
   "cell_type": "code",
   "execution_count": 151,
   "id": "75100b12",
   "metadata": {
    "ExecuteTime": {
     "end_time": "2021-12-15T10:12:12.591047Z",
     "start_time": "2021-12-15T10:12:12.445104Z"
    }
   },
   "outputs": [],
   "source": [
    "#Select only the good columns\n",
    "\n",
    "# Filter the data for relevant columns only\n",
    "test = test[good_cols]"
   ]
  },
  {
   "cell_type": "code",
   "execution_count": 152,
   "id": "113b8c50",
   "metadata": {
    "ExecuteTime": {
     "end_time": "2021-12-15T10:12:12.796695Z",
     "start_time": "2021-12-15T10:12:12.596070Z"
    }
   },
   "outputs": [
    {
     "data": {
      "text/plain": [
       "(6538, 14)"
      ]
     },
     "execution_count": 152,
     "metadata": {},
     "output_type": "execute_result"
    }
   ],
   "source": [
    "# Dimentions of testing dataset\n",
    "test.shape"
   ]
  },
  {
   "cell_type": "code",
   "execution_count": 153,
   "id": "dd8f5d64",
   "metadata": {
    "ExecuteTime": {
     "end_time": "2021-12-15T10:12:13.148374Z",
     "start_time": "2021-12-15T10:12:12.803671Z"
    }
   },
   "outputs": [],
   "source": [
    "# Export of testing dataset\n",
    "test.to_csv('test_radiationclean.csv')"
   ]
  },
  {
   "cell_type": "markdown",
   "id": "c8352b86",
   "metadata": {},
   "source": [
    "###  Define the data type for categorical columns\n",
    "\n",
    "In practice, among the numerical variables, many corresponds to identifiers. In the current dataset, the truly numerical variables are in fact rare. Below, create a list of the variables which are truly numerical, according the data description."
   ]
  },
  {
   "cell_type": "code",
   "execution_count": 154,
   "id": "61ee9aae",
   "metadata": {
    "ExecuteTime": {
     "end_time": "2021-12-15T10:12:13.410385Z",
     "start_time": "2021-12-15T10:12:13.151245Z"
    }
   },
   "outputs": [
    {
     "data": {
      "text/html": [
       "<div>\n",
       "<style scoped>\n",
       "    .dataframe tbody tr th:only-of-type {\n",
       "        vertical-align: middle;\n",
       "    }\n",
       "\n",
       "    .dataframe tbody tr th {\n",
       "        vertical-align: top;\n",
       "    }\n",
       "\n",
       "    .dataframe thead th {\n",
       "        text-align: right;\n",
       "    }\n",
       "</style>\n",
       "<table border=\"1\" class=\"dataframe\">\n",
       "  <thead>\n",
       "    <tr style=\"text-align: right;\">\n",
       "      <th></th>\n",
       "      <th>Id</th>\n",
       "      <th>UNIXTime</th>\n",
       "      <th>Data</th>\n",
       "      <th>Time</th>\n",
       "      <th>Temperature</th>\n",
       "      <th>Pressure</th>\n",
       "      <th>Humidity</th>\n",
       "      <th>WindDirection(Degrees)</th>\n",
       "      <th>Speed</th>\n",
       "      <th>TimeSunRise</th>\n",
       "      <th>TimeSunSet</th>\n",
       "      <th>Radiation</th>\n",
       "      <th>unixdiff_hrs</th>\n",
       "      <th>st_end_days</th>\n",
       "      <th>diff_hrs</th>\n",
       "    </tr>\n",
       "  </thead>\n",
       "  <tbody>\n",
       "    <tr>\n",
       "      <th>0</th>\n",
       "      <td>4152</td>\n",
       "      <td>2016-09-14 18:50:05</td>\n",
       "      <td>2016-09-14 00:00:00</td>\n",
       "      <td>2021-12-15 08:50:05</td>\n",
       "      <td>57</td>\n",
       "      <td>30.45</td>\n",
       "      <td>68</td>\n",
       "      <td>26.70</td>\n",
       "      <td>4.50</td>\n",
       "      <td>2021-12-15 06:10:00</td>\n",
       "      <td>2021-12-15 18:26:00</td>\n",
       "      <td>680.04</td>\n",
       "      <td>46022.0</td>\n",
       "      <td>1918.368113</td>\n",
       "      <td>12.266667</td>\n",
       "    </tr>\n",
       "    <tr>\n",
       "      <th>1</th>\n",
       "      <td>13047</td>\n",
       "      <td>2016-10-12 17:25:21</td>\n",
       "      <td>2016-10-12 00:00:00</td>\n",
       "      <td>2021-12-15 07:25:21</td>\n",
       "      <td>50</td>\n",
       "      <td>30.47</td>\n",
       "      <td>96</td>\n",
       "      <td>144.96</td>\n",
       "      <td>10.12</td>\n",
       "      <td>2021-12-15 06:16:00</td>\n",
       "      <td>2021-12-15 18:02:00</td>\n",
       "      <td>277.37</td>\n",
       "      <td>45350.0</td>\n",
       "      <td>1890.309271</td>\n",
       "      <td>11.766667</td>\n",
       "    </tr>\n",
       "    <tr>\n",
       "      <th>2</th>\n",
       "      <td>7420</td>\n",
       "      <td>2016-11-01 09:40:20</td>\n",
       "      <td>2016-10-31 00:00:00</td>\n",
       "      <td>2021-12-15 23:40:20</td>\n",
       "      <td>47</td>\n",
       "      <td>30.48</td>\n",
       "      <td>56</td>\n",
       "      <td>119.52</td>\n",
       "      <td>3.37</td>\n",
       "      <td>2021-12-15 06:23:00</td>\n",
       "      <td>2021-12-15 17:49:00</td>\n",
       "      <td>1.29</td>\n",
       "      <td>44894.0</td>\n",
       "      <td>1871.986343</td>\n",
       "      <td>11.433333</td>\n",
       "    </tr>\n",
       "    <tr>\n",
       "      <th>3</th>\n",
       "      <td>6508</td>\n",
       "      <td>2016-09-04 18:25:05</td>\n",
       "      <td>2016-09-04 00:00:00</td>\n",
       "      <td>2021-12-15 08:25:05</td>\n",
       "      <td>57</td>\n",
       "      <td>30.47</td>\n",
       "      <td>93</td>\n",
       "      <td>38.61</td>\n",
       "      <td>2.25</td>\n",
       "      <td>2021-12-15 06:08:00</td>\n",
       "      <td>2021-12-15 18:35:00</td>\n",
       "      <td>544.75</td>\n",
       "      <td>46262.0</td>\n",
       "      <td>1928.350752</td>\n",
       "      <td>12.450000</td>\n",
       "    </tr>\n",
       "    <tr>\n",
       "      <th>4</th>\n",
       "      <td>29110</td>\n",
       "      <td>2016-12-16 10:50:34</td>\n",
       "      <td>2016-12-16 00:00:00</td>\n",
       "      <td>2021-12-15 00:50:34</td>\n",
       "      <td>41</td>\n",
       "      <td>30.23</td>\n",
       "      <td>103</td>\n",
       "      <td>177.55</td>\n",
       "      <td>2.25</td>\n",
       "      <td>2021-12-15 06:50:00</td>\n",
       "      <td>2021-12-15 17:46:00</td>\n",
       "      <td>1.22</td>\n",
       "      <td>43790.0</td>\n",
       "      <td>1825.035116</td>\n",
       "      <td>10.933333</td>\n",
       "    </tr>\n",
       "    <tr>\n",
       "      <th>...</th>\n",
       "      <td>...</td>\n",
       "      <td>...</td>\n",
       "      <td>...</td>\n",
       "      <td>...</td>\n",
       "      <td>...</td>\n",
       "      <td>...</td>\n",
       "      <td>...</td>\n",
       "      <td>...</td>\n",
       "      <td>...</td>\n",
       "      <td>...</td>\n",
       "      <td>...</td>\n",
       "      <td>...</td>\n",
       "      <td>...</td>\n",
       "      <td>...</td>\n",
       "      <td>...</td>\n",
       "    </tr>\n",
       "    <tr>\n",
       "      <th>26143</th>\n",
       "      <td>29802</td>\n",
       "      <td>2016-12-14 00:45:09</td>\n",
       "      <td>2016-12-13 00:00:00</td>\n",
       "      <td>2021-12-15 14:45:09</td>\n",
       "      <td>50</td>\n",
       "      <td>30.28</td>\n",
       "      <td>96</td>\n",
       "      <td>304.22</td>\n",
       "      <td>12.37</td>\n",
       "      <td>2021-12-15 06:48:00</td>\n",
       "      <td>2021-12-15 17:45:00</td>\n",
       "      <td>216.29</td>\n",
       "      <td>43862.0</td>\n",
       "      <td>1828.614687</td>\n",
       "      <td>10.950000</td>\n",
       "    </tr>\n",
       "    <tr>\n",
       "      <th>26144</th>\n",
       "      <td>5390</td>\n",
       "      <td>2016-09-09 13:00:25</td>\n",
       "      <td>2016-09-09 00:00:00</td>\n",
       "      <td>2021-12-15 03:00:25</td>\n",
       "      <td>44</td>\n",
       "      <td>30.37</td>\n",
       "      <td>100</td>\n",
       "      <td>162.80</td>\n",
       "      <td>3.37</td>\n",
       "      <td>2021-12-15 06:09:00</td>\n",
       "      <td>2021-12-15 18:31:00</td>\n",
       "      <td>1.47</td>\n",
       "      <td>46142.0</td>\n",
       "      <td>1923.125289</td>\n",
       "      <td>12.366667</td>\n",
       "    </tr>\n",
       "    <tr>\n",
       "      <th>26145</th>\n",
       "      <td>860</td>\n",
       "      <td>2016-09-27 08:55:19</td>\n",
       "      <td>2016-09-26 00:00:00</td>\n",
       "      <td>2021-12-15 22:55:19</td>\n",
       "      <td>48</td>\n",
       "      <td>30.42</td>\n",
       "      <td>64</td>\n",
       "      <td>158.90</td>\n",
       "      <td>4.50</td>\n",
       "      <td>2021-12-15 06:12:00</td>\n",
       "      <td>2021-12-15 18:15:00</td>\n",
       "      <td>1.20</td>\n",
       "      <td>45734.0</td>\n",
       "      <td>1906.955081</td>\n",
       "      <td>12.050000</td>\n",
       "    </tr>\n",
       "    <tr>\n",
       "      <th>26146</th>\n",
       "      <td>15795</td>\n",
       "      <td>2016-10-02 23:30:21</td>\n",
       "      <td>2016-10-02 00:00:00</td>\n",
       "      <td>2021-12-15 13:30:21</td>\n",
       "      <td>56</td>\n",
       "      <td>30.42</td>\n",
       "      <td>99</td>\n",
       "      <td>55.72</td>\n",
       "      <td>13.50</td>\n",
       "      <td>2021-12-15 06:14:00</td>\n",
       "      <td>2021-12-15 18:10:00</td>\n",
       "      <td>659.12</td>\n",
       "      <td>45590.0</td>\n",
       "      <td>1900.562743</td>\n",
       "      <td>11.933333</td>\n",
       "    </tr>\n",
       "    <tr>\n",
       "      <th>26147</th>\n",
       "      <td>23654</td>\n",
       "      <td>2016-11-04 10:35:21</td>\n",
       "      <td>2016-11-04 00:00:00</td>\n",
       "      <td>2021-12-15 00:35:21</td>\n",
       "      <td>45</td>\n",
       "      <td>30.45</td>\n",
       "      <td>56</td>\n",
       "      <td>136.11</td>\n",
       "      <td>5.62</td>\n",
       "      <td>2021-12-15 06:25:00</td>\n",
       "      <td>2021-12-15 17:47:00</td>\n",
       "      <td>1.18</td>\n",
       "      <td>44798.0</td>\n",
       "      <td>1867.024549</td>\n",
       "      <td>11.366667</td>\n",
       "    </tr>\n",
       "  </tbody>\n",
       "</table>\n",
       "<p>26148 rows × 15 columns</p>\n",
       "</div>"
      ],
      "text/plain": [
       "          Id             UNIXTime                 Data                 Time  \\\n",
       "0       4152  2016-09-14 18:50:05  2016-09-14 00:00:00  2021-12-15 08:50:05   \n",
       "1      13047  2016-10-12 17:25:21  2016-10-12 00:00:00  2021-12-15 07:25:21   \n",
       "2       7420  2016-11-01 09:40:20  2016-10-31 00:00:00  2021-12-15 23:40:20   \n",
       "3       6508  2016-09-04 18:25:05  2016-09-04 00:00:00  2021-12-15 08:25:05   \n",
       "4      29110  2016-12-16 10:50:34  2016-12-16 00:00:00  2021-12-15 00:50:34   \n",
       "...      ...                  ...                  ...                  ...   \n",
       "26143  29802  2016-12-14 00:45:09  2016-12-13 00:00:00  2021-12-15 14:45:09   \n",
       "26144   5390  2016-09-09 13:00:25  2016-09-09 00:00:00  2021-12-15 03:00:25   \n",
       "26145    860  2016-09-27 08:55:19  2016-09-26 00:00:00  2021-12-15 22:55:19   \n",
       "26146  15795  2016-10-02 23:30:21  2016-10-02 00:00:00  2021-12-15 13:30:21   \n",
       "26147  23654  2016-11-04 10:35:21  2016-11-04 00:00:00  2021-12-15 00:35:21   \n",
       "\n",
       "       Temperature  Pressure  Humidity  WindDirection(Degrees)  Speed  \\\n",
       "0               57     30.45        68                   26.70   4.50   \n",
       "1               50     30.47        96                  144.96  10.12   \n",
       "2               47     30.48        56                  119.52   3.37   \n",
       "3               57     30.47        93                   38.61   2.25   \n",
       "4               41     30.23       103                  177.55   2.25   \n",
       "...            ...       ...       ...                     ...    ...   \n",
       "26143           50     30.28        96                  304.22  12.37   \n",
       "26144           44     30.37       100                  162.80   3.37   \n",
       "26145           48     30.42        64                  158.90   4.50   \n",
       "26146           56     30.42        99                   55.72  13.50   \n",
       "26147           45     30.45        56                  136.11   5.62   \n",
       "\n",
       "               TimeSunRise           TimeSunSet  Radiation  unixdiff_hrs  \\\n",
       "0      2021-12-15 06:10:00  2021-12-15 18:26:00     680.04       46022.0   \n",
       "1      2021-12-15 06:16:00  2021-12-15 18:02:00     277.37       45350.0   \n",
       "2      2021-12-15 06:23:00  2021-12-15 17:49:00       1.29       44894.0   \n",
       "3      2021-12-15 06:08:00  2021-12-15 18:35:00     544.75       46262.0   \n",
       "4      2021-12-15 06:50:00  2021-12-15 17:46:00       1.22       43790.0   \n",
       "...                    ...                  ...        ...           ...   \n",
       "26143  2021-12-15 06:48:00  2021-12-15 17:45:00     216.29       43862.0   \n",
       "26144  2021-12-15 06:09:00  2021-12-15 18:31:00       1.47       46142.0   \n",
       "26145  2021-12-15 06:12:00  2021-12-15 18:15:00       1.20       45734.0   \n",
       "26146  2021-12-15 06:14:00  2021-12-15 18:10:00     659.12       45590.0   \n",
       "26147  2021-12-15 06:25:00  2021-12-15 17:47:00       1.18       44798.0   \n",
       "\n",
       "       st_end_days   diff_hrs  \n",
       "0      1918.368113  12.266667  \n",
       "1      1890.309271  11.766667  \n",
       "2      1871.986343  11.433333  \n",
       "3      1928.350752  12.450000  \n",
       "4      1825.035116  10.933333  \n",
       "...            ...        ...  \n",
       "26143  1828.614687  10.950000  \n",
       "26144  1923.125289  12.366667  \n",
       "26145  1906.955081  12.050000  \n",
       "26146  1900.562743  11.933333  \n",
       "26147  1867.024549  11.366667  \n",
       "\n",
       "[26148 rows x 15 columns]"
      ]
     },
     "execution_count": 154,
     "metadata": {},
     "output_type": "execute_result"
    }
   ],
   "source": [
    "train = pd.read_csv('train_radiationclean.csv', index_col=0)\n",
    "train"
   ]
  },
  {
   "cell_type": "code",
   "execution_count": 155,
   "id": "1b2429ab",
   "metadata": {
    "ExecuteTime": {
     "end_time": "2021-12-15T10:12:13.535160Z",
     "start_time": "2021-12-15T10:12:13.415338Z"
    }
   },
   "outputs": [
    {
     "data": {
      "text/html": [
       "<div>\n",
       "<style scoped>\n",
       "    .dataframe tbody tr th:only-of-type {\n",
       "        vertical-align: middle;\n",
       "    }\n",
       "\n",
       "    .dataframe tbody tr th {\n",
       "        vertical-align: top;\n",
       "    }\n",
       "\n",
       "    .dataframe thead th {\n",
       "        text-align: right;\n",
       "    }\n",
       "</style>\n",
       "<table border=\"1\" class=\"dataframe\">\n",
       "  <thead>\n",
       "    <tr style=\"text-align: right;\">\n",
       "      <th></th>\n",
       "      <th>Id</th>\n",
       "      <th>UNIXTime</th>\n",
       "      <th>Data</th>\n",
       "      <th>Time</th>\n",
       "      <th>Temperature</th>\n",
       "      <th>Pressure</th>\n",
       "      <th>Humidity</th>\n",
       "      <th>WindDirection(Degrees)</th>\n",
       "      <th>Speed</th>\n",
       "      <th>TimeSunRise</th>\n",
       "      <th>TimeSunSet</th>\n",
       "      <th>unixdiff_hrs</th>\n",
       "      <th>st_end_days</th>\n",
       "      <th>diff_hrs</th>\n",
       "    </tr>\n",
       "  </thead>\n",
       "  <tbody>\n",
       "    <tr>\n",
       "      <th>0</th>\n",
       "      <td>22107</td>\n",
       "      <td>2016-11-09 19:35:07</td>\n",
       "      <td>2016-11-09 00:00:00</td>\n",
       "      <td>2021-12-15 09:35:07</td>\n",
       "      <td>59</td>\n",
       "      <td>30.47</td>\n",
       "      <td>44</td>\n",
       "      <td>312.67</td>\n",
       "      <td>3.37</td>\n",
       "      <td>2021-12-15 06:28:00</td>\n",
       "      <td>2021-12-15 17:45:00</td>\n",
       "      <td>44678.0</td>\n",
       "      <td>1862.399387</td>\n",
       "      <td>11.283333</td>\n",
       "    </tr>\n",
       "    <tr>\n",
       "      <th>1</th>\n",
       "      <td>3780</td>\n",
       "      <td>2016-09-16 22:05:03</td>\n",
       "      <td>2016-09-16 00:00:00</td>\n",
       "      <td>2021-12-15 12:05:03</td>\n",
       "      <td>59</td>\n",
       "      <td>30.48</td>\n",
       "      <td>83</td>\n",
       "      <td>38.01</td>\n",
       "      <td>6.75</td>\n",
       "      <td>2021-12-15 06:10:00</td>\n",
       "      <td>2021-12-15 18:25:00</td>\n",
       "      <td>45974.0</td>\n",
       "      <td>1916.503507</td>\n",
       "      <td>12.250000</td>\n",
       "    </tr>\n",
       "    <tr>\n",
       "      <th>2</th>\n",
       "      <td>13651</td>\n",
       "      <td>2016-10-10 14:20:21</td>\n",
       "      <td>2016-10-10 00:00:00</td>\n",
       "      <td>2021-12-15 04:20:21</td>\n",
       "      <td>47</td>\n",
       "      <td>30.39</td>\n",
       "      <td>78</td>\n",
       "      <td>213.62</td>\n",
       "      <td>5.62</td>\n",
       "      <td>2021-12-15 06:16:00</td>\n",
       "      <td>2021-12-15 18:03:00</td>\n",
       "      <td>45398.0</td>\n",
       "      <td>1892.180799</td>\n",
       "      <td>11.783333</td>\n",
       "    </tr>\n",
       "    <tr>\n",
       "      <th>3</th>\n",
       "      <td>30473</td>\n",
       "      <td>2016-12-11 16:50:56</td>\n",
       "      <td>2016-12-11 00:00:00</td>\n",
       "      <td>2021-12-15 06:50:56</td>\n",
       "      <td>45</td>\n",
       "      <td>30.40</td>\n",
       "      <td>98</td>\n",
       "      <td>176.63</td>\n",
       "      <td>4.50</td>\n",
       "      <td>2021-12-15 06:47:00</td>\n",
       "      <td>2021-12-15 17:44:00</td>\n",
       "      <td>43910.0</td>\n",
       "      <td>1830.285370</td>\n",
       "      <td>10.950000</td>\n",
       "    </tr>\n",
       "    <tr>\n",
       "      <th>4</th>\n",
       "      <td>9084</td>\n",
       "      <td>2016-10-26 14:45:17</td>\n",
       "      <td>2016-10-26 00:00:00</td>\n",
       "      <td>2021-12-15 04:45:17</td>\n",
       "      <td>45</td>\n",
       "      <td>30.40</td>\n",
       "      <td>34</td>\n",
       "      <td>175.89</td>\n",
       "      <td>6.75</td>\n",
       "      <td>2021-12-15 06:21:00</td>\n",
       "      <td>2021-12-15 17:52:00</td>\n",
       "      <td>45014.0</td>\n",
       "      <td>1876.198113</td>\n",
       "      <td>11.516667</td>\n",
       "    </tr>\n",
       "    <tr>\n",
       "      <th>...</th>\n",
       "      <td>...</td>\n",
       "      <td>...</td>\n",
       "      <td>...</td>\n",
       "      <td>...</td>\n",
       "      <td>...</td>\n",
       "      <td>...</td>\n",
       "      <td>...</td>\n",
       "      <td>...</td>\n",
       "      <td>...</td>\n",
       "      <td>...</td>\n",
       "      <td>...</td>\n",
       "      <td>...</td>\n",
       "      <td>...</td>\n",
       "      <td>...</td>\n",
       "    </tr>\n",
       "    <tr>\n",
       "      <th>6533</th>\n",
       "      <td>23966</td>\n",
       "      <td>2016-11-03 08:25:18</td>\n",
       "      <td>2016-11-02 00:00:00</td>\n",
       "      <td>2021-12-15 22:25:18</td>\n",
       "      <td>46</td>\n",
       "      <td>30.46</td>\n",
       "      <td>38</td>\n",
       "      <td>176.09</td>\n",
       "      <td>9.00</td>\n",
       "      <td>2021-12-15 06:24:00</td>\n",
       "      <td>2021-12-15 17:48:00</td>\n",
       "      <td>44846.0</td>\n",
       "      <td>1869.934236</td>\n",
       "      <td>11.400000</td>\n",
       "    </tr>\n",
       "    <tr>\n",
       "      <th>6534</th>\n",
       "      <td>3827</td>\n",
       "      <td>2016-09-16 17:55:30</td>\n",
       "      <td>2016-09-16 00:00:00</td>\n",
       "      <td>2021-12-15 07:55:30</td>\n",
       "      <td>51</td>\n",
       "      <td>30.45</td>\n",
       "      <td>100</td>\n",
       "      <td>31.25</td>\n",
       "      <td>13.50</td>\n",
       "      <td>2021-12-15 06:10:00</td>\n",
       "      <td>2021-12-15 18:25:00</td>\n",
       "      <td>45974.0</td>\n",
       "      <td>1916.330208</td>\n",
       "      <td>12.250000</td>\n",
       "    </tr>\n",
       "    <tr>\n",
       "      <th>6535</th>\n",
       "      <td>3350</td>\n",
       "      <td>2016-09-18 11:25:08</td>\n",
       "      <td>2016-09-18 00:00:00</td>\n",
       "      <td>2021-12-15 01:25:08</td>\n",
       "      <td>51</td>\n",
       "      <td>30.46</td>\n",
       "      <td>89</td>\n",
       "      <td>147.11</td>\n",
       "      <td>7.87</td>\n",
       "      <td>2021-12-15 06:11:00</td>\n",
       "      <td>2021-12-15 18:23:00</td>\n",
       "      <td>45926.0</td>\n",
       "      <td>1914.059120</td>\n",
       "      <td>12.200000</td>\n",
       "    </tr>\n",
       "    <tr>\n",
       "      <th>6536</th>\n",
       "      <td>29471</td>\n",
       "      <td>2016-12-15 04:30:04</td>\n",
       "      <td>2016-12-14 00:00:00</td>\n",
       "      <td>2021-12-15 18:30:04</td>\n",
       "      <td>47</td>\n",
       "      <td>30.27</td>\n",
       "      <td>54</td>\n",
       "      <td>231.71</td>\n",
       "      <td>6.75</td>\n",
       "      <td>2021-12-15 06:49:00</td>\n",
       "      <td>2021-12-15 17:46:00</td>\n",
       "      <td>43838.0</td>\n",
       "      <td>1827.770880</td>\n",
       "      <td>10.950000</td>\n",
       "    </tr>\n",
       "    <tr>\n",
       "      <th>6537</th>\n",
       "      <td>20894</td>\n",
       "      <td>2016-11-14 00:40:02</td>\n",
       "      <td>2016-11-13 00:00:00</td>\n",
       "      <td>2021-12-15 14:40:02</td>\n",
       "      <td>58</td>\n",
       "      <td>30.42</td>\n",
       "      <td>65</td>\n",
       "      <td>72.40</td>\n",
       "      <td>10.12</td>\n",
       "      <td>2021-12-15 06:30:00</td>\n",
       "      <td>2021-12-15 17:44:00</td>\n",
       "      <td>44582.0</td>\n",
       "      <td>1858.611134</td>\n",
       "      <td>11.233333</td>\n",
       "    </tr>\n",
       "  </tbody>\n",
       "</table>\n",
       "<p>6538 rows × 14 columns</p>\n",
       "</div>"
      ],
      "text/plain": [
       "         Id             UNIXTime                 Data                 Time  \\\n",
       "0     22107  2016-11-09 19:35:07  2016-11-09 00:00:00  2021-12-15 09:35:07   \n",
       "1      3780  2016-09-16 22:05:03  2016-09-16 00:00:00  2021-12-15 12:05:03   \n",
       "2     13651  2016-10-10 14:20:21  2016-10-10 00:00:00  2021-12-15 04:20:21   \n",
       "3     30473  2016-12-11 16:50:56  2016-12-11 00:00:00  2021-12-15 06:50:56   \n",
       "4      9084  2016-10-26 14:45:17  2016-10-26 00:00:00  2021-12-15 04:45:17   \n",
       "...     ...                  ...                  ...                  ...   \n",
       "6533  23966  2016-11-03 08:25:18  2016-11-02 00:00:00  2021-12-15 22:25:18   \n",
       "6534   3827  2016-09-16 17:55:30  2016-09-16 00:00:00  2021-12-15 07:55:30   \n",
       "6535   3350  2016-09-18 11:25:08  2016-09-18 00:00:00  2021-12-15 01:25:08   \n",
       "6536  29471  2016-12-15 04:30:04  2016-12-14 00:00:00  2021-12-15 18:30:04   \n",
       "6537  20894  2016-11-14 00:40:02  2016-11-13 00:00:00  2021-12-15 14:40:02   \n",
       "\n",
       "      Temperature  Pressure  Humidity  WindDirection(Degrees)  Speed  \\\n",
       "0              59     30.47        44                  312.67   3.37   \n",
       "1              59     30.48        83                   38.01   6.75   \n",
       "2              47     30.39        78                  213.62   5.62   \n",
       "3              45     30.40        98                  176.63   4.50   \n",
       "4              45     30.40        34                  175.89   6.75   \n",
       "...           ...       ...       ...                     ...    ...   \n",
       "6533           46     30.46        38                  176.09   9.00   \n",
       "6534           51     30.45       100                   31.25  13.50   \n",
       "6535           51     30.46        89                  147.11   7.87   \n",
       "6536           47     30.27        54                  231.71   6.75   \n",
       "6537           58     30.42        65                   72.40  10.12   \n",
       "\n",
       "              TimeSunRise           TimeSunSet  unixdiff_hrs  st_end_days  \\\n",
       "0     2021-12-15 06:28:00  2021-12-15 17:45:00       44678.0  1862.399387   \n",
       "1     2021-12-15 06:10:00  2021-12-15 18:25:00       45974.0  1916.503507   \n",
       "2     2021-12-15 06:16:00  2021-12-15 18:03:00       45398.0  1892.180799   \n",
       "3     2021-12-15 06:47:00  2021-12-15 17:44:00       43910.0  1830.285370   \n",
       "4     2021-12-15 06:21:00  2021-12-15 17:52:00       45014.0  1876.198113   \n",
       "...                   ...                  ...           ...          ...   \n",
       "6533  2021-12-15 06:24:00  2021-12-15 17:48:00       44846.0  1869.934236   \n",
       "6534  2021-12-15 06:10:00  2021-12-15 18:25:00       45974.0  1916.330208   \n",
       "6535  2021-12-15 06:11:00  2021-12-15 18:23:00       45926.0  1914.059120   \n",
       "6536  2021-12-15 06:49:00  2021-12-15 17:46:00       43838.0  1827.770880   \n",
       "6537  2021-12-15 06:30:00  2021-12-15 17:44:00       44582.0  1858.611134   \n",
       "\n",
       "       diff_hrs  \n",
       "0     11.283333  \n",
       "1     12.250000  \n",
       "2     11.783333  \n",
       "3     10.950000  \n",
       "4     11.516667  \n",
       "...         ...  \n",
       "6533  11.400000  \n",
       "6534  12.250000  \n",
       "6535  12.200000  \n",
       "6536  10.950000  \n",
       "6537  11.233333  \n",
       "\n",
       "[6538 rows x 14 columns]"
      ]
     },
     "execution_count": 155,
     "metadata": {},
     "output_type": "execute_result"
    }
   ],
   "source": [
    "test = pd.read_csv(\"test_radiationclean.csv\", index_col = 0)\n",
    "test"
   ]
  },
  {
   "cell_type": "code",
   "execution_count": 156,
   "id": "fbcf8314",
   "metadata": {
    "ExecuteTime": {
     "end_time": "2021-12-15T10:12:13.657573Z",
     "start_time": "2021-12-15T10:12:13.539150Z"
    }
   },
   "outputs": [
    {
     "data": {
      "text/plain": [
       "Index(['Id', 'UNIXTime', 'Data', 'Time', 'Temperature', 'Pressure', 'Humidity',\n",
       "       'WindDirection(Degrees)', 'Speed', 'TimeSunRise', 'TimeSunSet',\n",
       "       'Radiation', 'unixdiff_hrs', 'st_end_days', 'diff_hrs'],\n",
       "      dtype='object')"
      ]
     },
     "execution_count": 156,
     "metadata": {},
     "output_type": "execute_result"
    }
   ],
   "source": [
    "train.columns"
   ]
  },
  {
   "cell_type": "code",
   "execution_count": 157,
   "id": "74f89b2b",
   "metadata": {
    "ExecuteTime": {
     "end_time": "2021-12-15T10:12:13.889241Z",
     "start_time": "2021-12-15T10:12:13.660532Z"
    }
   },
   "outputs": [],
   "source": [
    "train.drop(\"Id\", axis = 1, inplace = True)\n",
    "test.drop(\"Id\", axis = 1, inplace = True)"
   ]
  },
  {
   "cell_type": "code",
   "execution_count": 158,
   "id": "baff6183",
   "metadata": {
    "ExecuteTime": {
     "end_time": "2021-12-15T10:12:14.104557Z",
     "start_time": "2021-12-15T10:12:13.898218Z"
    }
   },
   "outputs": [],
   "source": [
    "# Numeric columns\n",
    "train_numcols = [\n",
    "    'Temperature', 'Pressure', 'Humidity',\n",
    "    'WindDirection(Degrees)', 'Speed', 'Radiation', \n",
    "    'unixdiff_hrs', 'st_end_days', 'diff_hrs'\n",
    "]"
   ]
  },
  {
   "cell_type": "code",
   "execution_count": 159,
   "id": "ac2f47b7",
   "metadata": {
    "ExecuteTime": {
     "end_time": "2021-12-15T10:12:14.325847Z",
     "start_time": "2021-12-15T10:12:14.112535Z"
    }
   },
   "outputs": [],
   "source": [
    "# Numeric columns\n",
    "test_numcols = [\n",
    "    'Temperature', 'Pressure', 'Humidity',\n",
    "    'WindDirection(Degrees)', 'Speed', \n",
    "    'unixdiff_hrs', 'st_end_days', 'diff_hrs'\n",
    "]"
   ]
  },
  {
   "cell_type": "code",
   "execution_count": 160,
   "id": "f25f11fc",
   "metadata": {
    "ExecuteTime": {
     "end_time": "2021-12-15T10:12:14.589697Z",
     "start_time": "2021-12-15T10:12:14.329833Z"
    }
   },
   "outputs": [],
   "source": [
    "# List down binary variables. They can be treated as numericals by tree based algorithms\n",
    "binary_columns = [c for c in train.columns if train[c].nunique() == 2]"
   ]
  },
  {
   "cell_type": "code",
   "execution_count": 161,
   "id": "26c7fe32",
   "metadata": {
    "ExecuteTime": {
     "end_time": "2021-12-15T10:12:14.684632Z",
     "start_time": "2021-12-15T10:12:14.592693Z"
    }
   },
   "outputs": [
    {
     "data": {
      "text/plain": [
       "['UNIXTime', 'Data', 'Time', 'TimeSunRise', 'TimeSunSet']"
      ]
     },
     "execution_count": 161,
     "metadata": {},
     "output_type": "execute_result"
    }
   ],
   "source": [
    "# Finally create a list of categorical columns\n",
    "# Categorical columns\n",
    "categorical_columns = [c for c in train.columns \n",
    "                       if (c not in train_numcols) & (c not in binary_columns)]\n",
    "categorical_columns"
   ]
  },
  {
   "cell_type": "code",
   "execution_count": 162,
   "id": "1f622aa3",
   "metadata": {
    "ExecuteTime": {
     "end_time": "2021-12-15T10:12:14.842612Z",
     "start_time": "2021-12-15T10:12:14.692616Z"
    }
   },
   "outputs": [
    {
     "name": "stdout",
     "output_type": "stream",
     "text": [
      "No of cols having binary values : - 0\n",
      "No of cols having more than binary :-  5\n",
      "No of cols having numerical values :-  9\n",
      "shape of the dataset =  14\n"
     ]
    }
   ],
   "source": [
    "print(\"No of cols having binary values : -\", len(binary_columns))\n",
    "print(\"No of cols having more than binary :- \", len(categorical_columns))\n",
    "print(\"No of cols having numerical values :- \", len(train_numcols))\n",
    "print(\"shape of the dataset = \", train.shape[1])"
   ]
  },
  {
   "cell_type": "code",
   "execution_count": 163,
   "id": "a4f2d3ba",
   "metadata": {
    "ExecuteTime": {
     "end_time": "2021-12-15T10:12:15.137249Z",
     "start_time": "2021-12-15T10:12:14.846598Z"
    }
   },
   "outputs": [
    {
     "name": "stdout",
     "output_type": "stream",
     "text": [
      "\n",
      "shape of the TESTING dataset =  13\n",
      "No of cols having binary values : - 0\n",
      "No of cols having more than binary :-  5\n",
      "No of cols having numerical values :-  8\n"
     ]
    }
   ],
   "source": [
    "print()\n",
    "print(\"shape of the TESTING dataset = \", test.shape[1])\n",
    "print(\"No of cols having binary values : -\", len(binary_columns))\n",
    "print(\"No of cols having more than binary :- \", len(categorical_columns))\n",
    "print(\"No of cols having numerical values :- \", len(test_numcols))\n"
   ]
  },
  {
   "cell_type": "markdown",
   "id": "9801fa59",
   "metadata": {
    "ExecuteTime": {
     "end_time": "2021-12-14T05:21:33.681119Z",
     "start_time": "2021-12-14T05:21:33.665201Z"
    }
   },
   "source": [
    "##  6. Exploratory Data Analysis\n",
    "\n",
    " - What is EDA\n",
    " - Purpose\n",
    " - Advantages and Importance\n",
    "\n",
    "\n",
    "Exploratory data analysis is an approach to analyze data sets to find out patterns, insights and see if any of the variables can be useful in predicting the y variables. Visual methods are often used to summarize the data. Primarily EDA is for seeing what the data can tell us beyond the formal modeling or hypothesis testing tasks.\n",
    "\n",
    "\n",
    "\n",
    "The goal of this section is to:\n",
    "- Check proportion of columns by data type\n",
    "- Encoding the categorical features\n",
    "- Check if the target variable is balanced or is there a need to balance the target variable\n",
    "- Understand the correlation of various features with each other, so that you understand which variables might be giving same information\n",
    "- Get insights or relationships from the data which may be useful from business perspective\n",
    "- Perform statistical significance test for categorical features\n",
    "\n",
    "### Check proportion of columns by data type"
   ]
  },
  {
   "cell_type": "code",
   "execution_count": 164,
   "id": "29d7222e",
   "metadata": {
    "ExecuteTime": {
     "end_time": "2021-12-15T10:12:15.387192Z",
     "start_time": "2021-12-15T10:12:15.143225Z"
    }
   },
   "outputs": [
    {
     "data": {
      "application/vnd.plotly.v1+json": {
       "config": {
        "linkText": "Export to plot.ly",
        "plotlyServerURL": "https://plot.ly",
        "showLink": false
       },
       "data": [
        {
         "labels": [
          "categorical_columns",
          "train_numcols"
         ],
         "type": "pie",
         "values": [
          5,
          9
         ]
        }
       ],
       "layout": {
        "height": 400,
        "template": {
         "data": {
          "bar": [
           {
            "error_x": {
             "color": "#2a3f5f"
            },
            "error_y": {
             "color": "#2a3f5f"
            },
            "marker": {
             "line": {
              "color": "#E5ECF6",
              "width": 0.5
             },
             "pattern": {
              "fillmode": "overlay",
              "size": 10,
              "solidity": 0.2
             }
            },
            "type": "bar"
           }
          ],
          "barpolar": [
           {
            "marker": {
             "line": {
              "color": "#E5ECF6",
              "width": 0.5
             },
             "pattern": {
              "fillmode": "overlay",
              "size": 10,
              "solidity": 0.2
             }
            },
            "type": "barpolar"
           }
          ],
          "carpet": [
           {
            "aaxis": {
             "endlinecolor": "#2a3f5f",
             "gridcolor": "white",
             "linecolor": "white",
             "minorgridcolor": "white",
             "startlinecolor": "#2a3f5f"
            },
            "baxis": {
             "endlinecolor": "#2a3f5f",
             "gridcolor": "white",
             "linecolor": "white",
             "minorgridcolor": "white",
             "startlinecolor": "#2a3f5f"
            },
            "type": "carpet"
           }
          ],
          "choropleth": [
           {
            "colorbar": {
             "outlinewidth": 0,
             "ticks": ""
            },
            "type": "choropleth"
           }
          ],
          "contour": [
           {
            "colorbar": {
             "outlinewidth": 0,
             "ticks": ""
            },
            "colorscale": [
             [
              0,
              "#0d0887"
             ],
             [
              0.1111111111111111,
              "#46039f"
             ],
             [
              0.2222222222222222,
              "#7201a8"
             ],
             [
              0.3333333333333333,
              "#9c179e"
             ],
             [
              0.4444444444444444,
              "#bd3786"
             ],
             [
              0.5555555555555556,
              "#d8576b"
             ],
             [
              0.6666666666666666,
              "#ed7953"
             ],
             [
              0.7777777777777778,
              "#fb9f3a"
             ],
             [
              0.8888888888888888,
              "#fdca26"
             ],
             [
              1,
              "#f0f921"
             ]
            ],
            "type": "contour"
           }
          ],
          "contourcarpet": [
           {
            "colorbar": {
             "outlinewidth": 0,
             "ticks": ""
            },
            "type": "contourcarpet"
           }
          ],
          "heatmap": [
           {
            "colorbar": {
             "outlinewidth": 0,
             "ticks": ""
            },
            "colorscale": [
             [
              0,
              "#0d0887"
             ],
             [
              0.1111111111111111,
              "#46039f"
             ],
             [
              0.2222222222222222,
              "#7201a8"
             ],
             [
              0.3333333333333333,
              "#9c179e"
             ],
             [
              0.4444444444444444,
              "#bd3786"
             ],
             [
              0.5555555555555556,
              "#d8576b"
             ],
             [
              0.6666666666666666,
              "#ed7953"
             ],
             [
              0.7777777777777778,
              "#fb9f3a"
             ],
             [
              0.8888888888888888,
              "#fdca26"
             ],
             [
              1,
              "#f0f921"
             ]
            ],
            "type": "heatmap"
           }
          ],
          "heatmapgl": [
           {
            "colorbar": {
             "outlinewidth": 0,
             "ticks": ""
            },
            "colorscale": [
             [
              0,
              "#0d0887"
             ],
             [
              0.1111111111111111,
              "#46039f"
             ],
             [
              0.2222222222222222,
              "#7201a8"
             ],
             [
              0.3333333333333333,
              "#9c179e"
             ],
             [
              0.4444444444444444,
              "#bd3786"
             ],
             [
              0.5555555555555556,
              "#d8576b"
             ],
             [
              0.6666666666666666,
              "#ed7953"
             ],
             [
              0.7777777777777778,
              "#fb9f3a"
             ],
             [
              0.8888888888888888,
              "#fdca26"
             ],
             [
              1,
              "#f0f921"
             ]
            ],
            "type": "heatmapgl"
           }
          ],
          "histogram": [
           {
            "marker": {
             "pattern": {
              "fillmode": "overlay",
              "size": 10,
              "solidity": 0.2
             }
            },
            "type": "histogram"
           }
          ],
          "histogram2d": [
           {
            "colorbar": {
             "outlinewidth": 0,
             "ticks": ""
            },
            "colorscale": [
             [
              0,
              "#0d0887"
             ],
             [
              0.1111111111111111,
              "#46039f"
             ],
             [
              0.2222222222222222,
              "#7201a8"
             ],
             [
              0.3333333333333333,
              "#9c179e"
             ],
             [
              0.4444444444444444,
              "#bd3786"
             ],
             [
              0.5555555555555556,
              "#d8576b"
             ],
             [
              0.6666666666666666,
              "#ed7953"
             ],
             [
              0.7777777777777778,
              "#fb9f3a"
             ],
             [
              0.8888888888888888,
              "#fdca26"
             ],
             [
              1,
              "#f0f921"
             ]
            ],
            "type": "histogram2d"
           }
          ],
          "histogram2dcontour": [
           {
            "colorbar": {
             "outlinewidth": 0,
             "ticks": ""
            },
            "colorscale": [
             [
              0,
              "#0d0887"
             ],
             [
              0.1111111111111111,
              "#46039f"
             ],
             [
              0.2222222222222222,
              "#7201a8"
             ],
             [
              0.3333333333333333,
              "#9c179e"
             ],
             [
              0.4444444444444444,
              "#bd3786"
             ],
             [
              0.5555555555555556,
              "#d8576b"
             ],
             [
              0.6666666666666666,
              "#ed7953"
             ],
             [
              0.7777777777777778,
              "#fb9f3a"
             ],
             [
              0.8888888888888888,
              "#fdca26"
             ],
             [
              1,
              "#f0f921"
             ]
            ],
            "type": "histogram2dcontour"
           }
          ],
          "mesh3d": [
           {
            "colorbar": {
             "outlinewidth": 0,
             "ticks": ""
            },
            "type": "mesh3d"
           }
          ],
          "parcoords": [
           {
            "line": {
             "colorbar": {
              "outlinewidth": 0,
              "ticks": ""
             }
            },
            "type": "parcoords"
           }
          ],
          "pie": [
           {
            "automargin": true,
            "type": "pie"
           }
          ],
          "scatter": [
           {
            "marker": {
             "colorbar": {
              "outlinewidth": 0,
              "ticks": ""
             }
            },
            "type": "scatter"
           }
          ],
          "scatter3d": [
           {
            "line": {
             "colorbar": {
              "outlinewidth": 0,
              "ticks": ""
             }
            },
            "marker": {
             "colorbar": {
              "outlinewidth": 0,
              "ticks": ""
             }
            },
            "type": "scatter3d"
           }
          ],
          "scattercarpet": [
           {
            "marker": {
             "colorbar": {
              "outlinewidth": 0,
              "ticks": ""
             }
            },
            "type": "scattercarpet"
           }
          ],
          "scattergeo": [
           {
            "marker": {
             "colorbar": {
              "outlinewidth": 0,
              "ticks": ""
             }
            },
            "type": "scattergeo"
           }
          ],
          "scattergl": [
           {
            "marker": {
             "colorbar": {
              "outlinewidth": 0,
              "ticks": ""
             }
            },
            "type": "scattergl"
           }
          ],
          "scattermapbox": [
           {
            "marker": {
             "colorbar": {
              "outlinewidth": 0,
              "ticks": ""
             }
            },
            "type": "scattermapbox"
           }
          ],
          "scatterpolar": [
           {
            "marker": {
             "colorbar": {
              "outlinewidth": 0,
              "ticks": ""
             }
            },
            "type": "scatterpolar"
           }
          ],
          "scatterpolargl": [
           {
            "marker": {
             "colorbar": {
              "outlinewidth": 0,
              "ticks": ""
             }
            },
            "type": "scatterpolargl"
           }
          ],
          "scatterternary": [
           {
            "marker": {
             "colorbar": {
              "outlinewidth": 0,
              "ticks": ""
             }
            },
            "type": "scatterternary"
           }
          ],
          "surface": [
           {
            "colorbar": {
             "outlinewidth": 0,
             "ticks": ""
            },
            "colorscale": [
             [
              0,
              "#0d0887"
             ],
             [
              0.1111111111111111,
              "#46039f"
             ],
             [
              0.2222222222222222,
              "#7201a8"
             ],
             [
              0.3333333333333333,
              "#9c179e"
             ],
             [
              0.4444444444444444,
              "#bd3786"
             ],
             [
              0.5555555555555556,
              "#d8576b"
             ],
             [
              0.6666666666666666,
              "#ed7953"
             ],
             [
              0.7777777777777778,
              "#fb9f3a"
             ],
             [
              0.8888888888888888,
              "#fdca26"
             ],
             [
              1,
              "#f0f921"
             ]
            ],
            "type": "surface"
           }
          ],
          "table": [
           {
            "cells": {
             "fill": {
              "color": "#EBF0F8"
             },
             "line": {
              "color": "white"
             }
            },
            "header": {
             "fill": {
              "color": "#C8D4E3"
             },
             "line": {
              "color": "white"
             }
            },
            "type": "table"
           }
          ]
         },
         "layout": {
          "annotationdefaults": {
           "arrowcolor": "#2a3f5f",
           "arrowhead": 0,
           "arrowwidth": 1
          },
          "autotypenumbers": "strict",
          "coloraxis": {
           "colorbar": {
            "outlinewidth": 0,
            "ticks": ""
           }
          },
          "colorscale": {
           "diverging": [
            [
             0,
             "#8e0152"
            ],
            [
             0.1,
             "#c51b7d"
            ],
            [
             0.2,
             "#de77ae"
            ],
            [
             0.3,
             "#f1b6da"
            ],
            [
             0.4,
             "#fde0ef"
            ],
            [
             0.5,
             "#f7f7f7"
            ],
            [
             0.6,
             "#e6f5d0"
            ],
            [
             0.7,
             "#b8e186"
            ],
            [
             0.8,
             "#7fbc41"
            ],
            [
             0.9,
             "#4d9221"
            ],
            [
             1,
             "#276419"
            ]
           ],
           "sequential": [
            [
             0,
             "#0d0887"
            ],
            [
             0.1111111111111111,
             "#46039f"
            ],
            [
             0.2222222222222222,
             "#7201a8"
            ],
            [
             0.3333333333333333,
             "#9c179e"
            ],
            [
             0.4444444444444444,
             "#bd3786"
            ],
            [
             0.5555555555555556,
             "#d8576b"
            ],
            [
             0.6666666666666666,
             "#ed7953"
            ],
            [
             0.7777777777777778,
             "#fb9f3a"
            ],
            [
             0.8888888888888888,
             "#fdca26"
            ],
            [
             1,
             "#f0f921"
            ]
           ],
           "sequentialminus": [
            [
             0,
             "#0d0887"
            ],
            [
             0.1111111111111111,
             "#46039f"
            ],
            [
             0.2222222222222222,
             "#7201a8"
            ],
            [
             0.3333333333333333,
             "#9c179e"
            ],
            [
             0.4444444444444444,
             "#bd3786"
            ],
            [
             0.5555555555555556,
             "#d8576b"
            ],
            [
             0.6666666666666666,
             "#ed7953"
            ],
            [
             0.7777777777777778,
             "#fb9f3a"
            ],
            [
             0.8888888888888888,
             "#fdca26"
            ],
            [
             1,
             "#f0f921"
            ]
           ]
          },
          "colorway": [
           "#636efa",
           "#EF553B",
           "#00cc96",
           "#ab63fa",
           "#FFA15A",
           "#19d3f3",
           "#FF6692",
           "#B6E880",
           "#FF97FF",
           "#FECB52"
          ],
          "font": {
           "color": "#2a3f5f"
          },
          "geo": {
           "bgcolor": "white",
           "lakecolor": "white",
           "landcolor": "#E5ECF6",
           "showlakes": true,
           "showland": true,
           "subunitcolor": "white"
          },
          "hoverlabel": {
           "align": "left"
          },
          "hovermode": "closest",
          "mapbox": {
           "style": "light"
          },
          "paper_bgcolor": "white",
          "plot_bgcolor": "#E5ECF6",
          "polar": {
           "angularaxis": {
            "gridcolor": "white",
            "linecolor": "white",
            "ticks": ""
           },
           "bgcolor": "#E5ECF6",
           "radialaxis": {
            "gridcolor": "white",
            "linecolor": "white",
            "ticks": ""
           }
          },
          "scene": {
           "xaxis": {
            "backgroundcolor": "#E5ECF6",
            "gridcolor": "white",
            "gridwidth": 2,
            "linecolor": "white",
            "showbackground": true,
            "ticks": "",
            "zerolinecolor": "white"
           },
           "yaxis": {
            "backgroundcolor": "#E5ECF6",
            "gridcolor": "white",
            "gridwidth": 2,
            "linecolor": "white",
            "showbackground": true,
            "ticks": "",
            "zerolinecolor": "white"
           },
           "zaxis": {
            "backgroundcolor": "#E5ECF6",
            "gridcolor": "white",
            "gridwidth": 2,
            "linecolor": "white",
            "showbackground": true,
            "ticks": "",
            "zerolinecolor": "white"
           }
          },
          "shapedefaults": {
           "line": {
            "color": "#2a3f5f"
           }
          },
          "ternary": {
           "aaxis": {
            "gridcolor": "white",
            "linecolor": "white",
            "ticks": ""
           },
           "baxis": {
            "gridcolor": "white",
            "linecolor": "white",
            "ticks": ""
           },
           "bgcolor": "#E5ECF6",
           "caxis": {
            "gridcolor": "white",
            "linecolor": "white",
            "ticks": ""
           }
          },
          "title": {
           "x": 0.05
          },
          "xaxis": {
           "automargin": true,
           "gridcolor": "white",
           "linecolor": "white",
           "ticks": "",
           "title": {
            "standoff": 15
           },
           "zerolinecolor": "white",
           "zerolinewidth": 2
          },
          "yaxis": {
           "automargin": true,
           "gridcolor": "white",
           "linecolor": "white",
           "ticks": "",
           "title": {
            "standoff": 15
           },
           "zerolinecolor": "white",
           "zerolinewidth": 2
          }
         }
        },
        "title": {
         "text": "Variable types"
        },
        "width": 800
       }
      },
      "text/html": [
       "<div>                            <div id=\"9a716403-5f90-4fc4-bd2e-ac9de059bf93\" class=\"plotly-graph-div\" style=\"height:400px; width:800px;\"></div>            <script type=\"text/javascript\">                require([\"plotly\"], function(Plotly) {                    window.PLOTLYENV=window.PLOTLYENV || {};                                    if (document.getElementById(\"9a716403-5f90-4fc4-bd2e-ac9de059bf93\")) {                    Plotly.newPlot(                        \"9a716403-5f90-4fc4-bd2e-ac9de059bf93\",                        [{\"labels\":[\"categorical_columns\",\"train_numcols\"],\"type\":\"pie\",\"values\":[5,9]}],                        {\"height\":400,\"template\":{\"data\":{\"bar\":[{\"error_x\":{\"color\":\"#2a3f5f\"},\"error_y\":{\"color\":\"#2a3f5f\"},\"marker\":{\"line\":{\"color\":\"#E5ECF6\",\"width\":0.5},\"pattern\":{\"fillmode\":\"overlay\",\"size\":10,\"solidity\":0.2}},\"type\":\"bar\"}],\"barpolar\":[{\"marker\":{\"line\":{\"color\":\"#E5ECF6\",\"width\":0.5},\"pattern\":{\"fillmode\":\"overlay\",\"size\":10,\"solidity\":0.2}},\"type\":\"barpolar\"}],\"carpet\":[{\"aaxis\":{\"endlinecolor\":\"#2a3f5f\",\"gridcolor\":\"white\",\"linecolor\":\"white\",\"minorgridcolor\":\"white\",\"startlinecolor\":\"#2a3f5f\"},\"baxis\":{\"endlinecolor\":\"#2a3f5f\",\"gridcolor\":\"white\",\"linecolor\":\"white\",\"minorgridcolor\":\"white\",\"startlinecolor\":\"#2a3f5f\"},\"type\":\"carpet\"}],\"choropleth\":[{\"colorbar\":{\"outlinewidth\":0,\"ticks\":\"\"},\"type\":\"choropleth\"}],\"contour\":[{\"colorbar\":{\"outlinewidth\":0,\"ticks\":\"\"},\"colorscale\":[[0.0,\"#0d0887\"],[0.1111111111111111,\"#46039f\"],[0.2222222222222222,\"#7201a8\"],[0.3333333333333333,\"#9c179e\"],[0.4444444444444444,\"#bd3786\"],[0.5555555555555556,\"#d8576b\"],[0.6666666666666666,\"#ed7953\"],[0.7777777777777778,\"#fb9f3a\"],[0.8888888888888888,\"#fdca26\"],[1.0,\"#f0f921\"]],\"type\":\"contour\"}],\"contourcarpet\":[{\"colorbar\":{\"outlinewidth\":0,\"ticks\":\"\"},\"type\":\"contourcarpet\"}],\"heatmap\":[{\"colorbar\":{\"outlinewidth\":0,\"ticks\":\"\"},\"colorscale\":[[0.0,\"#0d0887\"],[0.1111111111111111,\"#46039f\"],[0.2222222222222222,\"#7201a8\"],[0.3333333333333333,\"#9c179e\"],[0.4444444444444444,\"#bd3786\"],[0.5555555555555556,\"#d8576b\"],[0.6666666666666666,\"#ed7953\"],[0.7777777777777778,\"#fb9f3a\"],[0.8888888888888888,\"#fdca26\"],[1.0,\"#f0f921\"]],\"type\":\"heatmap\"}],\"heatmapgl\":[{\"colorbar\":{\"outlinewidth\":0,\"ticks\":\"\"},\"colorscale\":[[0.0,\"#0d0887\"],[0.1111111111111111,\"#46039f\"],[0.2222222222222222,\"#7201a8\"],[0.3333333333333333,\"#9c179e\"],[0.4444444444444444,\"#bd3786\"],[0.5555555555555556,\"#d8576b\"],[0.6666666666666666,\"#ed7953\"],[0.7777777777777778,\"#fb9f3a\"],[0.8888888888888888,\"#fdca26\"],[1.0,\"#f0f921\"]],\"type\":\"heatmapgl\"}],\"histogram\":[{\"marker\":{\"pattern\":{\"fillmode\":\"overlay\",\"size\":10,\"solidity\":0.2}},\"type\":\"histogram\"}],\"histogram2d\":[{\"colorbar\":{\"outlinewidth\":0,\"ticks\":\"\"},\"colorscale\":[[0.0,\"#0d0887\"],[0.1111111111111111,\"#46039f\"],[0.2222222222222222,\"#7201a8\"],[0.3333333333333333,\"#9c179e\"],[0.4444444444444444,\"#bd3786\"],[0.5555555555555556,\"#d8576b\"],[0.6666666666666666,\"#ed7953\"],[0.7777777777777778,\"#fb9f3a\"],[0.8888888888888888,\"#fdca26\"],[1.0,\"#f0f921\"]],\"type\":\"histogram2d\"}],\"histogram2dcontour\":[{\"colorbar\":{\"outlinewidth\":0,\"ticks\":\"\"},\"colorscale\":[[0.0,\"#0d0887\"],[0.1111111111111111,\"#46039f\"],[0.2222222222222222,\"#7201a8\"],[0.3333333333333333,\"#9c179e\"],[0.4444444444444444,\"#bd3786\"],[0.5555555555555556,\"#d8576b\"],[0.6666666666666666,\"#ed7953\"],[0.7777777777777778,\"#fb9f3a\"],[0.8888888888888888,\"#fdca26\"],[1.0,\"#f0f921\"]],\"type\":\"histogram2dcontour\"}],\"mesh3d\":[{\"colorbar\":{\"outlinewidth\":0,\"ticks\":\"\"},\"type\":\"mesh3d\"}],\"parcoords\":[{\"line\":{\"colorbar\":{\"outlinewidth\":0,\"ticks\":\"\"}},\"type\":\"parcoords\"}],\"pie\":[{\"automargin\":true,\"type\":\"pie\"}],\"scatter\":[{\"marker\":{\"colorbar\":{\"outlinewidth\":0,\"ticks\":\"\"}},\"type\":\"scatter\"}],\"scatter3d\":[{\"line\":{\"colorbar\":{\"outlinewidth\":0,\"ticks\":\"\"}},\"marker\":{\"colorbar\":{\"outlinewidth\":0,\"ticks\":\"\"}},\"type\":\"scatter3d\"}],\"scattercarpet\":[{\"marker\":{\"colorbar\":{\"outlinewidth\":0,\"ticks\":\"\"}},\"type\":\"scattercarpet\"}],\"scattergeo\":[{\"marker\":{\"colorbar\":{\"outlinewidth\":0,\"ticks\":\"\"}},\"type\":\"scattergeo\"}],\"scattergl\":[{\"marker\":{\"colorbar\":{\"outlinewidth\":0,\"ticks\":\"\"}},\"type\":\"scattergl\"}],\"scattermapbox\":[{\"marker\":{\"colorbar\":{\"outlinewidth\":0,\"ticks\":\"\"}},\"type\":\"scattermapbox\"}],\"scatterpolar\":[{\"marker\":{\"colorbar\":{\"outlinewidth\":0,\"ticks\":\"\"}},\"type\":\"scatterpolar\"}],\"scatterpolargl\":[{\"marker\":{\"colorbar\":{\"outlinewidth\":0,\"ticks\":\"\"}},\"type\":\"scatterpolargl\"}],\"scatterternary\":[{\"marker\":{\"colorbar\":{\"outlinewidth\":0,\"ticks\":\"\"}},\"type\":\"scatterternary\"}],\"surface\":[{\"colorbar\":{\"outlinewidth\":0,\"ticks\":\"\"},\"colorscale\":[[0.0,\"#0d0887\"],[0.1111111111111111,\"#46039f\"],[0.2222222222222222,\"#7201a8\"],[0.3333333333333333,\"#9c179e\"],[0.4444444444444444,\"#bd3786\"],[0.5555555555555556,\"#d8576b\"],[0.6666666666666666,\"#ed7953\"],[0.7777777777777778,\"#fb9f3a\"],[0.8888888888888888,\"#fdca26\"],[1.0,\"#f0f921\"]],\"type\":\"surface\"}],\"table\":[{\"cells\":{\"fill\":{\"color\":\"#EBF0F8\"},\"line\":{\"color\":\"white\"}},\"header\":{\"fill\":{\"color\":\"#C8D4E3\"},\"line\":{\"color\":\"white\"}},\"type\":\"table\"}]},\"layout\":{\"annotationdefaults\":{\"arrowcolor\":\"#2a3f5f\",\"arrowhead\":0,\"arrowwidth\":1},\"autotypenumbers\":\"strict\",\"coloraxis\":{\"colorbar\":{\"outlinewidth\":0,\"ticks\":\"\"}},\"colorscale\":{\"diverging\":[[0,\"#8e0152\"],[0.1,\"#c51b7d\"],[0.2,\"#de77ae\"],[0.3,\"#f1b6da\"],[0.4,\"#fde0ef\"],[0.5,\"#f7f7f7\"],[0.6,\"#e6f5d0\"],[0.7,\"#b8e186\"],[0.8,\"#7fbc41\"],[0.9,\"#4d9221\"],[1,\"#276419\"]],\"sequential\":[[0.0,\"#0d0887\"],[0.1111111111111111,\"#46039f\"],[0.2222222222222222,\"#7201a8\"],[0.3333333333333333,\"#9c179e\"],[0.4444444444444444,\"#bd3786\"],[0.5555555555555556,\"#d8576b\"],[0.6666666666666666,\"#ed7953\"],[0.7777777777777778,\"#fb9f3a\"],[0.8888888888888888,\"#fdca26\"],[1.0,\"#f0f921\"]],\"sequentialminus\":[[0.0,\"#0d0887\"],[0.1111111111111111,\"#46039f\"],[0.2222222222222222,\"#7201a8\"],[0.3333333333333333,\"#9c179e\"],[0.4444444444444444,\"#bd3786\"],[0.5555555555555556,\"#d8576b\"],[0.6666666666666666,\"#ed7953\"],[0.7777777777777778,\"#fb9f3a\"],[0.8888888888888888,\"#fdca26\"],[1.0,\"#f0f921\"]]},\"colorway\":[\"#636efa\",\"#EF553B\",\"#00cc96\",\"#ab63fa\",\"#FFA15A\",\"#19d3f3\",\"#FF6692\",\"#B6E880\",\"#FF97FF\",\"#FECB52\"],\"font\":{\"color\":\"#2a3f5f\"},\"geo\":{\"bgcolor\":\"white\",\"lakecolor\":\"white\",\"landcolor\":\"#E5ECF6\",\"showlakes\":true,\"showland\":true,\"subunitcolor\":\"white\"},\"hoverlabel\":{\"align\":\"left\"},\"hovermode\":\"closest\",\"mapbox\":{\"style\":\"light\"},\"paper_bgcolor\":\"white\",\"plot_bgcolor\":\"#E5ECF6\",\"polar\":{\"angularaxis\":{\"gridcolor\":\"white\",\"linecolor\":\"white\",\"ticks\":\"\"},\"bgcolor\":\"#E5ECF6\",\"radialaxis\":{\"gridcolor\":\"white\",\"linecolor\":\"white\",\"ticks\":\"\"}},\"scene\":{\"xaxis\":{\"backgroundcolor\":\"#E5ECF6\",\"gridcolor\":\"white\",\"gridwidth\":2,\"linecolor\":\"white\",\"showbackground\":true,\"ticks\":\"\",\"zerolinecolor\":\"white\"},\"yaxis\":{\"backgroundcolor\":\"#E5ECF6\",\"gridcolor\":\"white\",\"gridwidth\":2,\"linecolor\":\"white\",\"showbackground\":true,\"ticks\":\"\",\"zerolinecolor\":\"white\"},\"zaxis\":{\"backgroundcolor\":\"#E5ECF6\",\"gridcolor\":\"white\",\"gridwidth\":2,\"linecolor\":\"white\",\"showbackground\":true,\"ticks\":\"\",\"zerolinecolor\":\"white\"}},\"shapedefaults\":{\"line\":{\"color\":\"#2a3f5f\"}},\"ternary\":{\"aaxis\":{\"gridcolor\":\"white\",\"linecolor\":\"white\",\"ticks\":\"\"},\"baxis\":{\"gridcolor\":\"white\",\"linecolor\":\"white\",\"ticks\":\"\"},\"bgcolor\":\"#E5ECF6\",\"caxis\":{\"gridcolor\":\"white\",\"linecolor\":\"white\",\"ticks\":\"\"}},\"title\":{\"x\":0.05},\"xaxis\":{\"automargin\":true,\"gridcolor\":\"white\",\"linecolor\":\"white\",\"ticks\":\"\",\"title\":{\"standoff\":15},\"zerolinecolor\":\"white\",\"zerolinewidth\":2},\"yaxis\":{\"automargin\":true,\"gridcolor\":\"white\",\"linecolor\":\"white\",\"ticks\":\"\",\"title\":{\"standoff\":15},\"zerolinecolor\":\"white\",\"zerolinewidth\":2}}},\"title\":{\"text\":\"Variable types\"},\"width\":800},                        {\"responsive\": true}                    ).then(function(){\n",
       "                            \n",
       "var gd = document.getElementById('9a716403-5f90-4fc4-bd2e-ac9de059bf93');\n",
       "var x = new MutationObserver(function (mutations, observer) {{\n",
       "        var display = window.getComputedStyle(gd).display;\n",
       "        if (!display || display === 'none') {{\n",
       "            console.log([gd, 'removed!']);\n",
       "            Plotly.purge(gd);\n",
       "            observer.disconnect();\n",
       "        }}\n",
       "}});\n",
       "\n",
       "// Listen for the removal of the full notebook cells\n",
       "var notebookContainer = gd.closest('#notebook-container');\n",
       "if (notebookContainer) {{\n",
       "    x.observe(notebookContainer, {childList: true});\n",
       "}}\n",
       "\n",
       "// Listen for the clearing of the current output cell\n",
       "var outputEl = gd.closest('.output');\n",
       "if (outputEl) {{\n",
       "    x.observe(outputEl, {childList: true});\n",
       "}}\n",
       "\n",
       "                        })                };                });            </script>        </div>"
      ]
     },
     "metadata": {},
     "output_type": "display_data"
    }
   ],
   "source": [
    "# Plot proportion of columns by data type using a pie chart\n",
    "variables = {\n",
    "    'categorical_columns': len(categorical_columns),\n",
    "    #'binary_columns': len(binary_columns),\n",
    "    'train_numcols': len(train_numcols)\n",
    "}\n",
    "\n",
    "# Plot\n",
    "pie_trace = go.Pie(labels=list(variables.keys()),\n",
    "                   values=list(variables.values()))\n",
    "layout = dict(title=\"Variable types\", height=400, width=800)\n",
    "fig = dict(data=[pie_trace], layout=layout)\n",
    "py.iplot(fig)"
   ]
  },
  {
   "cell_type": "code",
   "execution_count": 165,
   "id": "8889daf5",
   "metadata": {
    "ExecuteTime": {
     "end_time": "2021-12-15T10:12:15.543775Z",
     "start_time": "2021-12-15T10:12:15.392179Z"
    }
   },
   "outputs": [
    {
     "data": {
      "application/vnd.plotly.v1+json": {
       "config": {
        "linkText": "Export to plot.ly",
        "plotlyServerURL": "https://plot.ly",
        "showLink": false
       },
       "data": [
        {
         "labels": [
          "categorical_columns",
          "test_numcols"
         ],
         "type": "pie",
         "values": [
          5,
          8
         ]
        }
       ],
       "layout": {
        "height": 400,
        "template": {
         "data": {
          "bar": [
           {
            "error_x": {
             "color": "#2a3f5f"
            },
            "error_y": {
             "color": "#2a3f5f"
            },
            "marker": {
             "line": {
              "color": "#E5ECF6",
              "width": 0.5
             },
             "pattern": {
              "fillmode": "overlay",
              "size": 10,
              "solidity": 0.2
             }
            },
            "type": "bar"
           }
          ],
          "barpolar": [
           {
            "marker": {
             "line": {
              "color": "#E5ECF6",
              "width": 0.5
             },
             "pattern": {
              "fillmode": "overlay",
              "size": 10,
              "solidity": 0.2
             }
            },
            "type": "barpolar"
           }
          ],
          "carpet": [
           {
            "aaxis": {
             "endlinecolor": "#2a3f5f",
             "gridcolor": "white",
             "linecolor": "white",
             "minorgridcolor": "white",
             "startlinecolor": "#2a3f5f"
            },
            "baxis": {
             "endlinecolor": "#2a3f5f",
             "gridcolor": "white",
             "linecolor": "white",
             "minorgridcolor": "white",
             "startlinecolor": "#2a3f5f"
            },
            "type": "carpet"
           }
          ],
          "choropleth": [
           {
            "colorbar": {
             "outlinewidth": 0,
             "ticks": ""
            },
            "type": "choropleth"
           }
          ],
          "contour": [
           {
            "colorbar": {
             "outlinewidth": 0,
             "ticks": ""
            },
            "colorscale": [
             [
              0,
              "#0d0887"
             ],
             [
              0.1111111111111111,
              "#46039f"
             ],
             [
              0.2222222222222222,
              "#7201a8"
             ],
             [
              0.3333333333333333,
              "#9c179e"
             ],
             [
              0.4444444444444444,
              "#bd3786"
             ],
             [
              0.5555555555555556,
              "#d8576b"
             ],
             [
              0.6666666666666666,
              "#ed7953"
             ],
             [
              0.7777777777777778,
              "#fb9f3a"
             ],
             [
              0.8888888888888888,
              "#fdca26"
             ],
             [
              1,
              "#f0f921"
             ]
            ],
            "type": "contour"
           }
          ],
          "contourcarpet": [
           {
            "colorbar": {
             "outlinewidth": 0,
             "ticks": ""
            },
            "type": "contourcarpet"
           }
          ],
          "heatmap": [
           {
            "colorbar": {
             "outlinewidth": 0,
             "ticks": ""
            },
            "colorscale": [
             [
              0,
              "#0d0887"
             ],
             [
              0.1111111111111111,
              "#46039f"
             ],
             [
              0.2222222222222222,
              "#7201a8"
             ],
             [
              0.3333333333333333,
              "#9c179e"
             ],
             [
              0.4444444444444444,
              "#bd3786"
             ],
             [
              0.5555555555555556,
              "#d8576b"
             ],
             [
              0.6666666666666666,
              "#ed7953"
             ],
             [
              0.7777777777777778,
              "#fb9f3a"
             ],
             [
              0.8888888888888888,
              "#fdca26"
             ],
             [
              1,
              "#f0f921"
             ]
            ],
            "type": "heatmap"
           }
          ],
          "heatmapgl": [
           {
            "colorbar": {
             "outlinewidth": 0,
             "ticks": ""
            },
            "colorscale": [
             [
              0,
              "#0d0887"
             ],
             [
              0.1111111111111111,
              "#46039f"
             ],
             [
              0.2222222222222222,
              "#7201a8"
             ],
             [
              0.3333333333333333,
              "#9c179e"
             ],
             [
              0.4444444444444444,
              "#bd3786"
             ],
             [
              0.5555555555555556,
              "#d8576b"
             ],
             [
              0.6666666666666666,
              "#ed7953"
             ],
             [
              0.7777777777777778,
              "#fb9f3a"
             ],
             [
              0.8888888888888888,
              "#fdca26"
             ],
             [
              1,
              "#f0f921"
             ]
            ],
            "type": "heatmapgl"
           }
          ],
          "histogram": [
           {
            "marker": {
             "pattern": {
              "fillmode": "overlay",
              "size": 10,
              "solidity": 0.2
             }
            },
            "type": "histogram"
           }
          ],
          "histogram2d": [
           {
            "colorbar": {
             "outlinewidth": 0,
             "ticks": ""
            },
            "colorscale": [
             [
              0,
              "#0d0887"
             ],
             [
              0.1111111111111111,
              "#46039f"
             ],
             [
              0.2222222222222222,
              "#7201a8"
             ],
             [
              0.3333333333333333,
              "#9c179e"
             ],
             [
              0.4444444444444444,
              "#bd3786"
             ],
             [
              0.5555555555555556,
              "#d8576b"
             ],
             [
              0.6666666666666666,
              "#ed7953"
             ],
             [
              0.7777777777777778,
              "#fb9f3a"
             ],
             [
              0.8888888888888888,
              "#fdca26"
             ],
             [
              1,
              "#f0f921"
             ]
            ],
            "type": "histogram2d"
           }
          ],
          "histogram2dcontour": [
           {
            "colorbar": {
             "outlinewidth": 0,
             "ticks": ""
            },
            "colorscale": [
             [
              0,
              "#0d0887"
             ],
             [
              0.1111111111111111,
              "#46039f"
             ],
             [
              0.2222222222222222,
              "#7201a8"
             ],
             [
              0.3333333333333333,
              "#9c179e"
             ],
             [
              0.4444444444444444,
              "#bd3786"
             ],
             [
              0.5555555555555556,
              "#d8576b"
             ],
             [
              0.6666666666666666,
              "#ed7953"
             ],
             [
              0.7777777777777778,
              "#fb9f3a"
             ],
             [
              0.8888888888888888,
              "#fdca26"
             ],
             [
              1,
              "#f0f921"
             ]
            ],
            "type": "histogram2dcontour"
           }
          ],
          "mesh3d": [
           {
            "colorbar": {
             "outlinewidth": 0,
             "ticks": ""
            },
            "type": "mesh3d"
           }
          ],
          "parcoords": [
           {
            "line": {
             "colorbar": {
              "outlinewidth": 0,
              "ticks": ""
             }
            },
            "type": "parcoords"
           }
          ],
          "pie": [
           {
            "automargin": true,
            "type": "pie"
           }
          ],
          "scatter": [
           {
            "marker": {
             "colorbar": {
              "outlinewidth": 0,
              "ticks": ""
             }
            },
            "type": "scatter"
           }
          ],
          "scatter3d": [
           {
            "line": {
             "colorbar": {
              "outlinewidth": 0,
              "ticks": ""
             }
            },
            "marker": {
             "colorbar": {
              "outlinewidth": 0,
              "ticks": ""
             }
            },
            "type": "scatter3d"
           }
          ],
          "scattercarpet": [
           {
            "marker": {
             "colorbar": {
              "outlinewidth": 0,
              "ticks": ""
             }
            },
            "type": "scattercarpet"
           }
          ],
          "scattergeo": [
           {
            "marker": {
             "colorbar": {
              "outlinewidth": 0,
              "ticks": ""
             }
            },
            "type": "scattergeo"
           }
          ],
          "scattergl": [
           {
            "marker": {
             "colorbar": {
              "outlinewidth": 0,
              "ticks": ""
             }
            },
            "type": "scattergl"
           }
          ],
          "scattermapbox": [
           {
            "marker": {
             "colorbar": {
              "outlinewidth": 0,
              "ticks": ""
             }
            },
            "type": "scattermapbox"
           }
          ],
          "scatterpolar": [
           {
            "marker": {
             "colorbar": {
              "outlinewidth": 0,
              "ticks": ""
             }
            },
            "type": "scatterpolar"
           }
          ],
          "scatterpolargl": [
           {
            "marker": {
             "colorbar": {
              "outlinewidth": 0,
              "ticks": ""
             }
            },
            "type": "scatterpolargl"
           }
          ],
          "scatterternary": [
           {
            "marker": {
             "colorbar": {
              "outlinewidth": 0,
              "ticks": ""
             }
            },
            "type": "scatterternary"
           }
          ],
          "surface": [
           {
            "colorbar": {
             "outlinewidth": 0,
             "ticks": ""
            },
            "colorscale": [
             [
              0,
              "#0d0887"
             ],
             [
              0.1111111111111111,
              "#46039f"
             ],
             [
              0.2222222222222222,
              "#7201a8"
             ],
             [
              0.3333333333333333,
              "#9c179e"
             ],
             [
              0.4444444444444444,
              "#bd3786"
             ],
             [
              0.5555555555555556,
              "#d8576b"
             ],
             [
              0.6666666666666666,
              "#ed7953"
             ],
             [
              0.7777777777777778,
              "#fb9f3a"
             ],
             [
              0.8888888888888888,
              "#fdca26"
             ],
             [
              1,
              "#f0f921"
             ]
            ],
            "type": "surface"
           }
          ],
          "table": [
           {
            "cells": {
             "fill": {
              "color": "#EBF0F8"
             },
             "line": {
              "color": "white"
             }
            },
            "header": {
             "fill": {
              "color": "#C8D4E3"
             },
             "line": {
              "color": "white"
             }
            },
            "type": "table"
           }
          ]
         },
         "layout": {
          "annotationdefaults": {
           "arrowcolor": "#2a3f5f",
           "arrowhead": 0,
           "arrowwidth": 1
          },
          "autotypenumbers": "strict",
          "coloraxis": {
           "colorbar": {
            "outlinewidth": 0,
            "ticks": ""
           }
          },
          "colorscale": {
           "diverging": [
            [
             0,
             "#8e0152"
            ],
            [
             0.1,
             "#c51b7d"
            ],
            [
             0.2,
             "#de77ae"
            ],
            [
             0.3,
             "#f1b6da"
            ],
            [
             0.4,
             "#fde0ef"
            ],
            [
             0.5,
             "#f7f7f7"
            ],
            [
             0.6,
             "#e6f5d0"
            ],
            [
             0.7,
             "#b8e186"
            ],
            [
             0.8,
             "#7fbc41"
            ],
            [
             0.9,
             "#4d9221"
            ],
            [
             1,
             "#276419"
            ]
           ],
           "sequential": [
            [
             0,
             "#0d0887"
            ],
            [
             0.1111111111111111,
             "#46039f"
            ],
            [
             0.2222222222222222,
             "#7201a8"
            ],
            [
             0.3333333333333333,
             "#9c179e"
            ],
            [
             0.4444444444444444,
             "#bd3786"
            ],
            [
             0.5555555555555556,
             "#d8576b"
            ],
            [
             0.6666666666666666,
             "#ed7953"
            ],
            [
             0.7777777777777778,
             "#fb9f3a"
            ],
            [
             0.8888888888888888,
             "#fdca26"
            ],
            [
             1,
             "#f0f921"
            ]
           ],
           "sequentialminus": [
            [
             0,
             "#0d0887"
            ],
            [
             0.1111111111111111,
             "#46039f"
            ],
            [
             0.2222222222222222,
             "#7201a8"
            ],
            [
             0.3333333333333333,
             "#9c179e"
            ],
            [
             0.4444444444444444,
             "#bd3786"
            ],
            [
             0.5555555555555556,
             "#d8576b"
            ],
            [
             0.6666666666666666,
             "#ed7953"
            ],
            [
             0.7777777777777778,
             "#fb9f3a"
            ],
            [
             0.8888888888888888,
             "#fdca26"
            ],
            [
             1,
             "#f0f921"
            ]
           ]
          },
          "colorway": [
           "#636efa",
           "#EF553B",
           "#00cc96",
           "#ab63fa",
           "#FFA15A",
           "#19d3f3",
           "#FF6692",
           "#B6E880",
           "#FF97FF",
           "#FECB52"
          ],
          "font": {
           "color": "#2a3f5f"
          },
          "geo": {
           "bgcolor": "white",
           "lakecolor": "white",
           "landcolor": "#E5ECF6",
           "showlakes": true,
           "showland": true,
           "subunitcolor": "white"
          },
          "hoverlabel": {
           "align": "left"
          },
          "hovermode": "closest",
          "mapbox": {
           "style": "light"
          },
          "paper_bgcolor": "white",
          "plot_bgcolor": "#E5ECF6",
          "polar": {
           "angularaxis": {
            "gridcolor": "white",
            "linecolor": "white",
            "ticks": ""
           },
           "bgcolor": "#E5ECF6",
           "radialaxis": {
            "gridcolor": "white",
            "linecolor": "white",
            "ticks": ""
           }
          },
          "scene": {
           "xaxis": {
            "backgroundcolor": "#E5ECF6",
            "gridcolor": "white",
            "gridwidth": 2,
            "linecolor": "white",
            "showbackground": true,
            "ticks": "",
            "zerolinecolor": "white"
           },
           "yaxis": {
            "backgroundcolor": "#E5ECF6",
            "gridcolor": "white",
            "gridwidth": 2,
            "linecolor": "white",
            "showbackground": true,
            "ticks": "",
            "zerolinecolor": "white"
           },
           "zaxis": {
            "backgroundcolor": "#E5ECF6",
            "gridcolor": "white",
            "gridwidth": 2,
            "linecolor": "white",
            "showbackground": true,
            "ticks": "",
            "zerolinecolor": "white"
           }
          },
          "shapedefaults": {
           "line": {
            "color": "#2a3f5f"
           }
          },
          "ternary": {
           "aaxis": {
            "gridcolor": "white",
            "linecolor": "white",
            "ticks": ""
           },
           "baxis": {
            "gridcolor": "white",
            "linecolor": "white",
            "ticks": ""
           },
           "bgcolor": "#E5ECF6",
           "caxis": {
            "gridcolor": "white",
            "linecolor": "white",
            "ticks": ""
           }
          },
          "title": {
           "x": 0.05
          },
          "xaxis": {
           "automargin": true,
           "gridcolor": "white",
           "linecolor": "white",
           "ticks": "",
           "title": {
            "standoff": 15
           },
           "zerolinecolor": "white",
           "zerolinewidth": 2
          },
          "yaxis": {
           "automargin": true,
           "gridcolor": "white",
           "linecolor": "white",
           "ticks": "",
           "title": {
            "standoff": 15
           },
           "zerolinecolor": "white",
           "zerolinewidth": 2
          }
         }
        },
        "title": {
         "text": "Variable types"
        },
        "width": 800
       }
      },
      "text/html": [
       "<div>                            <div id=\"46591a81-1c1b-42b9-9ab8-a75d8c627180\" class=\"plotly-graph-div\" style=\"height:400px; width:800px;\"></div>            <script type=\"text/javascript\">                require([\"plotly\"], function(Plotly) {                    window.PLOTLYENV=window.PLOTLYENV || {};                                    if (document.getElementById(\"46591a81-1c1b-42b9-9ab8-a75d8c627180\")) {                    Plotly.newPlot(                        \"46591a81-1c1b-42b9-9ab8-a75d8c627180\",                        [{\"labels\":[\"categorical_columns\",\"test_numcols\"],\"type\":\"pie\",\"values\":[5,8]}],                        {\"height\":400,\"template\":{\"data\":{\"bar\":[{\"error_x\":{\"color\":\"#2a3f5f\"},\"error_y\":{\"color\":\"#2a3f5f\"},\"marker\":{\"line\":{\"color\":\"#E5ECF6\",\"width\":0.5},\"pattern\":{\"fillmode\":\"overlay\",\"size\":10,\"solidity\":0.2}},\"type\":\"bar\"}],\"barpolar\":[{\"marker\":{\"line\":{\"color\":\"#E5ECF6\",\"width\":0.5},\"pattern\":{\"fillmode\":\"overlay\",\"size\":10,\"solidity\":0.2}},\"type\":\"barpolar\"}],\"carpet\":[{\"aaxis\":{\"endlinecolor\":\"#2a3f5f\",\"gridcolor\":\"white\",\"linecolor\":\"white\",\"minorgridcolor\":\"white\",\"startlinecolor\":\"#2a3f5f\"},\"baxis\":{\"endlinecolor\":\"#2a3f5f\",\"gridcolor\":\"white\",\"linecolor\":\"white\",\"minorgridcolor\":\"white\",\"startlinecolor\":\"#2a3f5f\"},\"type\":\"carpet\"}],\"choropleth\":[{\"colorbar\":{\"outlinewidth\":0,\"ticks\":\"\"},\"type\":\"choropleth\"}],\"contour\":[{\"colorbar\":{\"outlinewidth\":0,\"ticks\":\"\"},\"colorscale\":[[0.0,\"#0d0887\"],[0.1111111111111111,\"#46039f\"],[0.2222222222222222,\"#7201a8\"],[0.3333333333333333,\"#9c179e\"],[0.4444444444444444,\"#bd3786\"],[0.5555555555555556,\"#d8576b\"],[0.6666666666666666,\"#ed7953\"],[0.7777777777777778,\"#fb9f3a\"],[0.8888888888888888,\"#fdca26\"],[1.0,\"#f0f921\"]],\"type\":\"contour\"}],\"contourcarpet\":[{\"colorbar\":{\"outlinewidth\":0,\"ticks\":\"\"},\"type\":\"contourcarpet\"}],\"heatmap\":[{\"colorbar\":{\"outlinewidth\":0,\"ticks\":\"\"},\"colorscale\":[[0.0,\"#0d0887\"],[0.1111111111111111,\"#46039f\"],[0.2222222222222222,\"#7201a8\"],[0.3333333333333333,\"#9c179e\"],[0.4444444444444444,\"#bd3786\"],[0.5555555555555556,\"#d8576b\"],[0.6666666666666666,\"#ed7953\"],[0.7777777777777778,\"#fb9f3a\"],[0.8888888888888888,\"#fdca26\"],[1.0,\"#f0f921\"]],\"type\":\"heatmap\"}],\"heatmapgl\":[{\"colorbar\":{\"outlinewidth\":0,\"ticks\":\"\"},\"colorscale\":[[0.0,\"#0d0887\"],[0.1111111111111111,\"#46039f\"],[0.2222222222222222,\"#7201a8\"],[0.3333333333333333,\"#9c179e\"],[0.4444444444444444,\"#bd3786\"],[0.5555555555555556,\"#d8576b\"],[0.6666666666666666,\"#ed7953\"],[0.7777777777777778,\"#fb9f3a\"],[0.8888888888888888,\"#fdca26\"],[1.0,\"#f0f921\"]],\"type\":\"heatmapgl\"}],\"histogram\":[{\"marker\":{\"pattern\":{\"fillmode\":\"overlay\",\"size\":10,\"solidity\":0.2}},\"type\":\"histogram\"}],\"histogram2d\":[{\"colorbar\":{\"outlinewidth\":0,\"ticks\":\"\"},\"colorscale\":[[0.0,\"#0d0887\"],[0.1111111111111111,\"#46039f\"],[0.2222222222222222,\"#7201a8\"],[0.3333333333333333,\"#9c179e\"],[0.4444444444444444,\"#bd3786\"],[0.5555555555555556,\"#d8576b\"],[0.6666666666666666,\"#ed7953\"],[0.7777777777777778,\"#fb9f3a\"],[0.8888888888888888,\"#fdca26\"],[1.0,\"#f0f921\"]],\"type\":\"histogram2d\"}],\"histogram2dcontour\":[{\"colorbar\":{\"outlinewidth\":0,\"ticks\":\"\"},\"colorscale\":[[0.0,\"#0d0887\"],[0.1111111111111111,\"#46039f\"],[0.2222222222222222,\"#7201a8\"],[0.3333333333333333,\"#9c179e\"],[0.4444444444444444,\"#bd3786\"],[0.5555555555555556,\"#d8576b\"],[0.6666666666666666,\"#ed7953\"],[0.7777777777777778,\"#fb9f3a\"],[0.8888888888888888,\"#fdca26\"],[1.0,\"#f0f921\"]],\"type\":\"histogram2dcontour\"}],\"mesh3d\":[{\"colorbar\":{\"outlinewidth\":0,\"ticks\":\"\"},\"type\":\"mesh3d\"}],\"parcoords\":[{\"line\":{\"colorbar\":{\"outlinewidth\":0,\"ticks\":\"\"}},\"type\":\"parcoords\"}],\"pie\":[{\"automargin\":true,\"type\":\"pie\"}],\"scatter\":[{\"marker\":{\"colorbar\":{\"outlinewidth\":0,\"ticks\":\"\"}},\"type\":\"scatter\"}],\"scatter3d\":[{\"line\":{\"colorbar\":{\"outlinewidth\":0,\"ticks\":\"\"}},\"marker\":{\"colorbar\":{\"outlinewidth\":0,\"ticks\":\"\"}},\"type\":\"scatter3d\"}],\"scattercarpet\":[{\"marker\":{\"colorbar\":{\"outlinewidth\":0,\"ticks\":\"\"}},\"type\":\"scattercarpet\"}],\"scattergeo\":[{\"marker\":{\"colorbar\":{\"outlinewidth\":0,\"ticks\":\"\"}},\"type\":\"scattergeo\"}],\"scattergl\":[{\"marker\":{\"colorbar\":{\"outlinewidth\":0,\"ticks\":\"\"}},\"type\":\"scattergl\"}],\"scattermapbox\":[{\"marker\":{\"colorbar\":{\"outlinewidth\":0,\"ticks\":\"\"}},\"type\":\"scattermapbox\"}],\"scatterpolar\":[{\"marker\":{\"colorbar\":{\"outlinewidth\":0,\"ticks\":\"\"}},\"type\":\"scatterpolar\"}],\"scatterpolargl\":[{\"marker\":{\"colorbar\":{\"outlinewidth\":0,\"ticks\":\"\"}},\"type\":\"scatterpolargl\"}],\"scatterternary\":[{\"marker\":{\"colorbar\":{\"outlinewidth\":0,\"ticks\":\"\"}},\"type\":\"scatterternary\"}],\"surface\":[{\"colorbar\":{\"outlinewidth\":0,\"ticks\":\"\"},\"colorscale\":[[0.0,\"#0d0887\"],[0.1111111111111111,\"#46039f\"],[0.2222222222222222,\"#7201a8\"],[0.3333333333333333,\"#9c179e\"],[0.4444444444444444,\"#bd3786\"],[0.5555555555555556,\"#d8576b\"],[0.6666666666666666,\"#ed7953\"],[0.7777777777777778,\"#fb9f3a\"],[0.8888888888888888,\"#fdca26\"],[1.0,\"#f0f921\"]],\"type\":\"surface\"}],\"table\":[{\"cells\":{\"fill\":{\"color\":\"#EBF0F8\"},\"line\":{\"color\":\"white\"}},\"header\":{\"fill\":{\"color\":\"#C8D4E3\"},\"line\":{\"color\":\"white\"}},\"type\":\"table\"}]},\"layout\":{\"annotationdefaults\":{\"arrowcolor\":\"#2a3f5f\",\"arrowhead\":0,\"arrowwidth\":1},\"autotypenumbers\":\"strict\",\"coloraxis\":{\"colorbar\":{\"outlinewidth\":0,\"ticks\":\"\"}},\"colorscale\":{\"diverging\":[[0,\"#8e0152\"],[0.1,\"#c51b7d\"],[0.2,\"#de77ae\"],[0.3,\"#f1b6da\"],[0.4,\"#fde0ef\"],[0.5,\"#f7f7f7\"],[0.6,\"#e6f5d0\"],[0.7,\"#b8e186\"],[0.8,\"#7fbc41\"],[0.9,\"#4d9221\"],[1,\"#276419\"]],\"sequential\":[[0.0,\"#0d0887\"],[0.1111111111111111,\"#46039f\"],[0.2222222222222222,\"#7201a8\"],[0.3333333333333333,\"#9c179e\"],[0.4444444444444444,\"#bd3786\"],[0.5555555555555556,\"#d8576b\"],[0.6666666666666666,\"#ed7953\"],[0.7777777777777778,\"#fb9f3a\"],[0.8888888888888888,\"#fdca26\"],[1.0,\"#f0f921\"]],\"sequentialminus\":[[0.0,\"#0d0887\"],[0.1111111111111111,\"#46039f\"],[0.2222222222222222,\"#7201a8\"],[0.3333333333333333,\"#9c179e\"],[0.4444444444444444,\"#bd3786\"],[0.5555555555555556,\"#d8576b\"],[0.6666666666666666,\"#ed7953\"],[0.7777777777777778,\"#fb9f3a\"],[0.8888888888888888,\"#fdca26\"],[1.0,\"#f0f921\"]]},\"colorway\":[\"#636efa\",\"#EF553B\",\"#00cc96\",\"#ab63fa\",\"#FFA15A\",\"#19d3f3\",\"#FF6692\",\"#B6E880\",\"#FF97FF\",\"#FECB52\"],\"font\":{\"color\":\"#2a3f5f\"},\"geo\":{\"bgcolor\":\"white\",\"lakecolor\":\"white\",\"landcolor\":\"#E5ECF6\",\"showlakes\":true,\"showland\":true,\"subunitcolor\":\"white\"},\"hoverlabel\":{\"align\":\"left\"},\"hovermode\":\"closest\",\"mapbox\":{\"style\":\"light\"},\"paper_bgcolor\":\"white\",\"plot_bgcolor\":\"#E5ECF6\",\"polar\":{\"angularaxis\":{\"gridcolor\":\"white\",\"linecolor\":\"white\",\"ticks\":\"\"},\"bgcolor\":\"#E5ECF6\",\"radialaxis\":{\"gridcolor\":\"white\",\"linecolor\":\"white\",\"ticks\":\"\"}},\"scene\":{\"xaxis\":{\"backgroundcolor\":\"#E5ECF6\",\"gridcolor\":\"white\",\"gridwidth\":2,\"linecolor\":\"white\",\"showbackground\":true,\"ticks\":\"\",\"zerolinecolor\":\"white\"},\"yaxis\":{\"backgroundcolor\":\"#E5ECF6\",\"gridcolor\":\"white\",\"gridwidth\":2,\"linecolor\":\"white\",\"showbackground\":true,\"ticks\":\"\",\"zerolinecolor\":\"white\"},\"zaxis\":{\"backgroundcolor\":\"#E5ECF6\",\"gridcolor\":\"white\",\"gridwidth\":2,\"linecolor\":\"white\",\"showbackground\":true,\"ticks\":\"\",\"zerolinecolor\":\"white\"}},\"shapedefaults\":{\"line\":{\"color\":\"#2a3f5f\"}},\"ternary\":{\"aaxis\":{\"gridcolor\":\"white\",\"linecolor\":\"white\",\"ticks\":\"\"},\"baxis\":{\"gridcolor\":\"white\",\"linecolor\":\"white\",\"ticks\":\"\"},\"bgcolor\":\"#E5ECF6\",\"caxis\":{\"gridcolor\":\"white\",\"linecolor\":\"white\",\"ticks\":\"\"}},\"title\":{\"x\":0.05},\"xaxis\":{\"automargin\":true,\"gridcolor\":\"white\",\"linecolor\":\"white\",\"ticks\":\"\",\"title\":{\"standoff\":15},\"zerolinecolor\":\"white\",\"zerolinewidth\":2},\"yaxis\":{\"automargin\":true,\"gridcolor\":\"white\",\"linecolor\":\"white\",\"ticks\":\"\",\"title\":{\"standoff\":15},\"zerolinecolor\":\"white\",\"zerolinewidth\":2}}},\"title\":{\"text\":\"Variable types\"},\"width\":800},                        {\"responsive\": true}                    ).then(function(){\n",
       "                            \n",
       "var gd = document.getElementById('46591a81-1c1b-42b9-9ab8-a75d8c627180');\n",
       "var x = new MutationObserver(function (mutations, observer) {{\n",
       "        var display = window.getComputedStyle(gd).display;\n",
       "        if (!display || display === 'none') {{\n",
       "            console.log([gd, 'removed!']);\n",
       "            Plotly.purge(gd);\n",
       "            observer.disconnect();\n",
       "        }}\n",
       "}});\n",
       "\n",
       "// Listen for the removal of the full notebook cells\n",
       "var notebookContainer = gd.closest('#notebook-container');\n",
       "if (notebookContainer) {{\n",
       "    x.observe(notebookContainer, {childList: true});\n",
       "}}\n",
       "\n",
       "// Listen for the clearing of the current output cell\n",
       "var outputEl = gd.closest('.output');\n",
       "if (outputEl) {{\n",
       "    x.observe(outputEl, {childList: true});\n",
       "}}\n",
       "\n",
       "                        })                };                });            </script>        </div>"
      ]
     },
     "metadata": {},
     "output_type": "display_data"
    }
   ],
   "source": [
    "# Plot proportion of columns by data type using a pie chart\n",
    "vartest = {\n",
    "    'categorical_columns': len(categorical_columns),\n",
    "    #'binary_columns': len(binary_columns),\n",
    "    'test_numcols': len(test_numcols)\n",
    "}\n",
    "\n",
    "# Plot\n",
    "pie_trace = go.Pie(labels=list(vartest.keys()),\n",
    "                   values=list(vartest.values()))\n",
    "layout = dict(title=\"Variable types\", height=400, width=800)\n",
    "fig = dict(data=[pie_trace], layout=layout)\n",
    "py.iplot(fig)"
   ]
  },
  {
   "cell_type": "markdown",
   "id": "4c1797cd",
   "metadata": {},
   "source": [
    "**Inferences:**\n",
    "\n",
    "Most of the current variables are categories. Depending on the cardinality of each variable, we will treat the columns differently. This we will see how to do in detail in the upcoming feature engineering step.\n",
    "\n",
    "### Compute cardinality of categorical columns"
   ]
  },
  {
   "cell_type": "code",
   "execution_count": 166,
   "id": "aa1c74cd",
   "metadata": {
    "ExecuteTime": {
     "end_time": "2021-12-15T10:12:15.759198Z",
     "start_time": "2021-12-15T10:12:15.547765Z"
    }
   },
   "outputs": [
    {
     "data": {
      "application/vnd.plotly.v1+json": {
       "config": {
        "linkText": "Export to plot.ly",
        "plotlyServerURL": "https://plot.ly",
        "showLink": false
       },
       "data": [
        {
         "marker": {
          "color": "rgb(49,130,189)"
         },
         "name": "train",
         "orientation": "h",
         "type": "bar",
         "x": [
          51,
          56,
          118,
          7675,
          26148
         ],
         "y": [
          "TimeSunRise",
          "TimeSunSet",
          "Data",
          "Time",
          "UNIXTime"
         ]
        }
       ],
       "layout": {
        "bargap": 0.1,
        "bargroupgap": 0.1,
        "barmode": "group",
        "height": 1600,
        "template": {
         "data": {
          "bar": [
           {
            "error_x": {
             "color": "#2a3f5f"
            },
            "error_y": {
             "color": "#2a3f5f"
            },
            "marker": {
             "line": {
              "color": "#E5ECF6",
              "width": 0.5
             },
             "pattern": {
              "fillmode": "overlay",
              "size": 10,
              "solidity": 0.2
             }
            },
            "type": "bar"
           }
          ],
          "barpolar": [
           {
            "marker": {
             "line": {
              "color": "#E5ECF6",
              "width": 0.5
             },
             "pattern": {
              "fillmode": "overlay",
              "size": 10,
              "solidity": 0.2
             }
            },
            "type": "barpolar"
           }
          ],
          "carpet": [
           {
            "aaxis": {
             "endlinecolor": "#2a3f5f",
             "gridcolor": "white",
             "linecolor": "white",
             "minorgridcolor": "white",
             "startlinecolor": "#2a3f5f"
            },
            "baxis": {
             "endlinecolor": "#2a3f5f",
             "gridcolor": "white",
             "linecolor": "white",
             "minorgridcolor": "white",
             "startlinecolor": "#2a3f5f"
            },
            "type": "carpet"
           }
          ],
          "choropleth": [
           {
            "colorbar": {
             "outlinewidth": 0,
             "ticks": ""
            },
            "type": "choropleth"
           }
          ],
          "contour": [
           {
            "colorbar": {
             "outlinewidth": 0,
             "ticks": ""
            },
            "colorscale": [
             [
              0,
              "#0d0887"
             ],
             [
              0.1111111111111111,
              "#46039f"
             ],
             [
              0.2222222222222222,
              "#7201a8"
             ],
             [
              0.3333333333333333,
              "#9c179e"
             ],
             [
              0.4444444444444444,
              "#bd3786"
             ],
             [
              0.5555555555555556,
              "#d8576b"
             ],
             [
              0.6666666666666666,
              "#ed7953"
             ],
             [
              0.7777777777777778,
              "#fb9f3a"
             ],
             [
              0.8888888888888888,
              "#fdca26"
             ],
             [
              1,
              "#f0f921"
             ]
            ],
            "type": "contour"
           }
          ],
          "contourcarpet": [
           {
            "colorbar": {
             "outlinewidth": 0,
             "ticks": ""
            },
            "type": "contourcarpet"
           }
          ],
          "heatmap": [
           {
            "colorbar": {
             "outlinewidth": 0,
             "ticks": ""
            },
            "colorscale": [
             [
              0,
              "#0d0887"
             ],
             [
              0.1111111111111111,
              "#46039f"
             ],
             [
              0.2222222222222222,
              "#7201a8"
             ],
             [
              0.3333333333333333,
              "#9c179e"
             ],
             [
              0.4444444444444444,
              "#bd3786"
             ],
             [
              0.5555555555555556,
              "#d8576b"
             ],
             [
              0.6666666666666666,
              "#ed7953"
             ],
             [
              0.7777777777777778,
              "#fb9f3a"
             ],
             [
              0.8888888888888888,
              "#fdca26"
             ],
             [
              1,
              "#f0f921"
             ]
            ],
            "type": "heatmap"
           }
          ],
          "heatmapgl": [
           {
            "colorbar": {
             "outlinewidth": 0,
             "ticks": ""
            },
            "colorscale": [
             [
              0,
              "#0d0887"
             ],
             [
              0.1111111111111111,
              "#46039f"
             ],
             [
              0.2222222222222222,
              "#7201a8"
             ],
             [
              0.3333333333333333,
              "#9c179e"
             ],
             [
              0.4444444444444444,
              "#bd3786"
             ],
             [
              0.5555555555555556,
              "#d8576b"
             ],
             [
              0.6666666666666666,
              "#ed7953"
             ],
             [
              0.7777777777777778,
              "#fb9f3a"
             ],
             [
              0.8888888888888888,
              "#fdca26"
             ],
             [
              1,
              "#f0f921"
             ]
            ],
            "type": "heatmapgl"
           }
          ],
          "histogram": [
           {
            "marker": {
             "pattern": {
              "fillmode": "overlay",
              "size": 10,
              "solidity": 0.2
             }
            },
            "type": "histogram"
           }
          ],
          "histogram2d": [
           {
            "colorbar": {
             "outlinewidth": 0,
             "ticks": ""
            },
            "colorscale": [
             [
              0,
              "#0d0887"
             ],
             [
              0.1111111111111111,
              "#46039f"
             ],
             [
              0.2222222222222222,
              "#7201a8"
             ],
             [
              0.3333333333333333,
              "#9c179e"
             ],
             [
              0.4444444444444444,
              "#bd3786"
             ],
             [
              0.5555555555555556,
              "#d8576b"
             ],
             [
              0.6666666666666666,
              "#ed7953"
             ],
             [
              0.7777777777777778,
              "#fb9f3a"
             ],
             [
              0.8888888888888888,
              "#fdca26"
             ],
             [
              1,
              "#f0f921"
             ]
            ],
            "type": "histogram2d"
           }
          ],
          "histogram2dcontour": [
           {
            "colorbar": {
             "outlinewidth": 0,
             "ticks": ""
            },
            "colorscale": [
             [
              0,
              "#0d0887"
             ],
             [
              0.1111111111111111,
              "#46039f"
             ],
             [
              0.2222222222222222,
              "#7201a8"
             ],
             [
              0.3333333333333333,
              "#9c179e"
             ],
             [
              0.4444444444444444,
              "#bd3786"
             ],
             [
              0.5555555555555556,
              "#d8576b"
             ],
             [
              0.6666666666666666,
              "#ed7953"
             ],
             [
              0.7777777777777778,
              "#fb9f3a"
             ],
             [
              0.8888888888888888,
              "#fdca26"
             ],
             [
              1,
              "#f0f921"
             ]
            ],
            "type": "histogram2dcontour"
           }
          ],
          "mesh3d": [
           {
            "colorbar": {
             "outlinewidth": 0,
             "ticks": ""
            },
            "type": "mesh3d"
           }
          ],
          "parcoords": [
           {
            "line": {
             "colorbar": {
              "outlinewidth": 0,
              "ticks": ""
             }
            },
            "type": "parcoords"
           }
          ],
          "pie": [
           {
            "automargin": true,
            "type": "pie"
           }
          ],
          "scatter": [
           {
            "marker": {
             "colorbar": {
              "outlinewidth": 0,
              "ticks": ""
             }
            },
            "type": "scatter"
           }
          ],
          "scatter3d": [
           {
            "line": {
             "colorbar": {
              "outlinewidth": 0,
              "ticks": ""
             }
            },
            "marker": {
             "colorbar": {
              "outlinewidth": 0,
              "ticks": ""
             }
            },
            "type": "scatter3d"
           }
          ],
          "scattercarpet": [
           {
            "marker": {
             "colorbar": {
              "outlinewidth": 0,
              "ticks": ""
             }
            },
            "type": "scattercarpet"
           }
          ],
          "scattergeo": [
           {
            "marker": {
             "colorbar": {
              "outlinewidth": 0,
              "ticks": ""
             }
            },
            "type": "scattergeo"
           }
          ],
          "scattergl": [
           {
            "marker": {
             "colorbar": {
              "outlinewidth": 0,
              "ticks": ""
             }
            },
            "type": "scattergl"
           }
          ],
          "scattermapbox": [
           {
            "marker": {
             "colorbar": {
              "outlinewidth": 0,
              "ticks": ""
             }
            },
            "type": "scattermapbox"
           }
          ],
          "scatterpolar": [
           {
            "marker": {
             "colorbar": {
              "outlinewidth": 0,
              "ticks": ""
             }
            },
            "type": "scatterpolar"
           }
          ],
          "scatterpolargl": [
           {
            "marker": {
             "colorbar": {
              "outlinewidth": 0,
              "ticks": ""
             }
            },
            "type": "scatterpolargl"
           }
          ],
          "scatterternary": [
           {
            "marker": {
             "colorbar": {
              "outlinewidth": 0,
              "ticks": ""
             }
            },
            "type": "scatterternary"
           }
          ],
          "surface": [
           {
            "colorbar": {
             "outlinewidth": 0,
             "ticks": ""
            },
            "colorscale": [
             [
              0,
              "#0d0887"
             ],
             [
              0.1111111111111111,
              "#46039f"
             ],
             [
              0.2222222222222222,
              "#7201a8"
             ],
             [
              0.3333333333333333,
              "#9c179e"
             ],
             [
              0.4444444444444444,
              "#bd3786"
             ],
             [
              0.5555555555555556,
              "#d8576b"
             ],
             [
              0.6666666666666666,
              "#ed7953"
             ],
             [
              0.7777777777777778,
              "#fb9f3a"
             ],
             [
              0.8888888888888888,
              "#fdca26"
             ],
             [
              1,
              "#f0f921"
             ]
            ],
            "type": "surface"
           }
          ],
          "table": [
           {
            "cells": {
             "fill": {
              "color": "#EBF0F8"
             },
             "line": {
              "color": "white"
             }
            },
            "header": {
             "fill": {
              "color": "#C8D4E3"
             },
             "line": {
              "color": "white"
             }
            },
            "type": "table"
           }
          ]
         },
         "layout": {
          "annotationdefaults": {
           "arrowcolor": "#2a3f5f",
           "arrowhead": 0,
           "arrowwidth": 1
          },
          "autotypenumbers": "strict",
          "coloraxis": {
           "colorbar": {
            "outlinewidth": 0,
            "ticks": ""
           }
          },
          "colorscale": {
           "diverging": [
            [
             0,
             "#8e0152"
            ],
            [
             0.1,
             "#c51b7d"
            ],
            [
             0.2,
             "#de77ae"
            ],
            [
             0.3,
             "#f1b6da"
            ],
            [
             0.4,
             "#fde0ef"
            ],
            [
             0.5,
             "#f7f7f7"
            ],
            [
             0.6,
             "#e6f5d0"
            ],
            [
             0.7,
             "#b8e186"
            ],
            [
             0.8,
             "#7fbc41"
            ],
            [
             0.9,
             "#4d9221"
            ],
            [
             1,
             "#276419"
            ]
           ],
           "sequential": [
            [
             0,
             "#0d0887"
            ],
            [
             0.1111111111111111,
             "#46039f"
            ],
            [
             0.2222222222222222,
             "#7201a8"
            ],
            [
             0.3333333333333333,
             "#9c179e"
            ],
            [
             0.4444444444444444,
             "#bd3786"
            ],
            [
             0.5555555555555556,
             "#d8576b"
            ],
            [
             0.6666666666666666,
             "#ed7953"
            ],
            [
             0.7777777777777778,
             "#fb9f3a"
            ],
            [
             0.8888888888888888,
             "#fdca26"
            ],
            [
             1,
             "#f0f921"
            ]
           ],
           "sequentialminus": [
            [
             0,
             "#0d0887"
            ],
            [
             0.1111111111111111,
             "#46039f"
            ],
            [
             0.2222222222222222,
             "#7201a8"
            ],
            [
             0.3333333333333333,
             "#9c179e"
            ],
            [
             0.4444444444444444,
             "#bd3786"
            ],
            [
             0.5555555555555556,
             "#d8576b"
            ],
            [
             0.6666666666666666,
             "#ed7953"
            ],
            [
             0.7777777777777778,
             "#fb9f3a"
            ],
            [
             0.8888888888888888,
             "#fdca26"
            ],
            [
             1,
             "#f0f921"
            ]
           ]
          },
          "colorway": [
           "#636efa",
           "#EF553B",
           "#00cc96",
           "#ab63fa",
           "#FFA15A",
           "#19d3f3",
           "#FF6692",
           "#B6E880",
           "#FF97FF",
           "#FECB52"
          ],
          "font": {
           "color": "#2a3f5f"
          },
          "geo": {
           "bgcolor": "white",
           "lakecolor": "white",
           "landcolor": "#E5ECF6",
           "showlakes": true,
           "showland": true,
           "subunitcolor": "white"
          },
          "hoverlabel": {
           "align": "left"
          },
          "hovermode": "closest",
          "mapbox": {
           "style": "light"
          },
          "paper_bgcolor": "white",
          "plot_bgcolor": "#E5ECF6",
          "polar": {
           "angularaxis": {
            "gridcolor": "white",
            "linecolor": "white",
            "ticks": ""
           },
           "bgcolor": "#E5ECF6",
           "radialaxis": {
            "gridcolor": "white",
            "linecolor": "white",
            "ticks": ""
           }
          },
          "scene": {
           "xaxis": {
            "backgroundcolor": "#E5ECF6",
            "gridcolor": "white",
            "gridwidth": 2,
            "linecolor": "white",
            "showbackground": true,
            "ticks": "",
            "zerolinecolor": "white"
           },
           "yaxis": {
            "backgroundcolor": "#E5ECF6",
            "gridcolor": "white",
            "gridwidth": 2,
            "linecolor": "white",
            "showbackground": true,
            "ticks": "",
            "zerolinecolor": "white"
           },
           "zaxis": {
            "backgroundcolor": "#E5ECF6",
            "gridcolor": "white",
            "gridwidth": 2,
            "linecolor": "white",
            "showbackground": true,
            "ticks": "",
            "zerolinecolor": "white"
           }
          },
          "shapedefaults": {
           "line": {
            "color": "#2a3f5f"
           }
          },
          "ternary": {
           "aaxis": {
            "gridcolor": "white",
            "linecolor": "white",
            "ticks": ""
           },
           "baxis": {
            "gridcolor": "white",
            "linecolor": "white",
            "ticks": ""
           },
           "bgcolor": "#E5ECF6",
           "caxis": {
            "gridcolor": "white",
            "linecolor": "white",
            "ticks": ""
           }
          },
          "title": {
           "x": 0.05
          },
          "xaxis": {
           "automargin": true,
           "gridcolor": "white",
           "linecolor": "white",
           "ticks": "",
           "title": {
            "standoff": 15
           },
           "zerolinecolor": "white",
           "zerolinewidth": 2
          },
          "yaxis": {
           "automargin": true,
           "gridcolor": "white",
           "linecolor": "white",
           "ticks": "",
           "title": {
            "standoff": 15
           },
           "zerolinecolor": "white",
           "zerolinewidth": 2
          }
         }
        },
        "title": {
         "text": "Categorical cardinality"
        },
        "width": 800,
        "xaxis": {
         "domain": [
          0.25,
          1
         ],
         "title": {
          "font": {
           "color": "rgb(107, 107, 107)",
           "size": 16
          },
          "text": "Number of categories"
         }
        }
       }
      },
      "text/html": [
       "<div>                            <div id=\"d9656146-516c-4494-819f-a36b333ecbbe\" class=\"plotly-graph-div\" style=\"height:1600px; width:800px;\"></div>            <script type=\"text/javascript\">                require([\"plotly\"], function(Plotly) {                    window.PLOTLYENV=window.PLOTLYENV || {};                                    if (document.getElementById(\"d9656146-516c-4494-819f-a36b333ecbbe\")) {                    Plotly.newPlot(                        \"d9656146-516c-4494-819f-a36b333ecbbe\",                        [{\"marker\":{\"color\":\"rgb(49,130,189)\"},\"name\":\"train\",\"orientation\":\"h\",\"type\":\"bar\",\"x\":[51,56,118,7675,26148],\"y\":[\"TimeSunRise\",\"TimeSunSet\",\"Data\",\"Time\",\"UNIXTime\"]}],                        {\"bargap\":0.1,\"bargroupgap\":0.1,\"barmode\":\"group\",\"height\":1600,\"template\":{\"data\":{\"bar\":[{\"error_x\":{\"color\":\"#2a3f5f\"},\"error_y\":{\"color\":\"#2a3f5f\"},\"marker\":{\"line\":{\"color\":\"#E5ECF6\",\"width\":0.5},\"pattern\":{\"fillmode\":\"overlay\",\"size\":10,\"solidity\":0.2}},\"type\":\"bar\"}],\"barpolar\":[{\"marker\":{\"line\":{\"color\":\"#E5ECF6\",\"width\":0.5},\"pattern\":{\"fillmode\":\"overlay\",\"size\":10,\"solidity\":0.2}},\"type\":\"barpolar\"}],\"carpet\":[{\"aaxis\":{\"endlinecolor\":\"#2a3f5f\",\"gridcolor\":\"white\",\"linecolor\":\"white\",\"minorgridcolor\":\"white\",\"startlinecolor\":\"#2a3f5f\"},\"baxis\":{\"endlinecolor\":\"#2a3f5f\",\"gridcolor\":\"white\",\"linecolor\":\"white\",\"minorgridcolor\":\"white\",\"startlinecolor\":\"#2a3f5f\"},\"type\":\"carpet\"}],\"choropleth\":[{\"colorbar\":{\"outlinewidth\":0,\"ticks\":\"\"},\"type\":\"choropleth\"}],\"contour\":[{\"colorbar\":{\"outlinewidth\":0,\"ticks\":\"\"},\"colorscale\":[[0.0,\"#0d0887\"],[0.1111111111111111,\"#46039f\"],[0.2222222222222222,\"#7201a8\"],[0.3333333333333333,\"#9c179e\"],[0.4444444444444444,\"#bd3786\"],[0.5555555555555556,\"#d8576b\"],[0.6666666666666666,\"#ed7953\"],[0.7777777777777778,\"#fb9f3a\"],[0.8888888888888888,\"#fdca26\"],[1.0,\"#f0f921\"]],\"type\":\"contour\"}],\"contourcarpet\":[{\"colorbar\":{\"outlinewidth\":0,\"ticks\":\"\"},\"type\":\"contourcarpet\"}],\"heatmap\":[{\"colorbar\":{\"outlinewidth\":0,\"ticks\":\"\"},\"colorscale\":[[0.0,\"#0d0887\"],[0.1111111111111111,\"#46039f\"],[0.2222222222222222,\"#7201a8\"],[0.3333333333333333,\"#9c179e\"],[0.4444444444444444,\"#bd3786\"],[0.5555555555555556,\"#d8576b\"],[0.6666666666666666,\"#ed7953\"],[0.7777777777777778,\"#fb9f3a\"],[0.8888888888888888,\"#fdca26\"],[1.0,\"#f0f921\"]],\"type\":\"heatmap\"}],\"heatmapgl\":[{\"colorbar\":{\"outlinewidth\":0,\"ticks\":\"\"},\"colorscale\":[[0.0,\"#0d0887\"],[0.1111111111111111,\"#46039f\"],[0.2222222222222222,\"#7201a8\"],[0.3333333333333333,\"#9c179e\"],[0.4444444444444444,\"#bd3786\"],[0.5555555555555556,\"#d8576b\"],[0.6666666666666666,\"#ed7953\"],[0.7777777777777778,\"#fb9f3a\"],[0.8888888888888888,\"#fdca26\"],[1.0,\"#f0f921\"]],\"type\":\"heatmapgl\"}],\"histogram\":[{\"marker\":{\"pattern\":{\"fillmode\":\"overlay\",\"size\":10,\"solidity\":0.2}},\"type\":\"histogram\"}],\"histogram2d\":[{\"colorbar\":{\"outlinewidth\":0,\"ticks\":\"\"},\"colorscale\":[[0.0,\"#0d0887\"],[0.1111111111111111,\"#46039f\"],[0.2222222222222222,\"#7201a8\"],[0.3333333333333333,\"#9c179e\"],[0.4444444444444444,\"#bd3786\"],[0.5555555555555556,\"#d8576b\"],[0.6666666666666666,\"#ed7953\"],[0.7777777777777778,\"#fb9f3a\"],[0.8888888888888888,\"#fdca26\"],[1.0,\"#f0f921\"]],\"type\":\"histogram2d\"}],\"histogram2dcontour\":[{\"colorbar\":{\"outlinewidth\":0,\"ticks\":\"\"},\"colorscale\":[[0.0,\"#0d0887\"],[0.1111111111111111,\"#46039f\"],[0.2222222222222222,\"#7201a8\"],[0.3333333333333333,\"#9c179e\"],[0.4444444444444444,\"#bd3786\"],[0.5555555555555556,\"#d8576b\"],[0.6666666666666666,\"#ed7953\"],[0.7777777777777778,\"#fb9f3a\"],[0.8888888888888888,\"#fdca26\"],[1.0,\"#f0f921\"]],\"type\":\"histogram2dcontour\"}],\"mesh3d\":[{\"colorbar\":{\"outlinewidth\":0,\"ticks\":\"\"},\"type\":\"mesh3d\"}],\"parcoords\":[{\"line\":{\"colorbar\":{\"outlinewidth\":0,\"ticks\":\"\"}},\"type\":\"parcoords\"}],\"pie\":[{\"automargin\":true,\"type\":\"pie\"}],\"scatter\":[{\"marker\":{\"colorbar\":{\"outlinewidth\":0,\"ticks\":\"\"}},\"type\":\"scatter\"}],\"scatter3d\":[{\"line\":{\"colorbar\":{\"outlinewidth\":0,\"ticks\":\"\"}},\"marker\":{\"colorbar\":{\"outlinewidth\":0,\"ticks\":\"\"}},\"type\":\"scatter3d\"}],\"scattercarpet\":[{\"marker\":{\"colorbar\":{\"outlinewidth\":0,\"ticks\":\"\"}},\"type\":\"scattercarpet\"}],\"scattergeo\":[{\"marker\":{\"colorbar\":{\"outlinewidth\":0,\"ticks\":\"\"}},\"type\":\"scattergeo\"}],\"scattergl\":[{\"marker\":{\"colorbar\":{\"outlinewidth\":0,\"ticks\":\"\"}},\"type\":\"scattergl\"}],\"scattermapbox\":[{\"marker\":{\"colorbar\":{\"outlinewidth\":0,\"ticks\":\"\"}},\"type\":\"scattermapbox\"}],\"scatterpolar\":[{\"marker\":{\"colorbar\":{\"outlinewidth\":0,\"ticks\":\"\"}},\"type\":\"scatterpolar\"}],\"scatterpolargl\":[{\"marker\":{\"colorbar\":{\"outlinewidth\":0,\"ticks\":\"\"}},\"type\":\"scatterpolargl\"}],\"scatterternary\":[{\"marker\":{\"colorbar\":{\"outlinewidth\":0,\"ticks\":\"\"}},\"type\":\"scatterternary\"}],\"surface\":[{\"colorbar\":{\"outlinewidth\":0,\"ticks\":\"\"},\"colorscale\":[[0.0,\"#0d0887\"],[0.1111111111111111,\"#46039f\"],[0.2222222222222222,\"#7201a8\"],[0.3333333333333333,\"#9c179e\"],[0.4444444444444444,\"#bd3786\"],[0.5555555555555556,\"#d8576b\"],[0.6666666666666666,\"#ed7953\"],[0.7777777777777778,\"#fb9f3a\"],[0.8888888888888888,\"#fdca26\"],[1.0,\"#f0f921\"]],\"type\":\"surface\"}],\"table\":[{\"cells\":{\"fill\":{\"color\":\"#EBF0F8\"},\"line\":{\"color\":\"white\"}},\"header\":{\"fill\":{\"color\":\"#C8D4E3\"},\"line\":{\"color\":\"white\"}},\"type\":\"table\"}]},\"layout\":{\"annotationdefaults\":{\"arrowcolor\":\"#2a3f5f\",\"arrowhead\":0,\"arrowwidth\":1},\"autotypenumbers\":\"strict\",\"coloraxis\":{\"colorbar\":{\"outlinewidth\":0,\"ticks\":\"\"}},\"colorscale\":{\"diverging\":[[0,\"#8e0152\"],[0.1,\"#c51b7d\"],[0.2,\"#de77ae\"],[0.3,\"#f1b6da\"],[0.4,\"#fde0ef\"],[0.5,\"#f7f7f7\"],[0.6,\"#e6f5d0\"],[0.7,\"#b8e186\"],[0.8,\"#7fbc41\"],[0.9,\"#4d9221\"],[1,\"#276419\"]],\"sequential\":[[0.0,\"#0d0887\"],[0.1111111111111111,\"#46039f\"],[0.2222222222222222,\"#7201a8\"],[0.3333333333333333,\"#9c179e\"],[0.4444444444444444,\"#bd3786\"],[0.5555555555555556,\"#d8576b\"],[0.6666666666666666,\"#ed7953\"],[0.7777777777777778,\"#fb9f3a\"],[0.8888888888888888,\"#fdca26\"],[1.0,\"#f0f921\"]],\"sequentialminus\":[[0.0,\"#0d0887\"],[0.1111111111111111,\"#46039f\"],[0.2222222222222222,\"#7201a8\"],[0.3333333333333333,\"#9c179e\"],[0.4444444444444444,\"#bd3786\"],[0.5555555555555556,\"#d8576b\"],[0.6666666666666666,\"#ed7953\"],[0.7777777777777778,\"#fb9f3a\"],[0.8888888888888888,\"#fdca26\"],[1.0,\"#f0f921\"]]},\"colorway\":[\"#636efa\",\"#EF553B\",\"#00cc96\",\"#ab63fa\",\"#FFA15A\",\"#19d3f3\",\"#FF6692\",\"#B6E880\",\"#FF97FF\",\"#FECB52\"],\"font\":{\"color\":\"#2a3f5f\"},\"geo\":{\"bgcolor\":\"white\",\"lakecolor\":\"white\",\"landcolor\":\"#E5ECF6\",\"showlakes\":true,\"showland\":true,\"subunitcolor\":\"white\"},\"hoverlabel\":{\"align\":\"left\"},\"hovermode\":\"closest\",\"mapbox\":{\"style\":\"light\"},\"paper_bgcolor\":\"white\",\"plot_bgcolor\":\"#E5ECF6\",\"polar\":{\"angularaxis\":{\"gridcolor\":\"white\",\"linecolor\":\"white\",\"ticks\":\"\"},\"bgcolor\":\"#E5ECF6\",\"radialaxis\":{\"gridcolor\":\"white\",\"linecolor\":\"white\",\"ticks\":\"\"}},\"scene\":{\"xaxis\":{\"backgroundcolor\":\"#E5ECF6\",\"gridcolor\":\"white\",\"gridwidth\":2,\"linecolor\":\"white\",\"showbackground\":true,\"ticks\":\"\",\"zerolinecolor\":\"white\"},\"yaxis\":{\"backgroundcolor\":\"#E5ECF6\",\"gridcolor\":\"white\",\"gridwidth\":2,\"linecolor\":\"white\",\"showbackground\":true,\"ticks\":\"\",\"zerolinecolor\":\"white\"},\"zaxis\":{\"backgroundcolor\":\"#E5ECF6\",\"gridcolor\":\"white\",\"gridwidth\":2,\"linecolor\":\"white\",\"showbackground\":true,\"ticks\":\"\",\"zerolinecolor\":\"white\"}},\"shapedefaults\":{\"line\":{\"color\":\"#2a3f5f\"}},\"ternary\":{\"aaxis\":{\"gridcolor\":\"white\",\"linecolor\":\"white\",\"ticks\":\"\"},\"baxis\":{\"gridcolor\":\"white\",\"linecolor\":\"white\",\"ticks\":\"\"},\"bgcolor\":\"#E5ECF6\",\"caxis\":{\"gridcolor\":\"white\",\"linecolor\":\"white\",\"ticks\":\"\"}},\"title\":{\"x\":0.05},\"xaxis\":{\"automargin\":true,\"gridcolor\":\"white\",\"linecolor\":\"white\",\"ticks\":\"\",\"title\":{\"standoff\":15},\"zerolinecolor\":\"white\",\"zerolinewidth\":2},\"yaxis\":{\"automargin\":true,\"gridcolor\":\"white\",\"linecolor\":\"white\",\"ticks\":\"\",\"title\":{\"standoff\":15},\"zerolinecolor\":\"white\",\"zerolinewidth\":2}}},\"title\":{\"text\":\"Categorical cardinality\"},\"width\":800,\"xaxis\":{\"domain\":[0.25,1],\"title\":{\"font\":{\"color\":\"rgb(107, 107, 107)\",\"size\":16},\"text\":\"Number of categories\"}}},                        {\"responsive\": true}                    ).then(function(){\n",
       "                            \n",
       "var gd = document.getElementById('d9656146-516c-4494-819f-a36b333ecbbe');\n",
       "var x = new MutationObserver(function (mutations, observer) {{\n",
       "        var display = window.getComputedStyle(gd).display;\n",
       "        if (!display || display === 'none') {{\n",
       "            console.log([gd, 'removed!']);\n",
       "            Plotly.purge(gd);\n",
       "            observer.disconnect();\n",
       "        }}\n",
       "}});\n",
       "\n",
       "// Listen for the removal of the full notebook cells\n",
       "var notebookContainer = gd.closest('#notebook-container');\n",
       "if (notebookContainer) {{\n",
       "    x.observe(notebookContainer, {childList: true});\n",
       "}}\n",
       "\n",
       "// Listen for the clearing of the current output cell\n",
       "var outputEl = gd.closest('.output');\n",
       "if (outputEl) {{\n",
       "    x.observe(outputEl, {childList: true});\n",
       "}}\n",
       "\n",
       "                        })                };                });            </script>        </div>"
      ]
     },
     "metadata": {},
     "output_type": "display_data"
    }
   ],
   "source": [
    "# PLot cardinality\n",
    "cardinality = []\n",
    "for c in categorical_columns:\n",
    "    \n",
    "    cardinality.append([c, train[c].nunique()])\n",
    "\n",
    "# Sort\n",
    "cardinality.sort(key = lambda x:x[1], reverse=False)\n",
    "\n",
    "# Plot\n",
    "trace = go.Bar(y=[x[0] for x in cardinality],\n",
    "               x=[x[1] for x in cardinality],\n",
    "               orientation='h', marker=dict(color='rgb(49,130,189)'), name='train')\n",
    "\n",
    "layout = go.Layout(\n",
    "    title='Categorical cardinality', height=1600, width=800,\n",
    "    xaxis=dict(\n",
    "        title='Number of categories',\n",
    "        titlefont=dict(size=16, color='rgb(107, 107, 107)'),\n",
    "        domain=[0.25, 1]\n",
    "    ),\n",
    "    barmode='group',\n",
    "    bargap=0.1,\n",
    "    bargroupgap=0.1\n",
    ")\n",
    "\n",
    "fig = go.Figure(data=[trace], layout=layout)\n",
    "py.iplot(fig)"
   ]
  },
  {
   "cell_type": "code",
   "execution_count": 167,
   "id": "bbd56777",
   "metadata": {
    "ExecuteTime": {
     "end_time": "2021-12-15T10:12:16.305068Z",
     "start_time": "2021-12-15T10:12:15.763189Z"
    }
   },
   "outputs": [
    {
     "data": {
      "text/plain": [
       "<AxesSubplot:>"
      ]
     },
     "execution_count": 167,
     "metadata": {},
     "output_type": "execute_result"
    },
    {
     "data": {
      "image/png": "[encoded data removed]",
      "text/plain": [
       "<Figure size 600x400 with 1 Axes>"
      ]
     },
     "metadata": {},
     "output_type": "display_data"
    }
   ],
   "source": [
    "# Get count of target class\n",
    "train['Radiation'].value_counts().hist()"
   ]
  },
  {
   "cell_type": "markdown",
   "id": "7a36e2b6",
   "metadata": {},
   "source": [
    "### Check Correlations \n",
    "\n",
    "You can plot a correlation matrix to check correlation between variables. Each cell in the matrix shows the correlation between two variables."
   ]
  },
  {
   "cell_type": "code",
   "execution_count": 168,
   "id": "e69381e1",
   "metadata": {
    "ExecuteTime": {
     "end_time": "2021-12-15T10:12:17.763171Z",
     "start_time": "2021-12-15T10:12:16.309057Z"
    }
   },
   "outputs": [
    {
     "data": {
      "image/png": "[encoded data removed]",
      "text/plain": [
       "<Figure size 3000x3000 with 2 Axes>"
      ]
     },
     "metadata": {},
     "output_type": "display_data"
    }
   ],
   "source": [
    "# Let's check the correlations between all variables\n",
    "plt.figure(figsize=(30,30))\n",
    "p=sns.heatmap(train.corr(), annot=True,cmap='RdYlGn',center=0) "
   ]
  },
  {
   "cell_type": "code",
   "execution_count": 169,
   "id": "48404373",
   "metadata": {
    "ExecuteTime": {
     "end_time": "2021-12-15T10:12:17.808049Z",
     "start_time": "2021-12-15T10:12:17.769155Z"
    }
   },
   "outputs": [
    {
     "data": {
      "text/html": [
       "<div>\n",
       "<style scoped>\n",
       "    .dataframe tbody tr th:only-of-type {\n",
       "        vertical-align: middle;\n",
       "    }\n",
       "\n",
       "    .dataframe tbody tr th {\n",
       "        vertical-align: top;\n",
       "    }\n",
       "\n",
       "    .dataframe thead th {\n",
       "        text-align: right;\n",
       "    }\n",
       "</style>\n",
       "<table border=\"1\" class=\"dataframe\">\n",
       "  <thead>\n",
       "    <tr style=\"text-align: right;\">\n",
       "      <th></th>\n",
       "      <th>Time</th>\n",
       "      <th>Radiation</th>\n",
       "    </tr>\n",
       "  </thead>\n",
       "  <tbody>\n",
       "    <tr>\n",
       "      <th>21409</th>\n",
       "      <td>2021-12-15 12:15:04</td>\n",
       "      <td>1601.26</td>\n",
       "    </tr>\n",
       "  </tbody>\n",
       "</table>\n",
       "</div>"
      ],
      "text/plain": [
       "                      Time  Radiation\n",
       "21409  2021-12-15 12:15:04    1601.26"
      ]
     },
     "execution_count": 169,
     "metadata": {},
     "output_type": "execute_result"
    }
   ],
   "source": [
    "train[[\"Time\",\"Radiation\"]] [train[\"Radiation\"]== train[\"Radiation\"].max()]"
   ]
  },
  {
   "cell_type": "code",
   "execution_count": 170,
   "id": "edb5025e",
   "metadata": {
    "ExecuteTime": {
     "end_time": "2021-12-15T10:12:17.995323Z",
     "start_time": "2021-12-15T10:12:17.812040Z"
    }
   },
   "outputs": [
    {
     "data": {
      "text/html": [
       "<div>\n",
       "<style scoped>\n",
       "    .dataframe tbody tr th:only-of-type {\n",
       "        vertical-align: middle;\n",
       "    }\n",
       "\n",
       "    .dataframe tbody tr th {\n",
       "        vertical-align: top;\n",
       "    }\n",
       "\n",
       "    .dataframe thead th {\n",
       "        text-align: right;\n",
       "    }\n",
       "</style>\n",
       "<table border=\"1\" class=\"dataframe\">\n",
       "  <thead>\n",
       "    <tr style=\"text-align: right;\">\n",
       "      <th></th>\n",
       "      <th>Average Radiation</th>\n",
       "    </tr>\n",
       "    <tr>\n",
       "      <th>WindDirection(Degrees)</th>\n",
       "      <th></th>\n",
       "    </tr>\n",
       "  </thead>\n",
       "  <tbody>\n",
       "    <tr>\n",
       "      <th>0.09</th>\n",
       "      <td>1.225000</td>\n",
       "    </tr>\n",
       "    <tr>\n",
       "      <th>0.10</th>\n",
       "      <td>336.666774</td>\n",
       "    </tr>\n",
       "    <tr>\n",
       "      <th>0.11</th>\n",
       "      <td>618.390000</td>\n",
       "    </tr>\n",
       "    <tr>\n",
       "      <th>0.12</th>\n",
       "      <td>612.079310</td>\n",
       "    </tr>\n",
       "    <tr>\n",
       "      <th>0.13</th>\n",
       "      <td>652.078750</td>\n",
       "    </tr>\n",
       "  </tbody>\n",
       "</table>\n",
       "</div>"
      ],
      "text/plain": [
       "                        Average Radiation\n",
       "WindDirection(Degrees)                   \n",
       "0.09                             1.225000\n",
       "0.10                           336.666774\n",
       "0.11                           618.390000\n",
       "0.12                           612.079310\n",
       "0.13                           652.078750"
      ]
     },
     "execution_count": 170,
     "metadata": {},
     "output_type": "execute_result"
    }
   ],
   "source": [
    "avg_rad = pd.DataFrame(train.groupby('WindDirection(Degrees)')['Radiation'].mean())\n",
    "avg_rad.columns = ['Average Radiation']\n",
    "avg_rad.head()"
   ]
  },
  {
   "cell_type": "code",
   "execution_count": 171,
   "id": "2de4b3d8",
   "metadata": {
    "ExecuteTime": {
     "end_time": "2021-12-15T10:12:18.151269Z",
     "start_time": "2021-12-15T10:12:18.000312Z"
    }
   },
   "outputs": [
    {
     "data": {
      "text/plain": [
       "count    26148.000000\n",
       "mean        51.104865\n",
       "std          6.213912\n",
       "min         34.000000\n",
       "25%         46.000000\n",
       "50%         50.000000\n",
       "75%         55.000000\n",
       "max         71.000000\n",
       "Name: Temperature, dtype: float64"
      ]
     },
     "execution_count": 171,
     "metadata": {},
     "output_type": "execute_result"
    }
   ],
   "source": [
    "train[\"Temperature\"].describe()"
   ]
  },
  {
   "cell_type": "code",
   "execution_count": 172,
   "id": "8f2b6887",
   "metadata": {
    "ExecuteTime": {
     "end_time": "2021-12-15T10:12:18.338490Z",
     "start_time": "2021-12-15T10:12:18.158248Z"
    }
   },
   "outputs": [
    {
     "data": {
      "text/html": [
       "<div>\n",
       "<style scoped>\n",
       "    .dataframe tbody tr th:only-of-type {\n",
       "        vertical-align: middle;\n",
       "    }\n",
       "\n",
       "    .dataframe tbody tr th {\n",
       "        vertical-align: top;\n",
       "    }\n",
       "\n",
       "    .dataframe thead th {\n",
       "        text-align: right;\n",
       "    }\n",
       "</style>\n",
       "<table border=\"1\" class=\"dataframe\">\n",
       "  <thead>\n",
       "    <tr style=\"text-align: right;\">\n",
       "      <th></th>\n",
       "      <th>Radiation Max</th>\n",
       "      <th>Temperature</th>\n",
       "    </tr>\n",
       "  </thead>\n",
       "  <tbody>\n",
       "    <tr>\n",
       "      <th>27</th>\n",
       "      <td>1601.26</td>\n",
       "      <td>61</td>\n",
       "    </tr>\n",
       "    <tr>\n",
       "      <th>26</th>\n",
       "      <td>1475.40</td>\n",
       "      <td>60</td>\n",
       "    </tr>\n",
       "    <tr>\n",
       "      <th>24</th>\n",
       "      <td>1451.41</td>\n",
       "      <td>58</td>\n",
       "    </tr>\n",
       "    <tr>\n",
       "      <th>19</th>\n",
       "      <td>1410.52</td>\n",
       "      <td>53</td>\n",
       "    </tr>\n",
       "    <tr>\n",
       "      <th>29</th>\n",
       "      <td>1387.17</td>\n",
       "      <td>63</td>\n",
       "    </tr>\n",
       "    <tr>\n",
       "      <th>23</th>\n",
       "      <td>1288.17</td>\n",
       "      <td>57</td>\n",
       "    </tr>\n",
       "    <tr>\n",
       "      <th>25</th>\n",
       "      <td>1279.23</td>\n",
       "      <td>59</td>\n",
       "    </tr>\n",
       "    <tr>\n",
       "      <th>30</th>\n",
       "      <td>1264.07</td>\n",
       "      <td>64</td>\n",
       "    </tr>\n",
       "    <tr>\n",
       "      <th>28</th>\n",
       "      <td>1248.63</td>\n",
       "      <td>62</td>\n",
       "    </tr>\n",
       "    <tr>\n",
       "      <th>20</th>\n",
       "      <td>1239.78</td>\n",
       "      <td>54</td>\n",
       "    </tr>\n",
       "  </tbody>\n",
       "</table>\n",
       "</div>"
      ],
      "text/plain": [
       "    Radiation Max   Temperature\n",
       "27         1601.26           61\n",
       "26         1475.40           60\n",
       "24         1451.41           58\n",
       "19         1410.52           53\n",
       "29         1387.17           63\n",
       "23         1288.17           57\n",
       "25         1279.23           59\n",
       "30         1264.07           64\n",
       "28         1248.63           62\n",
       "20         1239.78           54"
      ]
     },
     "execution_count": 172,
     "metadata": {},
     "output_type": "execute_result"
    }
   ],
   "source": [
    "temp_rad = train.groupby(['Temperature'], as_index=False)[['Radiation','Temperature']].max().sort_values(by='Radiation', ascending = False)\n",
    "trans_rad = temp_rad.rename(columns = {'Radiation':'Radiation Max '})\n",
    "trans_rad.head(10)"
   ]
  },
  {
   "cell_type": "code",
   "execution_count": 173,
   "id": "36d03078",
   "metadata": {
    "ExecuteTime": {
     "end_time": "2021-12-15T10:12:18.603889Z",
     "start_time": "2021-12-15T10:12:18.343469Z"
    }
   },
   "outputs": [
    {
     "data": {
      "text/html": [
       "<div>\n",
       "<style scoped>\n",
       "    .dataframe tbody tr th:only-of-type {\n",
       "        vertical-align: middle;\n",
       "    }\n",
       "\n",
       "    .dataframe tbody tr th {\n",
       "        vertical-align: top;\n",
       "    }\n",
       "\n",
       "    .dataframe thead th {\n",
       "        text-align: right;\n",
       "    }\n",
       "</style>\n",
       "<table border=\"1\" class=\"dataframe\">\n",
       "  <thead>\n",
       "    <tr style=\"text-align: right;\">\n",
       "      <th></th>\n",
       "      <th>sum</th>\n",
       "      <th>mean</th>\n",
       "      <th>std</th>\n",
       "    </tr>\n",
       "    <tr>\n",
       "      <th>Radiation</th>\n",
       "      <th></th>\n",
       "      <th></th>\n",
       "      <th></th>\n",
       "    </tr>\n",
       "  </thead>\n",
       "  <tbody>\n",
       "    <tr>\n",
       "      <th>1.13</th>\n",
       "      <td>91.17</td>\n",
       "      <td>30.390000</td>\n",
       "      <td>0.051962</td>\n",
       "    </tr>\n",
       "    <tr>\n",
       "      <th>1.14</th>\n",
       "      <td>121.58</td>\n",
       "      <td>30.395000</td>\n",
       "      <td>0.020817</td>\n",
       "    </tr>\n",
       "    <tr>\n",
       "      <th>1.15</th>\n",
       "      <td>1064.27</td>\n",
       "      <td>30.407714</td>\n",
       "      <td>0.057858</td>\n",
       "    </tr>\n",
       "    <tr>\n",
       "      <th>1.16</th>\n",
       "      <td>2067.59</td>\n",
       "      <td>30.405735</td>\n",
       "      <td>0.059156</td>\n",
       "    </tr>\n",
       "    <tr>\n",
       "      <th>1.17</th>\n",
       "      <td>5351.52</td>\n",
       "      <td>30.406364</td>\n",
       "      <td>0.060080</td>\n",
       "    </tr>\n",
       "    <tr>\n",
       "      <th>...</th>\n",
       "      <td>...</td>\n",
       "      <td>...</td>\n",
       "      <td>...</td>\n",
       "    </tr>\n",
       "    <tr>\n",
       "      <th>1387.17</th>\n",
       "      <td>30.40</td>\n",
       "      <td>30.400000</td>\n",
       "      <td>NaN</td>\n",
       "    </tr>\n",
       "    <tr>\n",
       "      <th>1410.52</th>\n",
       "      <td>30.49</td>\n",
       "      <td>30.490000</td>\n",
       "      <td>NaN</td>\n",
       "    </tr>\n",
       "    <tr>\n",
       "      <th>1451.41</th>\n",
       "      <td>30.43</td>\n",
       "      <td>30.430000</td>\n",
       "      <td>NaN</td>\n",
       "    </tr>\n",
       "    <tr>\n",
       "      <th>1475.40</th>\n",
       "      <td>30.48</td>\n",
       "      <td>30.480000</td>\n",
       "      <td>NaN</td>\n",
       "    </tr>\n",
       "    <tr>\n",
       "      <th>1601.26</th>\n",
       "      <td>30.47</td>\n",
       "      <td>30.470000</td>\n",
       "      <td>NaN</td>\n",
       "    </tr>\n",
       "  </tbody>\n",
       "</table>\n",
       "<p>11826 rows × 3 columns</p>\n",
       "</div>"
      ],
      "text/plain": [
       "               sum       mean       std\n",
       "Radiation                              \n",
       "1.13         91.17  30.390000  0.051962\n",
       "1.14        121.58  30.395000  0.020817\n",
       "1.15       1064.27  30.407714  0.057858\n",
       "1.16       2067.59  30.405735  0.059156\n",
       "1.17       5351.52  30.406364  0.060080\n",
       "...            ...        ...       ...\n",
       "1387.17      30.40  30.400000       NaN\n",
       "1410.52      30.49  30.490000       NaN\n",
       "1451.41      30.43  30.430000       NaN\n",
       "1475.40      30.48  30.480000       NaN\n",
       "1601.26      30.47  30.470000       NaN\n",
       "\n",
       "[11826 rows x 3 columns]"
      ]
     },
     "execution_count": 173,
     "metadata": {},
     "output_type": "execute_result"
    }
   ],
   "source": [
    "(train\n",
    " .sort_values('Radiation')\n",
    " .groupby('Radiation')['Pressure']\n",
    " .agg(['sum', 'mean', 'std'])\n",
    " )"
   ]
  },
  {
   "cell_type": "code",
   "execution_count": 174,
   "id": "3b755994",
   "metadata": {
    "ExecuteTime": {
     "end_time": "2021-12-15T10:12:18.664727Z",
     "start_time": "2021-12-15T10:12:18.606880Z"
    }
   },
   "outputs": [
    {
     "data": {
      "text/html": [
       "<div>\n",
       "<style scoped>\n",
       "    .dataframe tbody tr th:only-of-type {\n",
       "        vertical-align: middle;\n",
       "    }\n",
       "\n",
       "    .dataframe tbody tr th {\n",
       "        vertical-align: top;\n",
       "    }\n",
       "\n",
       "    .dataframe thead th {\n",
       "        text-align: right;\n",
       "    }\n",
       "</style>\n",
       "<table border=\"1\" class=\"dataframe\">\n",
       "  <thead>\n",
       "    <tr style=\"text-align: right;\">\n",
       "      <th></th>\n",
       "      <th>Temperature</th>\n",
       "      <th>Radiation</th>\n",
       "    </tr>\n",
       "  </thead>\n",
       "  <tbody>\n",
       "    <tr>\n",
       "      <th>22344</th>\n",
       "      <td>34</td>\n",
       "      <td>1.21</td>\n",
       "    </tr>\n",
       "  </tbody>\n",
       "</table>\n",
       "</div>"
      ],
      "text/plain": [
       "       Temperature  Radiation\n",
       "22344           34       1.21"
      ]
     },
     "execution_count": 174,
     "metadata": {},
     "output_type": "execute_result"
    }
   ],
   "source": [
    "train[[\"Temperature\",\"Radiation\"]] [train[\"Temperature\"]== train[\"Temperature\"].min()]"
   ]
  },
  {
   "cell_type": "markdown",
   "id": "33147ed0",
   "metadata": {},
   "source": [
    "## Analyze numerical columns (grouped by target class)"
   ]
  },
  {
   "cell_type": "code",
   "execution_count": 175,
   "id": "d2aab720",
   "metadata": {
    "ExecuteTime": {
     "end_time": "2021-12-15T10:12:18.959769Z",
     "start_time": "2021-12-15T10:12:18.668714Z"
    }
   },
   "outputs": [
    {
     "name": "stdout",
     "output_type": "stream",
     "text": [
      "(26148, 14)\n",
      "(6538, 13)\n"
     ]
    }
   ],
   "source": [
    "print(train.shape)\n",
    "print(test.shape)"
   ]
  },
  {
   "cell_type": "code",
   "execution_count": 176,
   "id": "888ec7be",
   "metadata": {
    "ExecuteTime": {
     "end_time": "2021-12-15T10:12:19.360379Z",
     "start_time": "2021-12-15T10:12:18.962761Z"
    }
   },
   "outputs": [
    {
     "name": "stdout",
     "output_type": "stream",
     "text": [
      "Old training shape (6538, 13)\n"
     ]
    }
   ],
   "source": [
    "# Training data\n",
    "print(\"Old training shape\",test.shape)\n",
    "for cols in train_numcols:\n",
    "    \n",
    "    # Remove outliers\n",
    "    Q1 = train[[cols]].quantile(0.25)\n",
    "    Q3 = train[[cols]].quantile(0.75)\n",
    "    IQR = Q3 - Q1\n",
    "    train = train[~((train[[cols]] < (Q1 - 1.5 * IQR)) |(train[[cols]] > (Q3 + 1.5 * IQR))).any(axis=1)]   \n",
    "    #df = train[~((train[[cols]] < (Q1 - 1.5 * IQR)) |(train[[cols]] > (Q3 + 1.5 * IQR))).any(axis=1)]   \n",
    "    train    "
   ]
  },
  {
   "cell_type": "code",
   "execution_count": 177,
   "id": "96479c77",
   "metadata": {
    "ExecuteTime": {
     "end_time": "2021-12-15T10:12:19.467092Z",
     "start_time": "2021-12-15T10:12:19.367358Z"
    }
   },
   "outputs": [
    {
     "name": "stdout",
     "output_type": "stream",
     "text": [
      "New training shape (21329, 14)\n"
     ]
    },
    {
     "data": {
      "text/html": [
       "<div>\n",
       "<style scoped>\n",
       "    .dataframe tbody tr th:only-of-type {\n",
       "        vertical-align: middle;\n",
       "    }\n",
       "\n",
       "    .dataframe tbody tr th {\n",
       "        vertical-align: top;\n",
       "    }\n",
       "\n",
       "    .dataframe thead th {\n",
       "        text-align: right;\n",
       "    }\n",
       "</style>\n",
       "<table border=\"1\" class=\"dataframe\">\n",
       "  <thead>\n",
       "    <tr style=\"text-align: right;\">\n",
       "      <th></th>\n",
       "      <th>UNIXTime</th>\n",
       "      <th>Data</th>\n",
       "      <th>Time</th>\n",
       "      <th>Temperature</th>\n",
       "      <th>Pressure</th>\n",
       "      <th>Humidity</th>\n",
       "      <th>WindDirection(Degrees)</th>\n",
       "      <th>Speed</th>\n",
       "      <th>TimeSunRise</th>\n",
       "      <th>TimeSunSet</th>\n",
       "      <th>Radiation</th>\n",
       "      <th>unixdiff_hrs</th>\n",
       "      <th>st_end_days</th>\n",
       "      <th>diff_hrs</th>\n",
       "    </tr>\n",
       "  </thead>\n",
       "  <tbody>\n",
       "    <tr>\n",
       "      <th>0</th>\n",
       "      <td>2016-09-14 18:50:05</td>\n",
       "      <td>2016-09-14 00:00:00</td>\n",
       "      <td>2021-12-15 08:50:05</td>\n",
       "      <td>57</td>\n",
       "      <td>30.45</td>\n",
       "      <td>68</td>\n",
       "      <td>26.70</td>\n",
       "      <td>4.50</td>\n",
       "      <td>2021-12-15 06:10:00</td>\n",
       "      <td>2021-12-15 18:26:00</td>\n",
       "      <td>680.04</td>\n",
       "      <td>46022.0</td>\n",
       "      <td>1918.368113</td>\n",
       "      <td>12.266667</td>\n",
       "    </tr>\n",
       "    <tr>\n",
       "      <th>1</th>\n",
       "      <td>2016-10-12 17:25:21</td>\n",
       "      <td>2016-10-12 00:00:00</td>\n",
       "      <td>2021-12-15 07:25:21</td>\n",
       "      <td>50</td>\n",
       "      <td>30.47</td>\n",
       "      <td>96</td>\n",
       "      <td>144.96</td>\n",
       "      <td>10.12</td>\n",
       "      <td>2021-12-15 06:16:00</td>\n",
       "      <td>2021-12-15 18:02:00</td>\n",
       "      <td>277.37</td>\n",
       "      <td>45350.0</td>\n",
       "      <td>1890.309271</td>\n",
       "      <td>11.766667</td>\n",
       "    </tr>\n",
       "    <tr>\n",
       "      <th>2</th>\n",
       "      <td>2016-11-01 09:40:20</td>\n",
       "      <td>2016-10-31 00:00:00</td>\n",
       "      <td>2021-12-15 23:40:20</td>\n",
       "      <td>47</td>\n",
       "      <td>30.48</td>\n",
       "      <td>56</td>\n",
       "      <td>119.52</td>\n",
       "      <td>3.37</td>\n",
       "      <td>2021-12-15 06:23:00</td>\n",
       "      <td>2021-12-15 17:49:00</td>\n",
       "      <td>1.29</td>\n",
       "      <td>44894.0</td>\n",
       "      <td>1871.986343</td>\n",
       "      <td>11.433333</td>\n",
       "    </tr>\n",
       "    <tr>\n",
       "      <th>3</th>\n",
       "      <td>2016-09-04 18:25:05</td>\n",
       "      <td>2016-09-04 00:00:00</td>\n",
       "      <td>2021-12-15 08:25:05</td>\n",
       "      <td>57</td>\n",
       "      <td>30.47</td>\n",
       "      <td>93</td>\n",
       "      <td>38.61</td>\n",
       "      <td>2.25</td>\n",
       "      <td>2021-12-15 06:08:00</td>\n",
       "      <td>2021-12-15 18:35:00</td>\n",
       "      <td>544.75</td>\n",
       "      <td>46262.0</td>\n",
       "      <td>1928.350752</td>\n",
       "      <td>12.450000</td>\n",
       "    </tr>\n",
       "    <tr>\n",
       "      <th>5</th>\n",
       "      <td>2016-12-29 12:45:43</td>\n",
       "      <td>2016-12-29 00:00:00</td>\n",
       "      <td>2021-12-15 02:45:43</td>\n",
       "      <td>37</td>\n",
       "      <td>30.35</td>\n",
       "      <td>54</td>\n",
       "      <td>177.00</td>\n",
       "      <td>6.75</td>\n",
       "      <td>2021-12-15 06:56:00</td>\n",
       "      <td>2021-12-15 17:53:00</td>\n",
       "      <td>1.15</td>\n",
       "      <td>43478.0</td>\n",
       "      <td>1812.115081</td>\n",
       "      <td>10.950000</td>\n",
       "    </tr>\n",
       "  </tbody>\n",
       "</table>\n",
       "</div>"
      ],
      "text/plain": [
       "              UNIXTime                 Data                 Time  Temperature  \\\n",
       "0  2016-09-14 18:50:05  2016-09-14 00:00:00  2021-12-15 08:50:05           57   \n",
       "1  2016-10-12 17:25:21  2016-10-12 00:00:00  2021-12-15 07:25:21           50   \n",
       "2  2016-11-01 09:40:20  2016-10-31 00:00:00  2021-12-15 23:40:20           47   \n",
       "3  2016-09-04 18:25:05  2016-09-04 00:00:00  2021-12-15 08:25:05           57   \n",
       "5  2016-12-29 12:45:43  2016-12-29 00:00:00  2021-12-15 02:45:43           37   \n",
       "\n",
       "   Pressure  Humidity  WindDirection(Degrees)  Speed          TimeSunRise  \\\n",
       "0     30.45        68                   26.70   4.50  2021-12-15 06:10:00   \n",
       "1     30.47        96                  144.96  10.12  2021-12-15 06:16:00   \n",
       "2     30.48        56                  119.52   3.37  2021-12-15 06:23:00   \n",
       "3     30.47        93                   38.61   2.25  2021-12-15 06:08:00   \n",
       "5     30.35        54                  177.00   6.75  2021-12-15 06:56:00   \n",
       "\n",
       "            TimeSunSet  Radiation  unixdiff_hrs  st_end_days   diff_hrs  \n",
       "0  2021-12-15 18:26:00     680.04       46022.0  1918.368113  12.266667  \n",
       "1  2021-12-15 18:02:00     277.37       45350.0  1890.309271  11.766667  \n",
       "2  2021-12-15 17:49:00       1.29       44894.0  1871.986343  11.433333  \n",
       "3  2021-12-15 18:35:00     544.75       46262.0  1928.350752  12.450000  \n",
       "5  2021-12-15 17:53:00       1.15       43478.0  1812.115081  10.950000  "
      ]
     },
     "execution_count": 177,
     "metadata": {},
     "output_type": "execute_result"
    }
   ],
   "source": [
    "print(\"New training shape\", train.shape)\n",
    "train.head()"
   ]
  },
  {
   "cell_type": "code",
   "execution_count": 178,
   "id": "72f3c49c",
   "metadata": {
    "ExecuteTime": {
     "end_time": "2021-12-15T10:12:19.725237Z",
     "start_time": "2021-12-15T10:12:19.472085Z"
    }
   },
   "outputs": [
    {
     "name": "stdout",
     "output_type": "stream",
     "text": [
      "Old test shape (6538, 13)\n"
     ]
    }
   ],
   "source": [
    "print(\"Old test shape\",test.shape)\n",
    "# TEsting data\n",
    "for cols in test_numcols:\n",
    "    \n",
    "    # Remove outliers\n",
    "    Q1 = test[[cols]].quantile(0.25)\n",
    "    Q3 = test[[cols]].quantile(0.75)\n",
    "    IQR = Q3 - Q1\n",
    "    test = test[~((test[[cols]] < (Q1 - 1.5 * IQR)) |(test[[cols]] > (Q3 + 1.5 * IQR))).any(axis=1)]        \n",
    "    test   "
   ]
  },
  {
   "cell_type": "code",
   "execution_count": 179,
   "id": "9f200be1",
   "metadata": {
    "ExecuteTime": {
     "end_time": "2021-12-15T10:12:19.804318Z",
     "start_time": "2021-12-15T10:12:19.728109Z"
    }
   },
   "outputs": [
    {
     "name": "stdout",
     "output_type": "stream",
     "text": [
      "new test shape (5787, 13)\n"
     ]
    },
    {
     "data": {
      "text/html": [
       "<div>\n",
       "<style scoped>\n",
       "    .dataframe tbody tr th:only-of-type {\n",
       "        vertical-align: middle;\n",
       "    }\n",
       "\n",
       "    .dataframe tbody tr th {\n",
       "        vertical-align: top;\n",
       "    }\n",
       "\n",
       "    .dataframe thead th {\n",
       "        text-align: right;\n",
       "    }\n",
       "</style>\n",
       "<table border=\"1\" class=\"dataframe\">\n",
       "  <thead>\n",
       "    <tr style=\"text-align: right;\">\n",
       "      <th></th>\n",
       "      <th>UNIXTime</th>\n",
       "      <th>Data</th>\n",
       "      <th>Time</th>\n",
       "      <th>Temperature</th>\n",
       "      <th>Pressure</th>\n",
       "      <th>Humidity</th>\n",
       "      <th>WindDirection(Degrees)</th>\n",
       "      <th>Speed</th>\n",
       "      <th>TimeSunRise</th>\n",
       "      <th>TimeSunSet</th>\n",
       "      <th>unixdiff_hrs</th>\n",
       "      <th>st_end_days</th>\n",
       "      <th>diff_hrs</th>\n",
       "    </tr>\n",
       "  </thead>\n",
       "  <tbody>\n",
       "    <tr>\n",
       "      <th>0</th>\n",
       "      <td>2016-11-09 19:35:07</td>\n",
       "      <td>2016-11-09 00:00:00</td>\n",
       "      <td>2021-12-15 09:35:07</td>\n",
       "      <td>59</td>\n",
       "      <td>30.47</td>\n",
       "      <td>44</td>\n",
       "      <td>312.67</td>\n",
       "      <td>3.37</td>\n",
       "      <td>2021-12-15 06:28:00</td>\n",
       "      <td>2021-12-15 17:45:00</td>\n",
       "      <td>44678.0</td>\n",
       "      <td>1862.399387</td>\n",
       "      <td>11.283333</td>\n",
       "    </tr>\n",
       "    <tr>\n",
       "      <th>1</th>\n",
       "      <td>2016-09-16 22:05:03</td>\n",
       "      <td>2016-09-16 00:00:00</td>\n",
       "      <td>2021-12-15 12:05:03</td>\n",
       "      <td>59</td>\n",
       "      <td>30.48</td>\n",
       "      <td>83</td>\n",
       "      <td>38.01</td>\n",
       "      <td>6.75</td>\n",
       "      <td>2021-12-15 06:10:00</td>\n",
       "      <td>2021-12-15 18:25:00</td>\n",
       "      <td>45974.0</td>\n",
       "      <td>1916.503507</td>\n",
       "      <td>12.250000</td>\n",
       "    </tr>\n",
       "    <tr>\n",
       "      <th>2</th>\n",
       "      <td>2016-10-10 14:20:21</td>\n",
       "      <td>2016-10-10 00:00:00</td>\n",
       "      <td>2021-12-15 04:20:21</td>\n",
       "      <td>47</td>\n",
       "      <td>30.39</td>\n",
       "      <td>78</td>\n",
       "      <td>213.62</td>\n",
       "      <td>5.62</td>\n",
       "      <td>2021-12-15 06:16:00</td>\n",
       "      <td>2021-12-15 18:03:00</td>\n",
       "      <td>45398.0</td>\n",
       "      <td>1892.180799</td>\n",
       "      <td>11.783333</td>\n",
       "    </tr>\n",
       "    <tr>\n",
       "      <th>3</th>\n",
       "      <td>2016-12-11 16:50:56</td>\n",
       "      <td>2016-12-11 00:00:00</td>\n",
       "      <td>2021-12-15 06:50:56</td>\n",
       "      <td>45</td>\n",
       "      <td>30.40</td>\n",
       "      <td>98</td>\n",
       "      <td>176.63</td>\n",
       "      <td>4.50</td>\n",
       "      <td>2021-12-15 06:47:00</td>\n",
       "      <td>2021-12-15 17:44:00</td>\n",
       "      <td>43910.0</td>\n",
       "      <td>1830.285370</td>\n",
       "      <td>10.950000</td>\n",
       "    </tr>\n",
       "    <tr>\n",
       "      <th>4</th>\n",
       "      <td>2016-10-26 14:45:17</td>\n",
       "      <td>2016-10-26 00:00:00</td>\n",
       "      <td>2021-12-15 04:45:17</td>\n",
       "      <td>45</td>\n",
       "      <td>30.40</td>\n",
       "      <td>34</td>\n",
       "      <td>175.89</td>\n",
       "      <td>6.75</td>\n",
       "      <td>2021-12-15 06:21:00</td>\n",
       "      <td>2021-12-15 17:52:00</td>\n",
       "      <td>45014.0</td>\n",
       "      <td>1876.198113</td>\n",
       "      <td>11.516667</td>\n",
       "    </tr>\n",
       "  </tbody>\n",
       "</table>\n",
       "</div>"
      ],
      "text/plain": [
       "              UNIXTime                 Data                 Time  Temperature  \\\n",
       "0  2016-11-09 19:35:07  2016-11-09 00:00:00  2021-12-15 09:35:07           59   \n",
       "1  2016-09-16 22:05:03  2016-09-16 00:00:00  2021-12-15 12:05:03           59   \n",
       "2  2016-10-10 14:20:21  2016-10-10 00:00:00  2021-12-15 04:20:21           47   \n",
       "3  2016-12-11 16:50:56  2016-12-11 00:00:00  2021-12-15 06:50:56           45   \n",
       "4  2016-10-26 14:45:17  2016-10-26 00:00:00  2021-12-15 04:45:17           45   \n",
       "\n",
       "   Pressure  Humidity  WindDirection(Degrees)  Speed          TimeSunRise  \\\n",
       "0     30.47        44                  312.67   3.37  2021-12-15 06:28:00   \n",
       "1     30.48        83                   38.01   6.75  2021-12-15 06:10:00   \n",
       "2     30.39        78                  213.62   5.62  2021-12-15 06:16:00   \n",
       "3     30.40        98                  176.63   4.50  2021-12-15 06:47:00   \n",
       "4     30.40        34                  175.89   6.75  2021-12-15 06:21:00   \n",
       "\n",
       "            TimeSunSet  unixdiff_hrs  st_end_days   diff_hrs  \n",
       "0  2021-12-15 17:45:00       44678.0  1862.399387  11.283333  \n",
       "1  2021-12-15 18:25:00       45974.0  1916.503507  12.250000  \n",
       "2  2021-12-15 18:03:00       45398.0  1892.180799  11.783333  \n",
       "3  2021-12-15 17:44:00       43910.0  1830.285370  10.950000  \n",
       "4  2021-12-15 17:52:00       45014.0  1876.198113  11.516667  "
      ]
     },
     "execution_count": 179,
     "metadata": {},
     "output_type": "execute_result"
    }
   ],
   "source": [
    "print(\"new test shape\", test.shape)\n",
    "test.head()"
   ]
  },
  {
   "cell_type": "markdown",
   "id": "b1d057ac",
   "metadata": {
    "ExecuteTime": {
     "end_time": "2021-12-14T06:36:53.911038Z",
     "start_time": "2021-12-14T06:36:53.048189Z"
    }
   },
   "source": [
    "# Draw Plot"
   ]
  },
  {
   "cell_type": "markdown",
   "id": "2e4447e8",
   "metadata": {
    "ExecuteTime": {
     "end_time": "2021-12-14T06:36:53.911038Z",
     "start_time": "2021-12-14T06:36:53.048189Z"
    }
   },
   "source": [
    "plt.figure(figsize=(5, 5), dpi=100)\n",
    "#sns.boxplot(x='Radiation', y=cols, data=df, notch=False)\n",
    "#sns.distplot(x=cols, data=df, notch=False)\n",
    "sns.distplot(x=cols)\n",
    "plt.title('Box Plot of ' + cols + ' by Radiation ', fontsize=10)\n",
    "plt.show()"
   ]
  },
  {
   "cell_type": "code",
   "execution_count": 182,
   "id": "4627b97c",
   "metadata": {
    "ExecuteTime": {
     "end_time": "2021-12-15T10:13:07.177397Z",
     "start_time": "2021-12-15T10:13:03.139445Z"
    }
   },
   "outputs": [
    {
     "data": {
      "text/plain": [
       "Text(0.5, 0.98, \"Histogram for ['Temperature', 'Pressure', 'Humidity', 'WindDirection(Degrees)', 'Speed', 'Radiation', 'unixdiff_hrs', 'st_end_days', 'diff_hrs']\")"
      ]
     },
     "execution_count": 182,
     "metadata": {},
     "output_type": "execute_result"
    },
    {
     "data": {
      "image/png": "[encoded data removed]",
      "text/plain": [
       "<Figure size 2000x1000 with 20 Axes>"
      ]
     },
     "metadata": {},
     "output_type": "display_data"
    }
   ],
   "source": [
    "train.hist(figsize=(20,10), grid=False, layout=(5, 4), bins = 30)\n",
    "plt.suptitle(\"Histogram for \"+ str(train_numcols), bbox={'facecolor':'0.8', 'pad':5},fontsize = 14)"
   ]
  },
  {
   "cell_type": "code",
   "execution_count": 183,
   "id": "f49d3af6",
   "metadata": {
    "ExecuteTime": {
     "end_time": "2021-12-15T10:13:07.411770Z",
     "start_time": "2021-12-15T10:13:07.181386Z"
    }
   },
   "outputs": [
    {
     "data": {
      "text/html": [
       "<div>\n",
       "<style scoped>\n",
       "    .dataframe tbody tr th:only-of-type {\n",
       "        vertical-align: middle;\n",
       "    }\n",
       "\n",
       "    .dataframe tbody tr th {\n",
       "        vertical-align: top;\n",
       "    }\n",
       "\n",
       "    .dataframe thead th {\n",
       "        text-align: right;\n",
       "    }\n",
       "</style>\n",
       "<table border=\"1\" class=\"dataframe\">\n",
       "  <thead>\n",
       "    <tr style=\"text-align: right;\">\n",
       "      <th></th>\n",
       "      <th>features</th>\n",
       "      <th>VIF</th>\n",
       "    </tr>\n",
       "  </thead>\n",
       "  <tbody>\n",
       "    <tr>\n",
       "      <th>0</th>\n",
       "      <td>Temperature</td>\n",
       "      <td>1.442619e+02</td>\n",
       "    </tr>\n",
       "    <tr>\n",
       "      <th>1</th>\n",
       "      <td>Pressure</td>\n",
       "      <td>2.691518e+04</td>\n",
       "    </tr>\n",
       "    <tr>\n",
       "      <th>2</th>\n",
       "      <td>Humidity</td>\n",
       "      <td>1.136858e+01</td>\n",
       "    </tr>\n",
       "    <tr>\n",
       "      <th>3</th>\n",
       "      <td>WindDirection(Degrees)</td>\n",
       "      <td>6.851020e+00</td>\n",
       "    </tr>\n",
       "    <tr>\n",
       "      <th>4</th>\n",
       "      <td>Speed</td>\n",
       "      <td>5.534240e+00</td>\n",
       "    </tr>\n",
       "    <tr>\n",
       "      <th>5</th>\n",
       "      <td>unixdiff_hrs</td>\n",
       "      <td>3.998104e+07</td>\n",
       "    </tr>\n",
       "    <tr>\n",
       "      <th>6</th>\n",
       "      <td>st_end_days</td>\n",
       "      <td>4.011331e+07</td>\n",
       "    </tr>\n",
       "    <tr>\n",
       "      <th>7</th>\n",
       "      <td>diff_hrs</td>\n",
       "      <td>1.349485e+04</td>\n",
       "    </tr>\n",
       "  </tbody>\n",
       "</table>\n",
       "</div>"
      ],
      "text/plain": [
       "                 features           VIF\n",
       "0             Temperature  1.442619e+02\n",
       "1                Pressure  2.691518e+04\n",
       "2                Humidity  1.136858e+01\n",
       "3  WindDirection(Degrees)  6.851020e+00\n",
       "4                   Speed  5.534240e+00\n",
       "5            unixdiff_hrs  3.998104e+07\n",
       "6             st_end_days  4.011331e+07\n",
       "7                diff_hrs  1.349485e+04"
      ]
     },
     "execution_count": 183,
     "metadata": {},
     "output_type": "execute_result"
    }
   ],
   "source": [
    "# VIF\n",
    "from statsmodels.stats.outliers_influence import variance_inflation_factor\n",
    "\n",
    "vartrain = train[['Temperature', 'Pressure', 'Humidity', 'WindDirection(Degrees)',\n",
    "                   'Speed','unixdiff_hrs', 'st_end_days', 'diff_hrs']]\n",
    "vif = pd.DataFrame()\n",
    "vif['features'] = vartrain.columns\n",
    "vif['VIF'] = [variance_inflation_factor(vartrain.values, i) for i in range(vartrain.shape[1])]\n",
    "#vif['VIF'] = [variance_inflation_factor(train_numcols, i) for i in range(0,len(train_numcols))]\n",
    "vif"
   ]
  },
  {
   "cell_type": "code",
   "execution_count": 184,
   "id": "69f538ee",
   "metadata": {
    "ExecuteTime": {
     "end_time": "2021-12-15T10:13:07.427728Z",
     "start_time": "2021-12-15T10:13:07.415760Z"
    }
   },
   "outputs": [
    {
     "data": {
      "text/plain": [
       "['Temperature',\n",
       " 'Pressure',\n",
       " 'Humidity',\n",
       " 'WindDirection(Degrees)',\n",
       " 'Speed',\n",
       " 'Radiation',\n",
       " 'unixdiff_hrs',\n",
       " 'st_end_days',\n",
       " 'diff_hrs']"
      ]
     },
     "execution_count": 184,
     "metadata": {},
     "output_type": "execute_result"
    }
   ],
   "source": [
    "train_numcols"
   ]
  },
  {
   "cell_type": "markdown",
   "id": "2059ce0a",
   "metadata": {},
   "source": [
    "## 7. Statistical Significance Test\n",
    "\n"
   ]
  },
  {
   "cell_type": "code",
   "execution_count": 185,
   "id": "34923507",
   "metadata": {
    "ExecuteTime": {
     "end_time": "2021-12-15T10:13:07.565360Z",
     "start_time": "2021-12-15T10:13:07.436706Z"
    }
   },
   "outputs": [
    {
     "data": {
      "text/plain": [
       "array([0.00000000e+00, 1.81158168e-36, 3.98555574e-72, 0.00000000e+00,\n",
       "       9.68792677e-02, 0.00000000e+00, 1.43949728e-01, 1.43715464e-01,\n",
       "       6.16564104e-02])"
      ]
     },
     "execution_count": 185,
     "metadata": {},
     "output_type": "execute_result"
    }
   ],
   "source": [
    "from scipy.stats import chi2_contingency\n",
    "# significance value\n",
    "from sklearn.feature_selection import SelectKBest,f_regression\n",
    "select_features = SelectKBest(f_regression, k='all')\n",
    "#X=train.drop('Radiation',axis=1)\n",
    "X=train[train_numcols]\n",
    "y=train['Radiation']\n",
    "select_features.fit_transform(X, y)\n",
    "select_features.pvalues_"
   ]
  },
  {
   "cell_type": "code",
   "execution_count": 186,
   "id": "c93a4eed",
   "metadata": {
    "ExecuteTime": {
     "end_time": "2021-12-15T10:13:07.673098Z",
     "start_time": "2021-12-15T10:13:07.569349Z"
    }
   },
   "outputs": [
    {
     "name": "stdout",
     "output_type": "stream",
     "text": [
      "Feature Score of Temperature : 0.0\n",
      "Feature Score of Pressure : 1.8115816846408544e-36\n",
      "Feature Score of Humidity : 3.9855557369286235e-72\n",
      "Feature Score of WindDirection(Degrees) : 0.0\n",
      "Feature Score of Speed : 0.09687926774295386\n",
      "Feature Score of Radiation : 0.0\n",
      "Feature Score of unixdiff_hrs : 0.14394972811551018\n",
      "Feature Score of st_end_days : 0.14371546439779678\n",
      "Feature Score of diff_hrs : 0.061656410364561695\n"
     ]
    }
   ],
   "source": [
    "# Creating a list of feature names\n",
    "feature_names = X[train_numcols].iloc[:,0:10].columns\n",
    "for score, name in zip(select_features.pvalues_, feature_names):\n",
    "    print('Feature Score of', name, ':', score)"
   ]
  },
  {
   "cell_type": "code",
   "execution_count": 187,
   "id": "56660979",
   "metadata": {
    "ExecuteTime": {
     "end_time": "2021-12-15T10:13:07.799835Z",
     "start_time": "2021-12-15T10:13:07.678084Z"
    }
   },
   "outputs": [],
   "source": [
    "train.drop(['UNIXTime', 'Data', 'Time','TimeSunRise', 'TimeSunSet'], axis = 1, inplace = True)\n",
    "test.drop(['UNIXTime', 'Data', 'Time','TimeSunRise', 'TimeSunSet'], axis = 1, inplace = True)"
   ]
  },
  {
   "cell_type": "code",
   "execution_count": 188,
   "id": "a361fdf7",
   "metadata": {
    "ExecuteTime": {
     "end_time": "2021-12-15T10:13:08.034092Z",
     "start_time": "2021-12-15T10:13:07.802827Z"
    }
   },
   "outputs": [
    {
     "data": {
      "text/plain": [
       "Index(['Temperature', 'Pressure', 'Humidity', 'WindDirection(Degrees)',\n",
       "       'Speed', 'Radiation', 'unixdiff_hrs', 'st_end_days', 'diff_hrs'],\n",
       "      dtype='object')"
      ]
     },
     "execution_count": 188,
     "metadata": {},
     "output_type": "execute_result"
    }
   ],
   "source": [
    "train.columns"
   ]
  },
  {
   "cell_type": "code",
   "execution_count": 189,
   "id": "fa20dd30",
   "metadata": {
    "ExecuteTime": {
     "end_time": "2021-12-15T10:13:08.160118Z",
     "start_time": "2021-12-15T10:13:08.039079Z"
    }
   },
   "outputs": [
    {
     "data": {
      "text/plain": [
       "Index(['Temperature', 'Pressure', 'Humidity', 'WindDirection(Degrees)',\n",
       "       'Speed', 'unixdiff_hrs', 'st_end_days', 'diff_hrs'],\n",
       "      dtype='object')"
      ]
     },
     "execution_count": 189,
     "metadata": {},
     "output_type": "execute_result"
    }
   ],
   "source": [
    "test.columns"
   ]
  },
  {
   "cell_type": "code",
   "execution_count": 190,
   "id": "a9361dbd",
   "metadata": {
    "ExecuteTime": {
     "end_time": "2021-12-15T10:13:08.862273Z",
     "start_time": "2021-12-15T10:13:08.164109Z"
    }
   },
   "outputs": [],
   "source": [
    "# Save train df to csv file \n",
    "train.to_csv(\"train_radiation_post.csv\",index = False)\n",
    "test.to_csv(\"test_radiation_post.csv\",index = False)"
   ]
  },
  {
   "cell_type": "markdown",
   "id": "42529e42",
   "metadata": {},
   "source": [
    "##  8. Model Building\n",
    "\n",
    "Finally, model building starts."
   ]
  },
  {
   "cell_type": "code",
   "execution_count": 191,
   "id": "af9e9a31",
   "metadata": {
    "ExecuteTime": {
     "end_time": "2021-12-15T10:13:09.062735Z",
     "start_time": "2021-12-15T10:13:08.871247Z"
    }
   },
   "outputs": [
    {
     "data": {
      "text/html": [
       "<div>\n",
       "<style scoped>\n",
       "    .dataframe tbody tr th:only-of-type {\n",
       "        vertical-align: middle;\n",
       "    }\n",
       "\n",
       "    .dataframe tbody tr th {\n",
       "        vertical-align: top;\n",
       "    }\n",
       "\n",
       "    .dataframe thead th {\n",
       "        text-align: right;\n",
       "    }\n",
       "</style>\n",
       "<table border=\"1\" class=\"dataframe\">\n",
       "  <thead>\n",
       "    <tr style=\"text-align: right;\">\n",
       "      <th></th>\n",
       "      <th>Temperature</th>\n",
       "      <th>Pressure</th>\n",
       "      <th>Humidity</th>\n",
       "      <th>WindDirection(Degrees)</th>\n",
       "      <th>Speed</th>\n",
       "      <th>Radiation</th>\n",
       "      <th>unixdiff_hrs</th>\n",
       "      <th>st_end_days</th>\n",
       "      <th>diff_hrs</th>\n",
       "    </tr>\n",
       "  </thead>\n",
       "  <tbody>\n",
       "    <tr>\n",
       "      <th>0</th>\n",
       "      <td>57</td>\n",
       "      <td>30.45</td>\n",
       "      <td>68</td>\n",
       "      <td>26.70</td>\n",
       "      <td>4.50</td>\n",
       "      <td>680.04</td>\n",
       "      <td>46022.0</td>\n",
       "      <td>1918.368113</td>\n",
       "      <td>12.266667</td>\n",
       "    </tr>\n",
       "    <tr>\n",
       "      <th>1</th>\n",
       "      <td>50</td>\n",
       "      <td>30.47</td>\n",
       "      <td>96</td>\n",
       "      <td>144.96</td>\n",
       "      <td>10.12</td>\n",
       "      <td>277.37</td>\n",
       "      <td>45350.0</td>\n",
       "      <td>1890.309271</td>\n",
       "      <td>11.766667</td>\n",
       "    </tr>\n",
       "    <tr>\n",
       "      <th>2</th>\n",
       "      <td>47</td>\n",
       "      <td>30.48</td>\n",
       "      <td>56</td>\n",
       "      <td>119.52</td>\n",
       "      <td>3.37</td>\n",
       "      <td>1.29</td>\n",
       "      <td>44894.0</td>\n",
       "      <td>1871.986343</td>\n",
       "      <td>11.433333</td>\n",
       "    </tr>\n",
       "    <tr>\n",
       "      <th>3</th>\n",
       "      <td>57</td>\n",
       "      <td>30.47</td>\n",
       "      <td>93</td>\n",
       "      <td>38.61</td>\n",
       "      <td>2.25</td>\n",
       "      <td>544.75</td>\n",
       "      <td>46262.0</td>\n",
       "      <td>1928.350752</td>\n",
       "      <td>12.450000</td>\n",
       "    </tr>\n",
       "    <tr>\n",
       "      <th>4</th>\n",
       "      <td>37</td>\n",
       "      <td>30.35</td>\n",
       "      <td>54</td>\n",
       "      <td>177.00</td>\n",
       "      <td>6.75</td>\n",
       "      <td>1.15</td>\n",
       "      <td>43478.0</td>\n",
       "      <td>1812.115081</td>\n",
       "      <td>10.950000</td>\n",
       "    </tr>\n",
       "    <tr>\n",
       "      <th>...</th>\n",
       "      <td>...</td>\n",
       "      <td>...</td>\n",
       "      <td>...</td>\n",
       "      <td>...</td>\n",
       "      <td>...</td>\n",
       "      <td>...</td>\n",
       "      <td>...</td>\n",
       "      <td>...</td>\n",
       "      <td>...</td>\n",
       "    </tr>\n",
       "    <tr>\n",
       "      <th>21324</th>\n",
       "      <td>46</td>\n",
       "      <td>30.47</td>\n",
       "      <td>36</td>\n",
       "      <td>180.23</td>\n",
       "      <td>6.75</td>\n",
       "      <td>1.23</td>\n",
       "      <td>44630.0</td>\n",
       "      <td>1860.246551</td>\n",
       "      <td>11.250000</td>\n",
       "    </tr>\n",
       "    <tr>\n",
       "      <th>21325</th>\n",
       "      <td>44</td>\n",
       "      <td>30.37</td>\n",
       "      <td>100</td>\n",
       "      <td>162.80</td>\n",
       "      <td>3.37</td>\n",
       "      <td>1.47</td>\n",
       "      <td>46142.0</td>\n",
       "      <td>1923.125289</td>\n",
       "      <td>12.366667</td>\n",
       "    </tr>\n",
       "    <tr>\n",
       "      <th>21326</th>\n",
       "      <td>48</td>\n",
       "      <td>30.42</td>\n",
       "      <td>64</td>\n",
       "      <td>158.90</td>\n",
       "      <td>4.50</td>\n",
       "      <td>1.20</td>\n",
       "      <td>45734.0</td>\n",
       "      <td>1906.955081</td>\n",
       "      <td>12.050000</td>\n",
       "    </tr>\n",
       "    <tr>\n",
       "      <th>21327</th>\n",
       "      <td>56</td>\n",
       "      <td>30.42</td>\n",
       "      <td>99</td>\n",
       "      <td>55.72</td>\n",
       "      <td>13.50</td>\n",
       "      <td>659.12</td>\n",
       "      <td>45590.0</td>\n",
       "      <td>1900.562743</td>\n",
       "      <td>11.933333</td>\n",
       "    </tr>\n",
       "    <tr>\n",
       "      <th>21328</th>\n",
       "      <td>45</td>\n",
       "      <td>30.45</td>\n",
       "      <td>56</td>\n",
       "      <td>136.11</td>\n",
       "      <td>5.62</td>\n",
       "      <td>1.18</td>\n",
       "      <td>44798.0</td>\n",
       "      <td>1867.024549</td>\n",
       "      <td>11.366667</td>\n",
       "    </tr>\n",
       "  </tbody>\n",
       "</table>\n",
       "<p>21329 rows × 9 columns</p>\n",
       "</div>"
      ],
      "text/plain": [
       "       Temperature  Pressure  Humidity  WindDirection(Degrees)  Speed  \\\n",
       "0               57     30.45        68                   26.70   4.50   \n",
       "1               50     30.47        96                  144.96  10.12   \n",
       "2               47     30.48        56                  119.52   3.37   \n",
       "3               57     30.47        93                   38.61   2.25   \n",
       "4               37     30.35        54                  177.00   6.75   \n",
       "...            ...       ...       ...                     ...    ...   \n",
       "21324           46     30.47        36                  180.23   6.75   \n",
       "21325           44     30.37       100                  162.80   3.37   \n",
       "21326           48     30.42        64                  158.90   4.50   \n",
       "21327           56     30.42        99                   55.72  13.50   \n",
       "21328           45     30.45        56                  136.11   5.62   \n",
       "\n",
       "       Radiation  unixdiff_hrs  st_end_days   diff_hrs  \n",
       "0         680.04       46022.0  1918.368113  12.266667  \n",
       "1         277.37       45350.0  1890.309271  11.766667  \n",
       "2           1.29       44894.0  1871.986343  11.433333  \n",
       "3         544.75       46262.0  1928.350752  12.450000  \n",
       "4           1.15       43478.0  1812.115081  10.950000  \n",
       "...          ...           ...          ...        ...  \n",
       "21324       1.23       44630.0  1860.246551  11.250000  \n",
       "21325       1.47       46142.0  1923.125289  12.366667  \n",
       "21326       1.20       45734.0  1906.955081  12.050000  \n",
       "21327     659.12       45590.0  1900.562743  11.933333  \n",
       "21328       1.18       44798.0  1867.024549  11.366667  \n",
       "\n",
       "[21329 rows x 9 columns]"
      ]
     },
     "execution_count": 191,
     "metadata": {},
     "output_type": "execute_result"
    }
   ],
   "source": [
    "# Read train df\n",
    "train = pd.read_csv(\"train_radiation_post.csv\")\n",
    "test = pd.read_csv(\"test_radiation_post.csv\")\n",
    "train"
   ]
  },
  {
   "cell_type": "code",
   "execution_count": 192,
   "id": "2c5ae479",
   "metadata": {
    "ExecuteTime": {
     "end_time": "2021-12-15T10:13:18.208127Z",
     "start_time": "2021-12-15T10:13:09.066730Z"
    }
   },
   "outputs": [
    {
     "data": {
      "application/vnd.jupyter.widget-view+json": {
       "model_id": "8410b283b361487592fa994fe535e7d4",
       "version_major": 2,
       "version_minor": 0
      },
      "text/plain": [
       "                                             |                                             | [  0%]   00:00 ->…"
      ]
     },
     "metadata": {},
     "output_type": "display_data"
    },
    {
     "name": "stdout",
     "output_type": "stream",
     "text": [
      "Report Radiation_postprocess_report.html was generated! NOTEBOOK/COLAB USERS: the web browser MAY not pop up, regardless, the report IS saved in your notebook/colab files.\n"
     ]
    }
   ],
   "source": [
    "import sweetviz as sv\n",
    "sweet_report = sv.analyze(train)\n",
    "sweet_report.show_html('Radiation_postprocess_report.html')"
   ]
  },
  {
   "cell_type": "code",
   "execution_count": 193,
   "id": "444d50a6",
   "metadata": {
    "ExecuteTime": {
     "end_time": "2021-12-15T10:13:18.256007Z",
     "start_time": "2021-12-15T10:13:18.212118Z"
    }
   },
   "outputs": [
    {
     "name": "stdout",
     "output_type": "stream",
     "text": [
      "<class 'pandas.core.frame.DataFrame'>\n",
      "RangeIndex: 21329 entries, 0 to 21328\n",
      "Data columns (total 9 columns):\n",
      " #   Column                  Non-Null Count  Dtype  \n",
      "---  ------                  --------------  -----  \n",
      " 0   Temperature             21329 non-null  int64  \n",
      " 1   Pressure                21329 non-null  float64\n",
      " 2   Humidity                21329 non-null  int64  \n",
      " 3   WindDirection(Degrees)  21329 non-null  float64\n",
      " 4   Speed                   21329 non-null  float64\n",
      " 5   Radiation               21329 non-null  float64\n",
      " 6   unixdiff_hrs            21329 non-null  float64\n",
      " 7   st_end_days             21329 non-null  float64\n",
      " 8   diff_hrs                21329 non-null  float64\n",
      "dtypes: float64(7), int64(2)\n",
      "memory usage: 1.5 MB\n"
     ]
    }
   ],
   "source": [
    "train.info()"
   ]
  },
  {
   "cell_type": "code",
   "execution_count": 194,
   "id": "76dfbca9",
   "metadata": {
    "ExecuteTime": {
     "end_time": "2021-12-15T10:13:18.350747Z",
     "start_time": "2021-12-15T10:13:18.261985Z"
    }
   },
   "outputs": [
    {
     "data": {
      "text/plain": [
       "['Temperature',\n",
       " 'Pressure',\n",
       " 'Humidity',\n",
       " 'WindDirection(Degrees)',\n",
       " 'Speed',\n",
       " 'Radiation',\n",
       " 'unixdiff_hrs',\n",
       " 'st_end_days',\n",
       " 'diff_hrs']"
      ]
     },
     "execution_count": 194,
     "metadata": {},
     "output_type": "execute_result"
    }
   ],
   "source": [
    "train_numcols"
   ]
  },
  {
   "cell_type": "code",
   "execution_count": 195,
   "id": "4c1c6e32",
   "metadata": {
    "ExecuteTime": {
     "end_time": "2021-12-15T10:13:18.476413Z",
     "start_time": "2021-12-15T10:13:18.357729Z"
    }
   },
   "outputs": [],
   "source": [
    "traincopy1 = train.copy()"
   ]
  },
  {
   "cell_type": "markdown",
   "id": "25d24611",
   "metadata": {},
   "source": [
    "###  Preparing X and y using pandas"
   ]
  },
  {
   "cell_type": "code",
   "execution_count": 196,
   "id": "97e27754",
   "metadata": {
    "ExecuteTime": {
     "end_time": "2021-12-15T10:13:18.878781Z",
     "start_time": "2021-12-15T10:13:18.482397Z"
    }
   },
   "outputs": [
    {
     "name": "stdout",
     "output_type": "stream",
     "text": [
      "(21329, 8) (21329,)\n"
     ]
    }
   ],
   "source": [
    "# seperating independent and dependent variables\n",
    "# create a Python list of feature names\n",
    "feature_cols = ['Temperature', 'Pressure', 'Humidity', 'WindDirection(Degrees)', 'Speed',\n",
    "                'unixdiff_hrs', 'st_end_days', 'diff_hrs' ]\n",
    "X = train.drop(\"Radiation\", axis = 1)\n",
    "y = train['Radiation']\n",
    "print(X.shape, y.shape)"
   ]
  },
  {
   "cell_type": "markdown",
   "id": "e0b91576",
   "metadata": {},
   "source": [
    "###  Splitting X and y into training and test datasets."
   ]
  },
  {
   "cell_type": "code",
   "execution_count": 197,
   "id": "5766d7e9",
   "metadata": {
    "ExecuteTime": {
     "end_time": "2021-12-15T10:13:19.094205Z",
     "start_time": "2021-12-15T10:13:18.891747Z"
    }
   },
   "outputs": [
    {
     "name": "stdout",
     "output_type": "stream",
     "text": [
      "(14930, 8)\n",
      "(14930,)\n"
     ]
    }
   ],
   "source": [
    "Xtrain, Xtest, ytrain, ytest=train_test_split(X, y, test_size=0.30, random_state=10)\n",
    "print(Xtrain.shape)\n",
    "print(ytrain.shape)"
   ]
  },
  {
   "cell_type": "markdown",
   "id": "140e5037",
   "metadata": {
    "ExecuteTime": {
     "end_time": "2021-12-15T08:57:10.931138Z",
     "start_time": "2021-12-15T08:57:10.922158Z"
    }
   },
   "source": [
    "### Scaling"
   ]
  },
  {
   "cell_type": "code",
   "execution_count": 198,
   "id": "a8f8e4bc",
   "metadata": {
    "ExecuteTime": {
     "end_time": "2021-12-15T10:13:19.329444Z",
     "start_time": "2021-12-15T10:13:19.098195Z"
    }
   },
   "outputs": [],
   "source": [
    "sc = StandardScaler()\n",
    "feature_cols = ['Temperature', 'Pressure', 'Humidity', 'WindDirection(Degrees)', 'Speed',\n",
    "                'unixdiff_hrs', 'st_end_days', 'diff_hrs' ]\n",
    "Xtrain[feature_cols] = sc.fit_transform(Xtrain[feature_cols])\n",
    "Xtest[feature_cols] = sc.transform(Xtest[feature_cols])\n",
    "# on the new testing data\n",
    "Xnewtest = test.copy()\n",
    "Xnewtest[feature_cols] = sc.transform(Xnewtest[feature_cols])"
   ]
  },
  {
   "cell_type": "code",
   "execution_count": 199,
   "id": "9728a1ca",
   "metadata": {
    "ExecuteTime": {
     "end_time": "2021-12-15T10:13:19.529671Z",
     "start_time": "2021-12-15T10:13:19.332595Z"
    }
   },
   "outputs": [
    {
     "data": {
      "text/html": [
       "<div>\n",
       "<style scoped>\n",
       "    .dataframe tbody tr th:only-of-type {\n",
       "        vertical-align: middle;\n",
       "    }\n",
       "\n",
       "    .dataframe tbody tr th {\n",
       "        vertical-align: top;\n",
       "    }\n",
       "\n",
       "    .dataframe thead th {\n",
       "        text-align: right;\n",
       "    }\n",
       "</style>\n",
       "<table border=\"1\" class=\"dataframe\">\n",
       "  <thead>\n",
       "    <tr style=\"text-align: right;\">\n",
       "      <th></th>\n",
       "      <th>Temperature</th>\n",
       "      <th>Pressure</th>\n",
       "      <th>Humidity</th>\n",
       "      <th>WindDirection(Degrees)</th>\n",
       "      <th>Speed</th>\n",
       "      <th>unixdiff_hrs</th>\n",
       "      <th>st_end_days</th>\n",
       "      <th>diff_hrs</th>\n",
       "    </tr>\n",
       "  </thead>\n",
       "  <tbody>\n",
       "    <tr>\n",
       "      <th>8044</th>\n",
       "      <td>-0.220734</td>\n",
       "      <td>-0.962127</td>\n",
       "      <td>0.943569</td>\n",
       "      <td>1.976891</td>\n",
       "      <td>-0.128864</td>\n",
       "      <td>-1.220608</td>\n",
       "      <td>-1.210544</td>\n",
       "      <td>-1.171750</td>\n",
       "    </tr>\n",
       "    <tr>\n",
       "      <th>17301</th>\n",
       "      <td>0.724040</td>\n",
       "      <td>-0.962127</td>\n",
       "      <td>0.828461</td>\n",
       "      <td>-1.098607</td>\n",
       "      <td>0.250389</td>\n",
       "      <td>-0.634756</td>\n",
       "      <td>-0.631275</td>\n",
       "      <td>-0.835279</td>\n",
       "    </tr>\n",
       "    <tr>\n",
       "      <th>15687</th>\n",
       "      <td>1.290905</td>\n",
       "      <td>-0.250012</td>\n",
       "      <td>-1.627160</td>\n",
       "      <td>-0.003052</td>\n",
       "      <td>0.626285</td>\n",
       "      <td>-1.659996</td>\n",
       "      <td>-1.656388</td>\n",
       "      <td>-1.205397</td>\n",
       "    </tr>\n",
       "    <tr>\n",
       "      <th>13724</th>\n",
       "      <td>0.346131</td>\n",
       "      <td>0.224732</td>\n",
       "      <td>0.828461</td>\n",
       "      <td>-0.325465</td>\n",
       "      <td>-0.504761</td>\n",
       "      <td>1.562187</td>\n",
       "      <td>1.557607</td>\n",
       "      <td>1.789193</td>\n",
       "    </tr>\n",
       "    <tr>\n",
       "      <th>3006</th>\n",
       "      <td>-0.976554</td>\n",
       "      <td>-0.724755</td>\n",
       "      <td>-1.320208</td>\n",
       "      <td>0.506790</td>\n",
       "      <td>-0.128864</td>\n",
       "      <td>-1.542826</td>\n",
       "      <td>-1.551026</td>\n",
       "      <td>-1.205397</td>\n",
       "    </tr>\n",
       "  </tbody>\n",
       "</table>\n",
       "</div>"
      ],
      "text/plain": [
       "       Temperature  Pressure  Humidity  WindDirection(Degrees)     Speed  \\\n",
       "8044     -0.220734 -0.962127  0.943569                1.976891 -0.128864   \n",
       "17301     0.724040 -0.962127  0.828461               -1.098607  0.250389   \n",
       "15687     1.290905 -0.250012 -1.627160               -0.003052  0.626285   \n",
       "13724     0.346131  0.224732  0.828461               -0.325465 -0.504761   \n",
       "3006     -0.976554 -0.724755 -1.320208                0.506790 -0.128864   \n",
       "\n",
       "       unixdiff_hrs  st_end_days  diff_hrs  \n",
       "8044      -1.220608    -1.210544 -1.171750  \n",
       "17301     -0.634756    -0.631275 -0.835279  \n",
       "15687     -1.659996    -1.656388 -1.205397  \n",
       "13724      1.562187     1.557607  1.789193  \n",
       "3006      -1.542826    -1.551026 -1.205397  "
      ]
     },
     "execution_count": 199,
     "metadata": {},
     "output_type": "execute_result"
    }
   ],
   "source": [
    "Xtrain.head()"
   ]
  },
  {
   "cell_type": "code",
   "execution_count": 200,
   "id": "27ef1380",
   "metadata": {
    "ExecuteTime": {
     "end_time": "2021-12-15T10:13:19.765818Z",
     "start_time": "2021-12-15T10:13:19.533660Z"
    }
   },
   "outputs": [
    {
     "data": {
      "text/html": [
       "<div>\n",
       "<style scoped>\n",
       "    .dataframe tbody tr th:only-of-type {\n",
       "        vertical-align: middle;\n",
       "    }\n",
       "\n",
       "    .dataframe tbody tr th {\n",
       "        vertical-align: top;\n",
       "    }\n",
       "\n",
       "    .dataframe thead th {\n",
       "        text-align: right;\n",
       "    }\n",
       "</style>\n",
       "<table border=\"1\" class=\"dataframe\">\n",
       "  <thead>\n",
       "    <tr style=\"text-align: right;\">\n",
       "      <th></th>\n",
       "      <th>Temperature</th>\n",
       "      <th>Pressure</th>\n",
       "      <th>Humidity</th>\n",
       "      <th>WindDirection(Degrees)</th>\n",
       "      <th>Speed</th>\n",
       "      <th>unixdiff_hrs</th>\n",
       "      <th>st_end_days</th>\n",
       "      <th>diff_hrs</th>\n",
       "    </tr>\n",
       "  </thead>\n",
       "  <tbody>\n",
       "    <tr>\n",
       "      <th>14324</th>\n",
       "      <td>-0.409689</td>\n",
       "      <td>0.936848</td>\n",
       "      <td>-1.512053</td>\n",
       "      <td>0.703217</td>\n",
       "      <td>-0.504761</td>\n",
       "      <td>-0.341830</td>\n",
       "      <td>-0.355467</td>\n",
       "      <td>-0.566102</td>\n",
       "    </tr>\n",
       "    <tr>\n",
       "      <th>18357</th>\n",
       "      <td>-1.732374</td>\n",
       "      <td>-2.861103</td>\n",
       "      <td>0.444770</td>\n",
       "      <td>0.713147</td>\n",
       "      <td>-0.504761</td>\n",
       "      <td>-1.777167</td>\n",
       "      <td>-1.789630</td>\n",
       "      <td>-1.171750</td>\n",
       "    </tr>\n",
       "    <tr>\n",
       "      <th>14221</th>\n",
       "      <td>-0.031779</td>\n",
       "      <td>0.224732</td>\n",
       "      <td>0.981938</td>\n",
       "      <td>-0.457348</td>\n",
       "      <td>-1.639163</td>\n",
       "      <td>0.800580</td>\n",
       "      <td>0.787944</td>\n",
       "      <td>0.779781</td>\n",
       "    </tr>\n",
       "    <tr>\n",
       "      <th>4295</th>\n",
       "      <td>-0.976554</td>\n",
       "      <td>-0.250012</td>\n",
       "      <td>-1.512053</td>\n",
       "      <td>0.774279</td>\n",
       "      <td>0.250389</td>\n",
       "      <td>-0.107490</td>\n",
       "      <td>-0.115248</td>\n",
       "      <td>-0.330573</td>\n",
       "    </tr>\n",
       "    <tr>\n",
       "      <th>5188</th>\n",
       "      <td>1.668815</td>\n",
       "      <td>1.411592</td>\n",
       "      <td>0.751723</td>\n",
       "      <td>-0.072872</td>\n",
       "      <td>1.381435</td>\n",
       "      <td>1.269261</td>\n",
       "      <td>1.267147</td>\n",
       "      <td>1.419075</td>\n",
       "    </tr>\n",
       "  </tbody>\n",
       "</table>\n",
       "</div>"
      ],
      "text/plain": [
       "       Temperature  Pressure  Humidity  WindDirection(Degrees)     Speed  \\\n",
       "14324    -0.409689  0.936848 -1.512053                0.703217 -0.504761   \n",
       "18357    -1.732374 -2.861103  0.444770                0.713147 -0.504761   \n",
       "14221    -0.031779  0.224732  0.981938               -0.457348 -1.639163   \n",
       "4295     -0.976554 -0.250012 -1.512053                0.774279  0.250389   \n",
       "5188      1.668815  1.411592  0.751723               -0.072872  1.381435   \n",
       "\n",
       "       unixdiff_hrs  st_end_days  diff_hrs  \n",
       "14324     -0.341830    -0.355467 -0.566102  \n",
       "18357     -1.777167    -1.789630 -1.171750  \n",
       "14221      0.800580     0.787944  0.779781  \n",
       "4295      -0.107490    -0.115248 -0.330573  \n",
       "5188       1.269261     1.267147  1.419075  "
      ]
     },
     "execution_count": 200,
     "metadata": {},
     "output_type": "execute_result"
    }
   ],
   "source": [
    "# Testing data after splitting\n",
    "Xtest.head()"
   ]
  },
  {
   "cell_type": "code",
   "execution_count": 201,
   "id": "4eaf97e4",
   "metadata": {
    "ExecuteTime": {
     "end_time": "2021-12-15T10:13:19.908439Z",
     "start_time": "2021-12-15T10:13:19.772812Z"
    }
   },
   "outputs": [
    {
     "data": {
      "text/html": [
       "<div>\n",
       "<style scoped>\n",
       "    .dataframe tbody tr th:only-of-type {\n",
       "        vertical-align: middle;\n",
       "    }\n",
       "\n",
       "    .dataframe tbody tr th {\n",
       "        vertical-align: top;\n",
       "    }\n",
       "\n",
       "    .dataframe thead th {\n",
       "        text-align: right;\n",
       "    }\n",
       "</style>\n",
       "<table border=\"1\" class=\"dataframe\">\n",
       "  <thead>\n",
       "    <tr style=\"text-align: right;\">\n",
       "      <th></th>\n",
       "      <th>Temperature</th>\n",
       "      <th>Pressure</th>\n",
       "      <th>Humidity</th>\n",
       "      <th>WindDirection(Degrees)</th>\n",
       "      <th>Speed</th>\n",
       "      <th>unixdiff_hrs</th>\n",
       "      <th>st_end_days</th>\n",
       "      <th>diff_hrs</th>\n",
       "    </tr>\n",
       "  </thead>\n",
       "  <tbody>\n",
       "    <tr>\n",
       "      <th>0</th>\n",
       "      <td>1.668815</td>\n",
       "      <td>0.936848</td>\n",
       "      <td>-1.243469</td>\n",
       "      <td>2.763686</td>\n",
       "      <td>-0.884013</td>\n",
       "      <td>-0.283245</td>\n",
       "      <td>-0.286106</td>\n",
       "      <td>-0.498808</td>\n",
       "    </tr>\n",
       "    <tr>\n",
       "      <th>1</th>\n",
       "      <td>1.668815</td>\n",
       "      <td>1.174220</td>\n",
       "      <td>0.252925</td>\n",
       "      <td>-1.497823</td>\n",
       "      <td>0.250389</td>\n",
       "      <td>1.298554</td>\n",
       "      <td>1.298571</td>\n",
       "      <td>1.452722</td>\n",
       "    </tr>\n",
       "    <tr>\n",
       "      <th>2</th>\n",
       "      <td>-0.598644</td>\n",
       "      <td>-0.962127</td>\n",
       "      <td>0.061080</td>\n",
       "      <td>1.226868</td>\n",
       "      <td>-0.128864</td>\n",
       "      <td>0.595532</td>\n",
       "      <td>0.586173</td>\n",
       "      <td>0.510604</td>\n",
       "    </tr>\n",
       "    <tr>\n",
       "      <th>3</th>\n",
       "      <td>-0.976554</td>\n",
       "      <td>-0.724755</td>\n",
       "      <td>0.828461</td>\n",
       "      <td>0.652947</td>\n",
       "      <td>-0.504761</td>\n",
       "      <td>-1.220608</td>\n",
       "      <td>-1.226706</td>\n",
       "      <td>-1.171750</td>\n",
       "    </tr>\n",
       "    <tr>\n",
       "      <th>4</th>\n",
       "      <td>-0.976554</td>\n",
       "      <td>-0.724755</td>\n",
       "      <td>-1.627160</td>\n",
       "      <td>0.641465</td>\n",
       "      <td>0.250389</td>\n",
       "      <td>0.126851</td>\n",
       "      <td>0.118050</td>\n",
       "      <td>-0.027749</td>\n",
       "    </tr>\n",
       "  </tbody>\n",
       "</table>\n",
       "</div>"
      ],
      "text/plain": [
       "   Temperature  Pressure  Humidity  WindDirection(Degrees)     Speed  \\\n",
       "0     1.668815  0.936848 -1.243469                2.763686 -0.884013   \n",
       "1     1.668815  1.174220  0.252925               -1.497823  0.250389   \n",
       "2    -0.598644 -0.962127  0.061080                1.226868 -0.128864   \n",
       "3    -0.976554 -0.724755  0.828461                0.652947 -0.504761   \n",
       "4    -0.976554 -0.724755 -1.627160                0.641465  0.250389   \n",
       "\n",
       "   unixdiff_hrs  st_end_days  diff_hrs  \n",
       "0     -0.283245    -0.286106 -0.498808  \n",
       "1      1.298554     1.298571  1.452722  \n",
       "2      0.595532     0.586173  0.510604  \n",
       "3     -1.220608    -1.226706 -1.171750  \n",
       "4      0.126851     0.118050 -0.027749  "
      ]
     },
     "execution_count": 201,
     "metadata": {},
     "output_type": "execute_result"
    }
   ],
   "source": [
    "#new test data set\n",
    "Xnewtest.head()"
   ]
  },
  {
   "cell_type": "code",
   "execution_count": 202,
   "id": "f012354b",
   "metadata": {
    "ExecuteTime": {
     "end_time": "2021-12-15T10:13:20.035141Z",
     "start_time": "2021-12-15T10:13:19.912428Z"
    }
   },
   "outputs": [
    {
     "data": {
      "application/vnd.plotly.v1+json": {
       "config": {
        "plotlyServerURL": "https://plot.ly"
       },
       "data": [
        {
         "mode": "markers",
         "type": "scatter",
         "x": [
          0,
          1,
          2,
          3,
          4,
          5,
          6,
          7
         ],
         "y": [
          0,
          2.378449485701416e-30,
          9.184333610873024e-59,
          0,
          0.04978247039400369,
          0.3189116327686382,
          0.3173446531536014,
          0.10512446896213119
         ]
        }
       ],
       "layout": {
        "template": {
         "data": {
          "bar": [
           {
            "error_x": {
             "color": "#2a3f5f"
            },
            "error_y": {
             "color": "#2a3f5f"
            },
            "marker": {
             "line": {
              "color": "#E5ECF6",
              "width": 0.5
             },
             "pattern": {
              "fillmode": "overlay",
              "size": 10,
              "solidity": 0.2
             }
            },
            "type": "bar"
           }
          ],
          "barpolar": [
           {
            "marker": {
             "line": {
              "color": "#E5ECF6",
              "width": 0.5
             },
             "pattern": {
              "fillmode": "overlay",
              "size": 10,
              "solidity": 0.2
             }
            },
            "type": "barpolar"
           }
          ],
          "carpet": [
           {
            "aaxis": {
             "endlinecolor": "#2a3f5f",
             "gridcolor": "white",
             "linecolor": "white",
             "minorgridcolor": "white",
             "startlinecolor": "#2a3f5f"
            },
            "baxis": {
             "endlinecolor": "#2a3f5f",
             "gridcolor": "white",
             "linecolor": "white",
             "minorgridcolor": "white",
             "startlinecolor": "#2a3f5f"
            },
            "type": "carpet"
           }
          ],
          "choropleth": [
           {
            "colorbar": {
             "outlinewidth": 0,
             "ticks": ""
            },
            "type": "choropleth"
           }
          ],
          "contour": [
           {
            "colorbar": {
             "outlinewidth": 0,
             "ticks": ""
            },
            "colorscale": [
             [
              0,
              "#0d0887"
             ],
             [
              0.1111111111111111,
              "#46039f"
             ],
             [
              0.2222222222222222,
              "#7201a8"
             ],
             [
              0.3333333333333333,
              "#9c179e"
             ],
             [
              0.4444444444444444,
              "#bd3786"
             ],
             [
              0.5555555555555556,
              "#d8576b"
             ],
             [
              0.6666666666666666,
              "#ed7953"
             ],
             [
              0.7777777777777778,
              "#fb9f3a"
             ],
             [
              0.8888888888888888,
              "#fdca26"
             ],
             [
              1,
              "#f0f921"
             ]
            ],
            "type": "contour"
           }
          ],
          "contourcarpet": [
           {
            "colorbar": {
             "outlinewidth": 0,
             "ticks": ""
            },
            "type": "contourcarpet"
           }
          ],
          "heatmap": [
           {
            "colorbar": {
             "outlinewidth": 0,
             "ticks": ""
            },
            "colorscale": [
             [
              0,
              "#0d0887"
             ],
             [
              0.1111111111111111,
              "#46039f"
             ],
             [
              0.2222222222222222,
              "#7201a8"
             ],
             [
              0.3333333333333333,
              "#9c179e"
             ],
             [
              0.4444444444444444,
              "#bd3786"
             ],
             [
              0.5555555555555556,
              "#d8576b"
             ],
             [
              0.6666666666666666,
              "#ed7953"
             ],
             [
              0.7777777777777778,
              "#fb9f3a"
             ],
             [
              0.8888888888888888,
              "#fdca26"
             ],
             [
              1,
              "#f0f921"
             ]
            ],
            "type": "heatmap"
           }
          ],
          "heatmapgl": [
           {
            "colorbar": {
             "outlinewidth": 0,
             "ticks": ""
            },
            "colorscale": [
             [
              0,
              "#0d0887"
             ],
             [
              0.1111111111111111,
              "#46039f"
             ],
             [
              0.2222222222222222,
              "#7201a8"
             ],
             [
              0.3333333333333333,
              "#9c179e"
             ],
             [
              0.4444444444444444,
              "#bd3786"
             ],
             [
              0.5555555555555556,
              "#d8576b"
             ],
             [
              0.6666666666666666,
              "#ed7953"
             ],
             [
              0.7777777777777778,
              "#fb9f3a"
             ],
             [
              0.8888888888888888,
              "#fdca26"
             ],
             [
              1,
              "#f0f921"
             ]
            ],
            "type": "heatmapgl"
           }
          ],
          "histogram": [
           {
            "marker": {
             "pattern": {
              "fillmode": "overlay",
              "size": 10,
              "solidity": 0.2
             }
            },
            "type": "histogram"
           }
          ],
          "histogram2d": [
           {
            "colorbar": {
             "outlinewidth": 0,
             "ticks": ""
            },
            "colorscale": [
             [
              0,
              "#0d0887"
             ],
             [
              0.1111111111111111,
              "#46039f"
             ],
             [
              0.2222222222222222,
              "#7201a8"
             ],
             [
              0.3333333333333333,
              "#9c179e"
             ],
             [
              0.4444444444444444,
              "#bd3786"
             ],
             [
              0.5555555555555556,
              "#d8576b"
             ],
             [
              0.6666666666666666,
              "#ed7953"
             ],
             [
              0.7777777777777778,
              "#fb9f3a"
             ],
             [
              0.8888888888888888,
              "#fdca26"
             ],
             [
              1,
              "#f0f921"
             ]
            ],
            "type": "histogram2d"
           }
          ],
          "histogram2dcontour": [
           {
            "colorbar": {
             "outlinewidth": 0,
             "ticks": ""
            },
            "colorscale": [
             [
              0,
              "#0d0887"
             ],
             [
              0.1111111111111111,
              "#46039f"
             ],
             [
              0.2222222222222222,
              "#7201a8"
             ],
             [
              0.3333333333333333,
              "#9c179e"
             ],
             [
              0.4444444444444444,
              "#bd3786"
             ],
             [
              0.5555555555555556,
              "#d8576b"
             ],
             [
              0.6666666666666666,
              "#ed7953"
             ],
             [
              0.7777777777777778,
              "#fb9f3a"
             ],
             [
              0.8888888888888888,
              "#fdca26"
             ],
             [
              1,
              "#f0f921"
             ]
            ],
            "type": "histogram2dcontour"
           }
          ],
          "mesh3d": [
           {
            "colorbar": {
             "outlinewidth": 0,
             "ticks": ""
            },
            "type": "mesh3d"
           }
          ],
          "parcoords": [
           {
            "line": {
             "colorbar": {
              "outlinewidth": 0,
              "ticks": ""
             }
            },
            "type": "parcoords"
           }
          ],
          "pie": [
           {
            "automargin": true,
            "type": "pie"
           }
          ],
          "scatter": [
           {
            "marker": {
             "colorbar": {
              "outlinewidth": 0,
              "ticks": ""
             }
            },
            "type": "scatter"
           }
          ],
          "scatter3d": [
           {
            "line": {
             "colorbar": {
              "outlinewidth": 0,
              "ticks": ""
             }
            },
            "marker": {
             "colorbar": {
              "outlinewidth": 0,
              "ticks": ""
             }
            },
            "type": "scatter3d"
           }
          ],
          "scattercarpet": [
           {
            "marker": {
             "colorbar": {
              "outlinewidth": 0,
              "ticks": ""
             }
            },
            "type": "scattercarpet"
           }
          ],
          "scattergeo": [
           {
            "marker": {
             "colorbar": {
              "outlinewidth": 0,
              "ticks": ""
             }
            },
            "type": "scattergeo"
           }
          ],
          "scattergl": [
           {
            "marker": {
             "colorbar": {
              "outlinewidth": 0,
              "ticks": ""
             }
            },
            "type": "scattergl"
           }
          ],
          "scattermapbox": [
           {
            "marker": {
             "colorbar": {
              "outlinewidth": 0,
              "ticks": ""
             }
            },
            "type": "scattermapbox"
           }
          ],
          "scatterpolar": [
           {
            "marker": {
             "colorbar": {
              "outlinewidth": 0,
              "ticks": ""
             }
            },
            "type": "scatterpolar"
           }
          ],
          "scatterpolargl": [
           {
            "marker": {
             "colorbar": {
              "outlinewidth": 0,
              "ticks": ""
             }
            },
            "type": "scatterpolargl"
           }
          ],
          "scatterternary": [
           {
            "marker": {
             "colorbar": {
              "outlinewidth": 0,
              "ticks": ""
             }
            },
            "type": "scatterternary"
           }
          ],
          "surface": [
           {
            "colorbar": {
             "outlinewidth": 0,
             "ticks": ""
            },
            "colorscale": [
             [
              0,
              "#0d0887"
             ],
             [
              0.1111111111111111,
              "#46039f"
             ],
             [
              0.2222222222222222,
              "#7201a8"
             ],
             [
              0.3333333333333333,
              "#9c179e"
             ],
             [
              0.4444444444444444,
              "#bd3786"
             ],
             [
              0.5555555555555556,
              "#d8576b"
             ],
             [
              0.6666666666666666,
              "#ed7953"
             ],
             [
              0.7777777777777778,
              "#fb9f3a"
             ],
             [
              0.8888888888888888,
              "#fdca26"
             ],
             [
              1,
              "#f0f921"
             ]
            ],
            "type": "surface"
           }
          ],
          "table": [
           {
            "cells": {
             "fill": {
              "color": "#EBF0F8"
             },
             "line": {
              "color": "white"
             }
            },
            "header": {
             "fill": {
              "color": "#C8D4E3"
             },
             "line": {
              "color": "white"
             }
            },
            "type": "table"
           }
          ]
         },
         "layout": {
          "annotationdefaults": {
           "arrowcolor": "#2a3f5f",
           "arrowhead": 0,
           "arrowwidth": 1
          },
          "autotypenumbers": "strict",
          "coloraxis": {
           "colorbar": {
            "outlinewidth": 0,
            "ticks": ""
           }
          },
          "colorscale": {
           "diverging": [
            [
             0,
             "#8e0152"
            ],
            [
             0.1,
             "#c51b7d"
            ],
            [
             0.2,
             "#de77ae"
            ],
            [
             0.3,
             "#f1b6da"
            ],
            [
             0.4,
             "#fde0ef"
            ],
            [
             0.5,
             "#f7f7f7"
            ],
            [
             0.6,
             "#e6f5d0"
            ],
            [
             0.7,
             "#b8e186"
            ],
            [
             0.8,
             "#7fbc41"
            ],
            [
             0.9,
             "#4d9221"
            ],
            [
             1,
             "#276419"
            ]
           ],
           "sequential": [
            [
             0,
             "#0d0887"
            ],
            [
             0.1111111111111111,
             "#46039f"
            ],
            [
             0.2222222222222222,
             "#7201a8"
            ],
            [
             0.3333333333333333,
             "#9c179e"
            ],
            [
             0.4444444444444444,
             "#bd3786"
            ],
            [
             0.5555555555555556,
             "#d8576b"
            ],
            [
             0.6666666666666666,
             "#ed7953"
            ],
            [
             0.7777777777777778,
             "#fb9f3a"
            ],
            [
             0.8888888888888888,
             "#fdca26"
            ],
            [
             1,
             "#f0f921"
            ]
           ],
           "sequentialminus": [
            [
             0,
             "#0d0887"
            ],
            [
             0.1111111111111111,
             "#46039f"
            ],
            [
             0.2222222222222222,
             "#7201a8"
            ],
            [
             0.3333333333333333,
             "#9c179e"
            ],
            [
             0.4444444444444444,
             "#bd3786"
            ],
            [
             0.5555555555555556,
             "#d8576b"
            ],
            [
             0.6666666666666666,
             "#ed7953"
            ],
            [
             0.7777777777777778,
             "#fb9f3a"
            ],
            [
             0.8888888888888888,
             "#fdca26"
            ],
            [
             1,
             "#f0f921"
            ]
           ]
          },
          "colorway": [
           "#636efa",
           "#EF553B",
           "#00cc96",
           "#ab63fa",
           "#FFA15A",
           "#19d3f3",
           "#FF6692",
           "#B6E880",
           "#FF97FF",
           "#FECB52"
          ],
          "font": {
           "color": "#2a3f5f"
          },
          "geo": {
           "bgcolor": "white",
           "lakecolor": "white",
           "landcolor": "#E5ECF6",
           "showlakes": true,
           "showland": true,
           "subunitcolor": "white"
          },
          "hoverlabel": {
           "align": "left"
          },
          "hovermode": "closest",
          "mapbox": {
           "style": "light"
          },
          "paper_bgcolor": "white",
          "plot_bgcolor": "#E5ECF6",
          "polar": {
           "angularaxis": {
            "gridcolor": "white",
            "linecolor": "white",
            "ticks": ""
           },
           "bgcolor": "#E5ECF6",
           "radialaxis": {
            "gridcolor": "white",
            "linecolor": "white",
            "ticks": ""
           }
          },
          "scene": {
           "xaxis": {
            "backgroundcolor": "#E5ECF6",
            "gridcolor": "white",
            "gridwidth": 2,
            "linecolor": "white",
            "showbackground": true,
            "ticks": "",
            "zerolinecolor": "white"
           },
           "yaxis": {
            "backgroundcolor": "#E5ECF6",
            "gridcolor": "white",
            "gridwidth": 2,
            "linecolor": "white",
            "showbackground": true,
            "ticks": "",
            "zerolinecolor": "white"
           },
           "zaxis": {
            "backgroundcolor": "#E5ECF6",
            "gridcolor": "white",
            "gridwidth": 2,
            "linecolor": "white",
            "showbackground": true,
            "ticks": "",
            "zerolinecolor": "white"
           }
          },
          "shapedefaults": {
           "line": {
            "color": "#2a3f5f"
           }
          },
          "ternary": {
           "aaxis": {
            "gridcolor": "white",
            "linecolor": "white",
            "ticks": ""
           },
           "baxis": {
            "gridcolor": "white",
            "linecolor": "white",
            "ticks": ""
           },
           "bgcolor": "#E5ECF6",
           "caxis": {
            "gridcolor": "white",
            "linecolor": "white",
            "ticks": ""
           }
          },
          "title": {
           "x": 0.05
          },
          "xaxis": {
           "automargin": true,
           "gridcolor": "white",
           "linecolor": "white",
           "ticks": "",
           "title": {
            "standoff": 15
           },
           "zerolinecolor": "white",
           "zerolinewidth": 2
          },
          "yaxis": {
           "automargin": true,
           "gridcolor": "white",
           "linecolor": "white",
           "ticks": "",
           "title": {
            "standoff": 15
           },
           "zerolinecolor": "white",
           "zerolinewidth": 2
          }
         }
        },
        "title": {
         "text": "Feature Selection"
        },
        "xaxis": {
         "tickmode": "array",
         "ticktext": [
          "Temperature",
          "Pressure",
          "Humidity",
          "WindDirection(Degrees)",
          "Speed",
          "unixdiff_hrs",
          "st_end_days",
          "diff_hrs"
         ],
         "tickvals": [
          0,
          1,
          2,
          3,
          4,
          5,
          6,
          7
         ],
         "title": {
          "text": "Features"
         }
        },
        "yaxis": {
         "title": {
          "text": "P-Value"
         }
        }
       }
      },
      "text/html": [
       "<div>                            <div id=\"a641ba5a-c552-4ece-a2df-de724e7f5ea4\" class=\"plotly-graph-div\" style=\"height:525px; width:100%;\"></div>            <script type=\"text/javascript\">                require([\"plotly\"], function(Plotly) {                    window.PLOTLYENV=window.PLOTLYENV || {};                                    if (document.getElementById(\"a641ba5a-c552-4ece-a2df-de724e7f5ea4\")) {                    Plotly.newPlot(                        \"a641ba5a-c552-4ece-a2df-de724e7f5ea4\",                        [{\"mode\":\"markers\",\"type\":\"scatter\",\"x\":[0,1,2,3,4,5,6,7],\"y\":[0.0,2.378449485701416e-30,9.184333610873024e-59,0.0,0.04978247039400369,0.3189116327686382,0.3173446531536014,0.10512446896213119]}],                        {\"template\":{\"data\":{\"bar\":[{\"error_x\":{\"color\":\"#2a3f5f\"},\"error_y\":{\"color\":\"#2a3f5f\"},\"marker\":{\"line\":{\"color\":\"#E5ECF6\",\"width\":0.5},\"pattern\":{\"fillmode\":\"overlay\",\"size\":10,\"solidity\":0.2}},\"type\":\"bar\"}],\"barpolar\":[{\"marker\":{\"line\":{\"color\":\"#E5ECF6\",\"width\":0.5},\"pattern\":{\"fillmode\":\"overlay\",\"size\":10,\"solidity\":0.2}},\"type\":\"barpolar\"}],\"carpet\":[{\"aaxis\":{\"endlinecolor\":\"#2a3f5f\",\"gridcolor\":\"white\",\"linecolor\":\"white\",\"minorgridcolor\":\"white\",\"startlinecolor\":\"#2a3f5f\"},\"baxis\":{\"endlinecolor\":\"#2a3f5f\",\"gridcolor\":\"white\",\"linecolor\":\"white\",\"minorgridcolor\":\"white\",\"startlinecolor\":\"#2a3f5f\"},\"type\":\"carpet\"}],\"choropleth\":[{\"colorbar\":{\"outlinewidth\":0,\"ticks\":\"\"},\"type\":\"choropleth\"}],\"contour\":[{\"colorbar\":{\"outlinewidth\":0,\"ticks\":\"\"},\"colorscale\":[[0.0,\"#0d0887\"],[0.1111111111111111,\"#46039f\"],[0.2222222222222222,\"#7201a8\"],[0.3333333333333333,\"#9c179e\"],[0.4444444444444444,\"#bd3786\"],[0.5555555555555556,\"#d8576b\"],[0.6666666666666666,\"#ed7953\"],[0.7777777777777778,\"#fb9f3a\"],[0.8888888888888888,\"#fdca26\"],[1.0,\"#f0f921\"]],\"type\":\"contour\"}],\"contourcarpet\":[{\"colorbar\":{\"outlinewidth\":0,\"ticks\":\"\"},\"type\":\"contourcarpet\"}],\"heatmap\":[{\"colorbar\":{\"outlinewidth\":0,\"ticks\":\"\"},\"colorscale\":[[0.0,\"#0d0887\"],[0.1111111111111111,\"#46039f\"],[0.2222222222222222,\"#7201a8\"],[0.3333333333333333,\"#9c179e\"],[0.4444444444444444,\"#bd3786\"],[0.5555555555555556,\"#d8576b\"],[0.6666666666666666,\"#ed7953\"],[0.7777777777777778,\"#fb9f3a\"],[0.8888888888888888,\"#fdca26\"],[1.0,\"#f0f921\"]],\"type\":\"heatmap\"}],\"heatmapgl\":[{\"colorbar\":{\"outlinewidth\":0,\"ticks\":\"\"},\"colorscale\":[[0.0,\"#0d0887\"],[0.1111111111111111,\"#46039f\"],[0.2222222222222222,\"#7201a8\"],[0.3333333333333333,\"#9c179e\"],[0.4444444444444444,\"#bd3786\"],[0.5555555555555556,\"#d8576b\"],[0.6666666666666666,\"#ed7953\"],[0.7777777777777778,\"#fb9f3a\"],[0.8888888888888888,\"#fdca26\"],[1.0,\"#f0f921\"]],\"type\":\"heatmapgl\"}],\"histogram\":[{\"marker\":{\"pattern\":{\"fillmode\":\"overlay\",\"size\":10,\"solidity\":0.2}},\"type\":\"histogram\"}],\"histogram2d\":[{\"colorbar\":{\"outlinewidth\":0,\"ticks\":\"\"},\"colorscale\":[[0.0,\"#0d0887\"],[0.1111111111111111,\"#46039f\"],[0.2222222222222222,\"#7201a8\"],[0.3333333333333333,\"#9c179e\"],[0.4444444444444444,\"#bd3786\"],[0.5555555555555556,\"#d8576b\"],[0.6666666666666666,\"#ed7953\"],[0.7777777777777778,\"#fb9f3a\"],[0.8888888888888888,\"#fdca26\"],[1.0,\"#f0f921\"]],\"type\":\"histogram2d\"}],\"histogram2dcontour\":[{\"colorbar\":{\"outlinewidth\":0,\"ticks\":\"\"},\"colorscale\":[[0.0,\"#0d0887\"],[0.1111111111111111,\"#46039f\"],[0.2222222222222222,\"#7201a8\"],[0.3333333333333333,\"#9c179e\"],[0.4444444444444444,\"#bd3786\"],[0.5555555555555556,\"#d8576b\"],[0.6666666666666666,\"#ed7953\"],[0.7777777777777778,\"#fb9f3a\"],[0.8888888888888888,\"#fdca26\"],[1.0,\"#f0f921\"]],\"type\":\"histogram2dcontour\"}],\"mesh3d\":[{\"colorbar\":{\"outlinewidth\":0,\"ticks\":\"\"},\"type\":\"mesh3d\"}],\"parcoords\":[{\"line\":{\"colorbar\":{\"outlinewidth\":0,\"ticks\":\"\"}},\"type\":\"parcoords\"}],\"pie\":[{\"automargin\":true,\"type\":\"pie\"}],\"scatter\":[{\"marker\":{\"colorbar\":{\"outlinewidth\":0,\"ticks\":\"\"}},\"type\":\"scatter\"}],\"scatter3d\":[{\"line\":{\"colorbar\":{\"outlinewidth\":0,\"ticks\":\"\"}},\"marker\":{\"colorbar\":{\"outlinewidth\":0,\"ticks\":\"\"}},\"type\":\"scatter3d\"}],\"scattercarpet\":[{\"marker\":{\"colorbar\":{\"outlinewidth\":0,\"ticks\":\"\"}},\"type\":\"scattercarpet\"}],\"scattergeo\":[{\"marker\":{\"colorbar\":{\"outlinewidth\":0,\"ticks\":\"\"}},\"type\":\"scattergeo\"}],\"scattergl\":[{\"marker\":{\"colorbar\":{\"outlinewidth\":0,\"ticks\":\"\"}},\"type\":\"scattergl\"}],\"scattermapbox\":[{\"marker\":{\"colorbar\":{\"outlinewidth\":0,\"ticks\":\"\"}},\"type\":\"scattermapbox\"}],\"scatterpolar\":[{\"marker\":{\"colorbar\":{\"outlinewidth\":0,\"ticks\":\"\"}},\"type\":\"scatterpolar\"}],\"scatterpolargl\":[{\"marker\":{\"colorbar\":{\"outlinewidth\":0,\"ticks\":\"\"}},\"type\":\"scatterpolargl\"}],\"scatterternary\":[{\"marker\":{\"colorbar\":{\"outlinewidth\":0,\"ticks\":\"\"}},\"type\":\"scatterternary\"}],\"surface\":[{\"colorbar\":{\"outlinewidth\":0,\"ticks\":\"\"},\"colorscale\":[[0.0,\"#0d0887\"],[0.1111111111111111,\"#46039f\"],[0.2222222222222222,\"#7201a8\"],[0.3333333333333333,\"#9c179e\"],[0.4444444444444444,\"#bd3786\"],[0.5555555555555556,\"#d8576b\"],[0.6666666666666666,\"#ed7953\"],[0.7777777777777778,\"#fb9f3a\"],[0.8888888888888888,\"#fdca26\"],[1.0,\"#f0f921\"]],\"type\":\"surface\"}],\"table\":[{\"cells\":{\"fill\":{\"color\":\"#EBF0F8\"},\"line\":{\"color\":\"white\"}},\"header\":{\"fill\":{\"color\":\"#C8D4E3\"},\"line\":{\"color\":\"white\"}},\"type\":\"table\"}]},\"layout\":{\"annotationdefaults\":{\"arrowcolor\":\"#2a3f5f\",\"arrowhead\":0,\"arrowwidth\":1},\"autotypenumbers\":\"strict\",\"coloraxis\":{\"colorbar\":{\"outlinewidth\":0,\"ticks\":\"\"}},\"colorscale\":{\"diverging\":[[0,\"#8e0152\"],[0.1,\"#c51b7d\"],[0.2,\"#de77ae\"],[0.3,\"#f1b6da\"],[0.4,\"#fde0ef\"],[0.5,\"#f7f7f7\"],[0.6,\"#e6f5d0\"],[0.7,\"#b8e186\"],[0.8,\"#7fbc41\"],[0.9,\"#4d9221\"],[1,\"#276419\"]],\"sequential\":[[0.0,\"#0d0887\"],[0.1111111111111111,\"#46039f\"],[0.2222222222222222,\"#7201a8\"],[0.3333333333333333,\"#9c179e\"],[0.4444444444444444,\"#bd3786\"],[0.5555555555555556,\"#d8576b\"],[0.6666666666666666,\"#ed7953\"],[0.7777777777777778,\"#fb9f3a\"],[0.8888888888888888,\"#fdca26\"],[1.0,\"#f0f921\"]],\"sequentialminus\":[[0.0,\"#0d0887\"],[0.1111111111111111,\"#46039f\"],[0.2222222222222222,\"#7201a8\"],[0.3333333333333333,\"#9c179e\"],[0.4444444444444444,\"#bd3786\"],[0.5555555555555556,\"#d8576b\"],[0.6666666666666666,\"#ed7953\"],[0.7777777777777778,\"#fb9f3a\"],[0.8888888888888888,\"#fdca26\"],[1.0,\"#f0f921\"]]},\"colorway\":[\"#636efa\",\"#EF553B\",\"#00cc96\",\"#ab63fa\",\"#FFA15A\",\"#19d3f3\",\"#FF6692\",\"#B6E880\",\"#FF97FF\",\"#FECB52\"],\"font\":{\"color\":\"#2a3f5f\"},\"geo\":{\"bgcolor\":\"white\",\"lakecolor\":\"white\",\"landcolor\":\"#E5ECF6\",\"showlakes\":true,\"showland\":true,\"subunitcolor\":\"white\"},\"hoverlabel\":{\"align\":\"left\"},\"hovermode\":\"closest\",\"mapbox\":{\"style\":\"light\"},\"paper_bgcolor\":\"white\",\"plot_bgcolor\":\"#E5ECF6\",\"polar\":{\"angularaxis\":{\"gridcolor\":\"white\",\"linecolor\":\"white\",\"ticks\":\"\"},\"bgcolor\":\"#E5ECF6\",\"radialaxis\":{\"gridcolor\":\"white\",\"linecolor\":\"white\",\"ticks\":\"\"}},\"scene\":{\"xaxis\":{\"backgroundcolor\":\"#E5ECF6\",\"gridcolor\":\"white\",\"gridwidth\":2,\"linecolor\":\"white\",\"showbackground\":true,\"ticks\":\"\",\"zerolinecolor\":\"white\"},\"yaxis\":{\"backgroundcolor\":\"#E5ECF6\",\"gridcolor\":\"white\",\"gridwidth\":2,\"linecolor\":\"white\",\"showbackground\":true,\"ticks\":\"\",\"zerolinecolor\":\"white\"},\"zaxis\":{\"backgroundcolor\":\"#E5ECF6\",\"gridcolor\":\"white\",\"gridwidth\":2,\"linecolor\":\"white\",\"showbackground\":true,\"ticks\":\"\",\"zerolinecolor\":\"white\"}},\"shapedefaults\":{\"line\":{\"color\":\"#2a3f5f\"}},\"ternary\":{\"aaxis\":{\"gridcolor\":\"white\",\"linecolor\":\"white\",\"ticks\":\"\"},\"baxis\":{\"gridcolor\":\"white\",\"linecolor\":\"white\",\"ticks\":\"\"},\"bgcolor\":\"#E5ECF6\",\"caxis\":{\"gridcolor\":\"white\",\"linecolor\":\"white\",\"ticks\":\"\"}},\"title\":{\"x\":0.05},\"xaxis\":{\"automargin\":true,\"gridcolor\":\"white\",\"linecolor\":\"white\",\"ticks\":\"\",\"title\":{\"standoff\":15},\"zerolinecolor\":\"white\",\"zerolinewidth\":2},\"yaxis\":{\"automargin\":true,\"gridcolor\":\"white\",\"linecolor\":\"white\",\"ticks\":\"\",\"title\":{\"standoff\":15},\"zerolinecolor\":\"white\",\"zerolinewidth\":2}}},\"title\":{\"text\":\"Feature Selection\"},\"xaxis\":{\"tickmode\":\"array\",\"ticktext\":[\"Temperature\",\"Pressure\",\"Humidity\",\"WindDirection(Degrees)\",\"Speed\",\"unixdiff_hrs\",\"st_end_days\",\"diff_hrs\"],\"tickvals\":[0,1,2,3,4,5,6,7],\"title\":{\"text\":\"Features\"}},\"yaxis\":{\"title\":{\"text\":\"P-Value\"}}},                        {\"responsive\": true}                    ).then(function(){\n",
       "                            \n",
       "var gd = document.getElementById('a641ba5a-c552-4ece-a2df-de724e7f5ea4');\n",
       "var x = new MutationObserver(function (mutations, observer) {{\n",
       "        var display = window.getComputedStyle(gd).display;\n",
       "        if (!display || display === 'none') {{\n",
       "            console.log([gd, 'removed!']);\n",
       "            Plotly.purge(gd);\n",
       "            observer.disconnect();\n",
       "        }}\n",
       "}});\n",
       "\n",
       "// Listen for the removal of the full notebook cells\n",
       "var notebookContainer = gd.closest('#notebook-container');\n",
       "if (notebookContainer) {{\n",
       "    x.observe(notebookContainer, {childList: true});\n",
       "}}\n",
       "\n",
       "// Listen for the clearing of the current output cell\n",
       "var outputEl = gd.closest('.output');\n",
       "if (outputEl) {{\n",
       "    x.observe(outputEl, {childList: true});\n",
       "}}\n",
       "\n",
       "                        })                };                });            </script>        </div>"
      ]
     },
     "metadata": {},
     "output_type": "display_data"
    }
   ],
   "source": [
    "# calculate the f_values and p_values for all the features\n",
    "from sklearn.feature_selection import f_regression\n",
    "\n",
    "f_values, p_values = f_regression(Xtrain, ytrain)\n",
    "import plotly.graph_objects as go\n",
    "\n",
    "fig = go.Figure()\n",
    "fig.add_trace(go.Scatter(x=list(range(Xtrain.shape[1])), y=p_values, mode=\"markers\"))\n",
    "fig.update_layout( title=\"Feature Selection\", yaxis_title=\"P-Value\", \n",
    "    xaxis=dict(title=\"Features\", tickmode=\"array\",tickvals=list(range(Xtrain.shape[1])),\n",
    "        ticktext=[col for col in Xtrain.columns],),)\n",
    "fig.show()"
   ]
  },
  {
   "cell_type": "markdown",
   "id": "3fd405cf",
   "metadata": {},
   "source": [
    "\n",
    "\n",
    "### Ordinary Least Square Regression\n",
    "\n",
    "Let's start with OLS Regression"
   ]
  },
  {
   "cell_type": "code",
   "execution_count": 203,
   "id": "5c905dba",
   "metadata": {
    "ExecuteTime": {
     "end_time": "2021-12-15T10:13:20.128982Z",
     "start_time": "2021-12-15T10:13:20.042122Z"
    }
   },
   "outputs": [],
   "source": [
    "Xtrainols = Xtrain.copy()\n",
    "ytrainols = ytrain.copy()"
   ]
  },
  {
   "cell_type": "code",
   "execution_count": 204,
   "id": "bb49f06d",
   "metadata": {
    "ExecuteTime": {
     "end_time": "2021-12-15T10:13:20.284725Z",
     "start_time": "2021-12-15T10:13:20.134890Z"
    }
   },
   "outputs": [
    {
     "name": "stdout",
     "output_type": "stream",
     "text": [
      "                                 OLS Regression Results                                \n",
      "=======================================================================================\n",
      "Dep. Variable:              Radiation   R-squared (uncentered):                   0.418\n",
      "Model:                            OLS   Adj. R-squared (uncentered):              0.418\n",
      "Method:                 Least Squares   F-statistic:                              1340.\n",
      "Date:                Wed, 15 Dec 2021   Prob (F-statistic):                        0.00\n",
      "Time:                        15:43:20   Log-Likelihood:                         -99707.\n",
      "No. Observations:               14930   AIC:                                  1.994e+05\n",
      "Df Residuals:                   14922   BIC:                                  1.995e+05\n",
      "Df Model:                           8                                                  \n",
      "Covariance Type:            nonrobust                                                  \n",
      "==========================================================================================\n",
      "                             coef    std err          t      P>|t|      [0.025      0.975]\n",
      "------------------------------------------------------------------------------------------\n",
      "Temperature              166.3133      1.986     83.761      0.000     162.421     170.205\n",
      "Pressure                  -9.0016      1.732     -5.196      0.000     -12.397      -5.606\n",
      "Humidity                   8.9305      1.769      5.048      0.000       5.463      12.398\n",
      "WindDirection(Degrees)   -30.6005      1.787    -17.120      0.000     -34.104     -27.097\n",
      "Speed                     15.2171      1.651      9.220      0.000      11.982      18.452\n",
      "unixdiff_hrs            4165.3518    181.650     22.931      0.000    3809.295    4521.409\n",
      "st_end_days            -4211.0663    181.878    -23.153      0.000   -4567.570   -3854.563\n",
      "diff_hrs                 -13.9157      7.827     -1.778      0.075     -29.257       1.425\n",
      "==============================================================================\n",
      "Omnibus:                     2037.617   Durbin-Watson:                   1.157\n",
      "Prob(Omnibus):                  0.000   Jarque-Bera (JB):             3576.512\n",
      "Skew:                           0.903   Prob(JB):                         0.00\n",
      "Kurtosis:                       4.578   Cond. No.                         296.\n",
      "==============================================================================\n",
      "\n",
      "Notes:\n",
      "[1] R² is computed without centering (uncentered) since the model does not contain a constant.\n",
      "[2] Standard Errors assume that the covariance matrix of the errors is correctly specified.\n",
      "Standard errors:  Temperature                 1.985571\n",
      "Pressure                    1.732357\n",
      "Humidity                    1.769109\n",
      "WindDirection(Degrees)      1.787449\n",
      "Speed                       1.650515\n",
      "unixdiff_hrs              181.650241\n",
      "st_end_days               181.878054\n",
      "diff_hrs                    7.826631\n",
      "dtype: float64\n",
      "R-squared 0.41815316230386956\n"
     ]
    }
   ],
   "source": [
    "#Normal linear regression(Ordinary Least Square Regression) does not have any hyperparameters to tune.\n",
    "olsmod = sm.OLS(ytrainols, Xtrainols)\n",
    "olsres = olsmod.fit()\n",
    "print(olsres.summary())\n",
    "print(\"Standard errors: \", olsres.bse)\n",
    "print(\"R-squared\",olsres.rsquared)"
   ]
  },
  {
   "cell_type": "markdown",
   "id": "f781367e",
   "metadata": {},
   "source": [
    "### Linear  Regression"
   ]
  },
  {
   "cell_type": "code",
   "execution_count": 205,
   "id": "cee529ee",
   "metadata": {
    "ExecuteTime": {
     "end_time": "2021-12-15T10:13:20.534077Z",
     "start_time": "2021-12-15T10:13:20.288715Z"
    }
   },
   "outputs": [
    {
     "name": "stdout",
     "output_type": "stream",
     "text": [
      "Intercept is  125.76655592763393\n",
      "[('Temperature', 166.31332100381374), ('Pressure', -9.001570635943839), ('Humidity', 8.930487183599157), ('WindDirection(Degrees)', -30.600527284558943), ('Speed', 15.217086393122145), ('unixdiff_hrs', 4165.351833579926), ('st_end_days', -4211.066349145369), ('diff_hrs', -13.915702077279786)]\n"
     ]
    },
    {
     "data": {
      "text/plain": [
       "[('unixdiff_hrs', 4165.351833579926),\n",
       " ('Temperature', 166.31332100381374),\n",
       " ('Speed', 15.217086393122145),\n",
       " ('Humidity', 8.930487183599157),\n",
       " ('Pressure', -9.001570635943839),\n",
       " ('diff_hrs', -13.915702077279786),\n",
       " ('WindDirection(Degrees)', -30.600527284558943),\n",
       " ('st_end_days', -4211.066349145369)]"
      ]
     },
     "execution_count": 205,
     "metadata": {},
     "output_type": "execute_result"
    }
   ],
   "source": [
    "lr = LinearRegression()\n",
    "lr.fit(Xtrain,ytrain)\n",
    "# Its hard to remember the order of the feature names, we so we are zipping the features to pair \n",
    "#the feature names with the coefficients\n",
    "print(\"Intercept is \",lr.intercept_)\n",
    "# Examine coefs\n",
    "lr_coefs = [(col, coef) for col, coef in zip(Xtrain.columns, lr.coef_)]\n",
    "print(lr_coefs)\n",
    "sorted(lr_coefs, key = lambda x: -x[1]) # -x gives you descending order"
   ]
  },
  {
   "cell_type": "code",
   "execution_count": 206,
   "id": "c6939622",
   "metadata": {
    "ExecuteTime": {
     "end_time": "2021-12-15T10:13:20.738990Z",
     "start_time": "2021-12-15T10:13:20.543045Z"
    }
   },
   "outputs": [
    {
     "name": "stdout",
     "output_type": "stream",
     "text": [
      "Training R2\n",
      "0.5565901620618917\n",
      "Testing R2\n",
      "0.5400966784312193\n"
     ]
    }
   ],
   "source": [
    "print(\"Training R2\")\n",
    "print(lr.score(Xtrain,ytrain))\n",
    "print(\"Testing R2\")\n",
    "print(lr.score(Xtest,ytest))\n"
   ]
  },
  {
   "cell_type": "code",
   "execution_count": 207,
   "id": "e761480a",
   "metadata": {
    "ExecuteTime": {
     "end_time": "2021-12-15T10:13:20.849041Z",
     "start_time": "2021-12-15T10:13:20.751956Z"
    }
   },
   "outputs": [
    {
     "name": "stdout",
     "output_type": "stream",
     "text": [
      "Training data results [ 73.41454678 325.65462353 415.26937088 ...  64.4497128  -71.83308255\n",
      "  31.79553691]\n",
      "Splitted test  data results [ 87.42031819 -12.09505833 122.04037858 ... 375.52125044 -13.55714279\n",
      " -29.94306527]\n",
      "New Testing data results [317.68992799 364.99547819   0.98610104 ... 184.8825935  132.7066208\n",
      " 433.28429862]\n"
     ]
    }
   ],
   "source": [
    "# making predictions on test set\n",
    "#y_pred = regressor.predict(X_test)\n",
    "ypredtrain = lr.predict(Xtrain)\n",
    "ypredtest = lr.predict(Xtest)\n",
    "yprednewtest = lr.predict(Xnewtest)\n",
    "print(\"Training data results\",ypredtrain)\n",
    "print(\"Splitted test  data results\",ypredtest)\n",
    "print(\"New Testing data results\",yprednewtest)\n"
   ]
  },
  {
   "cell_type": "code",
   "execution_count": 208,
   "id": "b1719524",
   "metadata": {
    "ExecuteTime": {
     "end_time": "2021-12-15T10:13:21.049165Z",
     "start_time": "2021-12-15T10:13:20.852996Z"
    }
   },
   "outputs": [
    {
     "data": {
      "text/plain": [
       "((14930,), (6399,), (5787,))"
      ]
     },
     "execution_count": 208,
     "metadata": {},
     "output_type": "execute_result"
    }
   ],
   "source": [
    "ypredtrain.shape,ypredtest.shape,yprednewtest.shape"
   ]
  },
  {
   "cell_type": "code",
   "execution_count": 209,
   "id": "e6f4fbb9",
   "metadata": {
    "ExecuteTime": {
     "end_time": "2021-12-15T10:13:21.188787Z",
     "start_time": "2021-12-15T10:13:21.067113Z"
    }
   },
   "outputs": [
    {
     "name": "stdout",
     "output_type": "stream",
     "text": [
      "Accuracy of testing data is  -3450.521483163441\n",
      "Accuracy of training data is  64.23470545297829\n"
     ]
    }
   ],
   "source": [
    "#Measuring accuracy on Testing Data\n",
    "print('Accuracy of testing data is ',100- (np.mean(np.abs((ytest - ypredtest) / ytest)) * 100))\n",
    "#Measuring accuracy on Training  Data\n",
    "accLR = 100-(np.mean(np.abs((ytrain - ypredtrain) / ytrain)))\n",
    "print('Accuracy of training data is ',accLR)"
   ]
  },
  {
   "cell_type": "code",
   "execution_count": 210,
   "id": "3e91ee7f",
   "metadata": {
    "ExecuteTime": {
     "end_time": "2021-12-15T10:13:21.437288Z",
     "start_time": "2021-12-15T10:13:21.195770Z"
    }
   },
   "outputs": [
    {
     "name": "stdout",
     "output_type": "stream",
     "text": [
      "MAE for training set is 108.87519252223662\n",
      "MAE for test set is 112.13731299594826\n",
      "*****************************************************\n",
      "MSE for training set is 21184.531681780223\n",
      "MSE for test set is 22341.276136725864\n",
      "*****************************************************\n",
      "RMSE for training set is 145.54906966992343\n",
      "RMSE for test set is 149.469984066119\n",
      "*****************************************************\n",
      "R2 score for training set is 0.5565901620618917\n",
      "R2 score for test set is 0.5400966784312193\n",
      "*****************************************************\n",
      "Adjusted R2 score for training set is 0.5563524247317191\n",
      "Adjusted R2 score for test set is 0.5395208996248735\n"
     ]
    }
   ],
   "source": [
    "# Computing the MSE for our resale value predictions¶\n",
    "MAE_train = metrics.mean_absolute_error(ytrain, ypredtrain)\n",
    "MAE_test = metrics.mean_absolute_error(ytest, ypredtest)\n",
    "print('MAE for training set is {}'.format(MAE_train))\n",
    "print('MAE for test set is {}'.format(MAE_test))\n",
    "print('*****************************************************')\n",
    "MSE_train = metrics.mean_squared_error(ytrain, ypredtrain)\n",
    "MSE_test = metrics.mean_squared_error(ytest, ypredtest)\n",
    "print('MSE for training set is {}'.format(MSE_train))\n",
    "print('MSE for test set is {}'.format(MSE_test))\n",
    "print('*****************************************************')\n",
    "RMSE_train = np.sqrt(metrics.mean_squared_error(ytrain, ypredtrain))\n",
    "RMSE_test = np.sqrt(metrics.mean_squared_error(ytest, ypredtest))\n",
    "print('RMSE for training set is {}'.format(RMSE_train))\n",
    "print('RMSE for test set is {}'.format(RMSE_test))\n",
    "print('*****************************************************')\n",
    "r2train = metrics.r2_score(ytrain, ypredtrain)\n",
    "r2test = metrics.r2_score(ytest, ypredtest)\n",
    "print(\"R2 score for training set is {}\".format(r2train))\n",
    "print(\"R2 score for test set is {}\".format(r2test))\n",
    "print('*****************************************************')\n",
    "adj_rsquared_train = 1 - \\\n",
    "    (1-r2train)*(len(ytrain)-1)/(len(ytrain)-Xtrain.shape[1]-1)\n",
    "adj_rsquared_test = 1 - (1-r2test)*(len(ytest)-1) / \\\n",
    "    (len(ytest)-Xtest.shape[1]-1)\n",
    "print(\"Adjusted R2 score for training set is {}\".format(adj_rsquared_train))\n",
    "print(\"Adjusted R2 score for test set is {}\".format(adj_rsquared_test))"
   ]
  },
  {
   "cell_type": "code",
   "execution_count": 211,
   "id": "e8d2b971",
   "metadata": {
    "ExecuteTime": {
     "end_time": "2021-12-15T10:13:21.891510Z",
     "start_time": "2021-12-15T10:13:21.445175Z"
    }
   },
   "outputs": [
    {
     "name": "stdout",
     "output_type": "stream",
     "text": [
      "Training R2\n",
      "0.5565901620618917\n",
      "Testing R2\n",
      "0.5400966784312193\n",
      "[0.5411441  0.5486423  0.57179236 0.57090181 0.56347482 0.54962013\n",
      " 0.55365068 0.5704415  0.54533873 0.54280154]\n",
      "Average R2\n",
      "0.5557807978436659\n",
      "IN linear regresiion coeffiecients are  [  166.313321      -9.00157064     8.93048718   -30.60052728\n",
      "    15.21708639  4165.35183358 -4211.06634915   -13.91570208]\n"
     ]
    }
   ],
   "source": [
    "#With Pipeline\n",
    "\n",
    "#X = train[feature_cols]\n",
    "#y = train['Radiation']\n",
    "#Xtrain, Xtest, ytrain, ytest = train_test_split(X, y, test_size=.30, random_state=10)\n",
    "pipe = Pipeline((\n",
    "#(\"mms\",MinMaxScaler()),\n",
    "(\"lr\", LinearRegression()),\n",
    "))\n",
    "pipe.fit(Xtrain,ytrain)\n",
    "print(\"Training R2\")\n",
    "print(pipe.score(Xtrain,ytrain))\n",
    "print(\"Testing R2\")\n",
    "print(pipe.score(Xtest,ytest))\n",
    "scoresdt = cross_val_score(pipe,Xtrain,ytrain,cv=10)\n",
    "print(scoresdt)\n",
    "print(\"Average R2\")\n",
    "print(np.mean(scoresdt))\n",
    "print(\"IN linear regresiion coeffiecients are \",pipe['lr'].coef_)"
   ]
  },
  {
   "cell_type": "code",
   "execution_count": 212,
   "id": "99ef3ae4",
   "metadata": {
    "ExecuteTime": {
     "end_time": "2021-12-15T10:13:29.884049Z",
     "start_time": "2021-12-15T10:13:21.895497Z"
    }
   },
   "outputs": [
    {
     "name": "stdout",
     "output_type": "stream",
     "text": [
      "Performance Metrics of  LinearRegression :\n",
      "[RMSE]: 149.469984066119 [R-Squared]: 0.5400966784312193 [Processing Time]: 0.027927398681640625 seconds\n",
      "----------------------------------------\n",
      "\n",
      "Performance Metrics of  RandomForestRegressor :\n",
      "[RMSE]: 89.1866627859341 [R-Squared]: 0.8362586385466468 [Processing Time]: 3.8746440410614014 seconds\n",
      "----------------------------------------\n",
      "\n",
      "Performance Metrics of  GradientBoostingRegressor :\n",
      "[RMSE]: 122.5559138187908 [R-Squared]: 0.6908088070784701 [Processing Time]: 3.8197855949401855 seconds\n",
      "----------------------------------------\n",
      "\n",
      "Performance Metrics of  RFE :\n",
      "[RMSE]: 149.469984066119 [R-Squared]: 0.5400966784312193 [Processing Time]: 0.01789402961730957 seconds\n",
      "----------------------------------------\n",
      "\n",
      "Performance Metrics of  DecisionTreeRegressor :\n",
      "[RMSE]: 113.67627160565048 [R-Squared]: 0.7339898477382403 [Processing Time]: 0.2054154872894287 seconds\n",
      "----------------------------------------\n",
      "\n"
     ]
    }
   ],
   "source": [
    "import time\n",
    "#clfs = [LinearRegression(), RandomForestRegressor(n_estimators=25,random_state=42)]\n",
    "#PolynomialFeatures(degree=1)\n",
    "clfs = [LinearRegression(),RandomForestRegressor(n_estimators=28,random_state=10), \n",
    "        GradientBoostingRegressor(n_estimators=100,random_state=10),\n",
    "        RFE(estimator=LinearRegression(),n_features_to_select=70),\n",
    "        DecisionTreeRegressor(max_depth=20,random_state=10)\n",
    "       ]\n",
    "\n",
    "for clf in clfs:\n",
    "      # Extracting model name\n",
    "      model_name = type(clf).__name__\n",
    "\n",
    "      # Calculate start time\n",
    "      start_time = time.time()\n",
    "\n",
    "      # Train the model\n",
    "      clf.fit(Xtrain, ytrain)\n",
    "      \n",
    "      # Make predictions on the trained model\n",
    "      ytrainpredict = clf.predict(Xtrain)\n",
    "      ytestpredict = clf.predict(Xtest)  \n",
    "      ynewtestpredict = clf.predict(Xnewtest)\n",
    "\n",
    "      # Estimating the model performance\n",
    "      RMSE = np.sqrt(metrics.mean_squared_error(ytest, ytestpredict))\n",
    "      R_squared = metrics.r2_score(ytest, ytestpredict)\n",
    "\n",
    "      # Calculate evaluated time\n",
    "      elapsed_time = (time.time() - start_time)\n",
    "\n",
    "      # Display the metrics and time took to develop the model\n",
    "      print('Performance Metrics of ', model_name, ':')\n",
    "      print('[RMSE]:', RMSE, '[R-Squared]:', R_squared, '[Processing Time]:', elapsed_time, 'seconds')\n",
    "      print('----------------------------------------\\n')"
   ]
  },
  {
   "cell_type": "code",
   "execution_count": null,
   "id": "4ea0e58c",
   "metadata": {
    "ExecuteTime": {
     "start_time": "2021-12-15T10:13:03.341Z"
    }
   },
   "outputs": [],
   "source": [
    "from sklearn.model_selection import validation_curve\n",
    "\n",
    "param_range = np.arange(1,100,7)\n",
    "train_scores, test_scores = validation_curve(\n",
    "    RandomForestRegressor(), Xtrain, ytrain, param_name=\"n_estimators\", param_range=param_range,n_jobs=1)\n",
    "train_scores_mean = np.mean(train_scores, axis=1)\n",
    "train_scores_std = np.std(train_scores, axis=1)\n",
    "test_scores_mean = np.mean(test_scores, axis=1)\n",
    "test_scores_std = np.std(test_scores, axis=1)\n",
    "\n",
    "plt.title(\"Validation Curve with Random Forest Regressor\")\n",
    "plt.xlabel(\"Number of Estimators\")\n",
    "plt.ylabel(\"Score\")\n",
    "plt.ylim(0.0, 1.1)\n",
    "lw = 2\n",
    "plt.semilogx(param_range, train_scores_mean, label=\"Training score\",\n",
    "             color=\"darkorange\", lw=lw)\n",
    "plt.fill_between(param_range, train_scores_mean - train_scores_std,\n",
    "                 train_scores_mean + train_scores_std, alpha=0.2,\n",
    "                 color=\"darkorange\", lw=lw)\n",
    "plt.semilogx(param_range, test_scores_mean, label=\"Cross-validation score\",\n",
    "             color=\"navy\", lw=lw)\n",
    "plt.fill_between(param_range, test_scores_mean - test_scores_std,\n",
    "                 test_scores_mean + test_scores_std, alpha=0.2,\n",
    "                 color=\"navy\", lw=lw)\n",
    "plt.legend(loc=\"best\")\n",
    "plt.show()"
   ]
  },
  {
   "cell_type": "code",
   "execution_count": null,
   "id": "f38d50f8",
   "metadata": {
    "ExecuteTime": {
     "start_time": "2021-12-15T10:13:03.348Z"
    }
   },
   "outputs": [],
   "source": [
    "#Printing some sample values of prediction for test data\n",
    "p_test = 'radiation_pred'\n",
    "test_cols = Xnewtest.columns\n",
    "test_results = pd.DataFrame(data=Xnewtest, columns=test_cols)\n",
    "test_results[('new test data ' + p_test)]=ynewtestpredict.round(0)\n",
    "test_results.head(10)"
   ]
  },
  {
   "cell_type": "code",
   "execution_count": null,
   "id": "3c336697",
   "metadata": {
    "ExecuteTime": {
     "start_time": "2021-12-15T10:13:03.354Z"
    }
   },
   "outputs": [],
   "source": [
    "# To create Dataframe of predicted value with particular respective index\n",
    "predicted_rad = pd.DataFrame(ynewtestpredict.round(0)) \n",
    "predicted_rad.index = Xnewtest.index \n",
    "predicted_rad.columns = [\"radiation_prediction\"]\n",
    "predicted_rad.to_csv('radiation_project_submission_sagar.csv',header=False)"
   ]
  },
  {
   "cell_type": "code",
   "execution_count": null,
   "id": "b52ae3ac",
   "metadata": {
    "ExecuteTime": {
     "start_time": "2021-12-15T10:13:03.360Z"
    }
   },
   "outputs": [],
   "source": [
    "predicted_rad"
   ]
  }
 ],
 "metadata": {
  "kernelspec": {
   "display_name": "Python 3 (ipykernel)",
   "language": "python",
   "name": "python3"
  },
  "language_info": {
   "codemirror_mode": {
    "name": "ipython",
    "version": 3
   },
   "file_extension": ".py",
   "mimetype": "text/x-python",
   "name": "python",
   "nbconvert_exporter": "python",
   "pygments_lexer": "ipython3",
   "version": "3.8.12"
  }
 },
 "nbformat": 4,
 "nbformat_minor": 5
}
