{
 "cells": [
  {
   "cell_type": "markdown",
   "id": "e1ebe06d",
   "metadata": {},
   "source": [
    "<center>Machine Learning  Project - Intermediate Level </center>\n",
    "\n",
    "## <center> Drug  Prediction  Project </center>"
   ]
  },
  {
   "cell_type": "markdown",
   "id": "d1952020",
   "metadata": {},
   "source": [
    "- The current process suffers from the following problems:\n",
    "\n",
    "- Testing phase takes a lot of time and it's done manually because they need to carefully examine each person for the side effects.\n",
    "- Most of the crucial time is being wasted in checking each person’s health report and dispensing specific drugs according to the health metric as suggested by the R&D team.\n",
    "- This process is time-consuming and wastage of resources.\n",
    "\n",
    "- The company has hired you as data science consultants. They want to automate the process of assigning the drug according to their health report.\n",
    "\n",
    "- Your Role\n",
    "You are given a dataset containing the health report of the people from the test group.\n",
    "Your task is to build a multi-class classification model using the dataset.\n",
    "Because there was no machine learning model for this problem in the company, you don’t have a quantifiable win condition. You need to build the best possible model.\n",
    "\n",
    "- Project Deliverables\n",
    "Deliverable: Drug classification.\n",
    "Machine Learning Task: Multi-class classification\n",
    "Target Variable: Drug\n",
    "Win Condition: N/A (best possible model)\n",
    "\n",
    "Evaluation Metric\n",
    "The model evaluation will be based on the Accuracy Score.\n",
    "To learn about F1 Score’s Python implementation, please visit this link."
   ]
  },
  {
   "cell_type": "markdown",
   "id": "3726573c",
   "metadata": {},
   "source": [
    "- The dataset contains all the necessary information about the person’s health like their sex, BP, Age, Cholesterol etc.\n",
    "\n",
    "- We have the health metrics of the person which is an essential factor for transcribing the drug to that person without any side effect.\n",
    "\n",
    "- This is the data that we have to predict for future samples.\n",
    "\n",
    "\n",
    "- The dataset is divided into two parts: Train, and Test sets.\n",
    "\n",
    "- Train Set:\n",
    "The train set contains 160 rows and 7 columns.\n",
    "The last column Drug is the target variable.\n",
    "\n",
    "- Test Set:\n",
    "The test set contains 40 rows and 6 columns.\n",
    "The test set doesn’t contain the Drug column.\n",
    "It needs to be predicted for the test set."
   ]
  },
  {
   "cell_type": "code",
   "execution_count": 28,
   "id": "3520509f",
   "metadata": {
    "ExecuteTime": {
     "end_time": "2021-11-01T11:08:02.388575Z",
     "start_time": "2021-11-01T11:08:02.358687Z"
    }
   },
   "outputs": [],
   "source": [
    "import pandas as pd                                                \n",
    "pd.set_option('display.max_columns', None)                          \n",
    "pd.set_option('display.max_colwidth', None)                         \n",
    "pd.set_option('display.max_rows', None)                             \n",
    "pd.set_option('mode.chained_assignment', None)                      \n",
    "# To suppress scientific notation over exponential values\n",
    "#pd.set_option('display.float_format', lambda x: '%.5f' % x)        \n",
    "import numpy as np                                                  \n",
    "import matplotlib.pyplot as plt                                     \n",
    "import seaborn as sns                                               \n",
    "import plotly.graph_objs as go                                      \n",
    "%matplotlib inline                                       \n",
    "\n",
    "import warnings                                                     \n",
    "warnings.filterwarnings(\"ignore\")                                   "
   ]
  },
  {
   "cell_type": "code",
   "execution_count": 29,
   "id": "c0f5effa",
   "metadata": {
    "ExecuteTime": {
     "end_time": "2021-11-01T11:08:02.515236Z",
     "start_time": "2021-11-01T11:08:02.392560Z"
    }
   },
   "outputs": [],
   "source": [
    "import sklearn.metrics\n",
    "from sklearn.preprocessing import StandardScaler                    \n",
    "from sklearn.model_selection import train_test_split                \n",
    "from sklearn.ensemble import RandomForestRegressor                  \n",
    "from sklearn.linear_model import LinearRegression       \n",
    "from random import randint                                          "
   ]
  },
  {
   "cell_type": "code",
   "execution_count": 30,
   "id": "a2c4c280",
   "metadata": {
    "ExecuteTime": {
     "end_time": "2021-11-01T11:08:02.683780Z",
     "start_time": "2021-11-01T11:08:02.519222Z"
    }
   },
   "outputs": [],
   "source": [
    "from sklearn.linear_model import LogisticRegression    \n",
    "from sklearn import metrics\n",
    "from sklearn.metrics import accuracy_score                          \n",
    "from sklearn.metrics import precision_score                         \n",
    "from sklearn.metrics import recall_score                            \n",
    "from sklearn.metrics import precision_recall_curve                  \n",
    "from sklearn.metrics import confusion_matrix                        \n",
    "from sklearn.metrics import f1_score                                \n",
    "from sklearn.metrics import roc_curve                                              \n",
    "from sklearn.metrics import classification_report"
   ]
  },
  {
   "cell_type": "code",
   "execution_count": 31,
   "id": "12b531a3",
   "metadata": {
    "ExecuteTime": {
     "end_time": "2021-11-01T11:08:02.839363Z",
     "start_time": "2021-11-01T11:08:02.688768Z"
    }
   },
   "outputs": [],
   "source": [
    "drugtrain = pd.read_csv(filepath_or_buffer = \"drug_train.csv\")\n",
    "drugtest = pd.read_csv(filepath_or_buffer = \"drug_test.csv\")"
   ]
  },
  {
   "cell_type": "code",
   "execution_count": 32,
   "id": "6c41f03b",
   "metadata": {
    "ExecuteTime": {
     "end_time": "2021-11-01T11:08:02.963747Z",
     "start_time": "2021-11-01T11:08:02.842359Z"
    }
   },
   "outputs": [
    {
     "name": "stdout",
     "output_type": "stream",
     "text": [
      "Shape of the training dataset: (160, 7)\n",
      "Shape of the testing dataset: (40, 6)\n"
     ]
    }
   ],
   "source": [
    "print('Shape of the training dataset:', drugtrain.shape)\n",
    "print('Shape of the testing dataset:', drugtest.shape)"
   ]
  },
  {
   "cell_type": "code",
   "execution_count": 33,
   "id": "3e8a5219",
   "metadata": {
    "ExecuteTime": {
     "end_time": "2021-11-01T11:08:03.087754Z",
     "start_time": "2021-11-01T11:08:02.967739Z"
    }
   },
   "outputs": [
    {
     "data": {
      "text/html": [
       "<div>\n",
       "<style scoped>\n",
       "    .dataframe tbody tr th:only-of-type {\n",
       "        vertical-align: middle;\n",
       "    }\n",
       "\n",
       "    .dataframe tbody tr th {\n",
       "        vertical-align: top;\n",
       "    }\n",
       "\n",
       "    .dataframe thead th {\n",
       "        text-align: right;\n",
       "    }\n",
       "</style>\n",
       "<table border=\"1\" class=\"dataframe\">\n",
       "  <thead>\n",
       "    <tr style=\"text-align: right;\">\n",
       "      <th></th>\n",
       "      <th>Id</th>\n",
       "      <th>Age</th>\n",
       "      <th>Sex</th>\n",
       "      <th>BP</th>\n",
       "      <th>Cholesterol</th>\n",
       "      <th>Na_to_K</th>\n",
       "      <th>Drug</th>\n",
       "    </tr>\n",
       "  </thead>\n",
       "  <tbody>\n",
       "    <tr>\n",
       "      <th>0</th>\n",
       "      <td>79</td>\n",
       "      <td>32</td>\n",
       "      <td>F</td>\n",
       "      <td>LOW</td>\n",
       "      <td>NORMAL</td>\n",
       "      <td>10.840</td>\n",
       "      <td>drugX</td>\n",
       "    </tr>\n",
       "    <tr>\n",
       "      <th>1</th>\n",
       "      <td>197</td>\n",
       "      <td>52</td>\n",
       "      <td>M</td>\n",
       "      <td>NORMAL</td>\n",
       "      <td>HIGH</td>\n",
       "      <td>9.894</td>\n",
       "      <td>drugX</td>\n",
       "    </tr>\n",
       "    <tr>\n",
       "      <th>2</th>\n",
       "      <td>38</td>\n",
       "      <td>39</td>\n",
       "      <td>F</td>\n",
       "      <td>NORMAL</td>\n",
       "      <td>NORMAL</td>\n",
       "      <td>9.709</td>\n",
       "      <td>drugX</td>\n",
       "    </tr>\n",
       "    <tr>\n",
       "      <th>3</th>\n",
       "      <td>24</td>\n",
       "      <td>33</td>\n",
       "      <td>F</td>\n",
       "      <td>LOW</td>\n",
       "      <td>HIGH</td>\n",
       "      <td>33.486</td>\n",
       "      <td>DrugY</td>\n",
       "    </tr>\n",
       "    <tr>\n",
       "      <th>4</th>\n",
       "      <td>122</td>\n",
       "      <td>34</td>\n",
       "      <td>M</td>\n",
       "      <td>NORMAL</td>\n",
       "      <td>HIGH</td>\n",
       "      <td>22.456</td>\n",
       "      <td>DrugY</td>\n",
       "    </tr>\n",
       "  </tbody>\n",
       "</table>\n",
       "</div>"
      ],
      "text/plain": [
       "    Id  Age Sex      BP Cholesterol  Na_to_K   Drug\n",
       "0   79   32   F     LOW      NORMAL   10.840  drugX\n",
       "1  197   52   M  NORMAL        HIGH    9.894  drugX\n",
       "2   38   39   F  NORMAL      NORMAL    9.709  drugX\n",
       "3   24   33   F     LOW        HIGH   33.486  DrugY\n",
       "4  122   34   M  NORMAL        HIGH   22.456  DrugY"
      ]
     },
     "execution_count": 33,
     "metadata": {},
     "output_type": "execute_result"
    }
   ],
   "source": [
    "drugtrain.head()"
   ]
  },
  {
   "cell_type": "code",
   "execution_count": 34,
   "id": "428d76d7",
   "metadata": {
    "ExecuteTime": {
     "end_time": "2021-11-01T11:08:03.195464Z",
     "start_time": "2021-11-01T11:08:03.090746Z"
    }
   },
   "outputs": [],
   "source": [
    "# Only for columns of train data set\n",
    "drugtrain.columns = drugtrain.columns.str.lower().str.replace(' ', '_')\n",
    "# Only for columns of test data set\n",
    "drugtest.columns = drugtest.columns.str.lower().str.replace(' ', '_')"
   ]
  },
  {
   "cell_type": "code",
   "execution_count": 35,
   "id": "f3053d60",
   "metadata": {
    "ExecuteTime": {
     "end_time": "2021-11-01T11:08:03.382022Z",
     "start_time": "2021-11-01T11:08:03.197457Z"
    }
   },
   "outputs": [],
   "source": [
    "drugtrain.set_index(\"id\", inplace = True)\n",
    "drugtest.set_index(\"id\", inplace = True)"
   ]
  },
  {
   "cell_type": "code",
   "execution_count": 36,
   "id": "6803a68b",
   "metadata": {
    "ExecuteTime": {
     "end_time": "2021-11-01T11:08:03.584735Z",
     "start_time": "2021-11-01T11:08:03.391995Z"
    }
   },
   "outputs": [
    {
     "data": {
      "text/plain": [
       "['sex', 'bp', 'cholesterol', 'drug']"
      ]
     },
     "execution_count": 36,
     "metadata": {},
     "output_type": "execute_result"
    }
   ],
   "source": [
    "obj_columns = list(drugtrain.dtypes[drugtrain.dtypes == 'object'].index)\n",
    "obj_columns"
   ]
  },
  {
   "cell_type": "code",
   "execution_count": 37,
   "id": "6bea352b",
   "metadata": {
    "ExecuteTime": {
     "end_time": "2021-11-01T11:08:03.785627Z",
     "start_time": "2021-11-01T11:08:03.591712Z"
    }
   },
   "outputs": [],
   "source": [
    "drugtrain['drug'].replace('DrugY', 'drugY', inplace = True)"
   ]
  },
  {
   "cell_type": "code",
   "execution_count": 38,
   "id": "0774be12",
   "metadata": {
    "ExecuteTime": {
     "end_time": "2021-11-01T11:08:03.988616Z",
     "start_time": "2021-11-01T11:08:03.789618Z"
    }
   },
   "outputs": [
    {
     "data": {
      "text/html": [
       "<div>\n",
       "<style scoped>\n",
       "    .dataframe tbody tr th:only-of-type {\n",
       "        vertical-align: middle;\n",
       "    }\n",
       "\n",
       "    .dataframe tbody tr th {\n",
       "        vertical-align: top;\n",
       "    }\n",
       "\n",
       "    .dataframe thead th {\n",
       "        text-align: right;\n",
       "    }\n",
       "</style>\n",
       "<table border=\"1\" class=\"dataframe\">\n",
       "  <thead>\n",
       "    <tr style=\"text-align: right;\">\n",
       "      <th></th>\n",
       "      <th>age</th>\n",
       "      <th>na_to_k</th>\n",
       "    </tr>\n",
       "  </thead>\n",
       "  <tbody>\n",
       "    <tr>\n",
       "      <th>count</th>\n",
       "      <td>160.000000</td>\n",
       "      <td>160.000000</td>\n",
       "    </tr>\n",
       "    <tr>\n",
       "      <th>mean</th>\n",
       "      <td>45.387500</td>\n",
       "      <td>16.194988</td>\n",
       "    </tr>\n",
       "    <tr>\n",
       "      <th>std</th>\n",
       "      <td>16.101481</td>\n",
       "      <td>7.254689</td>\n",
       "    </tr>\n",
       "    <tr>\n",
       "      <th>min</th>\n",
       "      <td>15.000000</td>\n",
       "      <td>6.269000</td>\n",
       "    </tr>\n",
       "    <tr>\n",
       "      <th>25%</th>\n",
       "      <td>32.000000</td>\n",
       "      <td>10.445250</td>\n",
       "    </tr>\n",
       "    <tr>\n",
       "      <th>50%</th>\n",
       "      <td>46.000000</td>\n",
       "      <td>14.076500</td>\n",
       "    </tr>\n",
       "    <tr>\n",
       "      <th>75%</th>\n",
       "      <td>58.250000</td>\n",
       "      <td>19.480750</td>\n",
       "    </tr>\n",
       "    <tr>\n",
       "      <th>max</th>\n",
       "      <td>74.000000</td>\n",
       "      <td>38.247000</td>\n",
       "    </tr>\n",
       "  </tbody>\n",
       "</table>\n",
       "</div>"
      ],
      "text/plain": [
       "              age     na_to_k\n",
       "count  160.000000  160.000000\n",
       "mean    45.387500   16.194988\n",
       "std     16.101481    7.254689\n",
       "min     15.000000    6.269000\n",
       "25%     32.000000   10.445250\n",
       "50%     46.000000   14.076500\n",
       "75%     58.250000   19.480750\n",
       "max     74.000000   38.247000"
      ]
     },
     "execution_count": 38,
     "metadata": {},
     "output_type": "execute_result"
    }
   ],
   "source": [
    "drugtrain.describe()"
   ]
  },
  {
   "cell_type": "code",
   "execution_count": 39,
   "id": "a18ee1fd",
   "metadata": {
    "ExecuteTime": {
     "end_time": "2021-11-01T11:08:04.096530Z",
     "start_time": "2021-11-01T11:08:03.995598Z"
    }
   },
   "outputs": [
    {
     "name": "stdout",
     "output_type": "stream",
     "text": [
      "cols age unique 53\n",
      "cols sex unique 2\n",
      "cols bp unique 3\n",
      "cols cholesterol unique 2\n",
      "cols na_to_k unique 159\n",
      "cols drug unique 5\n"
     ]
    }
   ],
   "source": [
    "for cols in drugtrain.columns:\n",
    "    print(\"cols\",cols, \"unique\",  drugtrain[cols].nunique())   \n",
    "    "
   ]
  },
  {
   "cell_type": "code",
   "execution_count": 40,
   "id": "59857f12",
   "metadata": {
    "ExecuteTime": {
     "end_time": "2021-11-01T11:08:04.219877Z",
     "start_time": "2021-11-01T11:08:04.099520Z"
    }
   },
   "outputs": [],
   "source": [
    "#categorical = ['sex', 'bp ', 'drug','cholesterol']\n",
    "#numerical = ['age', 'na_to_k']"
   ]
  },
  {
   "cell_type": "code",
   "execution_count": 41,
   "id": "c6340afa",
   "metadata": {
    "ExecuteTime": {
     "end_time": "2021-11-01T11:08:04.346142Z",
     "start_time": "2021-11-01T11:08:04.226814Z"
    }
   },
   "outputs": [],
   "source": [
    "#drugtrain[categorica1].unique()"
   ]
  },
  {
   "cell_type": "code",
   "execution_count": 42,
   "id": "57c26884",
   "metadata": {
    "ExecuteTime": {
     "end_time": "2021-11-01T11:08:04.519037Z",
     "start_time": "2021-11-01T11:08:04.351989Z"
    }
   },
   "outputs": [
    {
     "name": "stdout",
     "output_type": "stream",
     "text": [
      "<class 'pandas.core.frame.DataFrame'>\n",
      "Int64Index: 160 entries, 79 to 102\n",
      "Data columns (total 6 columns):\n",
      " #   Column       Non-Null Count  Dtype  \n",
      "---  ------       --------------  -----  \n",
      " 0   age          160 non-null    int64  \n",
      " 1   sex          160 non-null    object \n",
      " 2   bp           160 non-null    object \n",
      " 3   cholesterol  160 non-null    object \n",
      " 4   na_to_k      160 non-null    float64\n",
      " 5   drug         160 non-null    object \n",
      "dtypes: float64(1), int64(1), object(4)\n",
      "memory usage: 8.8+ KB\n"
     ]
    }
   ],
   "source": [
    "drugtrain.info()"
   ]
  },
  {
   "cell_type": "markdown",
   "id": "8fd8a80b",
   "metadata": {},
   "source": [
    "# Preprocessing Data"
   ]
  },
  {
   "cell_type": "markdown",
   "id": "ceea6749",
   "metadata": {},
   "source": [
    "- Dealing with missing values<br/>\n",
    "   "
   ]
  },
  {
   "cell_type": "code",
   "execution_count": 43,
   "id": "68769c4c",
   "metadata": {
    "ExecuteTime": {
     "end_time": "2021-11-01T11:08:04.643598Z",
     "start_time": "2021-11-01T11:08:04.525016Z"
    }
   },
   "outputs": [
    {
     "data": {
      "text/plain": [
       "False"
      ]
     },
     "execution_count": 43,
     "metadata": {},
     "output_type": "execute_result"
    }
   ],
   "source": [
    "drugtrain.isnull().sum().any()"
   ]
  },
  {
   "cell_type": "code",
   "execution_count": 44,
   "id": "8e79afb4",
   "metadata": {
    "ExecuteTime": {
     "end_time": "2021-11-01T11:08:04.768507Z",
     "start_time": "2021-11-01T11:08:04.646560Z"
    }
   },
   "outputs": [
    {
     "data": {
      "text/plain": [
       "False"
      ]
     },
     "execution_count": 44,
     "metadata": {},
     "output_type": "execute_result"
    }
   ],
   "source": [
    "drugtest.isnull().sum().any()"
   ]
  },
  {
   "cell_type": "code",
   "execution_count": 45,
   "id": "ce58396c",
   "metadata": {
    "ExecuteTime": {
     "end_time": "2021-11-01T11:08:04.908107Z",
     "start_time": "2021-11-01T11:08:04.773497Z"
    }
   },
   "outputs": [
    {
     "name": "stdout",
     "output_type": "stream",
     "text": [
      "Do Training data have any duplicate Rows ? False\n",
      "Do TESTING data have any duplicate Rows ? False\n"
     ]
    }
   ],
   "source": [
    "print('Do Training data have any duplicate Rows ?', drugtrain.duplicated().any())\n",
    "print('Do TESTING data have any duplicate Rows ?', drugtest.duplicated().any())"
   ]
  },
  {
   "cell_type": "markdown",
   "id": "18b9274f",
   "metadata": {},
   "source": [
    "- Observations </br> \n",
    "- There are no duplicate rows in the  data found\n",
    "- There are **no missing values** present in the dataset."
   ]
  },
  {
   "cell_type": "markdown",
   "id": "94b972da",
   "metadata": {
    "ExecuteTime": {
     "end_time": "2021-11-01T05:30:41.585716Z",
     "start_time": "2021-11-01T05:30:41.564774Z"
    }
   },
   "source": [
    "# EDA"
   ]
  },
  {
   "cell_type": "code",
   "execution_count": 46,
   "id": "c71c68e9",
   "metadata": {
    "ExecuteTime": {
     "end_time": "2021-11-01T11:08:05.016427Z",
     "start_time": "2021-11-01T11:08:04.916084Z"
    }
   },
   "outputs": [
    {
     "data": {
      "text/plain": [
       "drugY    0.47500\n",
       "drugX    0.26875\n",
       "drugA    0.10625\n",
       "drugB    0.08125\n",
       "drugC    0.06875\n",
       "Name: drug, dtype: float64"
      ]
     },
     "execution_count": 46,
     "metadata": {},
     "output_type": "execute_result"
    }
   ],
   "source": [
    "drugtrain.drug.value_counts(normalize= True)"
   ]
  },
  {
   "cell_type": "code",
   "execution_count": 47,
   "id": "5c41f719",
   "metadata": {
    "ExecuteTime": {
     "end_time": "2021-11-01T11:08:05.355787Z",
     "start_time": "2021-11-01T11:08:05.019177Z"
    }
   },
   "outputs": [
    {
     "data": {
      "text/plain": [
       "<AxesSubplot:>"
      ]
     },
     "execution_count": 47,
     "metadata": {},
     "output_type": "execute_result"
    },
    {
     "data": {
      "image/png": "[encoded data removed]",
      "text/plain": [
       "<Figure size 432x288 with 1 Axes>"
      ]
     },
     "metadata": {
      "needs_background": "light"
     },
     "output_type": "display_data"
    }
   ],
   "source": [
    "drugtrain.drug.value_counts(normalize= True).plot(kind='bar')"
   ]
  },
  {
   "cell_type": "code",
   "execution_count": 48,
   "id": "55d124b8",
   "metadata": {
    "ExecuteTime": {
     "end_time": "2021-11-01T11:08:05.728736Z",
     "start_time": "2021-11-01T11:08:05.358781Z"
    }
   },
   "outputs": [
    {
     "data": {
      "text/plain": [
       "sex\n",
       "F    AxesSubplot(0.125,0.125;0.775x0.755)\n",
       "M    AxesSubplot(0.125,0.125;0.775x0.755)\n",
       "Name: na_to_k, dtype: object"
      ]
     },
     "execution_count": 48,
     "metadata": {},
     "output_type": "execute_result"
    },
    {
     "data": {
      "image/png": "[encoded data removed]",
      "text/plain": [
       "<Figure size 432x288 with 1 Axes>"
      ]
     },
     "metadata": {
      "needs_background": "light"
     },
     "output_type": "display_data"
    }
   ],
   "source": [
    "drugtrain.groupby(['sex'])['na_to_k'].plot(kind='hist',legend=True)"
   ]
  },
  {
   "cell_type": "code",
   "execution_count": 49,
   "id": "7e1869b7",
   "metadata": {
    "ExecuteTime": {
     "end_time": "2021-11-01T11:08:05.776637Z",
     "start_time": "2021-11-01T11:08:05.730696Z"
    }
   },
   "outputs": [
    {
     "data": {
      "text/plain": [
       "M    83\n",
       "F    77\n",
       "Name: sex, dtype: int64"
      ]
     },
     "execution_count": 49,
     "metadata": {},
     "output_type": "execute_result"
    }
   ],
   "source": [
    "drugtrain.sex.value_counts()"
   ]
  },
  {
   "cell_type": "code",
   "execution_count": 50,
   "id": "e4ee0c03",
   "metadata": {
    "ExecuteTime": {
     "end_time": "2021-11-01T11:08:05.948825Z",
     "start_time": "2021-11-01T11:08:05.779570Z"
    }
   },
   "outputs": [
    {
     "data": {
      "text/plain": [
       "drugY    76\n",
       "drugX    43\n",
       "drugA    17\n",
       "drugB    13\n",
       "drugC    11\n",
       "Name: drug, dtype: int64"
      ]
     },
     "execution_count": 50,
     "metadata": {},
     "output_type": "execute_result"
    }
   ],
   "source": [
    "drugtrain.drug.value_counts()"
   ]
  },
  {
   "cell_type": "code",
   "execution_count": 51,
   "id": "eff9e907",
   "metadata": {
    "ExecuteTime": {
     "end_time": "2021-11-01T11:08:06.230777Z",
     "start_time": "2021-11-01T11:08:05.953569Z"
    }
   },
   "outputs": [
    {
     "data": {
      "text/plain": [
       "<AxesSubplot:ylabel='drug'>"
      ]
     },
     "execution_count": 51,
     "metadata": {},
     "output_type": "execute_result"
    },
    {
     "data": {
      "image/png": "[encoded data removed]",
      "text/plain": [
       "<Figure size 432x288 with 1 Axes>"
      ]
     },
     "metadata": {},
     "output_type": "display_data"
    }
   ],
   "source": [
    "drugtrain.drug.value_counts().plot(kind='pie')"
   ]
  },
  {
   "cell_type": "code",
   "execution_count": 52,
   "id": "ee37efe1",
   "metadata": {
    "ExecuteTime": {
     "end_time": "2021-11-01T11:08:06.263760Z",
     "start_time": "2021-11-01T11:08:06.233837Z"
    }
   },
   "outputs": [
    {
     "data": {
      "text/html": [
       "<div>\n",
       "<style scoped>\n",
       "    .dataframe tbody tr th:only-of-type {\n",
       "        vertical-align: middle;\n",
       "    }\n",
       "\n",
       "    .dataframe tbody tr th {\n",
       "        vertical-align: top;\n",
       "    }\n",
       "\n",
       "    .dataframe thead th {\n",
       "        text-align: right;\n",
       "    }\n",
       "</style>\n",
       "<table border=\"1\" class=\"dataframe\">\n",
       "  <thead>\n",
       "    <tr style=\"text-align: right;\">\n",
       "      <th></th>\n",
       "      <th>Drug Max monthwise</th>\n",
       "      <th>age</th>\n",
       "      <th>na_to_k</th>\n",
       "    </tr>\n",
       "  </thead>\n",
       "  <tbody>\n",
       "    <tr>\n",
       "      <th>4</th>\n",
       "      <td>drugY</td>\n",
       "      <td>74</td>\n",
       "      <td>38.247</td>\n",
       "    </tr>\n",
       "    <tr>\n",
       "      <th>3</th>\n",
       "      <td>drugX</td>\n",
       "      <td>72</td>\n",
       "      <td>14.642</td>\n",
       "    </tr>\n",
       "    <tr>\n",
       "      <th>2</th>\n",
       "      <td>drugC</td>\n",
       "      <td>72</td>\n",
       "      <td>13.127</td>\n",
       "    </tr>\n",
       "    <tr>\n",
       "      <th>1</th>\n",
       "      <td>drugB</td>\n",
       "      <td>74</td>\n",
       "      <td>14.239</td>\n",
       "    </tr>\n",
       "    <tr>\n",
       "      <th>0</th>\n",
       "      <td>drugA</td>\n",
       "      <td>50</td>\n",
       "      <td>13.972</td>\n",
       "    </tr>\n",
       "  </tbody>\n",
       "</table>\n",
       "</div>"
      ],
      "text/plain": [
       "  Drug Max monthwise  age  na_to_k\n",
       "4              drugY   74   38.247\n",
       "3              drugX   72   14.642\n",
       "2              drugC   72   13.127\n",
       "1              drugB   74   14.239\n",
       "0              drugA   50   13.972"
      ]
     },
     "execution_count": 52,
     "metadata": {},
     "output_type": "execute_result"
    }
   ],
   "source": [
    "temp_drug = drugtrain.groupby(['drug'], as_index=False)[['age','na_to_k']].max().sort_values(by='drug', ascending = False)\n",
    "trans_drug = temp_drug.rename(columns = {'drug':'Drug Max monthwise'})\n",
    "trans_drug.head(10)"
   ]
  },
  {
   "cell_type": "code",
   "execution_count": 53,
   "id": "b7782f47",
   "metadata": {
    "ExecuteTime": {
     "end_time": "2021-11-01T11:08:06.400711Z",
     "start_time": "2021-11-01T11:08:06.268743Z"
    }
   },
   "outputs": [
    {
     "data": {
      "text/html": [
       "<div>\n",
       "<style scoped>\n",
       "    .dataframe tbody tr th:only-of-type {\n",
       "        vertical-align: middle;\n",
       "    }\n",
       "\n",
       "    .dataframe tbody tr th {\n",
       "        vertical-align: top;\n",
       "    }\n",
       "\n",
       "    .dataframe thead tr th {\n",
       "        text-align: left;\n",
       "    }\n",
       "\n",
       "    .dataframe thead tr:last-of-type th {\n",
       "        text-align: right;\n",
       "    }\n",
       "</style>\n",
       "<table border=\"1\" class=\"dataframe\">\n",
       "  <thead>\n",
       "    <tr>\n",
       "      <th></th>\n",
       "      <th colspan=\"3\" halign=\"left\">age</th>\n",
       "      <th colspan=\"3\" halign=\"left\">na_to_k</th>\n",
       "    </tr>\n",
       "    <tr>\n",
       "      <th></th>\n",
       "      <th>min</th>\n",
       "      <th>median</th>\n",
       "      <th>max</th>\n",
       "      <th>min</th>\n",
       "      <th>median</th>\n",
       "      <th>max</th>\n",
       "    </tr>\n",
       "    <tr>\n",
       "      <th>drug</th>\n",
       "      <th></th>\n",
       "      <th></th>\n",
       "      <th></th>\n",
       "      <th></th>\n",
       "      <th></th>\n",
       "      <th></th>\n",
       "    </tr>\n",
       "  </thead>\n",
       "  <tbody>\n",
       "    <tr>\n",
       "      <th>drugY</th>\n",
       "      <td>15</td>\n",
       "      <td>44.0</td>\n",
       "      <td>74</td>\n",
       "      <td>15.015</td>\n",
       "      <td>19.9045</td>\n",
       "      <td>38.247</td>\n",
       "    </tr>\n",
       "    <tr>\n",
       "      <th>drugX</th>\n",
       "      <td>15</td>\n",
       "      <td>45.0</td>\n",
       "      <td>72</td>\n",
       "      <td>6.683</td>\n",
       "      <td>10.1030</td>\n",
       "      <td>14.642</td>\n",
       "    </tr>\n",
       "    <tr>\n",
       "      <th>drugC</th>\n",
       "      <td>16</td>\n",
       "      <td>47.0</td>\n",
       "      <td>72</td>\n",
       "      <td>6.769</td>\n",
       "      <td>11.0370</td>\n",
       "      <td>13.127</td>\n",
       "    </tr>\n",
       "    <tr>\n",
       "      <th>drugB</th>\n",
       "      <td>51</td>\n",
       "      <td>60.0</td>\n",
       "      <td>74</td>\n",
       "      <td>8.621</td>\n",
       "      <td>11.0090</td>\n",
       "      <td>14.239</td>\n",
       "    </tr>\n",
       "    <tr>\n",
       "      <th>drugA</th>\n",
       "      <td>20</td>\n",
       "      <td>37.0</td>\n",
       "      <td>50</td>\n",
       "      <td>6.269</td>\n",
       "      <td>10.4460</td>\n",
       "      <td>13.972</td>\n",
       "    </tr>\n",
       "  </tbody>\n",
       "</table>\n",
       "</div>"
      ],
      "text/plain": [
       "      age            na_to_k                 \n",
       "      min median max     min   median     max\n",
       "drug                                         \n",
       "drugY  15   44.0  74  15.015  19.9045  38.247\n",
       "drugX  15   45.0  72   6.683  10.1030  14.642\n",
       "drugC  16   47.0  72   6.769  11.0370  13.127\n",
       "drugB  51   60.0  74   8.621  11.0090  14.239\n",
       "drugA  20   37.0  50   6.269  10.4460  13.972"
      ]
     },
     "execution_count": 53,
     "metadata": {},
     "output_type": "execute_result"
    }
   ],
   "source": [
    "drugtrain.groupby(['drug'], as_index=False)[['age','na_to_k']].aggregate(['min', np.median, max]).sort_values(by='drug', ascending = False)"
   ]
  },
  {
   "cell_type": "code",
   "execution_count": 54,
   "id": "26e56b28",
   "metadata": {
    "ExecuteTime": {
     "end_time": "2021-11-01T11:08:06.572375Z",
     "start_time": "2021-11-01T11:08:06.404664Z"
    }
   },
   "outputs": [
    {
     "data": {
      "text/html": [
       "<div>\n",
       "<style scoped>\n",
       "    .dataframe tbody tr th:only-of-type {\n",
       "        vertical-align: middle;\n",
       "    }\n",
       "\n",
       "    .dataframe tbody tr th {\n",
       "        vertical-align: top;\n",
       "    }\n",
       "\n",
       "    .dataframe thead tr th {\n",
       "        text-align: left;\n",
       "    }\n",
       "\n",
       "    .dataframe thead tr:last-of-type th {\n",
       "        text-align: right;\n",
       "    }\n",
       "</style>\n",
       "<table border=\"1\" class=\"dataframe\">\n",
       "  <thead>\n",
       "    <tr>\n",
       "      <th></th>\n",
       "      <th colspan=\"3\" halign=\"left\">age</th>\n",
       "      <th colspan=\"3\" halign=\"left\">na_to_k</th>\n",
       "    </tr>\n",
       "    <tr>\n",
       "      <th></th>\n",
       "      <th>min</th>\n",
       "      <th>median</th>\n",
       "      <th>max</th>\n",
       "      <th>min</th>\n",
       "      <th>median</th>\n",
       "      <th>max</th>\n",
       "    </tr>\n",
       "    <tr>\n",
       "      <th>sex</th>\n",
       "      <th></th>\n",
       "      <th></th>\n",
       "      <th></th>\n",
       "      <th></th>\n",
       "      <th></th>\n",
       "      <th></th>\n",
       "    </tr>\n",
       "  </thead>\n",
       "  <tbody>\n",
       "    <tr>\n",
       "      <th>M</th>\n",
       "      <td>15</td>\n",
       "      <td>47.0</td>\n",
       "      <td>74</td>\n",
       "      <td>6.269</td>\n",
       "      <td>13.934</td>\n",
       "      <td>35.639</td>\n",
       "    </tr>\n",
       "    <tr>\n",
       "      <th>F</th>\n",
       "      <td>15</td>\n",
       "      <td>41.0</td>\n",
       "      <td>74</td>\n",
       "      <td>6.683</td>\n",
       "      <td>15.891</td>\n",
       "      <td>38.247</td>\n",
       "    </tr>\n",
       "  </tbody>\n",
       "</table>\n",
       "</div>"
      ],
      "text/plain": [
       "    age            na_to_k                \n",
       "    min median max     min  median     max\n",
       "sex                                       \n",
       "M    15   47.0  74   6.269  13.934  35.639\n",
       "F    15   41.0  74   6.683  15.891  38.247"
      ]
     },
     "execution_count": 54,
     "metadata": {},
     "output_type": "execute_result"
    }
   ],
   "source": [
    "drugtrain.groupby(['sex'], as_index=False)[['age','na_to_k']].aggregate(['min', np.median, max]).sort_values(by='sex', ascending = False)"
   ]
  },
  {
   "cell_type": "markdown",
   "id": "553d454e",
   "metadata": {},
   "source": [
    "- What is the distribution of age ?"
   ]
  },
  {
   "cell_type": "code",
   "execution_count": 55,
   "id": "57c9ca86",
   "metadata": {
    "ExecuteTime": {
     "end_time": "2021-11-01T11:08:07.571404Z",
     "start_time": "2021-11-01T11:08:06.585340Z"
    }
   },
   "outputs": [
    {
     "data": {
      "image/png": "[encoded data removed]",
      "text/plain": [
       "<Figure size 432x288 with 1 Axes>"
      ]
     },
     "metadata": {
      "needs_background": "light"
     },
     "output_type": "display_data"
    }
   ],
   "source": [
    "drugtrain.groupby(['age'])['age'].count().sort_values(ascending=False).plot(kind='bar');"
   ]
  },
  {
   "cell_type": "code",
   "execution_count": 56,
   "id": "95ab85b6",
   "metadata": {
    "ExecuteTime": {
     "end_time": "2021-11-01T11:08:08.235622Z",
     "start_time": "2021-11-01T11:08:07.574356Z"
    }
   },
   "outputs": [
    {
     "data": {
      "text/plain": [
       "<seaborn.axisgrid.FacetGrid at 0x233fe86ff10>"
      ]
     },
     "execution_count": 56,
     "metadata": {},
     "output_type": "execute_result"
    },
    {
     "data": {
      "image/png": "[encoded data removed]",
      "text/plain": [
       "<Figure size 426.125x360 with 1 Axes>"
      ]
     },
     "metadata": {
      "needs_background": "light"
     },
     "output_type": "display_data"
    }
   ],
   "source": [
    "sns.FacetGrid(drugtrain, hue = 'drug', size = 5).map(sns.distplot,'age').add_legend()"
   ]
  },
  {
   "cell_type": "code",
   "execution_count": 57,
   "id": "d5d57cc9",
   "metadata": {
    "ExecuteTime": {
     "end_time": "2021-11-01T11:08:10.233248Z",
     "start_time": "2021-11-01T11:08:08.238584Z"
    }
   },
   "outputs": [
    {
     "data": {
      "text/plain": [
       "<seaborn.axisgrid.FacetGrid at 0x233fd748e80>"
      ]
     },
     "execution_count": 57,
     "metadata": {},
     "output_type": "execute_result"
    },
    {
     "data": {
      "image/png": "[encoded data removed]",
      "text/plain": [
       "<Figure size 642.125x576 with 1 Axes>"
      ]
     },
     "metadata": {
      "needs_background": "light"
     },
     "output_type": "display_data"
    }
   ],
   "source": [
    "sns.lmplot(x=\"age\", y=\"na_to_k\", hue=\"drug\", data=drugtrain, size=8)"
   ]
  },
  {
   "cell_type": "code",
   "execution_count": 58,
   "id": "febcf53f",
   "metadata": {
    "ExecuteTime": {
     "end_time": "2021-11-01T11:08:11.058080Z",
     "start_time": "2021-11-01T11:08:10.238239Z"
    }
   },
   "outputs": [
    {
     "data": {
      "image/png": "[encoded data removed]",
      "text/plain": [
       "<Figure size 1080x504 with 1 Axes>"
      ]
     },
     "metadata": {
      "needs_background": "light"
     },
     "output_type": "display_data"
    }
   ],
   "source": [
    "# Creating a custom figure size of 15 X 7 inches\n",
    "figure = plt.figure(figsize=[15, 7])\n",
    "sns.boxplot(x='bp', y='age', palette='rainbow', hue='drug', data=drugtrain)\n",
    "plt.xticks(size=12)\n",
    "plt.yticks(size=12)\n",
    "plt.xlabel(xlabel='BP', size=14)\n",
    "plt.ylabel(ylabel='Age', size=14)\n",
    "plt.title(label='Distribution of drug for BP Vs Age ', size=16)\n",
    "plt.show()"
   ]
  },
  {
   "cell_type": "code",
   "execution_count": null,
   "id": "4d23e425",
   "metadata": {},
   "outputs": [],
   "source": []
  },
  {
   "cell_type": "code",
   "execution_count": null,
   "id": "0e4db3f8",
   "metadata": {},
   "outputs": [],
   "source": []
  },
  {
   "cell_type": "markdown",
   "id": "a301bc34",
   "metadata": {},
   "source": [
    "- What is the distribution pattern of sodium to potassium ration Vs bp ?"
   ]
  },
  {
   "cell_type": "code",
   "execution_count": 59,
   "id": "e27125f5",
   "metadata": {
    "ExecuteTime": {
     "end_time": "2021-11-01T11:08:11.296442Z",
     "start_time": "2021-11-01T11:08:11.062037Z"
    }
   },
   "outputs": [
    {
     "data": {
      "image/png": "[encoded data removed]",
      "text/plain": [
       "<Figure size 432x288 with 1 Axes>"
      ]
     },
     "metadata": {
      "needs_background": "light"
     },
     "output_type": "display_data"
    }
   ],
   "source": [
    "(drugtrain.groupby(['bp'])['na_to_k'].sum()/drugtrain.groupby(['bp'])['na_to_k'].count()).plot(kind='bar');"
   ]
  },
  {
   "cell_type": "markdown",
   "id": "5456c0d4",
   "metadata": {},
   "source": [
    "What is the bp distribution among age ?"
   ]
  },
  {
   "cell_type": "code",
   "execution_count": 60,
   "id": "a7b431e3",
   "metadata": {
    "ExecuteTime": {
     "end_time": "2021-11-01T11:08:11.572668Z",
     "start_time": "2021-11-01T11:08:11.299412Z"
    }
   },
   "outputs": [
    {
     "data": {
      "image/png": "[encoded data removed]",
      "text/plain": [
       "<Figure size 432x288 with 1 Axes>"
      ]
     },
     "metadata": {
      "needs_background": "light"
     },
     "output_type": "display_data"
    }
   ],
   "source": [
    "(drugtrain.groupby(['bp'])['age'].sum()/drugtrain.groupby(['bp'])['age'].count()).plot(kind='bar');"
   ]
  },
  {
   "cell_type": "markdown",
   "id": "c0029a53",
   "metadata": {},
   "source": [
    "### Observations \n",
    "- High BP as well normal bp is observed till the age of  45.\n",
    "- Low BP is seen for ages upto 49 years."
   ]
  },
  {
   "cell_type": "code",
   "execution_count": 61,
   "id": "8cadc2c7",
   "metadata": {
    "ExecuteTime": {
     "end_time": "2021-11-01T11:08:11.852946Z",
     "start_time": "2021-11-01T11:08:11.576658Z"
    }
   },
   "outputs": [
    {
     "data": {
      "image/png": "[encoded data removed]",
      "text/plain": [
       "<Figure size 432x288 with 1 Axes>"
      ]
     },
     "metadata": {
      "needs_background": "light"
     },
     "output_type": "display_data"
    }
   ],
   "source": [
    "drugtrain.groupby(['sex'])['bp'].count().sort_values(ascending=False).plot(kind='bar');"
   ]
  },
  {
   "cell_type": "markdown",
   "id": "1c5d1864",
   "metadata": {},
   "source": [
    "- What is the distribution of male and female?"
   ]
  },
  {
   "cell_type": "code",
   "execution_count": 62,
   "id": "451a9dc6",
   "metadata": {
    "ExecuteTime": {
     "end_time": "2021-11-01T11:08:12.085359Z",
     "start_time": "2021-11-01T11:08:11.856911Z"
    }
   },
   "outputs": [
    {
     "data": {
      "image/png": "[encoded data removed]",
      "text/plain": [
       "<Figure size 432x288 with 1 Axes>"
      ]
     },
     "metadata": {
      "needs_background": "light"
     },
     "output_type": "display_data"
    }
   ],
   "source": [
    "\n",
    "drugtrain.groupby(['sex'])['sex'].count().sort_values(ascending=False).plot(kind='bar');"
   ]
  },
  {
   "cell_type": "markdown",
   "id": "be81f2ee",
   "metadata": {},
   "source": [
    "- What is the distribution of cholesterol ?"
   ]
  },
  {
   "cell_type": "code",
   "execution_count": 63,
   "id": "94497138",
   "metadata": {
    "ExecuteTime": {
     "end_time": "2021-11-01T11:08:12.329765Z",
     "start_time": "2021-11-01T11:08:12.089350Z"
    }
   },
   "outputs": [
    {
     "data": {
      "text/plain": [
       "<AxesSubplot:xlabel='cholesterol'>"
      ]
     },
     "execution_count": 63,
     "metadata": {},
     "output_type": "execute_result"
    },
    {
     "data": {
      "image/png": "[encoded data removed]",
      "text/plain": [
       "<Figure size 432x288 with 1 Axes>"
      ]
     },
     "metadata": {
      "needs_background": "light"
     },
     "output_type": "display_data"
    }
   ],
   "source": [
    "drugtrain.groupby(['cholesterol'])['cholesterol'].count().sort_values(ascending=False).plot(kind='bar')"
   ]
  },
  {
   "cell_type": "code",
   "execution_count": 64,
   "id": "08221752",
   "metadata": {
    "ExecuteTime": {
     "end_time": "2021-11-01T11:08:12.750639Z",
     "start_time": "2021-11-01T11:08:12.332757Z"
    }
   },
   "outputs": [
    {
     "data": {
      "text/plain": [
       "<AxesSubplot:xlabel='age', ylabel='na_to_k'>"
      ]
     },
     "execution_count": 64,
     "metadata": {},
     "output_type": "execute_result"
    },
    {
     "data": {
      "image/png": "[encoded data removed]",
      "text/plain": [
       "<Figure size 432x288 with 1 Axes>"
      ]
     },
     "metadata": {
      "needs_background": "light"
     },
     "output_type": "display_data"
    }
   ],
   "source": [
    "sns.scatterplot(data = drugtrain, x = 'age', y = 'na_to_k', hue = 'sex')"
   ]
  },
  {
   "cell_type": "code",
   "execution_count": 65,
   "id": "76f249b4",
   "metadata": {
    "ExecuteTime": {
     "end_time": "2021-11-01T11:08:12.797516Z",
     "start_time": "2021-11-01T11:08:12.754631Z"
    }
   },
   "outputs": [
    {
     "data": {
      "text/html": [
       "<div>\n",
       "<style scoped>\n",
       "    .dataframe tbody tr th:only-of-type {\n",
       "        vertical-align: middle;\n",
       "    }\n",
       "\n",
       "    .dataframe tbody tr th {\n",
       "        vertical-align: top;\n",
       "    }\n",
       "\n",
       "    .dataframe thead th {\n",
       "        text-align: right;\n",
       "    }\n",
       "</style>\n",
       "<table border=\"1\" class=\"dataframe\">\n",
       "  <thead>\n",
       "    <tr style=\"text-align: right;\">\n",
       "      <th></th>\n",
       "      <th>age</th>\n",
       "      <th>na_to_k</th>\n",
       "    </tr>\n",
       "  </thead>\n",
       "  <tbody>\n",
       "    <tr>\n",
       "      <th>count</th>\n",
       "      <td>160.000000</td>\n",
       "      <td>160.000000</td>\n",
       "    </tr>\n",
       "    <tr>\n",
       "      <th>mean</th>\n",
       "      <td>45.387500</td>\n",
       "      <td>16.194988</td>\n",
       "    </tr>\n",
       "    <tr>\n",
       "      <th>std</th>\n",
       "      <td>16.101481</td>\n",
       "      <td>7.254689</td>\n",
       "    </tr>\n",
       "    <tr>\n",
       "      <th>min</th>\n",
       "      <td>15.000000</td>\n",
       "      <td>6.269000</td>\n",
       "    </tr>\n",
       "    <tr>\n",
       "      <th>25%</th>\n",
       "      <td>32.000000</td>\n",
       "      <td>10.445250</td>\n",
       "    </tr>\n",
       "    <tr>\n",
       "      <th>50%</th>\n",
       "      <td>46.000000</td>\n",
       "      <td>14.076500</td>\n",
       "    </tr>\n",
       "    <tr>\n",
       "      <th>75%</th>\n",
       "      <td>58.250000</td>\n",
       "      <td>19.480750</td>\n",
       "    </tr>\n",
       "    <tr>\n",
       "      <th>max</th>\n",
       "      <td>74.000000</td>\n",
       "      <td>38.247000</td>\n",
       "    </tr>\n",
       "  </tbody>\n",
       "</table>\n",
       "</div>"
      ],
      "text/plain": [
       "              age     na_to_k\n",
       "count  160.000000  160.000000\n",
       "mean    45.387500   16.194988\n",
       "std     16.101481    7.254689\n",
       "min     15.000000    6.269000\n",
       "25%     32.000000   10.445250\n",
       "50%     46.000000   14.076500\n",
       "75%     58.250000   19.480750\n",
       "max     74.000000   38.247000"
      ]
     },
     "execution_count": 65,
     "metadata": {},
     "output_type": "execute_result"
    }
   ],
   "source": [
    "drugtrain.describe()"
   ]
  },
  {
   "cell_type": "code",
   "execution_count": 66,
   "id": "ab74c864",
   "metadata": {
    "ExecuteTime": {
     "end_time": "2021-11-01T11:08:13.232395Z",
     "start_time": "2021-11-01T11:08:12.803500Z"
    }
   },
   "outputs": [
    {
     "data": {
      "text/plain": [
       "<AxesSubplot:ylabel='Density'>"
      ]
     },
     "execution_count": 66,
     "metadata": {},
     "output_type": "execute_result"
    },
    {
     "data": {
      "image/png": "[encoded data removed]",
      "text/plain": [
       "<Figure size 432x288 with 1 Axes>"
      ]
     },
     "metadata": {
      "needs_background": "light"
     },
     "output_type": "display_data"
    }
   ],
   "source": [
    "drugtrain.describe().plot(kind='kde')"
   ]
  },
  {
   "cell_type": "code",
   "execution_count": 67,
   "id": "b3e26035",
   "metadata": {
    "ExecuteTime": {
     "end_time": "2021-11-01T11:08:16.282266Z",
     "start_time": "2021-11-01T11:08:13.235397Z"
    }
   },
   "outputs": [
    {
     "data": {
      "text/plain": [
       "Text(0.5, 1.0, 'Pair Plot')"
      ]
     },
     "execution_count": 67,
     "metadata": {},
     "output_type": "execute_result"
    },
    {
     "data": {
      "image/png": "[encoded data removed]",
      "text/plain": [
       "<Figure size 696.75x432 with 6 Axes>"
      ]
     },
     "metadata": {
      "needs_background": "light"
     },
     "output_type": "display_data"
    }
   ],
   "source": [
    "sns.pairplot(drugtrain[[\"na_to_k\",\"age\"]],vars = [\"na_to_k\",\"age\"],\\\n",
    "                                                             hue=\"age\", dropna=True, height = 3, aspect = 1.5)\n",
    "plt.title('Pair Plot')"
   ]
  },
  {
   "cell_type": "code",
   "execution_count": 68,
   "id": "6f5e34cb",
   "metadata": {
    "ExecuteTime": {
     "end_time": "2021-11-01T11:08:16.726076Z",
     "start_time": "2021-11-01T11:08:16.288247Z"
    }
   },
   "outputs": [
    {
     "data": {
      "text/plain": [
       "<AxesSubplot:ylabel='Frequency'>"
      ]
     },
     "execution_count": 68,
     "metadata": {},
     "output_type": "execute_result"
    },
    {
     "data": {
      "image/png": "[encoded data removed]",
      "text/plain": [
       "<Figure size 432x288 with 1 Axes>"
      ]
     },
     "metadata": {
      "needs_background": "light"
     },
     "output_type": "display_data"
    }
   ],
   "source": [
    "drugtrain.age.plot(kind='hist')"
   ]
  },
  {
   "cell_type": "code",
   "execution_count": 69,
   "id": "311b17b6",
   "metadata": {
    "ExecuteTime": {
     "end_time": "2021-11-01T11:08:17.003336Z",
     "start_time": "2021-11-01T11:08:16.729070Z"
    }
   },
   "outputs": [
    {
     "data": {
      "text/plain": [
       "<AxesSubplot:ylabel='Frequency'>"
      ]
     },
     "execution_count": 69,
     "metadata": {},
     "output_type": "execute_result"
    },
    {
     "data": {
      "image/png": "[encoded data removed]",
      "text/plain": [
       "<Figure size 432x288 with 1 Axes>"
      ]
     },
     "metadata": {
      "needs_background": "light"
     },
     "output_type": "display_data"
    }
   ],
   "source": [
    "drugtrain.na_to_k.plot(kind='hist')"
   ]
  },
  {
   "cell_type": "code",
   "execution_count": 70,
   "id": "f44750c4",
   "metadata": {
    "ExecuteTime": {
     "end_time": "2021-11-01T11:08:17.019292Z",
     "start_time": "2021-11-01T11:08:17.006327Z"
    }
   },
   "outputs": [
    {
     "data": {
      "text/plain": [
       "Index(['age', 'sex', 'bp', 'cholesterol', 'na_to_k', 'drug'], dtype='object')"
      ]
     },
     "execution_count": 70,
     "metadata": {},
     "output_type": "execute_result"
    }
   ],
   "source": [
    "drugtrain.columns"
   ]
  },
  {
   "cell_type": "code",
   "execution_count": 71,
   "id": "2b2757a1",
   "metadata": {
    "ExecuteTime": {
     "end_time": "2021-11-01T11:08:17.127595Z",
     "start_time": "2021-11-01T11:08:17.023282Z"
    }
   },
   "outputs": [
    {
     "name": "stdout",
     "output_type": "stream",
     "text": [
      "['age', 'na_to_k']\n",
      "2\n"
     ]
    }
   ],
   "source": [
    "nf_cust = drugtrain.select_dtypes(exclude='object')\n",
    "nf_list = nf_cust.columns.tolist()\n",
    "print(nf_list)\n",
    "print(len(nf_list))"
   ]
  },
  {
   "cell_type": "code",
   "execution_count": 72,
   "id": "a2e21fc1",
   "metadata": {
    "ExecuteTime": {
     "end_time": "2021-11-01T11:08:17.267291Z",
     "start_time": "2021-11-01T11:08:17.131583Z"
    }
   },
   "outputs": [
    {
     "name": "stdout",
     "output_type": "stream",
     "text": [
      "['sex', 'bp', 'cholesterol', 'drug']\n",
      "4\n"
     ]
    }
   ],
   "source": [
    "cf_cust = drugtrain.select_dtypes(include='object')\n",
    "cf_list = cf_cust.columns.tolist()\n",
    "#cf_cust = cc_train_data2.select_dtypes(include=[np.object]).columns\n",
    "print(cf_list)\n",
    "print(len(cf_list))"
   ]
  },
  {
   "cell_type": "code",
   "execution_count": 73,
   "id": "b7911b28",
   "metadata": {
    "ExecuteTime": {
     "end_time": "2021-11-01T11:08:19.747267Z",
     "start_time": "2021-11-01T11:08:17.272281Z"
    }
   },
   "outputs": [
    {
     "data": {
      "text/plain": [
       "<AxesSubplot:xlabel='age', ylabel='na_to_k'>"
      ]
     },
     "execution_count": 73,
     "metadata": {},
     "output_type": "execute_result"
    },
    {
     "data": {
      "image/png": "[encoded data removed]",
      "text/plain": [
       "<Figure size 432x288 with 1 Axes>"
      ]
     },
     "metadata": {
      "needs_background": "light"
     },
     "output_type": "display_data"
    }
   ],
   "source": [
    "sns.boxplot(data = drugtrain, x = \"age\", y =\"na_to_k\")"
   ]
  },
  {
   "cell_type": "code",
   "execution_count": 74,
   "id": "e5367745",
   "metadata": {
    "ExecuteTime": {
     "end_time": "2021-11-01T11:08:20.028520Z",
     "start_time": "2021-11-01T11:08:19.752279Z"
    }
   },
   "outputs": [
    {
     "data": {
      "text/plain": [
       "<AxesSubplot:>"
      ]
     },
     "execution_count": 74,
     "metadata": {},
     "output_type": "execute_result"
    },
    {
     "data": {
      "image/png": "[encoded data removed]",
      "text/plain": [
       "<Figure size 432x288 with 1 Axes>"
      ]
     },
     "metadata": {
      "needs_background": "light"
     },
     "output_type": "display_data"
    }
   ],
   "source": [
    "drugtrain.plot(kind='box')"
   ]
  },
  {
   "cell_type": "code",
   "execution_count": 75,
   "id": "f8dd1ec4",
   "metadata": {
    "ExecuteTime": {
     "end_time": "2021-11-01T11:08:20.090355Z",
     "start_time": "2021-11-01T11:08:20.034502Z"
    }
   },
   "outputs": [
    {
     "name": "stdout",
     "output_type": "stream",
     "text": [
      "Percentiles: 25th(Q1)=32.000, 75th(Q3)=32.000, IQR=26.250\n",
      "Identified outliers: 0\n",
      "Percentiles: 25th(Q1)=10.445, 75th(Q3)=10.445, IQR=9.036\n",
      "Identified outliers: 6\n"
     ]
    }
   ],
   "source": [
    "# For training data\n",
    "for c in nf_list:\n",
    "    #print(c)    \n",
    "    Q1 = drugtrain[c].quantile(0.25)\n",
    "    Q3 = drugtrain[c].quantile(0.75)   \n",
    "    IQR = Q3-Q1\n",
    "    upper = Q3+1.5*IQR    \n",
    "    lower = Q1-1.5*IQR\n",
    "    print('Percentiles: 25th(Q1)=%.3f, 75th(Q3)=%.3f, IQR=%.3f' % (Q1, Q1, IQR))\n",
    "    # Identify outliers\n",
    "    outliers = [x for x in drugtrain[c] if x < lower or x > upper]\n",
    "    print('Identified outliers: %d' % len(outliers))\n",
    "    #print(drugtrain[c])         \n",
    "    drugtrain[c][drugtrain[c]>=upper]=upper\n",
    "    drugtrain[c][drugtrain[c]<=lower]=lower"
   ]
  },
  {
   "cell_type": "code",
   "execution_count": null,
   "id": "d6937a29",
   "metadata": {},
   "outputs": [],
   "source": []
  },
  {
   "cell_type": "code",
   "execution_count": 76,
   "id": "ef3e682d",
   "metadata": {
    "ExecuteTime": {
     "end_time": "2021-11-01T11:08:20.243731Z",
     "start_time": "2021-11-01T11:08:20.095341Z"
    }
   },
   "outputs": [
    {
     "name": "stdout",
     "output_type": "stream",
     "text": [
      "Percentiles: 25th(Q1)=24.500, 75th(Q3)=24.500, IQR=28.750\n",
      "Identified outliers in : 0\n",
      "Percentiles: 25th(Q1)=10.735, 75th(Q3)=10.735, IQR=8.365\n",
      "Identified outliers in : 1\n"
     ]
    }
   ],
   "source": [
    "# for testing data\n",
    "for c in nf_list:\n",
    "    #print(c)    \n",
    "    Q1 = drugtest[c].quantile(0.25)\n",
    "    Q3 = drugtest[c].quantile(0.75)   \n",
    "    IQR = Q3-Q1\n",
    "    upper = Q3+1.5*IQR    \n",
    "    lower = Q1-1.5*IQR\n",
    "    print('Percentiles: 25th(Q1)=%.3f, 75th(Q3)=%.3f, IQR=%.3f' % (Q1, Q1, IQR))\n",
    "    # Identify outliers\n",
    "    outliers = [x for x in drugtest[c] if x < lower or x > upper]\n",
    "    print('Identified outliers in : %d' % len(outliers))\n",
    "    #print(drugtest[c])         \n",
    "    drugtest[c][drugtest[c]>=upper]=upper\n",
    "    drugtest[c][drugtest[c]<=lower]=lower"
   ]
  },
  {
   "cell_type": "code",
   "execution_count": 77,
   "id": "08515d2c",
   "metadata": {
    "ExecuteTime": {
     "end_time": "2021-11-01T11:08:20.400278Z",
     "start_time": "2021-11-01T11:08:20.246691Z"
    }
   },
   "outputs": [],
   "source": [
    "drugtrain1 = drugtrain.copy()"
   ]
  },
  {
   "cell_type": "markdown",
   "id": "9215932a",
   "metadata": {},
   "source": [
    "# Data Post Processing"
   ]
  },
  {
   "cell_type": "code",
   "execution_count": 78,
   "id": "29cef556",
   "metadata": {
    "ExecuteTime": {
     "end_time": "2021-11-01T11:08:20.539966Z",
     "start_time": "2021-11-01T11:08:20.408950Z"
    }
   },
   "outputs": [],
   "source": [
    "from sklearn.preprocessing import LabelEncoder\n",
    "le = LabelEncoder()"
   ]
  },
  {
   "cell_type": "code",
   "execution_count": 79,
   "id": "fc3f68b3",
   "metadata": {
    "ExecuteTime": {
     "end_time": "2021-11-01T11:08:20.664977Z",
     "start_time": "2021-11-01T11:08:20.544665Z"
    }
   },
   "outputs": [],
   "source": [
    "drugtrain['drug']= le.fit_transform(drugtrain['drug'])"
   ]
  },
  {
   "cell_type": "code",
   "execution_count": 80,
   "id": "c999c08f",
   "metadata": {
    "ExecuteTime": {
     "end_time": "2021-11-01T11:08:20.805976Z",
     "start_time": "2021-11-01T11:08:20.669675Z"
    }
   },
   "outputs": [
    {
     "data": {
      "text/html": [
       "<div>\n",
       "<style scoped>\n",
       "    .dataframe tbody tr th:only-of-type {\n",
       "        vertical-align: middle;\n",
       "    }\n",
       "\n",
       "    .dataframe tbody tr th {\n",
       "        vertical-align: top;\n",
       "    }\n",
       "\n",
       "    .dataframe thead th {\n",
       "        text-align: right;\n",
       "    }\n",
       "</style>\n",
       "<table border=\"1\" class=\"dataframe\">\n",
       "  <thead>\n",
       "    <tr style=\"text-align: right;\">\n",
       "      <th></th>\n",
       "      <th>age</th>\n",
       "      <th>sex</th>\n",
       "      <th>bp</th>\n",
       "      <th>cholesterol</th>\n",
       "      <th>na_to_k</th>\n",
       "      <th>drug</th>\n",
       "    </tr>\n",
       "    <tr>\n",
       "      <th>id</th>\n",
       "      <th></th>\n",
       "      <th></th>\n",
       "      <th></th>\n",
       "      <th></th>\n",
       "      <th></th>\n",
       "      <th></th>\n",
       "    </tr>\n",
       "  </thead>\n",
       "  <tbody>\n",
       "    <tr>\n",
       "      <th>79</th>\n",
       "      <td>32</td>\n",
       "      <td>F</td>\n",
       "      <td>LOW</td>\n",
       "      <td>NORMAL</td>\n",
       "      <td>10.840</td>\n",
       "      <td>3</td>\n",
       "    </tr>\n",
       "    <tr>\n",
       "      <th>197</th>\n",
       "      <td>52</td>\n",
       "      <td>M</td>\n",
       "      <td>NORMAL</td>\n",
       "      <td>HIGH</td>\n",
       "      <td>9.894</td>\n",
       "      <td>3</td>\n",
       "    </tr>\n",
       "    <tr>\n",
       "      <th>38</th>\n",
       "      <td>39</td>\n",
       "      <td>F</td>\n",
       "      <td>NORMAL</td>\n",
       "      <td>NORMAL</td>\n",
       "      <td>9.709</td>\n",
       "      <td>3</td>\n",
       "    </tr>\n",
       "    <tr>\n",
       "      <th>24</th>\n",
       "      <td>33</td>\n",
       "      <td>F</td>\n",
       "      <td>LOW</td>\n",
       "      <td>HIGH</td>\n",
       "      <td>33.034</td>\n",
       "      <td>4</td>\n",
       "    </tr>\n",
       "    <tr>\n",
       "      <th>122</th>\n",
       "      <td>34</td>\n",
       "      <td>M</td>\n",
       "      <td>NORMAL</td>\n",
       "      <td>HIGH</td>\n",
       "      <td>22.456</td>\n",
       "      <td>4</td>\n",
       "    </tr>\n",
       "  </tbody>\n",
       "</table>\n",
       "</div>"
      ],
      "text/plain": [
       "     age sex      bp cholesterol  na_to_k  drug\n",
       "id                                             \n",
       "79    32   F     LOW      NORMAL   10.840     3\n",
       "197   52   M  NORMAL        HIGH    9.894     3\n",
       "38    39   F  NORMAL      NORMAL    9.709     3\n",
       "24    33   F     LOW        HIGH   33.034     4\n",
       "122   34   M  NORMAL        HIGH   22.456     4"
      ]
     },
     "execution_count": 80,
     "metadata": {},
     "output_type": "execute_result"
    }
   ],
   "source": [
    "drugtrain.head()"
   ]
  },
  {
   "cell_type": "code",
   "execution_count": 81,
   "id": "151759f8",
   "metadata": {
    "ExecuteTime": {
     "end_time": "2021-11-01T11:08:20.930810Z",
     "start_time": "2021-11-01T11:08:20.809966Z"
    }
   },
   "outputs": [],
   "source": [
    "cat_cols = ['sex', 'bp', 'cholesterol']"
   ]
  },
  {
   "cell_type": "code",
   "execution_count": 82,
   "id": "c57a3257",
   "metadata": {
    "ExecuteTime": {
     "end_time": "2021-11-01T11:08:21.070577Z",
     "start_time": "2021-11-01T11:08:20.936538Z"
    }
   },
   "outputs": [],
   "source": [
    "drugtrain_dummies = pd.get_dummies(drugtrain, columns=cat_cols, drop_first=True)"
   ]
  },
  {
   "cell_type": "code",
   "execution_count": 83,
   "id": "3db81297",
   "metadata": {
    "ExecuteTime": {
     "end_time": "2021-11-01T11:08:21.212199Z",
     "start_time": "2021-11-01T11:08:21.075562Z"
    }
   },
   "outputs": [],
   "source": [
    "# For testing data\n",
    "drugtest_dummies = pd.get_dummies(drugtest, columns=cat_cols, drop_first=True)"
   ]
  },
  {
   "cell_type": "code",
   "execution_count": 84,
   "id": "81fa075b",
   "metadata": {
    "ExecuteTime": {
     "end_time": "2021-11-01T11:08:21.336800Z",
     "start_time": "2021-11-01T11:08:21.215070Z"
    }
   },
   "outputs": [
    {
     "data": {
      "text/html": [
       "<div>\n",
       "<style scoped>\n",
       "    .dataframe tbody tr th:only-of-type {\n",
       "        vertical-align: middle;\n",
       "    }\n",
       "\n",
       "    .dataframe tbody tr th {\n",
       "        vertical-align: top;\n",
       "    }\n",
       "\n",
       "    .dataframe thead th {\n",
       "        text-align: right;\n",
       "    }\n",
       "</style>\n",
       "<table border=\"1\" class=\"dataframe\">\n",
       "  <thead>\n",
       "    <tr style=\"text-align: right;\">\n",
       "      <th></th>\n",
       "      <th>age</th>\n",
       "      <th>na_to_k</th>\n",
       "      <th>drug</th>\n",
       "      <th>sex_M</th>\n",
       "      <th>bp_LOW</th>\n",
       "      <th>bp_NORMAL</th>\n",
       "      <th>cholesterol_NORMAL</th>\n",
       "    </tr>\n",
       "    <tr>\n",
       "      <th>id</th>\n",
       "      <th></th>\n",
       "      <th></th>\n",
       "      <th></th>\n",
       "      <th></th>\n",
       "      <th></th>\n",
       "      <th></th>\n",
       "      <th></th>\n",
       "    </tr>\n",
       "  </thead>\n",
       "  <tbody>\n",
       "    <tr>\n",
       "      <th>79</th>\n",
       "      <td>32</td>\n",
       "      <td>10.840</td>\n",
       "      <td>3</td>\n",
       "      <td>0</td>\n",
       "      <td>1</td>\n",
       "      <td>0</td>\n",
       "      <td>1</td>\n",
       "    </tr>\n",
       "    <tr>\n",
       "      <th>197</th>\n",
       "      <td>52</td>\n",
       "      <td>9.894</td>\n",
       "      <td>3</td>\n",
       "      <td>1</td>\n",
       "      <td>0</td>\n",
       "      <td>1</td>\n",
       "      <td>0</td>\n",
       "    </tr>\n",
       "    <tr>\n",
       "      <th>38</th>\n",
       "      <td>39</td>\n",
       "      <td>9.709</td>\n",
       "      <td>3</td>\n",
       "      <td>0</td>\n",
       "      <td>0</td>\n",
       "      <td>1</td>\n",
       "      <td>1</td>\n",
       "    </tr>\n",
       "    <tr>\n",
       "      <th>24</th>\n",
       "      <td>33</td>\n",
       "      <td>33.034</td>\n",
       "      <td>4</td>\n",
       "      <td>0</td>\n",
       "      <td>1</td>\n",
       "      <td>0</td>\n",
       "      <td>0</td>\n",
       "    </tr>\n",
       "    <tr>\n",
       "      <th>122</th>\n",
       "      <td>34</td>\n",
       "      <td>22.456</td>\n",
       "      <td>4</td>\n",
       "      <td>1</td>\n",
       "      <td>0</td>\n",
       "      <td>1</td>\n",
       "      <td>0</td>\n",
       "    </tr>\n",
       "  </tbody>\n",
       "</table>\n",
       "</div>"
      ],
      "text/plain": [
       "     age  na_to_k  drug  sex_M  bp_LOW  bp_NORMAL  cholesterol_NORMAL\n",
       "id                                                                   \n",
       "79    32   10.840     3      0       1          0                   1\n",
       "197   52    9.894     3      1       0          1                   0\n",
       "38    39    9.709     3      0       0          1                   1\n",
       "24    33   33.034     4      0       1          0                   0\n",
       "122   34   22.456     4      1       0          1                   0"
      ]
     },
     "execution_count": 84,
     "metadata": {},
     "output_type": "execute_result"
    }
   ],
   "source": [
    "drugtrain_dummies.head()"
   ]
  },
  {
   "cell_type": "code",
   "execution_count": 85,
   "id": "4b1632ba",
   "metadata": {
    "ExecuteTime": {
     "end_time": "2021-11-01T11:08:21.495127Z",
     "start_time": "2021-11-01T11:08:21.341789Z"
    }
   },
   "outputs": [
    {
     "data": {
      "text/html": [
       "<div>\n",
       "<style scoped>\n",
       "    .dataframe tbody tr th:only-of-type {\n",
       "        vertical-align: middle;\n",
       "    }\n",
       "\n",
       "    .dataframe tbody tr th {\n",
       "        vertical-align: top;\n",
       "    }\n",
       "\n",
       "    .dataframe thead th {\n",
       "        text-align: right;\n",
       "    }\n",
       "</style>\n",
       "<table border=\"1\" class=\"dataframe\">\n",
       "  <thead>\n",
       "    <tr style=\"text-align: right;\">\n",
       "      <th></th>\n",
       "      <th>age</th>\n",
       "      <th>na_to_k</th>\n",
       "      <th>sex_M</th>\n",
       "      <th>bp_LOW</th>\n",
       "      <th>bp_NORMAL</th>\n",
       "      <th>cholesterol_NORMAL</th>\n",
       "    </tr>\n",
       "    <tr>\n",
       "      <th>id</th>\n",
       "      <th></th>\n",
       "      <th></th>\n",
       "      <th></th>\n",
       "      <th></th>\n",
       "      <th></th>\n",
       "      <th></th>\n",
       "    </tr>\n",
       "  </thead>\n",
       "  <tbody>\n",
       "    <tr>\n",
       "      <th>95</th>\n",
       "      <td>36</td>\n",
       "      <td>11.424000</td>\n",
       "      <td>1</td>\n",
       "      <td>1</td>\n",
       "      <td>0</td>\n",
       "      <td>1</td>\n",
       "    </tr>\n",
       "    <tr>\n",
       "      <th>15</th>\n",
       "      <td>16</td>\n",
       "      <td>15.516000</td>\n",
       "      <td>0</td>\n",
       "      <td>0</td>\n",
       "      <td>0</td>\n",
       "      <td>1</td>\n",
       "    </tr>\n",
       "    <tr>\n",
       "      <th>30</th>\n",
       "      <td>18</td>\n",
       "      <td>8.750000</td>\n",
       "      <td>0</td>\n",
       "      <td>0</td>\n",
       "      <td>1</td>\n",
       "      <td>1</td>\n",
       "    </tr>\n",
       "    <tr>\n",
       "      <th>158</th>\n",
       "      <td>59</td>\n",
       "      <td>10.444000</td>\n",
       "      <td>0</td>\n",
       "      <td>1</td>\n",
       "      <td>0</td>\n",
       "      <td>0</td>\n",
       "    </tr>\n",
       "    <tr>\n",
       "      <th>128</th>\n",
       "      <td>47</td>\n",
       "      <td>31.648125</td>\n",
       "      <td>1</td>\n",
       "      <td>1</td>\n",
       "      <td>0</td>\n",
       "      <td>1</td>\n",
       "    </tr>\n",
       "  </tbody>\n",
       "</table>\n",
       "</div>"
      ],
      "text/plain": [
       "     age    na_to_k  sex_M  bp_LOW  bp_NORMAL  cholesterol_NORMAL\n",
       "id                                                               \n",
       "95    36  11.424000      1       1          0                   1\n",
       "15    16  15.516000      0       0          0                   1\n",
       "30    18   8.750000      0       0          1                   1\n",
       "158   59  10.444000      0       1          0                   0\n",
       "128   47  31.648125      1       1          0                   1"
      ]
     },
     "execution_count": 85,
     "metadata": {},
     "output_type": "execute_result"
    }
   ],
   "source": [
    "## For testing data\n",
    "drugtest_dummies.head()"
   ]
  },
  {
   "cell_type": "markdown",
   "id": "36fcc744",
   "metadata": {},
   "source": [
    "### Establishing coorelation between all the features using heatmap."
   ]
  },
  {
   "cell_type": "code",
   "execution_count": 86,
   "id": "17888b49",
   "metadata": {
    "ExecuteTime": {
     "end_time": "2021-11-01T11:08:22.558564Z",
     "start_time": "2021-11-01T11:08:21.501008Z"
    }
   },
   "outputs": [
    {
     "data": {
      "text/plain": [
       "Text(0.5, 1.0, 'Correlation between features')"
      ]
     },
     "execution_count": 86,
     "metadata": {},
     "output_type": "execute_result"
    },
    {
     "data": {
      "image/png": "[encoded data removed]",
      "text/plain": [
       "<Figure size 720x720 with 2 Axes>"
      ]
     },
     "metadata": {
      "needs_background": "light"
     },
     "output_type": "display_data"
    }
   ],
   "source": [
    "corr = drugtrain_dummies.corr()\n",
    "plt.figure(figsize=(10,10))\n",
    "sns.heatmap(corr, square = True, annot = True,vmin=-1, vmax=1) #  vmin=-1, vmax=1\n",
    "plt.title('Correlation between features')"
   ]
  },
  {
   "cell_type": "markdown",
   "id": "d92b99ea",
   "metadata": {},
   "source": [
    "- __Sex  negatively corelated with Drug.__\n",
    "- __Age, Na to K, BP_low and BP_normal__ are __positively coorelated with Drug.__"
   ]
  },
  {
   "cell_type": "markdown",
   "id": "4857de92",
   "metadata": {},
   "source": [
    "##  Logistic Regression\n",
    "\n",
    "- Logistic regression is a techinque used for solving the __classification problem__.<br/> And Classification is nothing but a problem of __identifing__ to which of a set of __categories__ a new observation belongs, on the basis of _training dataset_ containing observations (or instances) whose categorical membership is known."
   ]
  },
  {
   "cell_type": "code",
   "execution_count": 87,
   "id": "1f2a8e9a",
   "metadata": {
    "ExecuteTime": {
     "end_time": "2021-11-01T11:08:22.573525Z",
     "start_time": "2021-11-01T11:08:22.562554Z"
    }
   },
   "outputs": [
    {
     "data": {
      "text/plain": [
       "Index(['age', 'na_to_k', 'drug', 'sex_M', 'bp_LOW', 'bp_NORMAL',\n",
       "       'cholesterol_NORMAL'],\n",
       "      dtype='object')"
      ]
     },
     "execution_count": 87,
     "metadata": {},
     "output_type": "execute_result"
    }
   ],
   "source": [
    "drugtrain_dummies.columns"
   ]
  },
  {
   "cell_type": "code",
   "execution_count": 88,
   "id": "12dee4f1",
   "metadata": {
    "ExecuteTime": {
     "end_time": "2021-11-01T11:08:22.725983Z",
     "start_time": "2021-11-01T11:08:22.577514Z"
    }
   },
   "outputs": [],
   "source": [
    "from sklearn.preprocessing import StandardScaler\n",
    "sc = StandardScaler()"
   ]
  },
  {
   "cell_type": "code",
   "execution_count": 89,
   "id": "35446982",
   "metadata": {
    "ExecuteTime": {
     "end_time": "2021-11-01T11:08:22.851895Z",
     "start_time": "2021-11-01T11:08:22.736952Z"
    }
   },
   "outputs": [],
   "source": [
    "features = ['age', 'na_to_k', 'sex_M', 'bp_LOW', 'bp_NORMAL', 'cholesterol_NORMAL']\n",
    "target = ['drug']"
   ]
  },
  {
   "cell_type": "code",
   "execution_count": 90,
   "id": "eec2de63",
   "metadata": {
    "ExecuteTime": {
     "end_time": "2021-11-01T11:08:22.976484Z",
     "start_time": "2021-11-01T11:08:22.855876Z"
    }
   },
   "outputs": [],
   "source": [
    "X_train = drugtrain_dummies[features]\n",
    "y_train = drugtrain_dummies[target]"
   ]
  },
  {
   "cell_type": "code",
   "execution_count": 91,
   "id": "2bde762c",
   "metadata": {
    "ExecuteTime": {
     "end_time": "2021-11-01T11:08:23.087316Z",
     "start_time": "2021-11-01T11:08:22.979453Z"
    }
   },
   "outputs": [],
   "source": [
    "X_test = drugtest_dummies[features]"
   ]
  },
  {
   "cell_type": "code",
   "execution_count": 92,
   "id": "40565357",
   "metadata": {
    "ExecuteTime": {
     "end_time": "2021-11-01T11:08:23.226921Z",
     "start_time": "2021-11-01T11:08:23.090308Z"
    }
   },
   "outputs": [
    {
     "data": {
      "text/plain": [
       "Index(['age', 'na_to_k'], dtype='object')"
      ]
     },
     "execution_count": 92,
     "metadata": {},
     "output_type": "execute_result"
    }
   ],
   "source": [
    "numeric_features = X_train[['age', 'na_to_k']].columns\n",
    "numeric_features"
   ]
  },
  {
   "cell_type": "code",
   "execution_count": 93,
   "id": "b72fb3c9",
   "metadata": {
    "ExecuteTime": {
     "end_time": "2021-11-01T11:08:23.352033Z",
     "start_time": "2021-11-01T11:08:23.231907Z"
    }
   },
   "outputs": [],
   "source": [
    "X_train[numeric_features] = sc.fit_transform(X_train[numeric_features])"
   ]
  },
  {
   "cell_type": "code",
   "execution_count": 94,
   "id": "5fa8148a",
   "metadata": {
    "ExecuteTime": {
     "end_time": "2021-11-01T11:08:23.492294Z",
     "start_time": "2021-11-01T11:08:23.359015Z"
    }
   },
   "outputs": [],
   "source": [
    "X_test[numeric_features] = sc.fit_transform(X_test[numeric_features])"
   ]
  },
  {
   "cell_type": "code",
   "execution_count": 95,
   "id": "0dc94f29",
   "metadata": {
    "ExecuteTime": {
     "end_time": "2021-11-01T11:08:23.977487Z",
     "start_time": "2021-11-01T11:08:23.495318Z"
    }
   },
   "outputs": [
    {
     "data": {
      "text/plain": [
       "LogisticRegression(multi_class='multinomial', random_state=0)"
      ]
     },
     "execution_count": 95,
     "metadata": {},
     "output_type": "execute_result"
    }
   ],
   "source": [
    "#logreg = LogisticRegression(random_state=0, solver='lbfgs', multi_class='ovr')\n",
    "logreg = LogisticRegression(random_state=0, solver='lbfgs', multi_class='multinomial')\n",
    "logreg.fit(X_train,y_train)"
   ]
  },
  {
   "cell_type": "markdown",
   "id": "97c5f1f1",
   "metadata": {},
   "source": [
    "###  Using Trained Model for Prediction on testing data"
   ]
  },
  {
   "cell_type": "code",
   "execution_count": 96,
   "id": "a5da0751",
   "metadata": {
    "ExecuteTime": {
     "end_time": "2021-11-01T11:08:24.007407Z",
     "start_time": "2021-11-01T11:08:23.982472Z"
    }
   },
   "outputs": [
    {
     "data": {
      "text/plain": [
       "(160, 6)"
      ]
     },
     "execution_count": 96,
     "metadata": {},
     "output_type": "execute_result"
    }
   ],
   "source": [
    "X_train.shape"
   ]
  },
  {
   "cell_type": "code",
   "execution_count": 97,
   "id": "83839c30",
   "metadata": {
    "ExecuteTime": {
     "end_time": "2021-11-01T11:08:24.225823Z",
     "start_time": "2021-11-01T11:08:24.011393Z"
    }
   },
   "outputs": [
    {
     "data": {
      "text/plain": [
       "(40, 6)"
      ]
     },
     "execution_count": 97,
     "metadata": {},
     "output_type": "execute_result"
    }
   ],
   "source": [
    "X_test.shape"
   ]
  },
  {
   "cell_type": "code",
   "execution_count": 98,
   "id": "c86b3503",
   "metadata": {
    "ExecuteTime": {
     "end_time": "2021-11-01T11:08:24.382016Z",
     "start_time": "2021-11-01T11:08:24.235796Z"
    }
   },
   "outputs": [
    {
     "data": {
      "text/plain": [
       "array([3, 3, 3, 4, 4, 2, 4, 4, 1, 3, 3, 4, 3, 4, 3, 4, 0, 4, 4, 4, 0, 4,\n",
       "       1, 4, 3, 4, 4, 4, 4, 1, 3, 3, 3, 1, 0, 3, 4, 3, 0, 3, 2, 4, 0, 0,\n",
       "       0, 4, 1, 0, 4, 0, 4, 4, 0, 4, 4, 4, 3, 4, 3, 4, 4, 3, 1, 3, 4, 0,\n",
       "       2, 4, 3, 3, 4, 4, 3, 4, 1, 4, 1, 3, 4, 4, 4, 1, 2, 0, 4, 4, 4, 0,\n",
       "       3, 3, 4, 2, 4, 4, 3, 0, 3, 3, 4, 4, 4, 4, 4, 4, 1, 4, 2, 0, 4, 0,\n",
       "       0, 3, 4, 4, 4, 4, 3, 4, 4, 3, 4, 4, 3, 4, 3, 1, 4, 4, 2, 3, 4, 4,\n",
       "       4, 4, 3, 4, 3, 4, 4, 2, 2, 4, 2, 4, 1, 3, 4, 3, 4, 4, 4, 3, 4, 4,\n",
       "       4, 3, 3, 4, 4, 2])"
      ]
     },
     "execution_count": 98,
     "metadata": {},
     "output_type": "execute_result"
    }
   ],
   "source": [
    "y_pred_train = logreg.predict(X_train)\n",
    "y_pred_train"
   ]
  },
  {
   "cell_type": "code",
   "execution_count": 99,
   "id": "4e3a79f6",
   "metadata": {
    "ExecuteTime": {
     "end_time": "2021-11-01T11:08:24.584528Z",
     "start_time": "2021-11-01T11:08:24.388999Z"
    }
   },
   "outputs": [
    {
     "data": {
      "text/plain": [
       "((160,), (160, 1))"
      ]
     },
     "execution_count": 99,
     "metadata": {},
     "output_type": "execute_result"
    }
   ],
   "source": [
    "y_pred_train.shape,y_train.shape"
   ]
  },
  {
   "cell_type": "markdown",
   "id": "6c5fc08c",
   "metadata": {},
   "source": [
    "# Model Evaluation"
   ]
  },
  {
   "cell_type": "markdown",
   "id": "19351ede",
   "metadata": {},
   "source": [
    "### using accuracy classification score"
   ]
  },
  {
   "cell_type": "code",
   "execution_count": 100,
   "id": "c5c48052",
   "metadata": {
    "ExecuteTime": {
     "end_time": "2021-11-01T11:08:24.710187Z",
     "start_time": "2021-11-01T11:08:24.588519Z"
    }
   },
   "outputs": [
    {
     "name": "stdout",
     "output_type": "stream",
     "text": [
      "Accuracy score for test data is: 0.95625\n"
     ]
    }
   ],
   "source": [
    "print('Accuracy score for test data is:', accuracy_score(y_train,y_pred_train))"
   ]
  },
  {
   "attachments": {
    "confuison_matrix_insaid.png": {
     "image/png": "[encoded data removed]"
    }
   },
   "cell_type": "markdown",
   "id": "8b995e1d",
   "metadata": {},
   "source": [
    "### using confusion matrix\n",
    "A __confusion matrix__ is a __summary__ of prediction results on a classification problem.\n",
    "\n",
    "The number of correct and incorrect predictions are summarized with count values and broken down by each class. <br/>\n",
    "Below is a diagram showing a general confusion matrix.\n",
    "![confuison_matrix_insaid.png](attachment:confuison_matrix_insaid.png)"
   ]
  },
  {
   "cell_type": "code",
   "execution_count": 101,
   "id": "c68a1ca9",
   "metadata": {
    "ExecuteTime": {
     "end_time": "2021-11-01T11:08:24.849122Z",
     "start_time": "2021-11-01T11:08:24.712935Z"
    }
   },
   "outputs": [
    {
     "name": "stdout",
     "output_type": "stream",
     "text": [
      "[[16  0  0  0  1]\n",
      " [ 1 11  0  0  1]\n",
      " [ 0  0 11  0  0]\n",
      " [ 0  0  0 40  3]\n",
      " [ 0  1  0  0 75]]\n"
     ]
    }
   ],
   "source": [
    "conf_matrix = confusion_matrix(y_train, y_pred_train)\n",
    "print(conf_matrix)"
   ]
  },
  {
   "cell_type": "code",
   "execution_count": 102,
   "id": "6773a758",
   "metadata": {
    "ExecuteTime": {
     "end_time": "2021-11-01T11:08:24.972683Z",
     "start_time": "2021-11-01T11:08:24.859095Z"
    }
   },
   "outputs": [
    {
     "name": "stdout",
     "output_type": "stream",
     "text": [
      "<function confusion_matrix at 0x00000233FCE2CEE0>\n"
     ]
    }
   ],
   "source": [
    "confusion_matrix.index = ['Actual drug 1 ', 'Actual drug 2' , 'Actual drug 3', 'Actual drug 4']\n",
    "confusion_matrix.columns = ['Predicted drug 1','Predicted drug 2', 'Predicted drug 3','Predicted drug 4']\n",
    "print(confusion_matrix)"
   ]
  },
  {
   "cell_type": "code",
   "execution_count": 104,
   "id": "86048412",
   "metadata": {
    "ExecuteTime": {
     "end_time": "2021-11-01T11:08:25.234522Z",
     "start_time": "2021-11-01T11:08:25.114141Z"
    }
   },
   "outputs": [
    {
     "name": "stdout",
     "output_type": "stream",
     "text": [
      "              precision    recall  f1-score   support\n",
      "\n",
      "           0       0.94      0.94      0.94        17\n",
      "           1       0.92      0.85      0.88        13\n",
      "           2       1.00      1.00      1.00        11\n",
      "           3       1.00      0.93      0.96        43\n",
      "           4       0.94      0.99      0.96        76\n",
      "\n",
      "    accuracy                           0.96       160\n",
      "   macro avg       0.96      0.94      0.95       160\n",
      "weighted avg       0.96      0.96      0.96       160\n",
      "\n"
     ]
    }
   ],
   "source": [
    "## Classification Report\n",
    "print(classification_report(y_train, y_pred_train))"
   ]
  },
  {
   "cell_type": "code",
   "execution_count": 105,
   "id": "ec1ae97a",
   "metadata": {
    "ExecuteTime": {
     "end_time": "2021-11-01T11:08:25.340541Z",
     "start_time": "2021-11-01T11:08:25.238511Z"
    }
   },
   "outputs": [
    {
     "name": "stdout",
     "output_type": "stream",
     "text": [
      "0.043749999999999956\n"
     ]
    }
   ],
   "source": [
    "#Classification Error: Overall, how often is the classifier incorrect?\n",
    "#Also known as \"Misclassification Rate\"\n",
    "#print((FP + FN) / (TP + TN + FP + FN))\n",
    "print(1 - metrics.accuracy_score(y_train, y_pred_train))"
   ]
  },
  {
   "cell_type": "code",
   "execution_count": 106,
   "id": "76259572",
   "metadata": {
    "ExecuteTime": {
     "end_time": "2021-11-01T11:08:25.697602Z",
     "start_time": "2021-11-01T11:08:25.343536Z"
    }
   },
   "outputs": [],
   "source": [
    "from sklearn import svm\n",
    "from sklearn.ensemble import RandomForestClassifier\n",
    "from sklearn.neural_network import MLPClassifier"
   ]
  },
  {
   "cell_type": "code",
   "execution_count": 107,
   "id": "e01b597a",
   "metadata": {
    "ExecuteTime": {
     "end_time": "2021-11-01T11:08:25.744540Z",
     "start_time": "2021-11-01T11:08:25.702306Z"
    }
   },
   "outputs": [
    {
     "data": {
      "text/plain": [
       "0.9875"
      ]
     },
     "execution_count": 107,
     "metadata": {},
     "output_type": "execute_result"
    }
   ],
   "source": [
    "SVM = svm.SVC(decision_function_shape=\"ovo\").fit(X_train, y_train)\n",
    "SVM.predict(X_train)\n",
    "y_train_SVM = round(SVM.score(X_train, y_train), 4)\n",
    "y_train_SVM"
   ]
  },
  {
   "cell_type": "code",
   "execution_count": 108,
   "id": "c20873c4",
   "metadata": {
    "ExecuteTime": {
     "end_time": "2021-11-01T11:08:29.790895Z",
     "start_time": "2021-11-01T11:08:25.748490Z"
    }
   },
   "outputs": [
    {
     "data": {
      "text/plain": [
       "1.0"
      ]
     },
     "execution_count": 108,
     "metadata": {},
     "output_type": "execute_result"
    }
   ],
   "source": [
    "RF = RandomForestClassifier(n_estimators=1000, max_depth=10, random_state=0).fit(X_train, y_train)\n",
    "RF.predict(X_train)\n",
    "y_train_RF = round(RF.score(X_train, y_train), 4)\n",
    "y_train_RF"
   ]
  },
  {
   "cell_type": "code",
   "execution_count": 109,
   "id": "2375994b",
   "metadata": {
    "ExecuteTime": {
     "end_time": "2021-11-01T11:08:29.852735Z",
     "start_time": "2021-11-01T11:08:29.822810Z"
    }
   },
   "outputs": [
    {
     "data": {
      "text/plain": [
       "array([3, 3, 3, 4, 4, 2, 4, 4, 4, 3, 3, 4, 3, 4, 3, 4, 0, 4, 4, 4, 0, 4,\n",
       "       1, 4, 3, 4, 4, 4, 4, 1, 3, 3, 3, 1, 0, 3, 4, 3, 0, 3, 2, 4, 0, 0,\n",
       "       0, 1, 1, 0, 4, 0, 4, 4, 0, 4, 4, 4, 3, 4, 3, 4, 4, 3, 1, 3, 4, 0,\n",
       "       2, 4, 3, 3, 4, 4, 3, 3, 1, 4, 1, 3, 4, 4, 4, 1, 2, 0, 4, 4, 4, 0,\n",
       "       3, 3, 4, 2, 4, 4, 3, 0, 3, 3, 4, 4, 4, 4, 4, 4, 1, 4, 2, 0, 4, 0,\n",
       "       0, 3, 4, 4, 4, 4, 3, 4, 0, 3, 4, 4, 3, 4, 3, 1, 4, 4, 2, 3, 4, 4,\n",
       "       4, 4, 3, 4, 3, 3, 4, 2, 2, 4, 2, 4, 1, 3, 4, 3, 4, 4, 4, 3, 4, 4,\n",
       "       4, 3, 3, 4, 4, 2])"
      ]
     },
     "execution_count": 109,
     "metadata": {},
     "output_type": "execute_result"
    }
   ],
   "source": [
    "y_pred_SVM = SVM.predict(X_train)\n",
    "y_pred_SVM"
   ]
  },
  {
   "cell_type": "code",
   "execution_count": 110,
   "id": "3d29a367",
   "metadata": {
    "ExecuteTime": {
     "end_time": "2021-11-01T11:08:30.432184Z",
     "start_time": "2021-11-01T11:08:29.857719Z"
    }
   },
   "outputs": [
    {
     "data": {
      "text/plain": [
       "array([3, 3, 3, 4, 4, 2, 4, 4, 4, 3, 3, 4, 3, 4, 3, 4, 0, 4, 4, 4, 0, 4,\n",
       "       1, 4, 3, 4, 4, 4, 4, 1, 3, 3, 3, 1, 0, 3, 4, 3, 0, 3, 2, 4, 0, 0,\n",
       "       0, 1, 1, 0, 4, 0, 4, 4, 0, 4, 4, 4, 3, 4, 3, 4, 4, 3, 1, 3, 4, 0,\n",
       "       2, 4, 3, 3, 4, 4, 3, 3, 1, 4, 1, 3, 4, 4, 4, 1, 2, 0, 4, 4, 4, 0,\n",
       "       3, 3, 4, 2, 4, 4, 3, 1, 3, 3, 4, 4, 4, 4, 4, 4, 1, 3, 2, 0, 4, 0,\n",
       "       0, 3, 4, 4, 4, 4, 3, 4, 0, 3, 4, 4, 3, 4, 3, 1, 4, 4, 2, 3, 4, 4,\n",
       "       4, 4, 3, 4, 3, 3, 4, 2, 2, 4, 2, 4, 1, 3, 4, 3, 4, 4, 4, 3, 4, 4,\n",
       "       4, 3, 3, 4, 4, 2])"
      ]
     },
     "execution_count": 110,
     "metadata": {},
     "output_type": "execute_result"
    }
   ],
   "source": [
    "y_pred_RF = RF.predict(X_train)\n",
    "y_pred_RF"
   ]
  },
  {
   "cell_type": "code",
   "execution_count": 111,
   "id": "beb376d2",
   "metadata": {
    "ExecuteTime": {
     "end_time": "2021-11-01T11:08:30.853069Z",
     "start_time": "2021-11-01T11:08:30.440162Z"
    }
   },
   "outputs": [
    {
     "name": "stdout",
     "output_type": "stream",
     "text": [
      "Logistic Regression 0.96\n",
      "Support Vector Machine 0.99\n",
      "Random Forest 1.0\n"
     ]
    }
   ],
   "source": [
    "print(\"Logistic Regression\", round(accuracy_score(y_train,y_pred_train),2))\n",
    "print(\"Support Vector Machine\", round(SVM.score(X_train, y_train),2))\n",
    "print(\"Random Forest\", round(RF.score(X_train, y_train),4))"
   ]
  },
  {
   "cell_type": "code",
   "execution_count": 112,
   "id": "c3af6a07",
   "metadata": {
    "ExecuteTime": {
     "end_time": "2021-11-01T11:08:30.869015Z",
     "start_time": "2021-11-01T11:08:30.856050Z"
    }
   },
   "outputs": [],
   "source": [
    "###  make predictions on the testing set\n",
    "y_pred_test = logreg.predict(X_test)               "
   ]
  },
  {
   "cell_type": "code",
   "execution_count": 113,
   "id": "cfc84126",
   "metadata": {
    "ExecuteTime": {
     "end_time": "2021-11-01T11:08:31.041552Z",
     "start_time": "2021-11-01T11:08:30.872006Z"
    }
   },
   "outputs": [
    {
     "data": {
      "text/html": [
       "<div>\n",
       "<style scoped>\n",
       "    .dataframe tbody tr th:only-of-type {\n",
       "        vertical-align: middle;\n",
       "    }\n",
       "\n",
       "    .dataframe tbody tr th {\n",
       "        vertical-align: top;\n",
       "    }\n",
       "\n",
       "    .dataframe thead th {\n",
       "        text-align: right;\n",
       "    }\n",
       "</style>\n",
       "<table border=\"1\" class=\"dataframe\">\n",
       "  <thead>\n",
       "    <tr style=\"text-align: right;\">\n",
       "      <th></th>\n",
       "      <th>age</th>\n",
       "      <th>na_to_k</th>\n",
       "      <th>sex_M</th>\n",
       "      <th>bp_LOW</th>\n",
       "      <th>bp_NORMAL</th>\n",
       "      <th>cholesterol_NORMAL</th>\n",
       "      <th>Predicted on TEST data drug</th>\n",
       "    </tr>\n",
       "    <tr>\n",
       "      <th>id</th>\n",
       "      <th></th>\n",
       "      <th></th>\n",
       "      <th></th>\n",
       "      <th></th>\n",
       "      <th></th>\n",
       "      <th></th>\n",
       "      <th></th>\n",
       "    </tr>\n",
       "  </thead>\n",
       "  <tbody>\n",
       "    <tr>\n",
       "      <th>95</th>\n",
       "      <td>-0.229281</td>\n",
       "      <td>-0.598538</td>\n",
       "      <td>1</td>\n",
       "      <td>1</td>\n",
       "      <td>0</td>\n",
       "      <td>1</td>\n",
       "      <td>3</td>\n",
       "    </tr>\n",
       "    <tr>\n",
       "      <th>15</th>\n",
       "      <td>-1.368564</td>\n",
       "      <td>-0.011355</td>\n",
       "      <td>0</td>\n",
       "      <td>0</td>\n",
       "      <td>0</td>\n",
       "      <td>1</td>\n",
       "      <td>4</td>\n",
       "    </tr>\n",
       "    <tr>\n",
       "      <th>30</th>\n",
       "      <td>-1.254636</td>\n",
       "      <td>-0.982245</td>\n",
       "      <td>0</td>\n",
       "      <td>0</td>\n",
       "      <td>1</td>\n",
       "      <td>1</td>\n",
       "      <td>3</td>\n",
       "    </tr>\n",
       "    <tr>\n",
       "      <th>158</th>\n",
       "      <td>1.080895</td>\n",
       "      <td>-0.739164</td>\n",
       "      <td>0</td>\n",
       "      <td>1</td>\n",
       "      <td>0</td>\n",
       "      <td>0</td>\n",
       "      <td>2</td>\n",
       "    </tr>\n",
       "    <tr>\n",
       "      <th>128</th>\n",
       "      <td>0.397325</td>\n",
       "      <td>2.303534</td>\n",
       "      <td>1</td>\n",
       "      <td>1</td>\n",
       "      <td>0</td>\n",
       "      <td>1</td>\n",
       "      <td>4</td>\n",
       "    </tr>\n",
       "    <tr>\n",
       "      <th>115</th>\n",
       "      <td>0.625182</td>\n",
       "      <td>0.387420</td>\n",
       "      <td>1</td>\n",
       "      <td>0</td>\n",
       "      <td>0</td>\n",
       "      <td>0</td>\n",
       "      <td>4</td>\n",
       "    </tr>\n",
       "    <tr>\n",
       "      <th>69</th>\n",
       "      <td>-1.254636</td>\n",
       "      <td>1.245666</td>\n",
       "      <td>0</td>\n",
       "      <td>0</td>\n",
       "      <td>0</td>\n",
       "      <td>1</td>\n",
       "      <td>4</td>\n",
       "    </tr>\n",
       "    <tr>\n",
       "      <th>170</th>\n",
       "      <td>-0.684994</td>\n",
       "      <td>-0.389752</td>\n",
       "      <td>0</td>\n",
       "      <td>0</td>\n",
       "      <td>1</td>\n",
       "      <td>0</td>\n",
       "      <td>3</td>\n",
       "    </tr>\n",
       "    <tr>\n",
       "      <th>174</th>\n",
       "      <td>0.112504</td>\n",
       "      <td>-0.405967</td>\n",
       "      <td>1</td>\n",
       "      <td>0</td>\n",
       "      <td>0</td>\n",
       "      <td>1</td>\n",
       "      <td>4</td>\n",
       "    </tr>\n",
       "    <tr>\n",
       "      <th>45</th>\n",
       "      <td>1.479644</td>\n",
       "      <td>-1.074513</td>\n",
       "      <td>0</td>\n",
       "      <td>0</td>\n",
       "      <td>1</td>\n",
       "      <td>1</td>\n",
       "      <td>3</td>\n",
       "    </tr>\n",
       "  </tbody>\n",
       "</table>\n",
       "</div>"
      ],
      "text/plain": [
       "          age   na_to_k  sex_M  bp_LOW  bp_NORMAL  cholesterol_NORMAL  \\\n",
       "id                                                                      \n",
       "95  -0.229281 -0.598538      1       1          0                   1   \n",
       "15  -1.368564 -0.011355      0       0          0                   1   \n",
       "30  -1.254636 -0.982245      0       0          1                   1   \n",
       "158  1.080895 -0.739164      0       1          0                   0   \n",
       "128  0.397325  2.303534      1       1          0                   1   \n",
       "115  0.625182  0.387420      1       0          0                   0   \n",
       "69  -1.254636  1.245666      0       0          0                   1   \n",
       "170 -0.684994 -0.389752      0       0          1                   0   \n",
       "174  0.112504 -0.405967      1       0          0                   1   \n",
       "45   1.479644 -1.074513      0       0          1                   1   \n",
       "\n",
       "     Predicted on TEST data drug  \n",
       "id                                \n",
       "95                             3  \n",
       "15                             4  \n",
       "30                             3  \n",
       "158                            2  \n",
       "128                            4  \n",
       "115                            4  \n",
       "69                             4  \n",
       "170                            3  \n",
       "174                            4  \n",
       "45                             3  "
      ]
     },
     "execution_count": 113,
     "metadata": {},
     "output_type": "execute_result"
    }
   ],
   "source": [
    "#Printing some sample values of prediction for test data\n",
    "p_test = 'drug'\n",
    "test_cols = X_test.columns.copy()\n",
    "test_results = pd.DataFrame(data=X_test, columns=test_cols)\n",
    "test_results[('Predicted on TEST data ' + p_test)]=y_pred_test.round(0)\n",
    "test_results.head(10)"
   ]
  },
  {
   "cell_type": "code",
   "execution_count": 114,
   "id": "761e246f",
   "metadata": {
    "ExecuteTime": {
     "end_time": "2021-11-01T11:08:31.198136Z",
     "start_time": "2021-11-01T11:08:31.046541Z"
    }
   },
   "outputs": [],
   "source": [
    "# To create Dataframe of predicted value with particular respective index\n",
    "predicted_drug = pd.DataFrame(y_pred_test) \n",
    "predicted_drug.index = X_test.index \n",
    "predicted_drug.columns = [\"drug_prediction_test_data\"]\n",
    "# To download the csv file locally\n",
    "#from google.colab import files\n",
    "predicted_drug.to_csv('drug_project_submission_sagar.csv',header=False)\n",
    "#files.download('cust_class_project_submission_sagar.csv')"
   ]
  },
  {
   "cell_type": "code",
   "execution_count": null,
   "id": "2ce62bbb",
   "metadata": {},
   "outputs": [],
   "source": []
  }
 ],
 "metadata": {
  "kernelspec": {
   "display_name": "Python 3 (ipykernel)",
   "language": "python",
   "name": "python3"
  },
  "language_info": {
   "codemirror_mode": {
    "name": "ipython",
    "version": 3
   },
   "file_extension": ".py",
   "mimetype": "text/x-python",
   "name": "python",
   "nbconvert_exporter": "python",
   "pygments_lexer": "ipython3",
   "version": "3.8.8"
  }
 },
 "nbformat": 4,
 "nbformat_minor": 5
}
